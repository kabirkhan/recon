{
 "cells": [
  {
   "cell_type": "code",
   "execution_count": 1,
   "metadata": {},
   "outputs": [
    {
     "name": "stdout",
     "output_type": "stream",
     "text": [
      "The history saving thread hit an unexpected error (DatabaseError('database disk image is malformed',)).History will not be written to the database.\n"
     ]
    }
   ],
   "source": [
    "%reload_ext autoreload\n",
    "%autoreload 2"
   ]
  },
  {
   "cell_type": "code",
   "execution_count": 12,
   "metadata": {},
   "outputs": [],
   "source": [
    "from types import SimpleNamespace\n",
    "from typing import Any, Dict, List, Optional\n",
    "\n",
    "from recon.dataset import Dataset\n",
    "from pydantic import root_validator\n",
    "from recon.types import Example, Span, Token\n",
    "import numpy as np\n",
    "from recon.augmentation import augment_example\n",
    "from recon.operations import operation, registry"
   ]
  },
  {
   "cell_type": "code",
   "execution_count": 13,
   "metadata": {},
   "outputs": [],
   "source": [
    "@operation(\"recon.v1.augment.kb_expansion\", factory=True)\n",
    "def kb_expansion(\n",
    "    example: Example,\n",
    "    preprocessed_outputs: Dict[str, Any] = {},\n",
    "    n_augs: int = 1,\n",
    "    sub_prob: float = 0.5,\n",
    ") -> List[Example]:\n",
    "\n",
    "    spans_to_aliases_map = preprocessed_outputs[\"recon.v1.span_aliases\"]\n",
    "    print(preprocessed_outputs)\n",
    "    print(example.data)\n",
    "\n",
    "    def augmentation(span: Span, spans_to_aliases_map: Dict[int, List[str]]) -> Optional[str]:\n",
    "        if hash(span) in spans_to_aliases_map:\n",
    "            aliases = spans_to_aliases_map[hash(span)]\n",
    "\n",
    "            if len(aliases) > 0:\n",
    "                rand_alias = np.random.choice(aliases)\n",
    "                index = aliases.index(rand_alias)\n",
    "                del spans_to_aliases_map[hash(span)][index]\n",
    "                return rand_alias\n",
    "\n",
    "    return augment_example(\n",
    "        example,\n",
    "        augmentation,\n",
    "        n_augs=n_augs,\n",
    "        sub_prob=sub_prob,\n",
    "        spans_to_aliases_map=spans_to_aliases_map,\n",
    "    )"
   ]
  },
  {
   "cell_type": "code",
   "execution_count": 14,
   "metadata": {},
   "outputs": [],
   "source": [
    "factory = registry.operation_factories.get(\"recon.v1.augment.kb_expansion\")"
   ]
  },
  {
   "cell_type": "code",
   "execution_count": 15,
   "metadata": {},
   "outputs": [
    {
     "data": {
      "text/plain": [
       "<function recon.operations.operation.__call__.<locals>.factory(pre:List[recon.preprocess.PreProcessor]) -> recon.operations.Operation>"
      ]
     },
     "execution_count": 15,
     "metadata": {},
     "output_type": "execute_result"
    }
   ],
   "source": [
    "factory"
   ]
  },
  {
   "cell_type": "code",
   "execution_count": 16,
   "metadata": {},
   "outputs": [],
   "source": [
    "from recon.preprocess import SpanAliasesPreProcessor\n",
    "from recon.types import Entity\n",
    "\n",
    "\n",
    "entity = Entity(name=\"text\", aliases=[\"new text\"])\n",
    "pre = [SpanAliasesPreProcessor(entities=[entity])]"
   ]
  },
  {
   "cell_type": "code",
   "execution_count": 17,
   "metadata": {},
   "outputs": [],
   "source": [
    "op = factory(pre)"
   ]
  },
  {
   "cell_type": "code",
   "execution_count": 18,
   "metadata": {},
   "outputs": [
    {
     "data": {
      "text/plain": [
       "('recon.v1.augment.kb_expansion',\n",
       " [<recon.preprocess.SpanAliasesPreProcessor at 0x7f6d9b0da7f0>])"
      ]
     },
     "execution_count": 18,
     "metadata": {},
     "output_type": "execute_result"
    }
   ],
   "source": [
    "op.name, op.pre"
   ]
  },
  {
   "cell_type": "code",
   "execution_count": 29,
   "metadata": {},
   "outputs": [
    {
     "name": "stdout",
     "output_type": "stream",
     "text": [
      "=> Applying operation 'test' inplace\n",
      "\u001b[38;5;2m✔ Done\u001b[0m\n",
      "\u001b[2K{'recon.v1.span_aliases': defaultdict(<class 'list'>, {2200217912058771699: ['new text']})}\n",
      "KWARGS: \n",
      "{'spans_to_aliases_map': defaultdict(<class 'list'>, {2200217912058771699: ['new text']})}\n",
      "\u001b[38;5;2m✔ Completed operation 'test'\u001b[0m\n"
     ]
    }
   ],
   "source": [
    "e = Example(text='This is text', spans=[Span(text=\"text\", start=8, end=12, label=\"ENTITY\")])\n",
    "ds = Dataset(\"test_ds\", data=[e])\n",
    "ds.apply_(operation)"
   ]
  },
  {
   "cell_type": "code",
   "execution_count": 30,
   "metadata": {},
   "outputs": [
    {
     "data": {
      "text/plain": [
       "<recon.operations.Operation at 0x7fccaa845cf8>"
      ]
     },
     "execution_count": 30,
     "metadata": {},
     "output_type": "execute_result"
    }
   ],
   "source": [
    "operation"
   ]
  },
  {
   "cell_type": "code",
   "execution_count": 31,
   "metadata": {},
   "outputs": [
    {
     "data": {
      "text/plain": [
       "[Example(text='This is text', spans=[Span(text='text', start=8, end=12, label='ENTITY', token_start=None, token_end=None, kb_id='text')], tokens=None, meta={}, formatted=True, data=namespace(aliases=defaultdict(<class 'list'>, {2200217912058771699: ['new text']}))),\n",
       " Example(text='This is new text', spans=[Span(text='new text', start=8, end=16, label='ENTITY', token_start=None, token_end=None, kb_id='text')], tokens=None, meta={}, formatted=True, data=namespace(aliases=defaultdict(<class 'list'>, {2200217912058771699: ['new text']})))]"
      ]
     },
     "execution_count": 31,
     "metadata": {},
     "output_type": "execute_result"
    }
   ],
   "source": [
    "ds.data"
   ]
  },
  {
   "cell_type": "code",
   "execution_count": null,
   "metadata": {},
   "outputs": [],
   "source": [
    "@operation(\"recon.v1.augment.kb_expansion\", factory=True)\n",
    "def kb_expansion(\n",
    "    example: Example,\n",
    "    preprocessed_outputs: Dict[str, Any] = {},\n",
    "    n_augs: int = 1,\n",
    "    sub_prob: float = 0.5,\n",
    ") -> List[Example]:\n",
    "\n",
    "    spans_to_aliases_map = preprocessed_outputs[\"recon.v1.span_aliases\"]\n",
    "    print(preprocessed_outputs)\n",
    "    print(example.data)\n",
    "\n",
    "    def augmentation(span: Span, spans_to_aliases_map: Dict[int, List[str]]) -> Optional[str]:\n",
    "        if hash(span) in spans_to_aliases_map:\n",
    "            aliases = spans_to_aliases_map[hash(span)]\n",
    "\n",
    "            if len(aliases) > 0:\n",
    "                rand_alias = np.random.choice(aliases)\n",
    "                index = aliases.index(rand_alias)\n",
    "                del spans_to_aliases_map[hash(span)][index]\n",
    "                return rand_alias\n",
    "\n",
    "    return augment_example(\n",
    "        example,\n",
    "        augmentation,\n",
    "        n_augs=n_augs,\n",
    "        sub_prob=sub_prob,\n",
    "        spans_to_aliases_map=spans_to_aliases_map,\n",
    "    )"
   ]
  },
  {
   "cell_type": "code",
   "execution_count": null,
   "metadata": {},
   "outputs": [],
   "source": []
  }
 ],
 "metadata": {
  "kernelspec": {
   "display_name": "Python 3",
   "language": "python",
   "name": "python3"
  },
  "language_info": {
   "codemirror_mode": {
    "name": "ipython",
    "version": 3
   },
   "file_extension": ".py",
   "mimetype": "text/x-python",
   "name": "python",
   "nbconvert_exporter": "python",
   "pygments_lexer": "ipython3",
   "version": "3.6.9"
  }
 },
 "nbformat": 4,
 "nbformat_minor": 4
}
