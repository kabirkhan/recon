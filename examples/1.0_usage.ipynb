{
 "cells": [
  {
   "cell_type": "code",
   "execution_count": null,
   "metadata": {},
   "outputs": [],
   "source": [
    "!pip install reconner"
   ]
  },
  {
   "cell_type": "markdown",
   "metadata": {},
   "source": [
    "# Introduction\n",
    "\n",
    "This notebook walks through some of the basic use cases of Recon."
   ]
  },
  {
   "cell_type": "code",
   "execution_count": 1,
   "metadata": {},
   "outputs": [],
   "source": [
    "from pprint import pprint\n",
    "from recon import Dataset, get_ner_stats"
   ]
  },
  {
   "cell_type": "markdown",
   "metadata": {},
   "source": [
    "## Loading Data"
   ]
  },
  {
   "cell_type": "code",
   "execution_count": 2,
   "metadata": {},
   "outputs": [
    {
     "name": "stdout",
     "output_type": "stream",
     "text": [
      "<recon.dataset.Dataset object at 0x12c2b20b0>\n"
     ]
    }
   ],
   "source": [
    "ds = Dataset(\"dev\", verbose=True).from_disk('./data/skills')\n",
    "print(ds)"
   ]
  },
  {
   "cell_type": "code",
   "execution_count": 6,
   "metadata": {},
   "outputs": [
    {
     "name": "stdout",
     "output_type": "stream",
     "text": [
      "{\n",
      "    \"n_examples\": 110,\n",
      "    \"n_examples_no_entities\": 49,\n",
      "    \"n_annotations\": 180,\n",
      "    \"n_annotations_per_type\": {\n",
      "        \"SKILL\": 159,\n",
      "        \"PRODUCT\": 20,\n",
      "        \"JOB_ROLE\": 1\n",
      "    },\n",
      "    \"examples_with_type\": null\n",
      "}\n"
     ]
    }
   ],
   "source": [
    "print(get_ner_stats(ds.data))"
   ]
  },
  {
   "cell_type": "markdown",
   "metadata": {},
   "source": [
    "## Applying Dataset Operations using `Dataset.apply`\n",
    "\n",
    "If we run `get_ner_stats` on the data in our Dataset, we see the same stats that are printed above. The `Dataset` `__str__` runs the `get_ner_stats` function internally."
   ]
  },
  {
   "cell_type": "code",
   "execution_count": 3,
   "metadata": {},
   "outputs": [
    {
     "name": "stdout",
     "output_type": "stream",
     "text": [
      "{\n",
      "    \"n_examples\": 110,\n",
      "    \"n_examples_no_entities\": 49,\n",
      "    \"n_annotations\": 180,\n",
      "    \"n_annotations_per_type\": {\n",
      "        \"SKILL\": 159,\n",
      "        \"PRODUCT\": 20,\n",
      "        \"JOB_ROLE\": 1\n",
      "    },\n",
      "    \"examples_with_type\": null\n",
      "}\n"
     ]
    }
   ],
   "source": [
    "print(ds.apply(get_ner_stats, serialize=True))"
   ]
  },
  {
   "cell_type": "code",
   "execution_count": 13,
   "metadata": {},
   "outputs": [
    {
     "name": "stdout",
     "output_type": "stream",
     "text": [
      "{\n",
      "    \"n_examples\": 110,\n",
      "    \"n_examples_no_entities\": 49,\n",
      "    \"n_annotations\": 180,\n",
      "    \"n_annotations_per_type\": {\n",
      "        \"SKILL\": 159,\n",
      "        \"PRODUCT\": 20,\n",
      "        \"JOB_ROLE\": 1\n",
      "    },\n",
      "    \"examples_with_type\": null\n",
      "}\n"
     ]
    }
   ],
   "source": [
    "print(ds.apply(get_ner_stats).json(indent=4))"
   ]
  },
  {
   "cell_type": "markdown",
   "metadata": {},
   "source": [
    "## Make in-place Dataset Corrections using `Dataset.apply_`"
   ]
  },
  {
   "cell_type": "code",
   "execution_count": null,
   "metadata": {},
   "outputs": [],
   "source": [
    "ds.apply_(\"recon.v1.upcase_labels\")"
   ]
  },
  {
   "cell_type": "code",
   "execution_count": null,
   "metadata": {},
   "outputs": [],
   "source": [
    "ds.apply_(\"recon.v1.fix_tokenization_and_spacing\")"
   ]
  },
  {
   "cell_type": "markdown",
   "metadata": {},
   "source": [
    "## Chain Dataset operations together and run sequentially"
   ]
  },
  {
   "cell_type": "code",
   "execution_count": null,
   "metadata": {},
   "outputs": [],
   "source": [
    "ds.pipe_([\"recon.v1.upcase_labels\", \"recon.v1.fix_tokenization_and_spacing\"])"
   ]
  },
  {
   "cell_type": "code",
   "execution_count": null,
   "metadata": {},
   "outputs": [],
   "source": [
    "print(ds)"
   ]
  },
  {
   "cell_type": "code",
   "execution_count": null,
   "metadata": {},
   "outputs": [],
   "source": []
  }
 ],
 "metadata": {
  "kernelspec": {
   "display_name": "Python 3 (ipykernel)",
   "language": "python",
   "name": "python3"
  },
  "language_info": {
   "codemirror_mode": {
    "name": "ipython",
    "version": 3
   },
   "file_extension": ".py",
   "mimetype": "text/x-python",
   "name": "python",
   "nbconvert_exporter": "python",
   "pygments_lexer": "ipython3",
   "version": "3.10.2"
  }
 },
 "nbformat": 4,
 "nbformat_minor": 4
}
