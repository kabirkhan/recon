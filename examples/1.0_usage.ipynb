{
 "cells": [
  {
   "cell_type": "code",
   "execution_count": 1,
   "metadata": {},
   "outputs": [],
   "source": [
    "%reload_ext autoreload\n",
    "%autoreload 2"
   ]
  },
  {
   "cell_type": "code",
   "execution_count": 7,
   "metadata": {},
   "outputs": [],
   "source": [
    "from pprint import pprint\n",
    "from recon.dataset import Dataset\n",
    "from recon.stats import get_ner_stats"
   ]
  },
  {
   "cell_type": "code",
   "execution_count": 3,
   "metadata": {},
   "outputs": [
    {
     "name": "stdout",
     "output_type": "stream",
     "text": [
      "{\n",
      "    \"n_examples\":106,\n",
      "    \"n_examples_no_entities\":29,\n",
      "    \"n_annotations\":243,\n",
      "    \"n_annotations_per_type\":{\n",
      "        \"SKILL\":197,\n",
      "        \"PRODUCT\":33,\n",
      "        \"JOB_ROLE\":10,\n",
      "        \"skill\":2,\n",
      "        \"product\":1\n",
      "    },\n",
      "    \"examples_with_type\":null\n",
      "}\n"
     ]
    }
   ],
   "source": [
    "ds = Dataset(\"train\", verbose=False).from_disk('./data/skills')\n",
    "print(get_ner_stats(ds.data, serialize=True))"
   ]
  },
  {
   "cell_type": "code",
   "execution_count": 4,
   "metadata": {},
   "outputs": [],
   "source": [
    "ds.apply_(\"recon.v1.upcase_labels\")"
   ]
  },
  {
   "cell_type": "code",
   "execution_count": 6,
   "metadata": {},
   "outputs": [],
   "source": [
    "ds.apply_(\"recon.v1.fix_tokenization_and_spacing\")"
   ]
  },
  {
   "cell_type": "code",
   "execution_count": 7,
   "metadata": {},
   "outputs": [],
   "source": [
    "ds.pipe_([\"recon.v1.upcase_labels\", \"recon.v1.fix_tokenization_and_spacing\"])"
   ]
  },
  {
   "cell_type": "code",
   "execution_count": 8,
   "metadata": {},
   "outputs": [
    {
     "name": "stdout",
     "output_type": "stream",
     "text": [
      "{\n",
      "    \"n_examples\":106,\n",
      "    \"n_examples_no_entities\":29,\n",
      "    \"n_annotations\":243,\n",
      "    \"n_annotations_per_type\":{\n",
      "        \"SKILL\":199,\n",
      "        \"PRODUCT\":34,\n",
      "        \"JOB_ROLE\":10\n",
      "    },\n",
      "    \"examples_with_type\":null\n",
      "}\n"
     ]
    }
   ],
   "source": [
    "print(get_ner_stats(ds.data, serialize=True))"
   ]
  },
  {
   "cell_type": "code",
   "execution_count": null,
   "metadata": {},
   "outputs": [],
   "source": []
  }
 ],
 "metadata": {
  "kernelspec": {
   "display_name": "Python 3 (ipykernel)",
   "language": "python",
   "name": "python3"
  },
  "language_info": {
   "codemirror_mode": {
    "name": "ipython",
    "version": 3
   },
   "file_extension": ".py",
   "mimetype": "text/x-python",
   "name": "python",
   "nbconvert_exporter": "python",
   "pygments_lexer": "ipython3",
   "version": "3.10.2"
  }
 },
 "nbformat": 4,
 "nbformat_minor": 4
}
