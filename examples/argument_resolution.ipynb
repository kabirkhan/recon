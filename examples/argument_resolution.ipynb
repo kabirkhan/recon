{
 "cells": [
  {
   "cell_type": "code",
   "execution_count": 11,
   "metadata": {},
   "outputs": [
    {
     "name": "stdout",
     "output_type": "stream",
     "text": [
      "Collecting fastapi\n",
      "  Using cached https://files.pythonhosted.org/packages/9f/33/1b643f650688ad368983bbaf3b0658438038ea84d775dd37393d826c3833/fastapi-0.63.0-py3-none-any.whl\n",
      "Collecting starlette==0.13.6 (from fastapi)\n",
      "  Using cached https://files.pythonhosted.org/packages/c5/a4/c9e228d7d47044ce4c83ba002f28ff479e542455f0499198a3f77c94f564/starlette-0.13.6-py3-none-any.whl\n",
      "Requirement already satisfied: pydantic<2.0.0,>=1.0.0 in /home/kabirkhan/Documents/recon/.venv/lib/python3.6/site-packages (from fastapi)\n",
      "Requirement already satisfied: dataclasses>=0.6; python_version < \"3.7\" in /home/kabirkhan/Documents/recon/.venv/lib/python3.6/site-packages (from pydantic<2.0.0,>=1.0.0->fastapi)\n",
      "Installing collected packages: starlette, fastapi\n",
      "Successfully installed fastapi-0.63.0 starlette-0.13.6\n"
     ]
    }
   ],
   "source": [
    "!pip install fastapi"
   ]
  },
  {
   "cell_type": "code",
   "execution_count": 1,
   "metadata": {},
   "outputs": [
    {
     "name": "stdout",
     "output_type": "stream",
     "text": [
      "The history saving thread hit an unexpected error (DatabaseError('database disk image is malformed')).History will not be written to the database.\n"
     ]
    }
   ],
   "source": [
    "%reload_ext autoreload\n",
    "%autoreload 2"
   ]
  },
  {
   "cell_type": "code",
   "execution_count": 10,
   "metadata": {},
   "outputs": [],
   "source": [
    "from collections import OrderedDict\n",
    "from pathlib import Path\n",
    "from typing import Any, Callable, Dict, List\n",
    "\n",
    "from fastapi import params\n",
    "from fastapi.dependencies.utils import get_typed_signature, get_param_field, is_scalar_sequence_field, request_body_to_args, request_params_to_args\n",
    "from pydantic.fields import ModelField\n",
    "\n",
    "from recon.corrections import fix_annotations, corrections_from_dict\n",
    "from recon.dataset import Dataset\n",
    "from recon.loaders import read_jsonl\n",
    "from recon.operations import registry\n",
    "from recon.operations.utils import (\n",
    "    get_received_operation_data,\n",
    "    get_required_operation_params,\n",
    "    request_body_to_args,\n",
    ")\n",
    "from recon.types import Example, OperationState"
   ]
  },
  {
   "cell_type": "code",
   "execution_count": 11,
   "metadata": {},
   "outputs": [],
   "source": [
    "def example_data() -> Dict[str, List[Example]]:\n",
    "    \"\"\"Fixture to load example train/dev/test data that has inconsistencies.\n",
    "\n",
    "    Returns:\n",
    "        Dict[str, List[Example]]: Dataset containing the train/dev/test split\n",
    "    \"\"\"\n",
    "    base_path = Path(\"../\") / \"examples/data/skills\"\n",
    "    return {\n",
    "        \"train\": read_jsonl(base_path / \"train.jsonl\"),\n",
    "        \"dev\": read_jsonl(base_path / \"dev.jsonl\"),\n",
    "        \"test\": read_jsonl(base_path / \"test.jsonl\"),\n",
    "    }"
   ]
  },
  {
   "cell_type": "code",
   "execution_count": 12,
   "metadata": {},
   "outputs": [
    {
     "name": "stderr",
     "output_type": "stream",
     "text": [
      " 46%|████▌     | 49/106 [00:00<00:00, 484.66it/s]"
     ]
    },
    {
     "name": "stdout",
     "output_type": "stream",
     "text": [
      "CORRECTIONS: [Correction(annotation='software development engineer', from_labels=['ANY'], to_label='JOB_ROLE'), Correction(annotation='model', from_labels=['ANY'], to_label=None)]\n",
      "=> Applying operation 'recon.v1.fix_annotations' to dataset 'train'\n",
      "VALUES:  {'corrections': [Correction(annotation='software development engineer', from_labels=['ANY'], to_label='JOB_ROLE'), Correction(annotation='model', from_labels=['ANY'], to_label=None)], 'case_sensitive': False, 'dryrun': False}\n"
     ]
    },
    {
     "name": "stderr",
     "output_type": "stream",
     "text": [
      "100%|██████████| 106/106 [00:00<00:00, 503.65it/s]"
     ]
    },
    {
     "name": "stdout",
     "output_type": "stream",
     "text": [
      "\u001b[38;5;2m✔ Completed operation 'recon.v1.fix_annotations'\u001b[0m\n"
     ]
    },
    {
     "name": "stderr",
     "output_type": "stream",
     "text": [
      "\n"
     ]
    }
   ],
   "source": [
    "data = example_data()\n",
    "train_dataset = Dataset(\"train\", data[\"train\"])\n",
    "\n",
    "corrections = corrections_from_dict(\n",
    "    {\"software development engineer\": \"JOB_ROLE\", \"model\": None}\n",
    ")\n",
    "print(\"CORRECTIONS:\", corrections)\n",
    "train_dataset.apply_(\"recon.v1.fix_annotations\", corrections)"
   ]
  },
  {
   "cell_type": "code",
   "execution_count": 13,
   "metadata": {},
   "outputs": [],
   "source": [
    "tmp_path = \"./test_argument_resolution_dataset/\""
   ]
  },
  {
   "cell_type": "code",
   "execution_count": 14,
   "metadata": {},
   "outputs": [],
   "source": [
    "train_dataset.to_disk(tmp_path, force=True)"
   ]
  },
  {
   "cell_type": "code",
   "execution_count": 15,
   "metadata": {},
   "outputs": [],
   "source": [
    "train_dataset_loaded_2 = Dataset(\"train\").from_disk(tmp_path)"
   ]
  },
  {
   "cell_type": "code",
   "execution_count": 16,
   "metadata": {},
   "outputs": [],
   "source": [
    "op = train_dataset_loaded_2.operations[0]"
   ]
  },
  {
   "cell_type": "code",
   "execution_count": 19,
   "metadata": {},
   "outputs": [
    {
     "data": {
      "text/plain": [
       "([],\n",
       " {'corrections': [{'annotation': 'software development engineer',\n",
       "    'from_labels': ['ANY'],\n",
       "    'to_label': 'JOB_ROLE'},\n",
       "   {'annotation': 'model', 'from_labels': ['ANY'], 'to_label': None}],\n",
       "  'case_sensitive': False,\n",
       "  'dryrun': False})"
      ]
     },
     "execution_count": 19,
     "metadata": {},
     "output_type": "execute_result"
    }
   ],
   "source": [
    "op.args, op.kwargs"
   ]
  },
  {
   "cell_type": "code",
   "execution_count": 21,
   "metadata": {},
   "outputs": [
    {
     "data": {
      "text/plain": [
       "(OrderedDict([('corrections',\n",
       "               ModelField(name='corrections', type=List[Correction], required=True)),\n",
       "              ('case_sensitive',\n",
       "               ModelField(name='case_sensitive', type=bool, required=False, default=False)),\n",
       "              ('dryrun',\n",
       "               ModelField(name='dryrun', type=bool, required=False, default=False))]),\n",
       " {'corrections': [{'annotation': 'software development engineer',\n",
       "    'from_labels': ['ANY'],\n",
       "    'to_label': 'JOB_ROLE'},\n",
       "   {'annotation': 'model', 'from_labels': ['ANY'], 'to_label': None}],\n",
       "  'case_sensitive': False,\n",
       "  'dryrun': False})"
      ]
     },
     "execution_count": 21,
     "metadata": {},
     "output_type": "execute_result"
    }
   ],
   "source": [
    "required_params = get_required_operation_params(registry.operations.get(op.name).op)\n",
    "received_data = get_received_operation_data(required_params, op)\n",
    "\n",
    "required_params, received_data"
   ]
  },
  {
   "cell_type": "code",
   "execution_count": 22,
   "metadata": {},
   "outputs": [
    {
     "data": {
      "text/plain": [
       "({'corrections': [Correction(annotation='software development engineer', from_labels=['ANY'], to_label='JOB_ROLE'),\n",
       "   Correction(annotation='model', from_labels=['ANY'], to_label=None)],\n",
       "  'case_sensitive': False,\n",
       "  'dryrun': False},\n",
       " [])"
      ]
     },
     "execution_count": 22,
     "metadata": {},
     "output_type": "execute_result"
    }
   ],
   "source": [
    "values, errors = request_body_to_args(list(required_params.values()), received_data)\n",
    "values, errors"
   ]
  },
  {
   "cell_type": "code",
   "execution_count": 132,
   "metadata": {},
   "outputs": [
    {
     "data": {
      "text/plain": [
       "ModelField(name='strip_chars', type=List[str], required=False, default=['.', '!', '?', '-', ':', ' '])"
      ]
     },
     "execution_count": 132,
     "metadata": {},
     "output_type": "execute_result"
    }
   ],
   "source": [
    "required_params[\"strip_chars\"].validate(values)"
   ]
  },
  {
   "cell_type": "code",
   "execution_count": 23,
   "metadata": {},
   "outputs": [
    {
     "data": {
      "text/plain": [
       "Example(text='History of Texas from Spanish period to present day.', spans=[Span(text='History', start=0, end=7, label='SKILL', token_start=0, token_end=1, kb_id=None), Span(text='Spanish', start=22, end=29, label='SKILL', token_start=4, token_end=5, kb_id=None)], tokens=[Token(text='History', start=0, end=7, id=0), Token(text='of', start=8, end=10, id=1), Token(text='Texas', start=11, end=16, id=2), Token(text='from', start=17, end=21, id=3), Token(text='Spanish', start=22, end=29, id=4), Token(text='period', start=30, end=36, id=5), Token(text='to', start=37, end=39, id=6), Token(text='present', start=40, end=47, id=7), Token(text='day', start=48, end=51, id=8), Token(text='.', start=51, end=52, id=9)], meta={'source': 'Courses', 'sourceLink': 'https://catalog.tamu.edu/undergraduate/general-information/university-core-curriculum/'}, formatted=True)"
      ]
     },
     "execution_count": 23,
     "metadata": {},
     "output_type": "execute_result"
    }
   ],
   "source": [
    "fix_annotations(train_dataset_loaded_2.data[0], **values)"
   ]
  },
  {
   "cell_type": "code",
   "execution_count": 31,
   "metadata": {},
   "outputs": [
    {
     "data": {
      "text/plain": [
       "pydantic.errors.ListError()"
      ]
     },
     "execution_count": 31,
     "metadata": {},
     "output_type": "execute_result"
    }
   ],
   "source": [
    "req_params = get_required_operation_params(registry.operations.get(\"recon.v1.strip_annotations\").op)\n",
    "request_body_to_args(list(req_params.values()), {\"strip_chars\": ['.', '!', '?', '-', ':', ' ']})[1][0].exc"
   ]
  },
  {
   "cell_type": "code",
   "execution_count": null,
   "metadata": {},
   "outputs": [],
   "source": []
  }
 ],
 "metadata": {
  "kernelspec": {
   "display_name": "Python 3",
   "language": "python",
   "name": "python3"
  },
  "language_info": {
   "codemirror_mode": {
    "name": "ipython",
    "version": 3
   },
   "file_extension": ".py",
   "mimetype": "text/x-python",
   "name": "python",
   "nbconvert_exporter": "python",
   "pygments_lexer": "ipython3",
   "version": "3.7.5"
  }
 },
 "nbformat": 4,
 "nbformat_minor": 4
}
