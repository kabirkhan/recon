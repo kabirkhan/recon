{
 "cells": [
  {
   "cell_type": "code",
   "execution_count": 1,
   "id": "58a592e6-9d3f-4b74-8750-02ea6099d3b9",
   "metadata": {},
   "outputs": [],
   "source": [
    "from recon import Dataset\n",
    "from recon.types import Example, Span\n",
    "from recon.operations.core import op_registry\n",
    "\n",
    "from recon.operations.tokenization import add_tokens"
   ]
  },
  {
   "cell_type": "code",
   "execution_count": 2,
   "id": "8d583bb2-4eac-4be3-b262-d0f814a262a5",
   "metadata": {},
   "outputs": [],
   "source": [
    "person_example = Example(text=\"My friend is named Dallas.\", spans=[Span(text=\"Dallas\", start=19, end=25, label=\"PERSON\")])\n",
    "gpe_example = Example(text=\"Dallas is a city in Texas.\", spans=[Span(text=\"Dallas\", start=0, end=6, label=\"GPE\")])"
   ]
  },
  {
   "cell_type": "code",
   "execution_count": 3,
   "id": "37ca1aba-839d-4e6c-9fb5-48709d02bf69",
   "metadata": {},
   "outputs": [
    {
     "data": {
      "text/plain": [
       "Example: \"My friend is named Dallas.\", 1 span."
      ]
     },
     "execution_count": 3,
     "metadata": {},
     "output_type": "execute_result"
    }
   ],
   "source": [
    "person_example"
   ]
  },
  {
   "cell_type": "code",
   "execution_count": 4,
   "id": "6ce1588f-5cb0-4562-8335-a8ef5cda2c8f",
   "metadata": {},
   "outputs": [
    {
     "name": "stdout",
     "output_type": "stream",
     "text": [
      "Example: \"My friend is named Dallas.\", 1 spans.\n"
     ]
    }
   ],
   "source": [
    "print(person_example)"
   ]
  },
  {
   "cell_type": "code",
   "execution_count": 5,
   "id": "a769b3b1-d70f-49c5-a942-db430e99fef8",
   "metadata": {},
   "outputs": [
    {
     "name": "stdout",
     "output_type": "stream",
     "text": [
      "=> Applying operation 'recon.add_tokens.v1' to dataset 'DallasExamples'\n"
     ]
    },
    {
     "name": "stderr",
     "output_type": "stream",
     "text": [
      "  0%|                                                                                                  | 0/2 [00:00<?, ?it/s]"
     ]
    },
    {
     "name": "stdout",
     "output_type": "stream",
     "text": [
      "\u001b[38;5;4mℹ      => Running preprocessor recon.spacy.v1\u001b[0m\n"
     ]
    },
    {
     "name": "stderr",
     "output_type": "stream",
     "text": [
      "\n",
      "  0%|                                                                                                  | 0/2 [00:00<?, ?it/s]\u001b[A\n",
      "100%|██████████████████████████████████████████████████████████████████████████████████████████| 2/2 [00:00<00:00, 11.21it/s]\u001b[A"
     ]
    },
    {
     "name": "stdout",
     "output_type": "stream",
     "text": [
      "\u001b[38;5;2m✔ Completed operation 'recon.add_tokens.v1'\u001b[0m\n"
     ]
    },
    {
     "name": "stderr",
     "output_type": "stream",
     "text": [
      "\n"
     ]
    }
   ],
   "source": [
    "ds = Dataset(\"DallasExamples\", [person_example, gpe_example])\n",
    "ds.apply_(\"recon.add_tokens.v1\")"
   ]
  },
  {
   "cell_type": "code",
   "execution_count": 6,
   "id": "038a7a5d-e39b-4a9a-9175-553c78286574",
   "metadata": {},
   "outputs": [
    {
     "name": "stdout",
     "output_type": "stream",
     "text": [
      "Dataset\n",
      "Name: DallasExamples\n",
      "Stats: {\n",
      "    \"n_examples\": 2,\n",
      "    \"n_examples_no_entities\": 0,\n",
      "    \"n_annotations\": 2,\n",
      "    \"n_annotations_per_type\": {\n",
      "        \"PERSON\": 1,\n",
      "        \"GPE\": 1\n",
      "    }\n",
      "}\n"
     ]
    }
   ],
   "source": [
    "print(ds)"
   ]
  },
  {
   "cell_type": "code",
   "execution_count": 7,
   "id": "f7b47999-5e38-4280-b301-7e55492272ee",
   "metadata": {},
   "outputs": [
    {
     "data": {
      "text/html": [
       "<span class=\"tex2jax_ignore\"><div class=\"entities\" style=\"line-height: 2.5; direction: ltr\">My friend is named \n",
       "<mark class=\"entity\" style=\"background: #aa9cfc; padding: 0.45em 0.6em; margin: 0 0.25em; line-height: 1; border-radius: 0.35em;\">\n",
       "    Dallas\n",
       "    <span style=\"font-size: 0.8em; font-weight: bold; line-height: 1; border-radius: 0.35em; vertical-align: middle; margin-left: 0.5rem\">PERSON</span>\n",
       "</mark>\n",
       ".</div></span>"
      ],
      "text/plain": [
       "<IPython.core.display.HTML object>"
      ]
     },
     "metadata": {},
     "output_type": "display_data"
    },
    {
     "data": {
      "text/html": [
       "<span class=\"tex2jax_ignore\"><div class=\"entities\" style=\"line-height: 2.5; direction: ltr\">\n",
       "<mark class=\"entity\" style=\"background: #feca74; padding: 0.45em 0.6em; margin: 0 0.25em; line-height: 1; border-radius: 0.35em;\">\n",
       "    Dallas\n",
       "    <span style=\"font-size: 0.8em; font-weight: bold; line-height: 1; border-radius: 0.35em; vertical-align: middle; margin-left: 0.5rem\">GPE</span>\n",
       "</mark>\n",
       " is a city in Texas.</div></span>"
      ],
      "text/plain": [
       "<IPython.core.display.HTML object>"
      ]
     },
     "metadata": {},
     "output_type": "display_data"
    }
   ],
   "source": [
    "ds.data[0].show()\n",
    "ds.data[1].show()"
   ]
  },
  {
   "cell_type": "code",
   "execution_count": 8,
   "id": "3bbfa5ea-be08-40b0-be25-7cebb14c8ca8",
   "metadata": {},
   "outputs": [
    {
     "name": "stdout",
     "output_type": "stream",
     "text": [
      "My friend is named \u001b[38;5;16;48;5;222m Dallas \u001b[0m\u001b[38;5;16;48;5;141m PERSON \u001b[0m.\n"
     ]
    }
   ],
   "source": [
    "person_example = ds.data[0]\n",
    "person_example.pretty_print()"
   ]
  },
  {
   "cell_type": "code",
   "execution_count": 9,
   "id": "85ec433c-213e-4dd1-a897-23a0d3e814ff",
   "metadata": {},
   "outputs": [],
   "source": [
    "from recon import Corpus\n",
    "corpus = Corpus.from_disk(\"./data/conll2003\", \"conll2003\")"
   ]
  },
  {
   "cell_type": "code",
   "execution_count": 7,
   "id": "ded5c67e-f23a-48a4-be13-86ded0f923ec",
   "metadata": {},
   "outputs": [
    {
     "name": "stdout",
     "output_type": "stream",
     "text": [
      "LOC\n",
      "LOC\n",
      "LOC\n",
      "LOC\n",
      "LOC\n",
      "LOC\n",
      "LOC\n",
      "LOC\n",
      "LOC\n",
      "LOC\n",
      "LOC\n",
      "LOC\n",
      "LOC\n",
      "LOC\n",
      "LOC\n",
      "LOC\n",
      "LOC\n",
      "LOC\n",
      "LOC\n",
      "LOC\n",
      "LOC\n",
      "LOC\n",
      "LOC\n",
      "LOC\n",
      "LOC\n",
      "LOC\n",
      "LOC\n",
      "LOC\n",
      "LOC\n",
      "LOC\n",
      "LOC\n",
      "LOC\n",
      "LOC\n",
      "LOC\n",
      "LOC\n",
      "LOC\n",
      "LOC\n",
      "LOC\n",
      "LOC\n",
      "LOC\n",
      "LOC\n",
      "LOC\n",
      "LOC\n",
      "LOC\n",
      "LOC\n",
      "LOC\n",
      "LOC\n",
      "LOC\n",
      "LOC\n",
      "LOC\n",
      "LOC\n",
      "LOC\n",
      "LOC\n",
      "LOC\n",
      "LOC\n",
      "LOC\n",
      "LOC\n",
      "LOC\n",
      "LOC\n",
      "LOC\n",
      "LOC\n",
      "LOC\n",
      "LOC\n",
      "LOC\n",
      "LOC\n",
      "LOC\n",
      "LOC\n",
      "LOC\n",
      "LOC\n",
      "LOC\n",
      "LOC\n",
      "LOC\n",
      "LOC\n",
      "LOC\n",
      "LOC\n",
      "LOC\n",
      "LOC\n",
      "LOC\n",
      "LOC\n",
      "LOC\n",
      "LOC\n",
      "LOC\n",
      "LOC\n",
      "LOC\n",
      "LOC\n",
      "LOC\n",
      "LOC\n",
      "LOC\n",
      "LOC\n",
      "LOC\n",
      "LOC\n",
      "LOC\n",
      "LOC\n",
      "LOC\n",
      "LOC\n",
      "LOC\n",
      "LOC\n",
      "LOC\n",
      "LOC\n",
      "LOC\n",
      "LOC\n",
      "LOC\n",
      "LOC\n",
      "LOC\n",
      "LOC\n",
      "LOC\n",
      "LOC\n",
      "LOC\n",
      "LOC\n",
      "LOC\n",
      "LOC\n",
      "LOC\n",
      "LOC\n",
      "LOC\n",
      "LOC\n",
      "LOC\n",
      "LOC\n",
      "PER\n",
      "Example: \"SOCCER - JAPAN GET LUCKY WIN , CHINA IN SURPRISE DEFEAT . \", 2 spans.\n",
      "LOC\n",
      "LOC\n",
      "LOC\n",
      "LOC\n",
      "LOC\n",
      "LOC\n",
      "LOC\n",
      "LOC\n",
      "LOC\n",
      "LOC\n",
      "LOC\n",
      "LOC\n",
      "LOC\n",
      "LOC\n",
      "LOC\n",
      "LOC\n",
      "LOC\n",
      "LOC\n",
      "LOC\n",
      "LOC\n",
      "LOC\n",
      "LOC\n",
      "LOC\n",
      "LOC\n",
      "LOC\n",
      "LOC\n",
      "LOC\n",
      "LOC\n",
      "LOC\n",
      "LOC\n",
      "LOC\n",
      "LOC\n"
     ]
    }
   ],
   "source": [
    "for example in corpus.all:\n",
    "    for span in example.spans:\n",
    "        if span.text.lower() == \"china\":\n",
    "            \n",
    "            print(span.label)\n",
    "            \n",
    "            if span.label != \"LOC\":\n",
    "                print(example)"
   ]
  },
  {
   "cell_type": "code",
   "execution_count": 10,
   "id": "21a7017e-da86-4e5a-bd03-87c27d25674a",
   "metadata": {},
   "outputs": [
    {
     "data": {
      "text/plain": [
       "{'china', 'santiago'}"
      ]
     },
     "execution_count": 10,
     "metadata": {},
     "output_type": "execute_result"
    }
   ],
   "source": [
    "from recon.insights import get_label_disparities\n",
    "\n",
    "\n",
    "get_label_disparities(corpus.test, \"PER\", \"LOC\")"
   ]
  },
  {
   "cell_type": "code",
   "execution_count": 11,
   "id": "56f96b08-7567-4f67-a5d8-41e774a3258d",
   "metadata": {},
   "outputs": [],
   "source": [
    "from typing import List, DefaultDict, Set\n",
    "from collections import defaultdict\n",
    "\n",
    "def get_ents_by_label(\n",
    "    data: List[Example], case_sensitive: bool = False\n",
    ") -> DefaultDict[str, List[str]]:\n",
    "    \"\"\"Get a dictionary of unique text spans by label for your data\n",
    "\n",
    "    # TODO: Ok so this needs to return more than just a set for each label.\n",
    "\n",
    "    We want to return a dictionary that maps labels to AnnotationCount objects where each\n",
    "    AnnotationCount contains the text of the annotation text, the total number of times it's mentioned (e.g. what entity_coverage does)\n",
    "    but also the examples it is in.\n",
    "\n",
    "    So maybe I can get this info from entity_coverage? IDK but this is dumb rn and not very flexible.\n",
    "\n",
    "    Maybe I should keep this function returning a set of strings for each label for compatability but I need the other way too\n",
    "    so I know what to focus on in editing and analyzing\n",
    "\n",
    "    Args:\n",
    "        data (List[Example]): List of examples\n",
    "        case_sensitive (bool, optional): Consider case of text for each annotation\n",
    "\n",
    "    Returns:\n",
    "        DefaultDict[str, List[str]]: DefaultDict mapping label to sorted list of the unique\n",
    "            spans annotated for that label.\n",
    "    \"\"\"\n",
    "    annotations: DefaultDict[str, DefaultDict[Set[Example]]] = defaultdict(lambda: defaultdict(set))\n",
    "\n",
    "    for example in data:\n",
    "        for s in example.spans:\n",
    "            span_text = s.text if case_sensitive else s.text.lower()\n",
    "            annotations[s.label][span_text].add(example)\n",
    "            \n",
    "    return annotations\n",
    "\n",
    "\n",
    "def get_label_disparities(\n",
    "    data: List[Example], label1: str, label2: str, case_sensitive: bool = False\n",
    ") -> Set[str]:\n",
    "    \"\"\"Identify annotated spans that have different labels in different examples\n",
    "\n",
    "    Args:\n",
    "        data (List[Example]): Input List of examples\n",
    "        label1 (str): First label to compare\n",
    "        label2 (str): Second label to compare\n",
    "        case_sensitive (bool, optional): Consider case of text for each annotation\n",
    "\n",
    "    Returns:\n",
    "        Set[str]: Set of all unique text spans that overlap between label1 and label2\n",
    "    \"\"\"\n",
    "    annotations = get_ents_by_label(data, case_sensitive=case_sensitive)\n",
    "    overlap = set(annotations[label1]).intersection(set(annotations[label2]))\n",
    "    \n",
    "    output = defaultdict(list)\n",
    "    for ann in overlap:\n",
    "        if ann in annotations[label1]:\n",
    "            output[ann] += annotations[label1][ann]\n",
    "        if ann in annotations[label2]:\n",
    "            output[ann] += annotations[label2][ann]\n",
    "            \n",
    "    return output\n",
    "            "
   ]
  },
  {
   "cell_type": "code",
   "execution_count": 12,
   "id": "864727dc-58e2-4acc-8f4d-ae163a01dc01",
   "metadata": {},
   "outputs": [],
   "source": [
    "ebl = get_ents_by_label(corpus.test)"
   ]
  },
  {
   "cell_type": "code",
   "execution_count": 13,
   "id": "2b4990af-2edc-4ebb-9987-028617d83d78",
   "metadata": {},
   "outputs": [
    {
     "data": {
      "text/plain": [
       "{Example: \"SOCCER - JAPAN GET LUCKY WIN , CHINA IN SURPRISE DEFEAT . \", 2 spans.}"
      ]
     },
     "execution_count": 13,
     "metadata": {},
     "output_type": "execute_result"
    }
   ],
   "source": [
    "ebl[\"PER\"][\"china\"]"
   ]
  },
  {
   "cell_type": "code",
   "execution_count": 18,
   "id": "68ef1393-06ea-49f3-ab00-28816cb48b32",
   "metadata": {},
   "outputs": [
    {
     "name": "stdout",
     "output_type": "stream",
     "text": [
      "SOCCER - \u001b[38;5;16;48;5;222m JAPAN \u001b[0m\u001b[38;5;16;48;5;141m LOC \u001b[0m GET LUCKY WIN , \u001b[38;5;16;48;5;222m CHINA \u001b[0m\u001b[38;5;16;48;5;141m PER \u001b[0m IN SURPRISE DEFEAT . \n",
      "----------------------------------------------------------------------------------------------------\n",
      "\u001b[38;5;16;48;5;222m China \u001b[0m\u001b[38;5;16;48;5;141m LOC \u001b[0m 's \u001b[38;5;16;48;5;222m State Council \u001b[0m\u001b[38;5;16;48;5;141m ORG \u001b[0m , or cabinet , has given a port in the southern province of \u001b[38;5;16;48;5;222m Hainan \u001b[0m\u001b[38;5;16;48;5;141m LOC \u001b[0m permission to open to foreign vessels , the \u001b[38;5;16;48;5;222m Xinhua \u001b[0m\u001b[38;5;16;48;5;141m ORG \u001b[0m news agency said on Friday . \n",
      "----------------------------------------------------------------------------------------------------\n",
      "Mana 50,000 tonnes soybeans USG / \u001b[38;5;16;48;5;222m China \u001b[0m\u001b[38;5;16;48;5;141m LOC \u001b[0m 10-15/12 $ 23.50 10,000 / 4,000 GeePee . \n",
      "----------------------------------------------------------------------------------------------------\n",
      "\u001b[38;5;16;48;5;222m Jin Hua \u001b[0m\u001b[38;5;16;48;5;141m PER \u001b[0m ( \u001b[38;5;16;48;5;222m China \u001b[0m\u001b[38;5;16;48;5;141m LOC \u001b[0m ) 41.59 ; 8 . \n",
      "----------------------------------------------------------------------------------------------------\n",
      "But \u001b[38;5;16;48;5;222m China \u001b[0m\u001b[38;5;16;48;5;141m LOC \u001b[0m saw their luck desert them in the second match of the group , crashing to a surprise 2-0 defeat to newcomers \u001b[38;5;16;48;5;222m Uzbekistan \u001b[0m\u001b[38;5;16;48;5;141m LOC \u001b[0m . \n",
      "----------------------------------------------------------------------------------------------------\n",
      "\u001b[38;5;16;48;5;222m China \u001b[0m\u001b[38;5;16;48;5;141m LOC \u001b[0m 1 0 0 1 0 2 0 \n",
      "----------------------------------------------------------------------------------------------------\n",
      "10. \u001b[38;5;16;48;5;222m Xue Rulhong \u001b[0m\u001b[38;5;16;48;5;141m PER \u001b[0m ( \u001b[38;5;16;48;5;222m China \u001b[0m\u001b[38;5;16;48;5;141m LOC \u001b[0m ) 1:25.89 \n",
      "----------------------------------------------------------------------------------------------------\n",
      "\u001b[38;5;16;48;5;222m Dong Jiong \u001b[0m\u001b[38;5;16;48;5;141m PER \u001b[0m ( \u001b[38;5;16;48;5;222m China \u001b[0m\u001b[38;5;16;48;5;141m LOC \u001b[0m ) beat \u001b[38;5;16;48;5;222m Thomas Stuer-Lauridsen \u001b[0m\u001b[38;5;16;48;5;141m PER \u001b[0m ( \u001b[38;5;16;48;5;222m Denmark \u001b[0m\u001b[38;5;16;48;5;141m LOC \u001b[0m ) 15-10 15-6 \n",
      "----------------------------------------------------------------------------------------------------\n",
      "\u001b[38;5;16;48;5;222m Budi Santoso \u001b[0m\u001b[38;5;16;48;5;141m PER \u001b[0m ( \u001b[38;5;16;48;5;222m Indonesia \u001b[0m\u001b[38;5;16;48;5;141m LOC \u001b[0m ) beat \u001b[38;5;16;48;5;222m Hu Zhilan \u001b[0m\u001b[38;5;16;48;5;141m PER \u001b[0m ( \u001b[38;5;16;48;5;222m China \u001b[0m\u001b[38;5;16;48;5;141m LOC \u001b[0m ) 15-4 15-5 \n",
      "----------------------------------------------------------------------------------------------------\n",
      "Semifinals ( on Saturday ) : \u001b[38;5;16;48;5;222m Susi Susanti \u001b[0m\u001b[38;5;16;48;5;141m PER \u001b[0m ( \u001b[38;5;16;48;5;222m Indonesia \u001b[0m\u001b[38;5;16;48;5;141m LOC \u001b[0m ) v \u001b[38;5;16;48;5;222m Camilla Martin \u001b[0m\u001b[38;5;16;48;5;141m PER \u001b[0m ( \u001b[38;5;16;48;5;222m Denmark \u001b[0m\u001b[38;5;16;48;5;141m LOC \u001b[0m ) ; \u001b[38;5;16;48;5;222m Ye Zhaoying \u001b[0m\u001b[38;5;16;48;5;141m PER \u001b[0m ( \u001b[38;5;16;48;5;222m China \u001b[0m\u001b[38;5;16;48;5;141m LOC \u001b[0m ) v \u001b[38;5;16;48;5;222m Gong Zichao \u001b[0m\u001b[38;5;16;48;5;141m PER \u001b[0m ( \u001b[38;5;16;48;5;222m China \u001b[0m\u001b[38;5;16;48;5;141m LOC \u001b[0m ) . \n",
      "----------------------------------------------------------------------------------------------------\n",
      "\u001b[38;5;16;48;5;222m Sun Jun \u001b[0m\u001b[38;5;16;48;5;141m PER \u001b[0m ( \u001b[38;5;16;48;5;222m China \u001b[0m\u001b[38;5;16;48;5;141m LOC \u001b[0m ) beat \u001b[38;5;16;48;5;222m Rashid Sidek \u001b[0m\u001b[38;5;16;48;5;141m PER \u001b[0m ( \u001b[38;5;16;48;5;222m Malaysia \u001b[0m\u001b[38;5;16;48;5;141m LOC \u001b[0m ) 15-12 17-14 \n",
      "----------------------------------------------------------------------------------------------------\n",
      "\u001b[38;5;16;48;5;222m Ye Zhaoying \u001b[0m\u001b[38;5;16;48;5;141m PER \u001b[0m ( \u001b[38;5;16;48;5;222m China \u001b[0m\u001b[38;5;16;48;5;141m LOC \u001b[0m ) beat \u001b[38;5;16;48;5;222m Meiluawati \u001b[0m\u001b[38;5;16;48;5;141m PER \u001b[0m ( \u001b[38;5;16;48;5;222m Indonesia \u001b[0m\u001b[38;5;16;48;5;141m LOC \u001b[0m ) 11-6 12-10 \n",
      "----------------------------------------------------------------------------------------------------\n",
      "\u001b[38;5;16;48;5;222m Camilla Martin \u001b[0m\u001b[38;5;16;48;5;141m PER \u001b[0m ( \u001b[38;5;16;48;5;222m Denmark \u001b[0m\u001b[38;5;16;48;5;141m LOC \u001b[0m ) beat \u001b[38;5;16;48;5;222m Wang Chen \u001b[0m\u001b[38;5;16;48;5;141m PER \u001b[0m ( \u001b[38;5;16;48;5;222m China \u001b[0m\u001b[38;5;16;48;5;141m LOC \u001b[0m ) 11-0 12-10 \n",
      "----------------------------------------------------------------------------------------------------\n",
      "\u001b[38;5;16;48;5;222m China \u001b[0m\u001b[38;5;16;48;5;141m LOC \u001b[0m 's tourist spot of \u001b[38;5;16;48;5;222m Guilin \u001b[0m\u001b[38;5;16;48;5;141m LOC \u001b[0m in the southern region of \u001b[38;5;16;48;5;222m Guangxi \u001b[0m\u001b[38;5;16;48;5;141m LOC \u001b[0m will open its airport to foreign aircraft , the \u001b[38;5;16;48;5;222m Xinhua \u001b[0m\u001b[38;5;16;48;5;141m ORG \u001b[0m news agency said on Friday . \n",
      "----------------------------------------------------------------------------------------------------\n",
      "\u001b[38;5;16;48;5;222m China \u001b[0m\u001b[38;5;16;48;5;141m LOC \u001b[0m controlled most of the match and saw several chances missed until the 78th minute when \u001b[38;5;16;48;5;222m Uzbek \u001b[0m\u001b[38;5;16;48;5;141m MISC \u001b[0m striker \u001b[38;5;16;48;5;222m Igor Shkvyrin \u001b[0m\u001b[38;5;16;48;5;141m PER \u001b[0m took advantage of a misdirected defensive header to lob the ball over the advancing \u001b[38;5;16;48;5;222m Chinese \u001b[0m\u001b[38;5;16;48;5;141m MISC \u001b[0m keeper and into an empty net . \n",
      "----------------------------------------------------------------------------------------------------\n",
      "\u001b[38;5;16;48;5;222m China \u001b[0m\u001b[38;5;16;48;5;141m LOC \u001b[0m to open port in \u001b[38;5;16;48;5;222m Hainan \u001b[0m\u001b[38;5;16;48;5;141m LOC \u001b[0m to foreign ships . \n",
      "----------------------------------------------------------------------------------------------------\n",
      "\u001b[38;5;16;48;5;222m Gong Zhichao \u001b[0m\u001b[38;5;16;48;5;141m PER \u001b[0m ( \u001b[38;5;16;48;5;222m China \u001b[0m\u001b[38;5;16;48;5;141m LOC \u001b[0m ) beat \u001b[38;5;16;48;5;222m Mia Audina \u001b[0m\u001b[38;5;16;48;5;141m PER \u001b[0m ( \u001b[38;5;16;48;5;222m Indonesia \u001b[0m\u001b[38;5;16;48;5;141m LOC \u001b[0m ) 11-2 12-10 \n",
      "----------------------------------------------------------------------------------------------------\n",
      "\" The move is expected to give a shot in the arm to the economic expansion of \u001b[38;5;16;48;5;222m Guangxi \u001b[0m\u001b[38;5;16;48;5;141m LOC \u001b[0m and southwest \u001b[38;5;16;48;5;222m China \u001b[0m\u001b[38;5;16;48;5;141m LOC \u001b[0m as a whole , \" the agency said but gave no further details . \n",
      "----------------------------------------------------------------------------------------------------\n",
      "\u001b[38;5;16;48;5;222m Guilin \u001b[0m\u001b[38;5;16;48;5;141m LOC \u001b[0m is well known for its mountain and river scenery and is one of \u001b[38;5;16;48;5;222m China \u001b[0m\u001b[38;5;16;48;5;141m LOC \u001b[0m 's most popular tourist destinations . \n",
      "----------------------------------------------------------------------------------------------------\n",
      "\u001b[38;5;16;48;5;222m Susi Susanti \u001b[0m\u001b[38;5;16;48;5;141m PER \u001b[0m ( \u001b[38;5;16;48;5;222m Indonesia \u001b[0m\u001b[38;5;16;48;5;141m LOC \u001b[0m ) beat \u001b[38;5;16;48;5;222m Han Jingna \u001b[0m\u001b[38;5;16;48;5;141m PER \u001b[0m ( \u001b[38;5;16;48;5;222m China \u001b[0m\u001b[38;5;16;48;5;141m LOC \u001b[0m ) 11-5 11-4 . \n",
      "----------------------------------------------------------------------------------------------------\n",
      "Foreign planes to land in \u001b[38;5;16;48;5;222m China \u001b[0m\u001b[38;5;16;48;5;141m LOC \u001b[0m 's popular \u001b[38;5;16;48;5;222m Guilin \u001b[0m\u001b[38;5;16;48;5;141m LOC \u001b[0m . \n",
      "----------------------------------------------------------------------------------------------------\n",
      "\u001b[38;5;16;48;5;222m China \u001b[0m\u001b[38;5;16;48;5;141m LOC \u001b[0m 0 \u001b[38;5;16;48;5;222m Uzbekistan \u001b[0m\u001b[38;5;16;48;5;141m LOC \u001b[0m 2 ( halftime 0-0 ) \n",
      "----------------------------------------------------------------------------------------------------\n",
      "\u001b[38;5;16;48;5;222m Chen Gang \u001b[0m\u001b[38;5;16;48;5;141m PER \u001b[0m ( \u001b[38;5;16;48;5;222m China \u001b[0m\u001b[38;5;16;48;5;141m LOC \u001b[0m ) beat \u001b[38;5;16;48;5;222m Martin Londgaard Hansen \u001b[0m\u001b[38;5;16;48;5;141m PER \u001b[0m ( \u001b[38;5;16;48;5;222m Denmark \u001b[0m\u001b[38;5;16;48;5;141m LOC \u001b[0m ) 15-12 15-6 \n",
      "----------------------------------------------------------------------------------------------------\n",
      "A five-year-old girl in the east \u001b[38;5;16;48;5;222m China \u001b[0m\u001b[38;5;16;48;5;141m LOC \u001b[0m city of \u001b[38;5;16;48;5;222m Tianjin \u001b[0m\u001b[38;5;16;48;5;141m LOC \u001b[0m choked and almost died from cigarette smoke at her grandfather 's birthday with relatives smoking for hours in a small room , the \u001b[38;5;16;48;5;222m Wen Hui Bao \u001b[0m\u001b[38;5;16;48;5;141m ORG \u001b[0m newspaper said on Friday . \n",
      "----------------------------------------------------------------------------------------------------\n",
      "\u001b[38;5;16;48;5;222m Sun Jun \u001b[0m\u001b[38;5;16;48;5;141m PER \u001b[0m ( \u001b[38;5;16;48;5;222m China \u001b[0m\u001b[38;5;16;48;5;141m LOC \u001b[0m ) beat \u001b[38;5;16;48;5;222m Allan Budi Kusuma \u001b[0m\u001b[38;5;16;48;5;141m PER \u001b[0m ( \u001b[38;5;16;48;5;222m Indonesia \u001b[0m\u001b[38;5;16;48;5;141m LOC \u001b[0m ) 15-9 15-10 \n",
      "----------------------------------------------------------------------------------------------------\n",
      "\u001b[38;5;16;48;5;222m Wijaya \u001b[0m\u001b[38;5;16;48;5;141m PER \u001b[0m ( \u001b[38;5;16;48;5;222m Indonesia \u001b[0m\u001b[38;5;16;48;5;141m LOC \u001b[0m ) ; \u001b[38;5;16;48;5;222m Sun Jun \u001b[0m\u001b[38;5;16;48;5;141m PER \u001b[0m ( \u001b[38;5;16;48;5;222m China \u001b[0m\u001b[38;5;16;48;5;141m LOC \u001b[0m ) v \u001b[38;5;16;48;5;222m Allan Budi Kusuma \u001b[0m\u001b[38;5;16;48;5;141m PER \u001b[0m \n",
      "----------------------------------------------------------------------------------------------------\n",
      "9. \u001b[38;5;16;48;5;222m Xu Nannan \u001b[0m\u001b[38;5;16;48;5;141m PER \u001b[0m ( \u001b[38;5;16;48;5;222m China \u001b[0m\u001b[38;5;16;48;5;141m LOC \u001b[0m ) 152.08 \n",
      "----------------------------------------------------------------------------------------------------\n",
      "\u001b[38;5;16;48;5;222m Xuc Rulhong \u001b[0m\u001b[38;5;16;48;5;141m PER \u001b[0m ( \u001b[38;5;16;48;5;222m China \u001b[0m\u001b[38;5;16;48;5;141m LOC \u001b[0m ) 40.78 ; 2 . \n",
      "----------------------------------------------------------------------------------------------------\n",
      "\u001b[38;5;16;48;5;222m China \u001b[0m\u001b[38;5;16;48;5;141m LOC \u001b[0m made a promising debut on the freestyle skiing world cup circuit in an aerials event in the \u001b[38;5;16;48;5;222m French \u001b[0m\u001b[38;5;16;48;5;141m MISC \u001b[0m resort of \u001b[38;5;16;48;5;222m Tignes \u001b[0m\u001b[38;5;16;48;5;141m LOC \u001b[0m on Saturday . \n",
      "----------------------------------------------------------------------------------------------------\n",
      "7. \u001b[38;5;16;48;5;222m Dan Cuo \u001b[0m\u001b[38;5;16;48;5;141m PER \u001b[0m ( \u001b[38;5;16;48;5;222m China \u001b[0m\u001b[38;5;16;48;5;141m LOC \u001b[0m ) 154.61 \n",
      "----------------------------------------------------------------------------------------------------\n",
      "\u001b[38;5;16;48;5;222m Ye Zhaoying \u001b[0m\u001b[38;5;16;48;5;141m PER \u001b[0m ( \u001b[38;5;16;48;5;222m China \u001b[0m\u001b[38;5;16;48;5;141m LOC \u001b[0m ) beat \u001b[38;5;16;48;5;222m Gong Zhichao \u001b[0m\u001b[38;5;16;48;5;141m PER \u001b[0m ( \u001b[38;5;16;48;5;222m China \u001b[0m\u001b[38;5;16;48;5;141m LOC \u001b[0m ) 11-8 11-3 \n",
      "----------------------------------------------------------------------------------------------------\n"
     ]
    }
   ],
   "source": [
    "for e in get_label_disparities(corpus.test, \"PER\", \"LOC\")[\"china\"]:\n",
    "    e.pretty_print()\n",
    "    print(\"-\" * 100)"
   ]
  },
  {
   "cell_type": "code",
   "execution_count": 23,
   "id": "3bdbdda0-5aff-4702-88ea-6cfce880ed79",
   "metadata": {},
   "outputs": [
    {
     "data": {
      "text/plain": [
       "[LabelDisparity(label1='LOC', label2='ORG', count=61, examples=[]),\n",
       " LabelDisparity(label1='ORG', label2='LOC', count=61, examples=[]),\n",
       " LabelDisparity(label1='LOC', label2='PER', count=2, examples=[]),\n",
       " LabelDisparity(label1='LOC', label2='MISC', count=2, examples=[]),\n",
       " LabelDisparity(label1='PER', label2='LOC', count=2, examples=[]),\n",
       " LabelDisparity(label1='PER', label2='ORG', count=2, examples=[]),\n",
       " LabelDisparity(label1='MISC', label2='LOC', count=2, examples=[]),\n",
       " LabelDisparity(label1='ORG', label2='PER', count=2, examples=[]),\n",
       " LabelDisparity(label1='PER', label2='MISC', count=1, examples=[]),\n",
       " LabelDisparity(label1='MISC', label2='PER', count=1, examples=[]),\n",
       " LabelDisparity(label1='MISC', label2='ORG', count=1, examples=[]),\n",
       " LabelDisparity(label1='ORG', label2='MISC', count=1, examples=[])]"
      ]
     },
     "execution_count": 23,
     "metadata": {},
     "output_type": "execute_result"
    }
   ],
   "source": [
    "from recon.insights import top_label_disparities\n",
    "\n",
    "\n",
    "top_label_disparities(corpus.test)"
   ]
  },
  {
   "cell_type": "code",
   "execution_count": 32,
   "id": "4405d542-adba-4db4-be1f-4fbe07922c72",
   "metadata": {},
   "outputs": [
    {
     "name": "stdout",
     "output_type": "stream",
     "text": [
      "\u001b[38;5;16;48;5;222m MINNESOTA \u001b[0m\u001b[38;5;16;48;5;141m ORG \u001b[0m AT \u001b[38;5;16;48;5;222m UTAH \u001b[0m\u001b[38;5;16;48;5;141m LOC \u001b[0m \n",
      "\n",
      "\u001b[38;5;16;48;5;222m UTAH \u001b[0m\u001b[38;5;16;48;5;141m ORG \u001b[0m AT \u001b[38;5;16;48;5;222m DENVER \u001b[0m\u001b[38;5;16;48;5;141m LOC \u001b[0m \n",
      "\n",
      "\u001b[38;5;16;48;5;222m UTAH \u001b[0m\u001b[38;5;16;48;5;141m ORG \u001b[0m 15 2 .882 1/2 \n",
      "\n",
      "\u001b[38;5;16;48;5;222m UTAH \u001b[0m\u001b[38;5;16;48;5;141m ORG \u001b[0m 106 \u001b[38;5;16;48;5;222m Minnesota \u001b[0m\u001b[38;5;16;48;5;141m ORG \u001b[0m 95 \n",
      "\n",
      "\u001b[38;5;16;48;5;222m UTAH \u001b[0m\u001b[38;5;16;48;5;141m ORG \u001b[0m 14 2 .875 1 \n",
      "\n"
     ]
    }
   ],
   "source": [
    "for e in get_label_disparities(corpus.test, \"LOC\", \"ORG\")[\"utah\"]:\n",
    "    e.pretty_print()\n",
    "    print()"
   ]
  },
  {
   "cell_type": "code",
   "execution_count": 38,
   "id": "2e79174a-c127-4cef-8ad5-93fe7ad4e344",
   "metadata": {},
   "outputs": [
    {
     "data": {
      "text/plain": [
       "dict_keys(['lausanne', 'wimbledon', 'st helens', 'auckland', 'brisbane', 'antwerp', 'zurich', 'southampton', 'essex', 'leicester', 'milan', 'nice', 'manchester united', 'wall street', 'doetinchem', 'bremen', 'montreal', 'taibe', 'america', 'charleroi', 'heerenveen', 'genoa', 'verona', 'cologne', 'new york', 'seattle', 'hamburg', 'lincoln', 'detroit', 'minnesota', 'monaco', 'colorado', 'sierra', 'preston', 'bristol', 'chesterfield', 'texas', 'philadelphia', 'akron', 'london', 'cardiff', 'griqualand west', 'lisbon', 'tel aviv', 'chicago', 'boston', 'california', 'jordan', 'kansas city', 'sydney', 'sao paulo', 'porto', 'leeds', 'ulsan', 'atlanta', 'cambridge', 'pa', 'york', 'birmingham', 'san diego', 'toronto', 'milwaukee', 'canberra', 'los angeles', 'paramount', 'florida', 'pittsburgh', 'paris', 'ajaccio', 'stuttgart', 'houston', 'st louis', 'nottingham forest', 'inverness', 'oxford', 'san francisco', 'south', 'bordeaux', 'barcelona', 'colchester', 'portsmouth', 'northampton', 'hampshire', 'volendam', 'surrey', 'sheffield', 'cleveland', 'hamilton', 'freiburg', 'baltimore', 'richmond', 'cis', 'melbourne'])"
      ]
     },
     "execution_count": 38,
     "metadata": {},
     "output_type": "execute_result"
    }
   ],
   "source": [
    "get_label_disparities(corpus.train, \"LOC\", \"ORG\").keys()"
   ]
  },
  {
   "cell_type": "code",
   "execution_count": 45,
   "id": "e7b4d2de-3773-4f65-8ba0-1c1a0aa98ab9",
   "metadata": {},
   "outputs": [
    {
     "name": "stdout",
     "output_type": "stream",
     "text": [
      "\u001b[38;5;16;48;5;222m MILWAUKEE \u001b[0m\u001b[38;5;16;48;5;141m ORG \u001b[0m AT \u001b[38;5;16;48;5;222m CLEVELAND \u001b[0m\u001b[38;5;16;48;5;141m LOC \u001b[0m \n",
      "\n",
      "\u001b[38;5;16;48;5;222m CLEVELAND \u001b[0m\u001b[38;5;16;48;5;141m LOC \u001b[0m 1996-08-22 \n",
      "\n",
      "\u001b[38;5;16;48;5;222m CLEVELAND \u001b[0m\u001b[38;5;16;48;5;141m LOC \u001b[0m 1996-08-26 \n",
      "\n",
      "\u001b[38;5;16;48;5;222m CLEVELAND \u001b[0m\u001b[38;5;16;48;5;141m ORG \u001b[0m 8 \u001b[38;5;16;48;5;222m Milwaukee \u001b[0m\u001b[38;5;16;48;5;141m ORG \u001b[0m 5 \n",
      "\n",
      "\u001b[38;5;16;48;5;222m Milwaukee \u001b[0m\u001b[38;5;16;48;5;141m ORG \u001b[0m 6 \u001b[38;5;16;48;5;222m CLEVELAND \u001b[0m\u001b[38;5;16;48;5;141m ORG \u001b[0m 5 ( 11 innings ) \n",
      "\n",
      "\u001b[38;5;16;48;5;222m Cleveland \u001b[0m\u001b[38;5;16;48;5;141m ORG \u001b[0m lost for just the second time in six games . \n",
      "\n",
      "\u001b[38;5;16;48;5;222m CLEVELAND \u001b[0m\u001b[38;5;16;48;5;141m ORG \u001b[0m 76 51 .598 - \n",
      "\n",
      "In \u001b[38;5;16;48;5;222m Cleveland \u001b[0m\u001b[38;5;16;48;5;141m ORG \u001b[0m , \u001b[38;5;16;48;5;222m Kevin Seitzer \u001b[0m\u001b[38;5;16;48;5;141m PER \u001b[0m 's two-out single in the top of the 10th brought home \u001b[38;5;16;48;5;222m David Hulse \u001b[0m\u001b[38;5;16;48;5;141m PER \u001b[0m with the winning run as the \u001b[38;5;16;48;5;222m Milwaukee Brewers \u001b[0m\u001b[38;5;16;48;5;141m ORG \u001b[0m sent the \u001b[38;5;16;48;5;222m Cleveland Indians \u001b[0m\u001b[38;5;16;48;5;141m ORG \u001b[0m to their third straight extra-inning defeat 4-3 . \n",
      "\n",
      "\u001b[38;5;16;48;5;222m CLEVELAND \u001b[0m\u001b[38;5;16;48;5;141m ORG \u001b[0m 77 53 .592 - \n",
      "\n",
      "\u001b[38;5;16;48;5;222m CLEVELAND \u001b[0m\u001b[38;5;16;48;5;141m ORG \u001b[0m 76 53 .589 - \n",
      "\n",
      "\u001b[38;5;16;48;5;222m CLEVELAND \u001b[0m\u001b[38;5;16;48;5;141m ORG \u001b[0m 79 53 .598 - \n",
      "\n",
      "\u001b[38;5;16;48;5;222m Cleveland \u001b[0m\u001b[38;5;16;48;5;141m ORG \u001b[0m 2 \u001b[38;5;16;48;5;222m DETROIT \u001b[0m\u001b[38;5;16;48;5;141m ORG \u001b[0m 1 \n",
      "\n",
      "\u001b[38;5;16;48;5;222m CLEVELAND \u001b[0m\u001b[38;5;16;48;5;141m ORG \u001b[0m 78 53 .595 - \n",
      "\n",
      "\u001b[38;5;16;48;5;222m Cleveland \u001b[0m\u001b[38;5;16;48;5;141m ORG \u001b[0m 9 \u001b[38;5;16;48;5;222m DETROIT \u001b[0m\u001b[38;5;16;48;5;141m ORG \u001b[0m 3 \n",
      "\n",
      "\u001b[38;5;16;48;5;222m Milwaukee \u001b[0m\u001b[38;5;16;48;5;141m ORG \u001b[0m 4 \u001b[38;5;16;48;5;222m CLEVELAND \u001b[0m\u001b[38;5;16;48;5;141m ORG \u001b[0m 3 ( 10 innings ) \n",
      "\n",
      "\u001b[38;5;16;48;5;222m CLEVELAND \u001b[0m\u001b[38;5;16;48;5;141m ORG \u001b[0m 80 53 .602 - \n",
      "\n",
      "\u001b[38;5;16;48;5;222m Cleveland \u001b[0m\u001b[38;5;16;48;5;141m ORG \u001b[0m 12 \u001b[38;5;16;48;5;222m DETROIT \u001b[0m\u001b[38;5;16;48;5;141m ORG \u001b[0m 2 \n",
      "\n",
      "\u001b[38;5;16;48;5;222m CLEVELAND \u001b[0m\u001b[38;5;16;48;5;141m ORG \u001b[0m 76 52 .594 - \n",
      "\n",
      "\u001b[38;5;16;48;5;222m Texas \u001b[0m\u001b[38;5;16;48;5;141m ORG \u001b[0m 10 \u001b[38;5;16;48;5;222m CLEVELAND \u001b[0m\u001b[38;5;16;48;5;141m ORG \u001b[0m 8 ( in 10 ) \n",
      "\n",
      "\u001b[38;5;16;48;5;222m CLEVELAND \u001b[0m\u001b[38;5;16;48;5;141m ORG \u001b[0m AT \u001b[38;5;16;48;5;222m DETROIT \u001b[0m\u001b[38;5;16;48;5;141m LOC \u001b[0m \n",
      "\n"
     ]
    }
   ],
   "source": [
    "for e in get_label_disparities(corpus.train, \"LOC\", \"ORG\")[\"cleveland\"]:\n",
    "    e.pretty_print()\n",
    "    print()"
   ]
  },
  {
   "cell_type": "code",
   "execution_count": null,
   "id": "9134feec-a727-45ec-bd1d-ff58ff6b1317",
   "metadata": {},
   "outputs": [],
   "source": []
  }
 ],
 "metadata": {
  "kernelspec": {
   "display_name": "Python 3.10.8 ('reconner-cI2LIzZM-py3.10')",
   "language": "python",
   "name": "python3"
  },
  "language_info": {
   "codemirror_mode": {
    "name": "ipython",
    "version": 3
   },
   "file_extension": ".py",
   "mimetype": "text/x-python",
   "name": "python",
   "nbconvert_exporter": "python",
   "pygments_lexer": "ipython3",
   "version": "3.10.8"
  },
  "vscode": {
   "interpreter": {
    "hash": "8b3ae71f03514a19ab794870705b50e4422d52f261458df48e0c827ff20c44d6"
   }
  }
 },
 "nbformat": 4,
 "nbformat_minor": 5
}
