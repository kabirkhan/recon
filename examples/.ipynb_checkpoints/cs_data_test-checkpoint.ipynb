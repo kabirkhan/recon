{
 "cells": [
  {
   "cell_type": "code",
   "execution_count": null,
   "metadata": {},
   "outputs": [],
   "source": [
    "!pip install ../../CognitiveServices/API-TextAnalytics-NER.CloudServices/models/supplemental/en_ta_lg-2.2.5.tar.gz"
   ]
  },
  {
   "cell_type": "code",
   "execution_count": 26,
   "metadata": {},
   "outputs": [
    {
     "name": "stdout",
     "output_type": "stream",
     "text": [
      "The autoreload extension is already loaded. To reload it, use:\n",
      "  %reload_ext autoreload\n"
     ]
    }
   ],
   "source": [
    "%load_ext autoreload\n",
    "%autoreload 2"
   ]
  },
  {
   "cell_type": "code",
   "execution_count": 50,
   "metadata": {},
   "outputs": [],
   "source": [
    "import en_ta_lg\n",
    "import copy\n",
    "from typing import Dict, List\n",
    "import spacy\n",
    "from recon import Dataset\n",
    "from recon.constants import NONE\n",
    "from recon.types import Example\n",
    "from recon.stats import ner_stats\n",
    "from recon.insights import ents_by_label, get_label_disparities, top_prediction_errors\n",
    "from recon.recognizer import SpacyEntityRecognizer"
   ]
  },
  {
   "cell_type": "code",
   "execution_count": 3,
   "metadata": {},
   "outputs": [],
   "source": [
    "ds = Dataset.from_disk('../../CognitiveServices/API-TextAnalytics-NER.CloudServices/data/2020-02-24/')"
   ]
  },
  {
   "cell_type": "code",
   "execution_count": 4,
   "metadata": {},
   "outputs": [
    {
     "name": "stdout",
     "output_type": "stream",
     "text": [
      "{\n",
      "    \"n_examples\":130000,\n",
      "    \"n_examples_no_entities\":7,\n",
      "    \"ents_per_type\":{\n",
      "        \"AGE\":2975,\n",
      "        \"LOCATION\":52207,\n",
      "        \"PERSONTYPE\":68950,\n",
      "        \"SET\":1493,\n",
      "        \"GPE\":82970,\n",
      "        \"DATERANGE\":41853,\n",
      "        \"EVENT\":20008,\n",
      "        \"NUMBER\":18465,\n",
      "        \"ORGANIZATION\":56205,\n",
      "        \"PERSON\":92446,\n",
      "        \"PRODUCT\":17997,\n",
      "        \"DATE\":13169,\n",
      "        \"PERCENTAGE\":3688,\n",
      "        \"DURATION\":8537,\n",
      "        \"ADDRESS\":2914,\n",
      "        \"CURRENCY\":4336,\n",
      "        \"TIME\":734,\n",
      "        \"TIMERANGE\":650,\n",
      "        \"DATETIMERANGE\":644,\n",
      "        \"NUM_RANGE\":317\n",
      "    }\n",
      "}\n",
      "{\n",
      "    \"n_examples\":10000,\n",
      "    \"n_examples_no_entities\":0,\n",
      "    \"ents_per_type\":{\n",
      "        \"EVENT\":1553,\n",
      "        \"PERSON\":7044,\n",
      "        \"GPE\":6531,\n",
      "        \"LOCATION\":4047,\n",
      "        \"PERSONTYPE\":5230,\n",
      "        \"ORGANIZATION\":4316,\n",
      "        \"NUMBER\":1401,\n",
      "        \"PRODUCT\":1333,\n",
      "        \"DATERANGE\":3200,\n",
      "        \"TIME\":59,\n",
      "        \"DATE\":1054,\n",
      "        \"DURATION\":618,\n",
      "        \"AGE\":232,\n",
      "        \"TIMERANGE\":65,\n",
      "        \"CURRENCY\":377,\n",
      "        \"ADDRESS\":203,\n",
      "        \"SET\":125,\n",
      "        \"PERCENTAGE\":264,\n",
      "        \"DATETIMERANGE\":45,\n",
      "        \"NUM_RANGE\":22\n",
      "    }\n",
      "}\n",
      "{\n",
      "    \"n_examples\":10000,\n",
      "    \"n_examples_no_entities\":2083,\n",
      "    \"ents_per_type\":{\n",
      "        \"PERSON\":2189,\n",
      "        \"AGE\":83,\n",
      "        \"GPE\":2359,\n",
      "        \"NUMBER\":1489,\n",
      "        \"PERSONTYPE\":4495,\n",
      "        \"ORGANIZATION\":3303,\n",
      "        \"LOCATION\":1897,\n",
      "        \"DATERANGE\":1172,\n",
      "        \"PERCENTAGE\":385,\n",
      "        \"NUM_RANGE\":40,\n",
      "        \"DURATION\":581,\n",
      "        \"EVENT\":1491,\n",
      "        \"CURRENCY\":304,\n",
      "        \"DATE\":284,\n",
      "        \"PRODUCT\":3409,\n",
      "        \"ADDRESS\":23,\n",
      "        \"TIMERANGE\":52,\n",
      "        \"SET\":143,\n",
      "        \"TIME\":13,\n",
      "        \"DATETIMERANGE\":11\n",
      "    }\n",
      "}\n",
      "{\n",
      "    \"n_examples\":150000,\n",
      "    \"n_examples_no_entities\":2090,\n",
      "    \"ents_per_type\":{\n",
      "        \"AGE\":3290,\n",
      "        \"LOCATION\":58151,\n",
      "        \"PERSONTYPE\":78675,\n",
      "        \"SET\":1761,\n",
      "        \"GPE\":91860,\n",
      "        \"DATERANGE\":46225,\n",
      "        \"EVENT\":23052,\n",
      "        \"NUMBER\":21355,\n",
      "        \"ORGANIZATION\":63824,\n",
      "        \"PERSON\":101679,\n",
      "        \"PRODUCT\":22739,\n",
      "        \"DATE\":14507,\n",
      "        \"PERCENTAGE\":4337,\n",
      "        \"DURATION\":9736,\n",
      "        \"ADDRESS\":3140,\n",
      "        \"CURRENCY\":5017,\n",
      "        \"TIME\":806,\n",
      "        \"TIMERANGE\":767,\n",
      "        \"DATETIMERANGE\":700,\n",
      "        \"NUM_RANGE\":379\n",
      "    }\n",
      "}\n"
     ]
    },
    {
     "data": {
      "text/plain": [
       "{'train': None, 'dev': None, 'test': None, 'all': None}"
      ]
     },
     "execution_count": 4,
     "metadata": {},
     "output_type": "execute_result"
    }
   ],
   "source": [
    "ds.apply(ner_stats, serialize=True)"
   ]
  },
  {
   "cell_type": "code",
   "execution_count": 68,
   "metadata": {},
   "outputs": [],
   "source": [
    "def top_label_disparities(data, use_lower=True):\n",
    "    annotations = ents_by_label(data, use_lower=use_lower)\n",
    "    label_disparities = {}\n",
    "    for label1 in annotations.keys():\n",
    "        for label2 in annotations.keys():\n",
    "            if label1 != label2:\n",
    "                n_disparities = len(set(annotations[label1]).intersection(set(annotations[label2])))\n",
    "                if n_disparities > 0:\n",
    "                    sorted_labels = sorted([label1, label2])\n",
    "                    input_hash = '||'.join(sorted_labels)\n",
    "                    label_disparities[input_hash] = {\n",
    "                        'label1': sorted_labels[0],\n",
    "                        'label2': sorted_labels[1],\n",
    "                        'n_disparities': n_disparities\n",
    "                    }\n",
    "            \n",
    "    return sorted(label_disparities.values(), key=lambda row: row['n_disparities'], reverse=True)"
   ]
  },
  {
   "cell_type": "code",
   "execution_count": 69,
   "metadata": {},
   "outputs": [
    {
     "data": {
      "text/plain": [
       "[{'label1': 'GPE', 'label2': 'LOC', 'n_disparities': 2803},\n",
       " {'label1': 'GPE', 'label2': 'PERSON', 'n_disparities': 1652},\n",
       " {'label1': 'LOC', 'label2': 'ORG', 'n_disparities': 1195},\n",
       " {'label1': 'ORG', 'label2': 'PERSON', 'n_disparities': 1089},\n",
       " {'label1': 'GPE', 'label2': 'ORG', 'n_disparities': 1005},\n",
       " {'label1': 'LOC', 'label2': 'PERSON', 'n_disparities': 619},\n",
       " {'label1': 'PERSON', 'label2': 'PERSONTYPE', 'n_disparities': 600},\n",
       " {'label1': 'ORG', 'label2': 'PERSONTYPE', 'n_disparities': 564},\n",
       " {'label1': 'ORG', 'label2': 'PRODUCT', 'n_disparities': 546},\n",
       " {'label1': 'DATE', 'label2': 'DATERANGE', 'n_disparities': 481},\n",
       " {'label1': 'DATERANGE', 'label2': 'DURATION', 'n_disparities': 388},\n",
       " {'label1': 'PERSON', 'label2': 'PRODUCT', 'n_disparities': 366},\n",
       " {'label1': 'GPE', 'label2': 'PERSONTYPE', 'n_disparities': 354},\n",
       " {'label1': 'LOC', 'label2': 'PRODUCT', 'n_disparities': 325},\n",
       " {'label1': 'EVENT', 'label2': 'ORG', 'n_disparities': 288},\n",
       " {'label1': 'DATERANGE', 'label2': 'NUMBER', 'n_disparities': 248},\n",
       " {'label1': 'LOC', 'label2': 'PERSONTYPE', 'n_disparities': 202},\n",
       " {'label1': 'ADDRESS', 'label2': 'LOC', 'n_disparities': 180},\n",
       " {'label1': 'GPE', 'label2': 'PRODUCT', 'n_disparities': 165},\n",
       " {'label1': 'PERSONTYPE', 'label2': 'PRODUCT', 'n_disparities': 150},\n",
       " {'label1': 'EVENT', 'label2': 'LOC', 'n_disparities': 127},\n",
       " {'label1': 'AGE', 'label2': 'NUMBER', 'n_disparities': 124},\n",
       " {'label1': 'EVENT', 'label2': 'PRODUCT', 'n_disparities': 120},\n",
       " {'label1': 'EVENT', 'label2': 'PERSON', 'n_disparities': 103},\n",
       " {'label1': 'ADDRESS', 'label2': 'GPE', 'n_disparities': 99},\n",
       " {'label1': 'DATERANGE', 'label2': 'EVENT', 'n_disparities': 95},\n",
       " {'label1': 'AGE', 'label2': 'DURATION', 'n_disparities': 84},\n",
       " {'label1': 'DATE', 'label2': 'EVENT', 'n_disparities': 79},\n",
       " {'label1': 'EVENT', 'label2': 'GPE', 'n_disparities': 71},\n",
       " {'label1': 'DATE', 'label2': 'DURATION', 'n_disparities': 66},\n",
       " {'label1': 'AGE', 'label2': 'DATERANGE', 'n_disparities': 57},\n",
       " {'label1': 'EVENT', 'label2': 'PERSONTYPE', 'n_disparities': 57},\n",
       " {'label1': 'MONEY', 'label2': 'NUMBER', 'n_disparities': 53},\n",
       " {'label1': 'DATERANGE', 'label2': 'GPE', 'n_disparities': 48},\n",
       " {'label1': 'DURATION', 'label2': 'TIMERANGE', 'n_disparities': 47},\n",
       " {'label1': 'DATERANGE', 'label2': 'DATETIMERANGE', 'n_disparities': 45},\n",
       " {'label1': 'DATERANGE', 'label2': 'TIMERANGE', 'n_disparities': 40},\n",
       " {'label1': 'DATERANGE', 'label2': 'ORG', 'n_disparities': 37},\n",
       " {'label1': 'DURATION', 'label2': 'NUMBER', 'n_disparities': 35},\n",
       " {'label1': 'ADDRESS', 'label2': 'PERSON', 'n_disparities': 35},\n",
       " {'label1': 'DATE', 'label2': 'DATETIMERANGE', 'n_disparities': 34},\n",
       " {'label1': 'ADDRESS', 'label2': 'ORG', 'n_disparities': 32},\n",
       " {'label1': 'DURATION', 'label2': 'SET', 'n_disparities': 31},\n",
       " {'label1': 'DATE', 'label2': 'NUMBER', 'n_disparities': 28},\n",
       " {'label1': 'DATETIMERANGE', 'label2': 'TIMERANGE', 'n_disparities': 27},\n",
       " {'label1': 'DATERANGE', 'label2': 'PERSON', 'n_disparities': 25},\n",
       " {'label1': 'DATERANGE', 'label2': 'SET', 'n_disparities': 24},\n",
       " {'label1': 'DURATION', 'label2': 'EVENT', 'n_disparities': 24},\n",
       " {'label1': 'NUMBER', 'label2': 'PERCENT', 'n_disparities': 24},\n",
       " {'label1': 'DATE', 'label2': 'GPE', 'n_disparities': 22},\n",
       " {'label1': 'DATERANGE', 'label2': 'TIME', 'n_disparities': 21},\n",
       " {'label1': 'DATETIMERANGE', 'label2': 'TIME', 'n_disparities': 21},\n",
       " {'label1': 'NUMBER', 'label2': 'PRODUCT', 'n_disparities': 20},\n",
       " {'label1': 'DATERANGE', 'label2': 'LOC', 'n_disparities': 19},\n",
       " {'label1': 'TIME', 'label2': 'TIMERANGE', 'n_disparities': 19},\n",
       " {'label1': 'DATERANGE', 'label2': 'PRODUCT', 'n_disparities': 18},\n",
       " {'label1': 'AGE', 'label2': 'PERCENT', 'n_disparities': 17},\n",
       " {'label1': 'DATE', 'label2': 'TIMERANGE', 'n_disparities': 17},\n",
       " {'label1': 'GPE', 'label2': 'PERCENT', 'n_disparities': 16},\n",
       " {'label1': 'DATE', 'label2': 'TIME', 'n_disparities': 15},\n",
       " {'label1': 'NUMBER', 'label2': 'TIME', 'n_disparities': 14},\n",
       " {'label1': 'DURATION', 'label2': 'ORG', 'n_disparities': 13},\n",
       " {'label1': 'MONEY', 'label2': 'PERCENT', 'n_disparities': 13},\n",
       " {'label1': 'NUMBER', 'label2': 'PERSON', 'n_disparities': 12},\n",
       " {'label1': 'DATE', 'label2': 'PERSON', 'n_disparities': 12},\n",
       " {'label1': 'NUMBER', 'label2': 'ORG', 'n_disparities': 11},\n",
       " {'label1': 'ADDRESS', 'label2': 'NUMBER', 'n_disparities': 11},\n",
       " {'label1': 'MONEY', 'label2': 'ORG', 'n_disparities': 11},\n",
       " {'label1': 'DATETIMERANGE', 'label2': 'DURATION', 'n_disparities': 11},\n",
       " {'label1': 'SET', 'label2': 'TIMERANGE', 'n_disparities': 10},\n",
       " {'label1': 'DATERANGE', 'label2': 'MONEY', 'n_disparities': 10},\n",
       " {'label1': 'DURATION', 'label2': 'TIME', 'n_disparities': 10},\n",
       " {'label1': 'NUMBER', 'label2': 'PERSONTYPE', 'n_disparities': 9},\n",
       " {'label1': 'ADDRESS', 'label2': 'PERSONTYPE', 'n_disparities': 9},\n",
       " {'label1': 'NUMBER', 'label2': 'NUM_RANGE', 'n_disparities': 9},\n",
       " {'label1': 'DATE', 'label2': 'ORG', 'n_disparities': 9},\n",
       " {'label1': 'MONEY', 'label2': 'PERSON', 'n_disparities': 9},\n",
       " {'label1': 'MONEY', 'label2': 'PRODUCT', 'n_disparities': 9},\n",
       " {'label1': 'AGE', 'label2': 'DATE', 'n_disparities': 8},\n",
       " {'label1': 'AGE', 'label2': 'TIME', 'n_disparities': 8},\n",
       " {'label1': 'AGE', 'label2': 'NUM_RANGE', 'n_disparities': 8},\n",
       " {'label1': 'AGE', 'label2': 'PRODUCT', 'n_disparities': 7},\n",
       " {'label1': 'ADDRESS', 'label2': 'AGE', 'n_disparities': 7},\n",
       " {'label1': 'LOC', 'label2': 'NUMBER', 'n_disparities': 7},\n",
       " {'label1': 'LOC', 'label2': 'MONEY', 'n_disparities': 7},\n",
       " {'label1': 'DATERANGE', 'label2': 'PERSONTYPE', 'n_disparities': 7},\n",
       " {'label1': 'DATE', 'label2': 'SET', 'n_disparities': 7},\n",
       " {'label1': 'DATERANGE', 'label2': 'PERCENT', 'n_disparities': 7},\n",
       " {'label1': 'ADDRESS', 'label2': 'PRODUCT', 'n_disparities': 7},\n",
       " {'label1': 'DURATION', 'label2': 'MONEY', 'n_disparities': 7},\n",
       " {'label1': 'AGE', 'label2': 'MONEY', 'n_disparities': 6},\n",
       " {'label1': 'DATETIMERANGE', 'label2': 'GPE', 'n_disparities': 6},\n",
       " {'label1': 'EVENT', 'label2': 'TIMERANGE', 'n_disparities': 6},\n",
       " {'label1': 'DATETIMERANGE', 'label2': 'PERSON', 'n_disparities': 6},\n",
       " {'label1': 'DURATION', 'label2': 'PRODUCT', 'n_disparities': 6},\n",
       " {'label1': 'AGE', 'label2': 'PERSONTYPE', 'n_disparities': 5},\n",
       " {'label1': 'AGE', 'label2': 'PERSON', 'n_disparities': 5},\n",
       " {'label1': 'LOC', 'label2': 'PERCENT', 'n_disparities': 5},\n",
       " {'label1': 'ORG', 'label2': 'SET', 'n_disparities': 5},\n",
       " {'label1': 'DATETIMERANGE', 'label2': 'SET', 'n_disparities': 5},\n",
       " {'label1': 'GPE', 'label2': 'NUMBER', 'n_disparities': 5},\n",
       " {'label1': 'ADDRESS', 'label2': 'DATERANGE', 'n_disparities': 5},\n",
       " {'label1': 'DATERANGE', 'label2': 'NUM_RANGE', 'n_disparities': 5},\n",
       " {'label1': 'ORG', 'label2': 'TIMERANGE', 'n_disparities': 5},\n",
       " {'label1': 'PERSON', 'label2': 'TIMERANGE', 'n_disparities': 5},\n",
       " {'label1': 'DATE', 'label2': 'MONEY', 'n_disparities': 5},\n",
       " {'label1': 'ADDRESS', 'label2': 'EVENT', 'n_disparities': 4},\n",
       " {'label1': 'EVENT', 'label2': 'MONEY', 'n_disparities': 4},\n",
       " {'label1': 'DATETIMERANGE', 'label2': 'NUMBER', 'n_disparities': 4},\n",
       " {'label1': 'DURATION', 'label2': 'PERSON', 'n_disparities': 4},\n",
       " {'label1': 'DATE', 'label2': 'PRODUCT', 'n_disparities': 4},\n",
       " {'label1': 'AGE', 'label2': 'GPE', 'n_disparities': 3},\n",
       " {'label1': 'AGE', 'label2': 'EVENT', 'n_disparities': 3},\n",
       " {'label1': 'AGE', 'label2': 'ORG', 'n_disparities': 3},\n",
       " {'label1': 'AGE', 'label2': 'TIMERANGE', 'n_disparities': 3},\n",
       " {'label1': 'DURATION', 'label2': 'GPE', 'n_disparities': 3},\n",
       " {'label1': 'DATETIMERANGE', 'label2': 'EVENT', 'n_disparities': 3},\n",
       " {'label1': 'PERCENT', 'label2': 'PERSON', 'n_disparities': 3},\n",
       " {'label1': 'PRODUCT', 'label2': 'TIME', 'n_disparities': 3},\n",
       " {'label1': 'PRODUCT', 'label2': 'TIMERANGE', 'n_disparities': 3},\n",
       " {'label1': 'DURATION', 'label2': 'PERCENT', 'n_disparities': 3},\n",
       " {'label1': 'ADDRESS', 'label2': 'DURATION', 'n_disparities': 3},\n",
       " {'label1': 'AGE', 'label2': 'LOC', 'n_disparities': 2},\n",
       " {'label1': 'DATE', 'label2': 'LOC', 'n_disparities': 2},\n",
       " {'label1': 'DURATION', 'label2': 'LOC', 'n_disparities': 2},\n",
       " {'label1': 'PERCENT', 'label2': 'PERSONTYPE', 'n_disparities': 2},\n",
       " {'label1': 'EVENT', 'label2': 'SET', 'n_disparities': 2},\n",
       " {'label1': 'SET', 'label2': 'TIME', 'n_disparities': 2},\n",
       " {'label1': 'GPE', 'label2': 'MONEY', 'n_disparities': 2},\n",
       " {'label1': 'EVENT', 'label2': 'TIME', 'n_disparities': 2},\n",
       " {'label1': 'NUMBER', 'label2': 'TIMERANGE', 'n_disparities': 2},\n",
       " {'label1': 'ORG', 'label2': 'PERCENT', 'n_disparities': 2},\n",
       " {'label1': 'DATETIMERANGE', 'label2': 'ORG', 'n_disparities': 2},\n",
       " {'label1': 'ADDRESS', 'label2': 'PERCENT', 'n_disparities': 2},\n",
       " {'label1': 'DURATION', 'label2': 'NUM_RANGE', 'n_disparities': 2},\n",
       " {'label1': 'MONEY', 'label2': 'NUM_RANGE', 'n_disparities': 2},\n",
       " {'label1': 'AGE', 'label2': 'SET', 'n_disparities': 1},\n",
       " {'label1': 'LOC', 'label2': 'TIMERANGE', 'n_disparities': 1},\n",
       " {'label1': 'DATE', 'label2': 'PERSONTYPE', 'n_disparities': 1},\n",
       " {'label1': 'DURATION', 'label2': 'PERSONTYPE', 'n_disparities': 1},\n",
       " {'label1': 'MONEY', 'label2': 'PERSONTYPE', 'n_disparities': 1},\n",
       " {'label1': 'GPE', 'label2': 'SET', 'n_disparities': 1},\n",
       " {'label1': 'PERSON', 'label2': 'SET', 'n_disparities': 1},\n",
       " {'label1': 'PRODUCT', 'label2': 'SET', 'n_disparities': 1},\n",
       " {'label1': 'MONEY', 'label2': 'SET', 'n_disparities': 1},\n",
       " {'label1': 'GPE', 'label2': 'TIME', 'n_disparities': 1},\n",
       " {'label1': 'GPE', 'label2': 'TIMERANGE', 'n_disparities': 1},\n",
       " {'label1': 'GPE', 'label2': 'NUM_RANGE', 'n_disparities': 1},\n",
       " {'label1': 'EVENT', 'label2': 'NUMBER', 'n_disparities': 1},\n",
       " {'label1': 'ORG', 'label2': 'TIME', 'n_disparities': 1},\n",
       " {'label1': 'PERSON', 'label2': 'TIME', 'n_disparities': 1},\n",
       " {'label1': 'PERCENT', 'label2': 'PRODUCT', 'n_disparities': 1},\n",
       " {'label1': 'NUM_RANGE', 'label2': 'PRODUCT', 'n_disparities': 1},\n",
       " {'label1': 'DATE', 'label2': 'PERCENT', 'n_disparities': 1},\n",
       " {'label1': 'DATE', 'label2': 'NUM_RANGE', 'n_disparities': 1},\n",
       " {'label1': 'PERCENT', 'label2': 'TIME', 'n_disparities': 1},\n",
       " {'label1': 'PERCENT', 'label2': 'TIMERANGE', 'n_disparities': 1},\n",
       " {'label1': 'NUM_RANGE', 'label2': 'PERCENT', 'n_disparities': 1},\n",
       " {'label1': 'MONEY', 'label2': 'TIMERANGE', 'n_disparities': 1},\n",
       " {'label1': 'NUM_RANGE', 'label2': 'TIME', 'n_disparities': 1}]"
      ]
     },
     "execution_count": 69,
     "metadata": {},
     "output_type": "execute_result"
    }
   ],
   "source": [
    "top_label_disparities(ds.all)"
   ]
  },
  {
   "cell_type": "code",
   "execution_count": 70,
   "metadata": {},
   "outputs": [
    {
     "data": {
      "text/plain": [
       "{'1150',\n",
       " '1402',\n",
       " '1582',\n",
       " '1815',\n",
       " '1825',\n",
       " '1861',\n",
       " '1863',\n",
       " '1882',\n",
       " '1899',\n",
       " '1903',\n",
       " '1904',\n",
       " '1925',\n",
       " '1929',\n",
       " '1949',\n",
       " '1955',\n",
       " '1960',\n",
       " '1966',\n",
       " '1972',\n",
       " '1987',\n",
       " '1991',\n",
       " '1992',\n",
       " '1993',\n",
       " '1996',\n",
       " '2006',\n",
       " '41',\n",
       " 'achaemenid empire',\n",
       " 'and',\n",
       " 'april',\n",
       " 'august',\n",
       " 'australia',\n",
       " 'byzantine',\n",
       " 'edo',\n",
       " 'europe',\n",
       " 'guilford',\n",
       " 'holiday',\n",
       " 'indus valley civilisation',\n",
       " 'mexico',\n",
       " 'nara',\n",
       " 'new york',\n",
       " 'ottoman empire',\n",
       " 'puranas',\n",
       " 'roman empire',\n",
       " 'shanghai',\n",
       " 'song',\n",
       " 'sydney',\n",
       " 'twentieth century',\n",
       " 'united states',\n",
       " 'weeks'}"
      ]
     },
     "execution_count": 70,
     "metadata": {},
     "output_type": "execute_result"
    }
   ],
   "source": [
    "get_label_disparities(ds.all, 'DATERANGE', 'GPE')"
   ]
  },
  {
   "cell_type": "code",
   "execution_count": 8,
   "metadata": {},
   "outputs": [],
   "source": [
    "def rename_labels(data: List[Example], label_map: Dict[str, str]):\n",
    "    data_copy = copy.deepcopy(data)\n",
    "    for example in data_copy:\n",
    "        for span in example.spans:\n",
    "            span.label = label_map.get(span.label, span.label)\n",
    "    return data_copy\n",
    "            \n",
    "label_map = {\n",
    "    'PERSONNAME': 'PERSON',\n",
    "    'ORGANIZATION': 'ORG',\n",
    "    'LOCATION': 'LOC',\n",
    "    'PERCENTAGE': 'PERCENT',\n",
    "    'CURRENCY': 'MONEY'\n",
    "}\n",
    "ds.apply_(map_labels, label_map)"
   ]
  },
  {
   "cell_type": "code",
   "execution_count": 9,
   "metadata": {},
   "outputs": [],
   "source": [
    "nlp = en_ta_lg.load()\n",
    "recognizer = SpacyEntityRecognizer(nlp)"
   ]
  },
  {
   "cell_type": "code",
   "execution_count": 71,
   "metadata": {},
   "outputs": [],
   "source": [
    "top_errors = top_prediction_errors(recognizer, ds.test, n=1000, labels=[\"DATERANGE\"], verbose=True)"
   ]
  },
  {
   "cell_type": "code",
   "execution_count": 72,
   "metadata": {},
   "outputs": [
    {
     "data": {
      "text/plain": [
       "1027"
      ]
     },
     "execution_count": 72,
     "metadata": {},
     "output_type": "execute_result"
    }
   ],
   "source": [
    "len(top_errors)"
   ]
  },
  {
   "cell_type": "code",
   "execution_count": 73,
   "metadata": {},
   "outputs": [
    {
     "data": {
      "text/plain": [
       "PredictionError(text='one', true_label='NUMBER', pred_label='__NONE__', count=21, examples=[Example(text='He\\'s gotten letters from people commenting on the site, such as one from a local college professor who was teaching in Moscow, who wrote that \"it was nice and reassuring to be able to pull up the Channel 8 logo, like a bridge back home.\"', spans=[TextSpanLabel(text='one', start=64, end=67, label='NUMBER'), TextSpanLabel(text='college professor', start=81, end=98, label='PERSONTYPE'), TextSpanLabel(text='Moscow', start=119, end=125, label='GPE'), TextSpanLabel(text='Channel 8', start=196, end=205, label='ORG'), TextSpanLabel(text='bridge', start=219, end=225, label='LOC')], meta={'source': 'Cognitive Services Training Set'}), Example(text='Berry writes and designs the newsletter herself, and each issue \"is usually built around one article of current interest to working mothers,\" she said.', spans=[TextSpanLabel(text='Berry', start=0, end=5, label='PERSON'), TextSpanLabel(text='one', start=89, end=92, label='NUMBER'), TextSpanLabel(text='mother', start=132, end=138, label='PERSONTYPE')], meta={'source': 'Cognitive Services Training Set'}), Example(text=\"In one sense the cumulative setting was Ives's most important compositional approach, as Burkholder finds it was the one he used most in his concert music between 1907 and 1920.\", spans=[TextSpanLabel(text='one', start=3, end=6, label='NUMBER'), TextSpanLabel(text='Ives', start=40, end=44, label='PERSON'), TextSpanLabel(text='Burkholder', start=89, end=99, label='PERSON'), TextSpanLabel(text='one', start=117, end=120, label='NUMBER'), TextSpanLabel(text='1907 and 1920', start=163, end=176, label='DATERANGE')], meta={'source': 'Cognitive Services Training Set'}), Example(text=\"In one sense the cumulative setting was Ives's most important compositional approach, as Burkholder finds it was the one he used most in his concert music between 1907 and 1920.\", spans=[TextSpanLabel(text='one', start=3, end=6, label='NUMBER'), TextSpanLabel(text='Ives', start=40, end=44, label='PERSON'), TextSpanLabel(text='Burkholder', start=89, end=99, label='PERSON'), TextSpanLabel(text='one', start=117, end=120, label='NUMBER'), TextSpanLabel(text='1907 and 1920', start=163, end=176, label='DATERANGE')], meta={'source': 'Cognitive Services Training Set'}), Example(text='Quality and customer satisfaction is also a number one concern, said Mr. Rauch.', spans=[TextSpanLabel(text='one', start=51, end=54, label='NUMBER'), TextSpanLabel(text='Rauch', start=73, end=78, label='PERSON')], meta={'source': 'Cognitive Services Training Set'}), Example(text='This team will be fully integrated from a functional standpoint with the staff existing at GDM SpA Italy, in order to create a powerful single organization of nearly 300 people, while each one of the two teams remains at its own present location.', spans=[TextSpanLabel(text='GDM SpA Italy', start=91, end=104, label='ORG'), TextSpanLabel(text='300', start=166, end=169, label='NUMBER'), TextSpanLabel(text='one', start=189, end=192, label='NUMBER'), TextSpanLabel(text='two', start=200, end=203, label='NUMBER')], meta={'source': 'Cognitive Services Training Set'}), Example(text='Hygiene is one of three primary markets Unifi plans to target.', spans=[TextSpanLabel(text='one', start=11, end=14, label='NUMBER'), TextSpanLabel(text='three', start=18, end=23, label='NUMBER'), TextSpanLabel(text='Unifi', start=40, end=45, label='ORG')], meta={'source': 'Cognitive Services Training Set'}), Example(text='With regard to the two Magnificats, Wielakker states that \"it was not uncommon for two Magnificats to be set in a Vespers collection, one a sober setting, the other richer. One or the other could be chosen, probably based on the effect sought in a First or Second Vespers and on the musicians available\" (p. x).', spans=[TextSpanLabel(text='two', start=19, end=22, label='NUMBER'), TextSpanLabel(text='Wielakker', start=36, end=45, label='PERSON'), TextSpanLabel(text='two', start=83, end=86, label='NUMBER'), TextSpanLabel(text='one', start=134, end=137, label='NUMBER'), TextSpanLabel(text='One', start=173, end=176, label='NUMBER'), TextSpanLabel(text='musician', start=283, end=291, label='PERSONTYPE')], meta={'source': 'Cognitive Services Training Set'}), Example(text=\"The highlight of the IDEA 01 Achievement Awards ceremony was the presentation of a Lifetime Achievement Award to Wayne Hays, one of the founders of INDA, the association's first chairman and a guiding force behind the formation of the first IDEA show 30 years ago.\", spans=[TextSpanLabel(text='IDEA 01 Achievement Awards ceremony', start=21, end=56, label='EVENT'), TextSpanLabel(text='Wayne Hays', start=113, end=123, label='PERSON'), TextSpanLabel(text='one', start=125, end=128, label='NUMBER'), TextSpanLabel(text='founder', start=136, end=143, label='PERSONTYPE'), TextSpanLabel(text='INDA', start=148, end=152, label='ORG'), TextSpanLabel(text='chairman', start=178, end=186, label='PERSONTYPE'), TextSpanLabel(text='IDEA show', start=241, end=250, label='EVENT')], meta={'source': 'Cognitive Services Training Set'}), Example(text='Wolff puts it yet more emphatically, suggesting that the facsimile of K. 370b \"allows a glimpse at one of the most ambitious, albeit abortive compositional projects undertaken by Mozart at the beginning of his residential period in Vienna\" (p. 5).', spans=[TextSpanLabel(text='Wolff', start=0, end=5, label='PERSON'), TextSpanLabel(text='370b', start=73, end=77, label='NUMBER'), TextSpanLabel(text='one', start=99, end=102, label='NUMBER'), TextSpanLabel(text='Mozart', start=179, end=185, label='PERSON'), TextSpanLabel(text='Vienna', start=232, end=238, label='GPE'), TextSpanLabel(text='5', start=244, end=245, label='NUMBER')], meta={'source': 'Cognitive Services Training Set'}), Example(text='The joint venture will enable Ahlstrom to develop a new platform to supply Latin America, one of the fastest growing markets for pressure sensitive products.', spans=[TextSpanLabel(text='Ahlstrom', start=30, end=38, label='ORG'), TextSpanLabel(text='Latin America', start=75, end=88, label='GPE'), TextSpanLabel(text='one', start=90, end=93, label='NUMBER')], meta={'source': 'Cognitive Services Training Set'}), Example(text='Associated Hygiene, Duluth, GA, was promoting its youth pant, which the company says is the only one of its kind.', spans=[TextSpanLabel(text='Associated Hygiene', start=0, end=18, label='ORG'), TextSpanLabel(text='Duluth, GA', start=20, end=30, label='GPE'), TextSpanLabel(text='one', start=97, end=100, label='NUMBER')], meta={'source': 'Cognitive Services Training Set'}), Example(text='Exxon also has two R&D agreements, one with Hoechst AG, Frankfurt, Germany, for the development of the metallocene catalyst for isotactic polypropylene polymers and one with Mitsui Petrochemical, Tokyo, Japan, for process/product development of metallocene-based ethylene polymers.', spans=[TextSpanLabel(text='Exxon', start=0, end=5, label='ORG'), TextSpanLabel(text='two', start=15, end=18, label='NUMBER'), TextSpanLabel(text='one', start=35, end=38, label='NUMBER'), TextSpanLabel(text='Hoechst AG', start=44, end=54, label='ORG'), TextSpanLabel(text='Frankfurt', start=56, end=65, label='GPE'), TextSpanLabel(text='Germany', start=67, end=74, label='GPE'), TextSpanLabel(text='metallocene catalyst', start=103, end=123, label='PRODUCT'), TextSpanLabel(text='isotactic polypropylene polymers', start=128, end=160, label='PRODUCT'), TextSpanLabel(text='one', start=165, end=168, label='NUMBER'), TextSpanLabel(text='Mitsui Petrochemical', start=174, end=194, label='ORG'), TextSpanLabel(text='Tokyo', start=196, end=201, label='GPE'), TextSpanLabel(text='Japan', start=203, end=208, label='GPE'), TextSpanLabel(text='metallocene-based ethylene polymers', start=245, end=280, label='PRODUCT')], meta={'source': 'Cognitive Services Training Set'}), Example(text='Exxon also has two R&D agreements, one with Hoechst AG, Frankfurt, Germany, for the development of the metallocene catalyst for isotactic polypropylene polymers and one with Mitsui Petrochemical, Tokyo, Japan, for process/product development of metallocene-based ethylene polymers.', spans=[TextSpanLabel(text='Exxon', start=0, end=5, label='ORG'), TextSpanLabel(text='two', start=15, end=18, label='NUMBER'), TextSpanLabel(text='one', start=35, end=38, label='NUMBER'), TextSpanLabel(text='Hoechst AG', start=44, end=54, label='ORG'), TextSpanLabel(text='Frankfurt', start=56, end=65, label='GPE'), TextSpanLabel(text='Germany', start=67, end=74, label='GPE'), TextSpanLabel(text='metallocene catalyst', start=103, end=123, label='PRODUCT'), TextSpanLabel(text='isotactic polypropylene polymers', start=128, end=160, label='PRODUCT'), TextSpanLabel(text='one', start=165, end=168, label='NUMBER'), TextSpanLabel(text='Mitsui Petrochemical', start=174, end=194, label='ORG'), TextSpanLabel(text='Tokyo', start=196, end=201, label='GPE'), TextSpanLabel(text='Japan', start=203, end=208, label='GPE'), TextSpanLabel(text='metallocene-based ethylene polymers', start=245, end=280, label='PRODUCT')], meta={'source': 'Cognitive Services Training Set'}), Example(text='Uribe is expected to win a bid for a constitutional amendment that would allow him to run for a second term in 2006. But one big stumbling block to economic progress looms.', spans=[TextSpanLabel(text='Uribe', start=0, end=5, label='PERSON'), TextSpanLabel(text='2006', start=111, end=115, label='DATERANGE'), TextSpanLabel(text='one', start=121, end=124, label='NUMBER')], meta={'source': 'Cognitive Services Training Set'}), Example(text=\"Some universities aren't waiting for the new regulations. At Munich Technical University, one of the country's leading schools, president Wolfgang Herrmann is actively reorganizing his institution along American lines.\", spans=[TextSpanLabel(text='Munich Technical University', start=61, end=88, label='ORG'), TextSpanLabel(text='one', start=90, end=93, label='NUMBER'), TextSpanLabel(text='school', start=119, end=125, label='LOC'), TextSpanLabel(text='president', start=128, end=137, label='PERSONTYPE'), TextSpanLabel(text='Wolfgang Herrmann', start=138, end=155, label='PERSON')], meta={'source': 'Cognitive Services Training Set'}), Example(text='There are also three statewide resolutions--one in Hawaii, one in Vermont, one in Alaska, a primarily Republican state.', spans=[TextSpanLabel(text='three', start=15, end=20, label='NUMBER'), TextSpanLabel(text='one', start=44, end=47, label='NUMBER'), TextSpanLabel(text='Hawaii', start=51, end=57, label='GPE'), TextSpanLabel(text='one', start=59, end=62, label='NUMBER'), TextSpanLabel(text='Vermont', start=66, end=73, label='GPE'), TextSpanLabel(text='one', start=75, end=78, label='NUMBER'), TextSpanLabel(text='Alaska', start=82, end=88, label='GPE'), TextSpanLabel(text='Republican', start=102, end=112, label='ORG')], meta={'source': 'Cognitive Services Training Set'}), Example(text='There are also three statewide resolutions--one in Hawaii, one in Vermont, one in Alaska, a primarily Republican state.', spans=[TextSpanLabel(text='three', start=15, end=20, label='NUMBER'), TextSpanLabel(text='one', start=44, end=47, label='NUMBER'), TextSpanLabel(text='Hawaii', start=51, end=57, label='GPE'), TextSpanLabel(text='one', start=59, end=62, label='NUMBER'), TextSpanLabel(text='Vermont', start=66, end=73, label='GPE'), TextSpanLabel(text='one', start=75, end=78, label='NUMBER'), TextSpanLabel(text='Alaska', start=82, end=88, label='GPE'), TextSpanLabel(text='Republican', start=102, end=112, label='ORG')], meta={'source': 'Cognitive Services Training Set'}), Example(text='There are also three statewide resolutions--one in Hawaii, one in Vermont, one in Alaska, a primarily Republican state.', spans=[TextSpanLabel(text='three', start=15, end=20, label='NUMBER'), TextSpanLabel(text='one', start=44, end=47, label='NUMBER'), TextSpanLabel(text='Hawaii', start=51, end=57, label='GPE'), TextSpanLabel(text='one', start=59, end=62, label='NUMBER'), TextSpanLabel(text='Vermont', start=66, end=73, label='GPE'), TextSpanLabel(text='one', start=75, end=78, label='NUMBER'), TextSpanLabel(text='Alaska', start=82, end=88, label='GPE'), TextSpanLabel(text='Republican', start=102, end=112, label='ORG')], meta={'source': 'Cognitive Services Training Set'}), Example(text='It ended in one day, with IKEA executives chatting amiably with members of Robin Wood and later pledging to sell teak only if it is certified by environmentalists as new growth.', spans=[TextSpanLabel(text='one', start=12, end=15, label='NUMBER'), TextSpanLabel(text='IKEA', start=26, end=30, label='ORG'), TextSpanLabel(text='executive', start=31, end=40, label='PERSONTYPE'), TextSpanLabel(text='member', start=64, end=70, label='PERSONTYPE'), TextSpanLabel(text='Robin Wood', start=75, end=85, label='ORG'), TextSpanLabel(text='environmentalist', start=145, end=161, label='PERSONTYPE')], meta={'source': 'Cognitive Services Training Set'}), Example(text=\"Less remarked upon, but even direr, is the collapse of Labour's pull in bellwether London, where one recent poll puts the opposition ahead by nine points. It's no coincidence that M.P.s in vulnerable constituencies are turning against Blair.\", spans=[TextSpanLabel(text='Labour', start=55, end=61, label='ORG'), TextSpanLabel(text='London', start=83, end=89, label='GPE'), TextSpanLabel(text='one', start=97, end=100, label='NUMBER'), TextSpanLabel(text='nine', start=142, end=146, label='NUMBER'), TextSpanLabel(text='M.P', start=180, end=183, label='PERSONTYPE'), TextSpanLabel(text='Blair', start=235, end=240, label='PERSON')], meta={'source': 'Cognitive Services Training Set'})])"
      ]
     },
     "execution_count": 73,
     "metadata": {},
     "output_type": "execute_result"
    }
   ],
   "source": [
    "top_errors[0]"
   ]
  },
  {
   "cell_type": "code",
   "execution_count": 64,
   "metadata": {},
   "outputs": [
    {
     "data": {
      "text/plain": [
       "(805, 222)"
      ]
     },
     "execution_count": 64,
     "metadata": {},
     "output_type": "execute_result"
    }
   ],
   "source": [
    "fn = [e for e in top_errors if e.pred_label == NONE]\n",
    "fp = [e for e in top_errors if e.pred_label != NONE]\n",
    "len(fn), len(fp)"
   ]
  },
  {
   "cell_type": "code",
   "execution_count": 62,
   "metadata": {},
   "outputs": [
    {
     "name": "stdout",
     "output_type": "stream",
     "text": [
      "EXAMPLE:  Even while K-C was offering Huggies for Him and Huggies for Her, it had a Huggies white thick product on the market that it promoted for nighttime use.\n",
      "====================================================================================================\n",
      "\n",
      "EXAMPLE:  Even while K-C was offering Huggies for Him and Huggies for Her, it had a Huggies white thick product on the market that it promoted for nighttime use.\n",
      "====================================================================================================\n",
      "\n",
      "EXAMPLE:  P&G submitted laboratory and consumer tests and K-C provided its in-house research plus the results of external tests while the ASA commissioned independent expert advice.\n",
      "====================================================================================================\n",
      "\n",
      "EXAMPLE:  With the earlier acquisition of Zisoft Bobi a.s., a Czech Republic diaper manufacturer with manufacturing in Jaromer, Czech Republic, K-C also markets \"Bobi\" economy diapers in that country and in Slovakia and Huggies economy diapers in Russia, Romania, Croatia, Slovenia and the Baltic States.\n",
      "====================================================================================================\n",
      "\n",
      "EXAMPLE:  K-C's nonwovens business unit--formerly known as theNonwoven Fabrics business--changed its name last year to Kimberly Clark Partnership Products. The new name is a reflection of the company's capabilities outside of the roll goods arena.\n",
      "====================================================================================================\n",
      "\n",
      "EXAMPLE:  In other related hygiene news, K-C has introduced a new feature for its line of \"Pull-Ups\" training pants.\n",
      "====================================================================================================\n",
      "\n",
      "EXAMPLE:  In other related hygiene news, K-C has introduced a new feature for its line of \"Pull-Ups\" training pants.\n",
      "====================================================================================================\n",
      "\n",
      "EXAMPLE:  All of the companies are concerned about K-C's aggressive movement in the European market (as well as elsewhere in the world) and it is clear that P&G and K-C will be facing each other in the struggle of the Titans.\n",
      "====================================================================================================\n",
      "\n",
      "EXAMPLE:  All of the companies are concerned about K-C's aggressive movement in the European market (as well as elsewhere in the world) and it is clear that P&G and K-C will be facing each other in the struggle of the Titans.\n",
      "====================================================================================================\n",
      "\n",
      "EXAMPLE:  All of the companies are concerned about K-C's aggressive movement in the European market (as well as elsewhere in the world) and it is clear that P&G and K-C will be facing each other in the struggle of the Titans.\n",
      "====================================================================================================\n",
      "\n",
      "EXAMPLE:  Using industry-leading Gen2 hardware and software, K-C encoded the RFID tags, placed them on the cases, captured and transferred product data into its supply chain system, and forwarded the data to Wal-Mart, letting them know their product order had been shipped.\n",
      "====================================================================================================\n",
      "\n"
     ]
    }
   ],
   "source": [
    "for e in fp[2].examples:\n",
    "    print(\"EXAMPLE: \", e.text)\n",
    "    for span in e.spans:\n",
    "        if span.text == fp[2].text and span.label == fp[2].pred_label:\n",
    "            print(span)\n",
    "        \n",
    "    print('=' * 100)\n",
    "    print()"
   ]
  },
  {
   "cell_type": "code",
   "execution_count": null,
   "metadata": {},
   "outputs": [],
   "source": []
  }
 ],
 "metadata": {
  "kernelspec": {
   "display_name": "Python 3",
   "language": "python",
   "name": "python3"
  },
  "language_info": {
   "codemirror_mode": {
    "name": "ipython",
    "version": 3
   },
   "file_extension": ".py",
   "mimetype": "text/x-python",
   "name": "python",
   "nbconvert_exporter": "python",
   "pygments_lexer": "ipython3",
   "version": "3.6.8"
  }
 },
 "nbformat": 4,
 "nbformat_minor": 4
}
