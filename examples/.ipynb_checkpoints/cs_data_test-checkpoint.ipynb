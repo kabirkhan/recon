{
 "cells": [
  {
   "cell_type": "code",
   "execution_count": null,
   "metadata": {},
   "outputs": [],
   "source": [
    "!pip install ../../CognitiveServices/API-TextAnalytics-NER.CloudServices/models/supplemental/en_ta_lg-2.2.5.tar.gz"
   ]
  },
  {
   "cell_type": "code",
   "execution_count": null,
   "metadata": {},
   "outputs": [],
   "source": [
    "!pip install scikit-learn seaborn "
   ]
  },
  {
   "cell_type": "code",
   "execution_count": 2,
   "metadata": {},
   "outputs": [],
   "source": [
    "%reload_ext autoreload\n",
    "%autoreload 2"
   ]
  },
  {
   "cell_type": "markdown",
   "metadata": {},
   "source": [
    "# Analyzing Cognitive Services Data using ReconNER\n",
    "This is an example notebook for utilizing ReconNER (https://microsoft.github.io/reconner/) on the Cognitive Services Data. \n",
    "It's added to the .gitignore so no data is pushed publicly. Microsoft Confidential and not to be shared."
   ]
  },
  {
   "cell_type": "code",
   "execution_count": 2,
   "metadata": {},
   "outputs": [],
   "source": [
    "import en_ta_lg\n",
    "import copy\n",
    "from collections import defaultdict\n",
    "from typing import Dict, List, Set, Union\n",
    "import numpy as np\n",
    "from scipy.spatial.distance import jaccard, jensenshannon\n",
    "import spacy\n",
    "import srsly\n",
    "from wasabi import Printer\n",
    "from scipy.stats import entropy\n",
    "from recon.corpus import Corpus\n",
    "from recon.constants import NONE\n",
    "from recon.corrections import fix_annotations, rename_labels\n",
    "from recon.loaders import read_jsonl\n",
    "from recon.types import Example, PredictionError, HardestExample, NERStats, EntityCoverageStats, EntityCoverage\n",
    "from recon.stats import (\n",
    "    get_ner_stats, get_entity_coverage, get_sorted_type_counts, counts_to_probs, entropy,\n",
    "    calculate_entity_coverage_entropy, calculate_label_balance_entropy,\n",
    "    detect_outliers\n",
    ")\n",
    "from recon.insights import get_ents_by_label, get_label_disparities, top_prediction_errors, top_label_disparities, get_hardest_examples\n",
    "from recon.recognizer import SpacyEntityRecognizer\n",
    "from pprint import pprint\n",
    "import pandas as pd\n",
    "import matplotlib.pyplot as plt\n",
    "import seaborn as sns"
   ]
  },
  {
   "cell_type": "markdown",
   "metadata": {},
   "source": [
    "## Load Dataset"
   ]
  },
  {
   "cell_type": "code",
   "execution_count": 59,
   "metadata": {},
   "outputs": [],
   "source": [
    "test = srsly.read_jsonl('../../CognitiveServices/API-TextAnalytics-NER.CloudServices/data/2020-02-24/test.jsonl')\n",
    "fixed_test = []\n",
    "\n",
    "for e in test:\n",
    "    e['text'] = e['text'].replace('NO_ENTITY', \"\")\n",
    "    \n",
    "    fixed_test.append(e)\n",
    "    \n",
    "srsly.write_jsonl('../../CognitiveServices/API-TextAnalytics-NER.CloudServices/data/2020-03-17/cs/test.jsonl', fixed_test)"
   ]
  },
  {
   "cell_type": "code",
   "execution_count": 3,
   "metadata": {},
   "outputs": [
    {
     "name": "stdout",
     "output_type": "stream",
     "text": [
      "Running pipeline:\n",
      "<function fix_annotations_format at 0x7ffa10991400> >>\n",
      "\t<function filter_overlaps at 0x7ffa10991510> >>\n",
      "\t<function json_to_examples at 0x7ffa10991378>\n",
      "Running <function fix_annotations_format at 0x7ffa10991400>...\n",
      "Running <function filter_overlaps at 0x7ffa10991510>...\n",
      "Running <function json_to_examples at 0x7ffa10991378>...\n",
      "Running pipeline:\n",
      "<function fix_annotations_format at 0x7ffa10991400> >>\n",
      "\t<function filter_overlaps at 0x7ffa10991510> >>\n",
      "\t<function json_to_examples at 0x7ffa10991378>\n",
      "Running <function fix_annotations_format at 0x7ffa10991400>...\n",
      "Running <function filter_overlaps at 0x7ffa10991510>...\n",
      "Running <function json_to_examples at 0x7ffa10991378>...\n",
      "Running pipeline:\n",
      "<function fix_annotations_format at 0x7ffa10991400> >>\n",
      "\t<function filter_overlaps at 0x7ffa10991510> >>\n",
      "\t<function json_to_examples at 0x7ffa10991378>\n",
      "Running <function fix_annotations_format at 0x7ffa10991400>...\n",
      "Running <function filter_overlaps at 0x7ffa10991510>...\n",
      "Running <function json_to_examples at 0x7ffa10991378>...\n"
     ]
    }
   ],
   "source": [
    "old_corpus = Corpus.from_disk('../../CognitiveServices/API-TextAnalytics-NER.CloudServices/data/2020-03-20/cs')"
   ]
  },
  {
   "cell_type": "markdown",
   "metadata": {},
   "source": [
    "## Get Statistics and Correct Labels"
   ]
  },
  {
   "cell_type": "code",
   "execution_count": 34,
   "metadata": {},
   "outputs": [
    {
     "name": "stdout",
     "output_type": "stream",
     "text": [
      "train\n",
      "====================================================================================================\n",
      "{\n",
      "    \"n_examples\":130000,\n",
      "    \"n_examples_no_entities\":7,\n",
      "    \"n_annotations\":489761,\n",
      "    \"n_annotations_per_type\":{\n",
      "        \"PERSON\":92292,\n",
      "        \"GPE\":82911,\n",
      "        \"PERSONTYPE\":68875,\n",
      "        \"ORG\":56133,\n",
      "        \"LOC\":52175,\n",
      "        \"DATERANGE\":41772,\n",
      "        \"EVENT\":19987,\n",
      "        \"NUMBER\":18270,\n",
      "        \"PRODUCT\":17975,\n",
      "        \"DATE\":13127,\n",
      "        \"DURATION\":8534,\n",
      "        \"MONEY\":4329,\n",
      "        \"PERCENT\":3674,\n",
      "        \"AGE\":2964,\n",
      "        \"ADDRESS\":2910,\n",
      "        \"SET\":1489,\n",
      "        \"TIME\":734,\n",
      "        \"TIMERANGE\":650,\n",
      "        \"DATETIMERANGE\":644,\n",
      "        \"NUM_RANGE\":316\n",
      "    },\n",
      "    \"examples_with_type\":null\n",
      "}\n",
      "dev\n",
      "====================================================================================================\n",
      "{\n",
      "    \"n_examples\":10000,\n",
      "    \"n_examples_no_entities\":0,\n",
      "    \"n_annotations\":37651,\n",
      "    \"n_annotations_per_type\":{\n",
      "        \"PERSON\":7033,\n",
      "        \"GPE\":6525,\n",
      "        \"PERSONTYPE\":5224,\n",
      "        \"ORG\":4307,\n",
      "        \"LOC\":4044,\n",
      "        \"DATERANGE\":3191,\n",
      "        \"EVENT\":1549,\n",
      "        \"NUMBER\":1390,\n",
      "        \"PRODUCT\":1332,\n",
      "        \"DATE\":1051,\n",
      "        \"DURATION\":617,\n",
      "        \"MONEY\":375,\n",
      "        \"PERCENT\":263,\n",
      "        \"AGE\":232,\n",
      "        \"ADDRESS\":203,\n",
      "        \"SET\":125,\n",
      "        \"TIMERANGE\":65,\n",
      "        \"TIME\":59,\n",
      "        \"DATETIMERANGE\":45,\n",
      "        \"NUM_RANGE\":21\n",
      "    },\n",
      "    \"examples_with_type\":null\n",
      "}\n",
      "test\n",
      "====================================================================================================\n",
      "{\n",
      "    \"n_examples\":10000,\n",
      "    \"n_examples_no_entities\":2083,\n",
      "    \"n_annotations\":23694,\n",
      "    \"n_annotations_per_type\":{\n",
      "        \"PERSONTYPE\":4492,\n",
      "        \"PRODUCT\":3404,\n",
      "        \"ORG\":3302,\n",
      "        \"GPE\":2358,\n",
      "        \"PERSON\":2188,\n",
      "        \"LOC\":1897,\n",
      "        \"EVENT\":1491,\n",
      "        \"NUMBER\":1474,\n",
      "        \"DATERANGE\":1172,\n",
      "        \"DURATION\":581,\n",
      "        \"PERCENT\":384,\n",
      "        \"MONEY\":302,\n",
      "        \"DATE\":284,\n",
      "        \"SET\":143,\n",
      "        \"AGE\":83,\n",
      "        \"TIMERANGE\":52,\n",
      "        \"NUM_RANGE\":40,\n",
      "        \"ADDRESS\":23,\n",
      "        \"TIME\":13,\n",
      "        \"DATETIMERANGE\":11\n",
      "    },\n",
      "    \"examples_with_type\":null\n",
      "}\n",
      "all\n",
      "====================================================================================================\n",
      "{\n",
      "    \"n_examples\":150000,\n",
      "    \"n_examples_no_entities\":2090,\n",
      "    \"n_annotations\":551106,\n",
      "    \"n_annotations_per_type\":{\n",
      "        \"PERSON\":101513,\n",
      "        \"GPE\":91794,\n",
      "        \"PERSONTYPE\":78591,\n",
      "        \"ORG\":63742,\n",
      "        \"LOC\":58116,\n",
      "        \"DATERANGE\":46135,\n",
      "        \"EVENT\":23027,\n",
      "        \"PRODUCT\":22711,\n",
      "        \"NUMBER\":21134,\n",
      "        \"DATE\":14462,\n",
      "        \"DURATION\":9732,\n",
      "        \"MONEY\":5006,\n",
      "        \"PERCENT\":4321,\n",
      "        \"AGE\":3279,\n",
      "        \"ADDRESS\":3136,\n",
      "        \"SET\":1757,\n",
      "        \"TIME\":806,\n",
      "        \"TIMERANGE\":767,\n",
      "        \"DATETIMERANGE\":700,\n",
      "        \"NUM_RANGE\":377\n",
      "    },\n",
      "    \"examples_with_type\":null\n",
      "}\n"
     ]
    }
   ],
   "source": [
    "def print_stats(corpus, get_ner_stats):\n",
    "    for ds, stats in corpus.apply(get_ner_stats, serialize=True).items():\n",
    "        print(ds)\n",
    "        print('='* 100)\n",
    "        print(stats)\n",
    "        \n",
    "print_stats(corpus, get_ner_stats)"
   ]
  },
  {
   "cell_type": "code",
   "execution_count": null,
   "metadata": {},
   "outputs": [],
   "source": [
    "label_map = {\n",
    "    'PERSONNAME': 'PERSON',\n",
    "    'ORGANIZATION': 'ORG',\n",
    "    'LOCATION': 'LOC',\n",
    "    'PERCENTAGE': 'PERCENT',\n",
    "    'CURRENCY': 'MONEY'\n",
    "}\n",
    "# corpus.apply_(rename_labels, label_map)\n",
    "\n",
    "cs_test = rename_labels(cs_test, label_map)"
   ]
  },
  {
   "cell_type": "code",
   "execution_count": 69,
   "metadata": {},
   "outputs": [],
   "source": [
    "# _test[0]\n",
    "corpus._test = _test"
   ]
  },
  {
   "cell_type": "code",
   "execution_count": 70,
   "metadata": {},
   "outputs": [
    {
     "name": "stdout",
     "output_type": "stream",
     "text": [
      "train\n",
      "====================================================================================================\n",
      "{\n",
      "    \"n_examples\":130000,\n",
      "    \"n_examples_no_entities\":7,\n",
      "    \"n_annotations\":490558,\n",
      "    \"n_annotations_per_type\":{\n",
      "        \"PERSON\":92446,\n",
      "        \"GPE\":82970,\n",
      "        \"PERSONTYPE\":68950,\n",
      "        \"ORG\":56205,\n",
      "        \"LOC\":52207,\n",
      "        \"DATERANGE\":41853,\n",
      "        \"EVENT\":20008,\n",
      "        \"NUMBER\":18465,\n",
      "        \"PRODUCT\":17997,\n",
      "        \"DATE\":13169,\n",
      "        \"DURATION\":8537,\n",
      "        \"MONEY\":4336,\n",
      "        \"PERCENT\":3688,\n",
      "        \"AGE\":2975,\n",
      "        \"ADDRESS\":2914,\n",
      "        \"SET\":1493,\n",
      "        \"TIME\":734,\n",
      "        \"TIMERANGE\":650,\n",
      "        \"DATETIMERANGE\":644,\n",
      "        \"NUM_RANGE\":317\n",
      "    },\n",
      "    \"examples_with_type\":null\n",
      "}\n",
      "dev\n",
      "====================================================================================================\n",
      "{\n",
      "    \"n_examples\":10000,\n",
      "    \"n_examples_no_entities\":0,\n",
      "    \"n_annotations\":37719,\n",
      "    \"n_annotations_per_type\":{\n",
      "        \"PERSON\":7044,\n",
      "        \"GPE\":6531,\n",
      "        \"PERSONTYPE\":5230,\n",
      "        \"ORG\":4316,\n",
      "        \"LOC\":4047,\n",
      "        \"DATERANGE\":3200,\n",
      "        \"EVENT\":1553,\n",
      "        \"NUMBER\":1401,\n",
      "        \"PRODUCT\":1333,\n",
      "        \"DATE\":1054,\n",
      "        \"DURATION\":618,\n",
      "        \"MONEY\":377,\n",
      "        \"PERCENT\":264,\n",
      "        \"AGE\":232,\n",
      "        \"ADDRESS\":203,\n",
      "        \"SET\":125,\n",
      "        \"TIMERANGE\":65,\n",
      "        \"TIME\":59,\n",
      "        \"DATETIMERANGE\":45,\n",
      "        \"NUM_RANGE\":22\n",
      "    },\n",
      "    \"examples_with_type\":null\n",
      "}\n",
      "test\n",
      "====================================================================================================\n",
      "{\n",
      "    \"n_examples\":10000,\n",
      "    \"n_examples_no_entities\":2083,\n",
      "    \"n_annotations\":23723,\n",
      "    \"n_annotations_per_type\":{\n",
      "        \"PERSONTYPE\":4495,\n",
      "        \"PRODUCT\":3409,\n",
      "        \"ORG\":3303,\n",
      "        \"GPE\":2359,\n",
      "        \"PERSON\":2189,\n",
      "        \"LOC\":1897,\n",
      "        \"EVENT\":1491,\n",
      "        \"NUMBER\":1489,\n",
      "        \"DATERANGE\":1172,\n",
      "        \"DURATION\":581,\n",
      "        \"PERCENT\":385,\n",
      "        \"MONEY\":304,\n",
      "        \"DATE\":284,\n",
      "        \"SET\":143,\n",
      "        \"AGE\":83,\n",
      "        \"TIMERANGE\":52,\n",
      "        \"NUM_RANGE\":40,\n",
      "        \"ADDRESS\":23,\n",
      "        \"TIME\":13,\n",
      "        \"DATETIMERANGE\":11\n",
      "    },\n",
      "    \"examples_with_type\":null\n",
      "}\n",
      "all\n",
      "====================================================================================================\n",
      "{\n",
      "    \"n_examples\":150000,\n",
      "    \"n_examples_no_entities\":2090,\n",
      "    \"n_annotations\":552000,\n",
      "    \"n_annotations_per_type\":{\n",
      "        \"PERSON\":101679,\n",
      "        \"GPE\":91860,\n",
      "        \"PERSONTYPE\":78675,\n",
      "        \"ORG\":63824,\n",
      "        \"LOC\":58151,\n",
      "        \"DATERANGE\":46225,\n",
      "        \"EVENT\":23052,\n",
      "        \"PRODUCT\":22739,\n",
      "        \"NUMBER\":21355,\n",
      "        \"DATE\":14507,\n",
      "        \"DURATION\":9736,\n",
      "        \"MONEY\":5017,\n",
      "        \"PERCENT\":4337,\n",
      "        \"AGE\":3290,\n",
      "        \"ADDRESS\":3140,\n",
      "        \"SET\":1761,\n",
      "        \"TIME\":806,\n",
      "        \"TIMERANGE\":767,\n",
      "        \"DATETIMERANGE\":700,\n",
      "        \"NUM_RANGE\":379\n",
      "    },\n",
      "    \"examples_with_type\":null\n",
      "}\n"
     ]
    }
   ],
   "source": [
    "print_stats(corpus, get_ner_stats)"
   ]
  },
  {
   "cell_type": "code",
   "execution_count": 71,
   "metadata": {},
   "outputs": [],
   "source": [
    "corpus.to_disk('../../CognitiveServices/API-TextAnalytics-NER.CloudServices/data/2020-03-20/cs/', force=True)"
   ]
  },
  {
   "cell_type": "code",
   "execution_count": 10,
   "metadata": {},
   "outputs": [
    {
     "data": {
      "text/plain": [
       "{'train': 2.3199096655777374,\n",
       " 'dev': 2.319480428945955,\n",
       " 'test': 2.371888858162277,\n",
       " 'all': 2.329815137737044}"
      ]
     },
     "execution_count": 10,
     "metadata": {},
     "output_type": "execute_result"
    }
   ],
   "source": [
    "get_dataset_label_balance = lambda examples: calculate_label_balance_entropy(get_ner_stats(examples))\n",
    "corpus.apply(get_dataset_label_balance)"
   ]
  },
  {
   "cell_type": "code",
   "execution_count": 11,
   "metadata": {},
   "outputs": [
    {
     "data": {
      "text/plain": [
       "{'PERSON': 92446,\n",
       " 'GPE': 82970,\n",
       " 'PERSONTYPE': 68950,\n",
       " 'ORG': 56205,\n",
       " 'LOC': 52207,\n",
       " 'DATERANGE': 41853,\n",
       " 'EVENT': 20008,\n",
       " 'NUMBER': 18465,\n",
       " 'PRODUCT': 17997,\n",
       " 'DATE': 13169,\n",
       " 'DURATION': 8537,\n",
       " 'MONEY': 4336,\n",
       " 'PERCENT': 3688,\n",
       " 'AGE': 2975,\n",
       " 'ADDRESS': 2914,\n",
       " 'SET': 1493,\n",
       " 'TIME': 734,\n",
       " 'TIMERANGE': 650,\n",
       " 'DATETIMERANGE': 644,\n",
       " 'NUM_RANGE': 317}"
      ]
     },
     "execution_count": 11,
     "metadata": {},
     "output_type": "execute_result"
    }
   ],
   "source": [
    "train_stats = get_ner_stats(corpus.train)\n",
    "dev_stats = get_ner_stats(corpus.dev)\n",
    "test_stats = get_ner_stats(corpus.test)\n",
    "\n",
    "train_stats.n_annotations_per_type"
   ]
  },
  {
   "cell_type": "markdown",
   "metadata": {},
   "source": [
    "## Get Entity Coverage Statistics\n",
    "F1 Scores can be misleading with NER. You might have high F1 but your entity coverage is low so your model only learned a small subset of information about the world but it learned that subset well."
   ]
  },
  {
   "cell_type": "code",
   "execution_count": 34,
   "metadata": {},
   "outputs": [
    {
     "data": {
      "text/plain": [
       "[EntityCoverageStats(text='one', label='NUMBER', count=196, examples=[]),\n",
       " EntityCoverageStats(text='two', label='NUMBER', count=178, examples=[]),\n",
       " EntityCoverageStats(text='customer', label='PERSONTYPE', count=109, examples=[])]"
      ]
     },
     "execution_count": 34,
     "metadata": {},
     "output_type": "execute_result"
    }
   ],
   "source": [
    "entity_coverage = corpus.apply(get_entity_coverage)\n",
    "entity_coverage['test'][:3]"
   ]
  },
  {
   "cell_type": "code",
   "execution_count": 130,
   "metadata": {},
   "outputs": [],
   "source": [
    "train_ec_counts = np.asarray([ecs.count for ecs in entity_coverage['train'] if ecs.count > 1])\n",
    "test_ec_counts = np.asarray([ecs.count for ecs in entity_coverage['test'] if ecs.count > 1])\n",
    "\n",
    "train_ec_counts = train_ec_counts / sum(train_ec_counts)\n",
    "test_ec_counts = test_ec_counts / sum(test_ec_counts)"
   ]
  },
  {
   "cell_type": "code",
   "execution_count": 123,
   "metadata": {},
   "outputs": [
    {
     "name": "stdout",
     "output_type": "stream",
     "text": [
      "2588\n",
      "-3 2.0 5.0 9\n"
     ]
    },
    {
     "data": {
      "text/plain": [
       "(0, 254)"
      ]
     },
     "execution_count": 123,
     "metadata": {},
     "output_type": "execute_result"
    }
   ],
   "source": [
    "test_ec_counts = [ecs.count for ecs in test_ec if ecs.count > 1]\n",
    "# test_ec_counts = [ecs.count for ecs in test_ec]\n",
    "print(len(test_ec_counts))\n",
    "\n",
    "outliers = detect_outliers(test_ec_counts)\n",
    "len(outliers.low), len(outliers.high)"
   ]
  },
  {
   "cell_type": "code",
   "execution_count": 12,
   "metadata": {},
   "outputs": [
    {
     "ename": "NameError",
     "evalue": "name 'test_ec' is not defined",
     "output_type": "error",
     "traceback": [
      "\u001b[0;31m---------------------------------------------------------------------------\u001b[0m",
      "\u001b[0;31mNameError\u001b[0m                                 Traceback (most recent call last)",
      "\u001b[0;32m<ipython-input-12-9837a81d4463>\u001b[0m in \u001b[0;36m<module>\u001b[0;34m\u001b[0m\n\u001b[0;32m----> 1\u001b[0;31m \u001b[0mcalculate_entity_coverage_entropy\u001b[0m\u001b[0;34m(\u001b[0m\u001b[0;34m[\u001b[0m\u001b[0mecs\u001b[0m \u001b[0;32mfor\u001b[0m \u001b[0mecs\u001b[0m \u001b[0;32min\u001b[0m \u001b[0mtest_ec\u001b[0m \u001b[0;32mif\u001b[0m \u001b[0mecs\u001b[0m\u001b[0;34m.\u001b[0m\u001b[0mcount\u001b[0m \u001b[0;34m>\u001b[0m \u001b[0;36m1\u001b[0m\u001b[0;34m]\u001b[0m\u001b[0;34m)\u001b[0m\u001b[0;34m\u001b[0m\u001b[0;34m\u001b[0m\u001b[0m\n\u001b[0m",
      "\u001b[0;31mNameError\u001b[0m: name 'test_ec' is not defined"
     ]
    }
   ],
   "source": [
    "calculate_entity_coverage_entropy([ecs for ecs in test_ec if ecs.count > 1])"
   ]
  },
  {
   "cell_type": "code",
   "execution_count": 117,
   "metadata": {},
   "outputs": [
    {
     "data": {
      "text/plain": [
       "array([EntityCoverageStats(text='brussels', label='GPE', count=10, examples=[]),\n",
       "       EntityCoverageStats(text='shareholder', label='PERSONTYPE', count=10, examples=[]),\n",
       "       EntityCoverageStats(text='museum', label='LOC', count=10, examples=[]),\n",
       "       EntityCoverageStats(text='dollar', label='MONEY', count=10, examples=[]),\n",
       "       EntityCoverageStats(text='daughter', label='PERSONTYPE', count=10, examples=[]),\n",
       "       EntityCoverageStats(text='months', label='DURATION', count=10, examples=[]),\n",
       "       EntityCoverageStats(text='server', label='PRODUCT', count=10, examples=[]),\n",
       "       EntityCoverageStats(text='beach', label='LOC', count=10, examples=[]),\n",
       "       EntityCoverageStats(text='board', label='PERSONTYPE', count=10, examples=[]),\n",
       "       EntityCoverageStats(text='fibers', label='PRODUCT', count=10, examples=[])],\n",
       "      dtype=object)"
      ]
     },
     "execution_count": 117,
     "metadata": {},
     "output_type": "execute_result"
    }
   ],
   "source": [
    "np.asarray(test_ec)[outliers.high][-10:]"
   ]
  },
  {
   "cell_type": "code",
   "execution_count": null,
   "metadata": {},
   "outputs": [],
   "source": [
    "train_ec_set = get_ec_set(entity_coverage['train'])"
   ]
  },
  {
   "cell_type": "code",
   "execution_count": 98,
   "metadata": {},
   "outputs": [
    {
     "data": {
      "image/png": "[encoded data removed]",
      "text/plain": [
       "<Figure size 720x720 with 1 Axes>"
      ]
     },
     "metadata": {
      "needs_background": "light"
     },
     "output_type": "display_data"
    }
   ],
   "source": [
    "pd.Series([ecs.count for ecs in test_ec if ecs.count > 1]).hist(bins=100, figsize=(10,10))\n",
    "plt.show()"
   ]
  },
  {
   "cell_type": "markdown",
   "metadata": {},
   "source": [
    "## Analyze the labels of your annotations.\n",
    "Find the label pairs that have the most overlap. If it's hard for your annotators to differentiate between labels it'll be **very** hard for your model."
   ]
  },
  {
   "cell_type": "code",
   "execution_count": 35,
   "metadata": {},
   "outputs": [],
   "source": [
    "label_disparities = top_label_disparities(corpus.all)\n",
    "deduped_label_disparities = top_label_disparities(corpus.all, dedupe=True)"
   ]
  },
  {
   "cell_type": "code",
   "execution_count": 36,
   "metadata": {},
   "outputs": [
    {
     "data": {
      "image/png": "[encoded data removed]",
      "text/plain": [
       "<Figure size 1080x864 with 2 Axes>"
      ]
     },
     "metadata": {
      "needs_background": "light"
     },
     "output_type": "display_data"
    }
   ],
   "source": [
    "def plot_label_disparities(label_disparities, figsize=(12, 10)):\n",
    "    unique_labels = set()\n",
    "\n",
    "    for ld in label_disparities:\n",
    "        unique_labels.add(ld.label1)\n",
    "        unique_labels.add(ld.label2)\n",
    "\n",
    "    unique_labels = sorted(unique_labels)\n",
    "    label_to_idx = {label: i for i, label in enumerate(unique_labels)}\n",
    "    size = len(unique_labels)\n",
    "    data = np.zeros((size, size))\n",
    "    annot = np.empty_like(data).astype(str)\n",
    "\n",
    "    for ld in label_disparities:\n",
    "        label1_idx = label_to_idx[ld.label1]\n",
    "        label2_idx = label_to_idx[ld.label2]\n",
    "        data[label1_idx, label2_idx] = ld.count\n",
    "        annot[label1_idx, label2_idx] = str(ld.count)\n",
    "    fig, ax = plt.subplots(figsize=figsize)\n",
    "    \n",
    "    df = pd.DataFrame(data, index=unique_labels, columns=unique_labels)\n",
    "    df.index.name = 'Label 1'\n",
    "    df.columns.name = 'Label 2'\n",
    "    sns.heatmap(df, ax=ax)\n",
    "    \n",
    "plot_label_disparities(label_disparities, figsize=(15, 12))"
   ]
  },
  {
   "cell_type": "code",
   "execution_count": 37,
   "metadata": {},
   "outputs": [
    {
     "data": {
      "text/plain": [
       "[LabelDisparity(label1='GPE', label2='LOC', count=2796, examples=[]),\n",
       " LabelDisparity(label1='PERSON', label2='GPE', count=1651, examples=[]),\n",
       " LabelDisparity(label1='ORG', label2='LOC', count=1212, examples=[])]"
      ]
     },
     "execution_count": 37,
     "metadata": {},
     "output_type": "execute_result"
    }
   ],
   "source": [
    "deduped_label_disparities[:3]"
   ]
  },
  {
   "cell_type": "markdown",
   "metadata": {},
   "source": [
    "## Fixing clearly wrong annotations with `corrections.fix_annotations`"
   ]
  },
  {
   "cell_type": "code",
   "execution_count": 42,
   "metadata": {},
   "outputs": [
    {
     "data": {
      "text/plain": [
       "['stignano',\n",
       " 'sinai',\n",
       " 'carthage',\n",
       " 'borough of milton keynes',\n",
       " 'kansas',\n",
       " 'colorado',\n",
       " 'fulton',\n",
       " 'brussels-capital region',\n",
       " 'allegheny',\n",
       " 'lyon']"
      ]
     },
     "execution_count": 42,
     "metadata": {},
     "output_type": "execute_result"
    }
   ],
   "source": [
    "list(get_label_disparities(corpus.all, 'GPE', 'LOC'))[:10]"
   ]
  },
  {
   "cell_type": "code",
   "execution_count": 104,
   "metadata": {},
   "outputs": [],
   "source": [
    "corrections = {\n",
    "    '.': None,\n",
    "    'australia': 'GPE',\n",
    "    'europe': 'GPE',\n",
    "    'mexico': 'GPE',\n",
    "    'new york': 'GPE',\n",
    "    'roman empire': 'GPE',\n",
    "    'shanghai': 'GPE',\n",
    "    'united states': 'GPE',\n",
    "}\n",
    "\n",
    "corpus.apply_(fix_annotations, corrections)"
   ]
  },
  {
   "cell_type": "code",
   "execution_count": 41,
   "metadata": {},
   "outputs": [
    {
     "data": {
      "text/plain": [
       "{'1150',\n",
       " '1402',\n",
       " '1582',\n",
       " '1815',\n",
       " '1825',\n",
       " '1861',\n",
       " '1863',\n",
       " '1882',\n",
       " '1899',\n",
       " '1903',\n",
       " '1904',\n",
       " '1925',\n",
       " '1929',\n",
       " '1949',\n",
       " '1955',\n",
       " '1960',\n",
       " '1966',\n",
       " '1972',\n",
       " '1987',\n",
       " '1991',\n",
       " '1992',\n",
       " '1993',\n",
       " '1996',\n",
       " '2006',\n",
       " '41',\n",
       " 'achaemenid empire',\n",
       " 'april',\n",
       " 'august',\n",
       " 'b.c.',\n",
       " 'bc',\n",
       " 'byzantine',\n",
       " 'edo',\n",
       " 'guilford',\n",
       " 'indus valley civilisation',\n",
       " 'nara',\n",
       " 'ottoman empire',\n",
       " 'puranas',\n",
       " 'roman empire',\n",
       " 'song',\n",
       " 'sydney',\n",
       " 'twentieth century',\n",
       " 'weeks'}"
      ]
     },
     "execution_count": 41,
     "metadata": {},
     "output_type": "execute_result"
    }
   ],
   "source": [
    "get_label_disparities(corpus.all, 'DATERANGE', 'GPE')"
   ]
  },
  {
   "cell_type": "code",
   "execution_count": 3,
   "metadata": {},
   "outputs": [
    {
     "ename": "NameError",
     "evalue": "name 'corpus' is not defined",
     "output_type": "error",
     "traceback": [
      "\u001b[0;31m---------------------------------------------------------------------------\u001b[0m",
      "\u001b[0;31mNameError\u001b[0m                                 Traceback (most recent call last)",
      "\u001b[0;32m<ipython-input-3-a3a92eaf3ce9>\u001b[0m in \u001b[0;36m<module>\u001b[0;34m\u001b[0m\n\u001b[1;32m     31\u001b[0m     \u001b[0;32mreturn\u001b[0m \u001b[0msorted_label_ent_map\u001b[0m\u001b[0;34m,\u001b[0m \u001b[0msorted_ent_label_map\u001b[0m\u001b[0;34m,\u001b[0m \u001b[0msorted_ent_example_map\u001b[0m\u001b[0;34m\u001b[0m\u001b[0;34m\u001b[0m\u001b[0m\n\u001b[1;32m     32\u001b[0m \u001b[0;34m\u001b[0m\u001b[0m\n\u001b[0;32m---> 33\u001b[0;31m \u001b[0mlabel_ent_map\u001b[0m\u001b[0;34m,\u001b[0m \u001b[0ment_label_map\u001b[0m\u001b[0;34m,\u001b[0m \u001b[0ment_example_map\u001b[0m \u001b[0;34m=\u001b[0m \u001b[0mget_ent_mappings\u001b[0m\u001b[0;34m(\u001b[0m\u001b[0mcorpus\u001b[0m\u001b[0;34m.\u001b[0m\u001b[0mall\u001b[0m\u001b[0;34m)\u001b[0m\u001b[0;34m\u001b[0m\u001b[0;34m\u001b[0m\u001b[0m\n\u001b[0m",
      "\u001b[0;31mNameError\u001b[0m: name 'corpus' is not defined"
     ]
    }
   ],
   "source": [
    "def get_ent_mappings(data: List[Example], case_sensitive: bool = False):\n",
    "    label_ent_map = defaultdict(set)\n",
    "    ent_label_map = defaultdict(set)\n",
    "    ent_example_text_map = defaultdict(set)\n",
    "    example_map = {}\n",
    "    for example in data:\n",
    "        for span in example.spans:\n",
    "            ent_text = span.text if case_sensitive else span.text.lower()\n",
    "            label_ent_map[span.label].add(ent_text)\n",
    "            ent_label_map[ent_text].add(span.label)\n",
    "            \n",
    "            ent_hash = f\"{ent_text}||{span.label}\"\n",
    "            ent_example_text_map[ent_text].add(example.text)\n",
    "            ent_example_text_map[ent_hash].add(example.text)\n",
    "            example_map[example.text] = example\n",
    "    \n",
    "    def sort_dict_values(d: Dict[str, Set[str]]) -> Dict[str, Set[str]]:\n",
    "        sorted_d = {}\n",
    "        for k, v in d.items():\n",
    "            sorted_d[k] = sorted(v)\n",
    "        return sorted_d\n",
    "    \n",
    "    sorted_label_ent_map = sort_dict_values(label_ent_map)\n",
    "    sorted_ent_label_map = sort_dict_values(ent_label_map)\n",
    "    sorted_ent_example_text_map = sort_dict_values(ent_example_text_map)\n",
    "    \n",
    "    sorted_ent_example_map = {}\n",
    "    for ent, example_texts in sorted_ent_example_text_map.items():\n",
    "        sorted_ent_example_map[ent] = [example_map[t] for t in example_texts]\n",
    "            \n",
    "    return sorted_label_ent_map, sorted_ent_label_map, sorted_ent_example_map\n",
    "\n",
    "label_ent_map, ent_label_map, ent_example_map = get_ent_mappings(corpus.all)"
   ]
  },
  {
   "cell_type": "code",
   "execution_count": 108,
   "metadata": {},
   "outputs": [
    {
     "data": {
      "text/plain": [
       "['GPE']"
      ]
     },
     "execution_count": 108,
     "metadata": {},
     "output_type": "execute_result"
    }
   ],
   "source": [
    "ent_label_map[\"roman empire\"]"
   ]
  },
  {
   "cell_type": "code",
   "execution_count": 86,
   "metadata": {},
   "outputs": [],
   "source": [
    "[e for e in corpus.train if e.text.startswith(\"Since Henry had been Duke of Normandy since 1150\")][0].spans[3].label = \"DATERANGE\"\n",
    "[e for e in corpus.train if e.text.startswith(\"The flight landed at around 1150 hours here\")][0].spans[0].label = \"TIME\""
   ]
  },
  {
   "cell_type": "code",
   "execution_count": 111,
   "metadata": {},
   "outputs": [],
   "source": [
    "corpus.to_disk('../../CognitiveServices/API-TextAnalytics-NER.CloudServices/data/2020-03-23/cs/2', force=True)"
   ]
  },
  {
   "cell_type": "markdown",
   "metadata": {},
   "source": [
    "## Identify Top Prediction Errors"
   ]
  },
  {
   "cell_type": "code",
   "execution_count": 4,
   "metadata": {},
   "outputs": [
    {
     "name": "stdout",
     "output_type": "stream",
     "text": [
      "Running pipeline:\n",
      "<function loading_pipeline.<locals>.add_tokens_wrapper at 0x7f6227cec268> >>\n",
      "\t<function fix_annotations_format at 0x7f62b84dce18> >>\n",
      "\t<function filter_overlaps at 0x7f62b84dcf28> >>\n",
      "\t<function json_to_examples at 0x7f62b84dcd90>\n",
      "Running <function loading_pipeline.<locals>.add_tokens_wrapper at 0x7f6227cec268>...\n",
      "Found 1225 tokenization errors.\n",
      "Found 1099 unfixable tokenization errors.\n",
      "Running <function fix_annotations_format at 0x7f62b84dce18>...\n",
      "Running <function filter_overlaps at 0x7f62b84dcf28>...\n",
      "Running <function json_to_examples at 0x7f62b84dcd90>...\n",
      "Running pipeline:\n",
      "<function loading_pipeline.<locals>.add_tokens_wrapper at 0x7f61d0ef5a60> >>\n",
      "\t<function fix_annotations_format at 0x7f62b84dce18> >>\n",
      "\t<function filter_overlaps at 0x7f62b84dcf28> >>\n",
      "\t<function json_to_examples at 0x7f62b84dcd90>\n",
      "Running <function loading_pipeline.<locals>.add_tokens_wrapper at 0x7f61d0ef5a60>...\n",
      "Found 86 tokenization errors.\n",
      "Found 72 unfixable tokenization errors.\n",
      "Running <function fix_annotations_format at 0x7f62b84dce18>...\n",
      "Running <function filter_overlaps at 0x7f62b84dcf28>...\n",
      "Running <function json_to_examples at 0x7f62b84dcd90>...\n",
      "Running pipeline:\n",
      "<function loading_pipeline.<locals>.add_tokens_wrapper at 0x7f61e04cbae8> >>\n",
      "\t<function fix_annotations_format at 0x7f62b84dce18> >>\n",
      "\t<function filter_overlaps at 0x7f62b84dcf28> >>\n",
      "\t<function json_to_examples at 0x7f62b84dcd90>\n",
      "Running <function loading_pipeline.<locals>.add_tokens_wrapper at 0x7f61e04cbae8>...\n",
      "Found 29 tokenization errors.\n",
      "Found 22 unfixable tokenization errors.\n",
      "Running <function fix_annotations_format at 0x7f62b84dce18>...\n",
      "Running <function filter_overlaps at 0x7f62b84dcf28>...\n",
      "Running <function json_to_examples at 0x7f62b84dcd90>...\n"
     ]
    }
   ],
   "source": [
    "corpus = Corpus.from_disk('../../CognitiveServices/API-TextAnalytics-NER.CloudServices/data/2020-03-23/cs/2')"
   ]
  },
  {
   "cell_type": "code",
   "execution_count": 5,
   "metadata": {},
   "outputs": [
    {
     "data": {
      "text/plain": [
       "(128901, 9928, 9978)"
      ]
     },
     "execution_count": 5,
     "metadata": {},
     "output_type": "execute_result"
    }
   ],
   "source": [
    "len(corpus.train), len(corpus.dev), len(corpus.test)"
   ]
  },
  {
   "cell_type": "code",
   "execution_count": 6,
   "metadata": {},
   "outputs": [],
   "source": [
    "# nlp = spacy.load('../../CognitiveServices/API-TextAnalytics-NER.CloudServices/models/cs_2020-03-17/')\n",
    "import en_ta_lg\n",
    "nlp = en_ta_lg.load()\n",
    "recognizer = SpacyEntityRecognizer(nlp)"
   ]
  },
  {
   "cell_type": "code",
   "execution_count": 7,
   "metadata": {},
   "outputs": [
    {
     "data": {
      "text/plain": [
       "'ADDRESS,AGE,CARDINAL,DATE,DATERANGE,DATETIMERANGE,DURATION,EVENT,FAC,GPE,LANGUAGE,LAW,LOC,MONEY,NORP,NUMBER,NUM_RANGE,ORDINAL,ORG,PERCENT,PERSON,PERSONTYPE,PRODUCT,QUANTITY,SET,TIME,TIMERANGE,WORK_OF_ART'"
      ]
     },
     "execution_count": 7,
     "metadata": {},
     "output_type": "execute_result"
    }
   ],
   "source": [
    "','.join(nlp.get_pipe('ner').labels)"
   ]
  },
  {
   "cell_type": "code",
   "execution_count": 22,
   "metadata": {},
   "outputs": [
    {
     "name": "stdout",
     "output_type": "stream",
     "text": [
      "\u001b[1m\n",
      "============================= Recognizer Results =============================\u001b[0m\n",
      "\n",
      "Precision   80.112\n",
      "Recall      78.818\n",
      "F-Score     79.459\n",
      "\n",
      "\n",
      "Label           Precision   Recall   F-Score\n",
      "-------------   ---------   ------   -------\n",
      "ADDRESS         71.368      69.396   70.368 \n",
      "AGE             81.108      82.822   81.956 \n",
      "DATE            89.632      82.029   85.662 \n",
      "DATERANGE       86.319      86.906   86.611 \n",
      "DATETIMERANGE   73.126      63.191   67.797 \n",
      "DURATION        76.736      75.751   76.241 \n",
      "EVENT           67.779      45.311   54.313 \n",
      "GPE             79.152      86.368   82.602 \n",
      "LOC             66.954      55.126   60.467 \n",
      "MONEY           94.727      92.195   93.444 \n",
      "NUMBER          82.401      84.312   83.345 \n",
      "NUM_RANGE       48.325      33.007   39.223 \n",
      "ORG             77.039      79.669   78.332 \n",
      "PERCENT         97.726      95.420   96.559 \n",
      "PERSON          91.530      94.694   93.085 \n",
      "PERSONTYPE      75.313      76.875   76.086 \n",
      "PRODUCT         65.493      47.071   54.774 \n",
      "SET             58.339      62.193   60.204 \n",
      "TIME            74.129      61.570   67.269 \n",
      "TIMERANGE       55.021      41.746   47.473 \n",
      "\n"
     ]
    },
    {
     "data": {
      "text/plain": [
       "<spacy.scorer.Scorer at 0x7f624133ba20>"
      ]
     },
     "execution_count": 22,
     "metadata": {},
     "output_type": "execute_result"
    }
   ],
   "source": [
    "recognizer.evaluate(corpus.train)"
   ]
  },
  {
   "cell_type": "code",
   "execution_count": 20,
   "metadata": {},
   "outputs": [
    {
     "name": "stdout",
     "output_type": "stream",
     "text": [
      "\u001b[1m\n",
      "============================= Recognizer Results =============================\u001b[0m\n",
      "\n",
      "Precision   77.497\n",
      "Recall      76.067\n",
      "F-Score     76.775\n",
      "\n",
      "\n",
      "Label           Precision   Recall   F-Score\n",
      "-------------   ---------   ------   -------\n",
      "ADDRESS         69.417      71.500   70.443 \n",
      "AGE             79.915      80.952   80.430 \n",
      "DATE            90.106      81.208   85.426 \n",
      "DATERANGE       84.939      85.773   85.354 \n",
      "DATETIMERANGE   70.213      73.333   71.739 \n",
      "DURATION        72.446      76.721   74.522 \n",
      "EVENT           61.621      41.404   49.529 \n",
      "GPE             77.604      84.319   80.822 \n",
      "LOC             64.120      52.228   57.566 \n",
      "MONEY           93.838      91.281   92.541 \n",
      "NUMBER          80.643      81.596   81.117 \n",
      "NUM_RANGE       38.462      26.316   31.250 \n",
      "ORG             73.330      75.506   74.402 \n",
      "PERCENT         96.484      94.275   95.367 \n",
      "PERSON          89.043      92.569   90.772 \n",
      "PERSONTYPE      71.705      72.537   72.119 \n",
      "PRODUCT         58.732      40.584   48.000 \n",
      "SET             62.097      62.097   62.097 \n",
      "TIME            65.957      52.542   58.491 \n",
      "TIMERANGE       43.750      32.812   37.500 \n",
      "\n"
     ]
    },
    {
     "data": {
      "text/plain": [
       "<spacy.scorer.Scorer at 0x7f6286a51e10>"
      ]
     },
     "execution_count": 20,
     "metadata": {},
     "output_type": "execute_result"
    }
   ],
   "source": [
    "recognizer.evaluate(corpus.dev)"
   ]
  },
  {
   "cell_type": "code",
   "execution_count": 21,
   "metadata": {},
   "outputs": [
    {
     "name": "stdout",
     "output_type": "stream",
     "text": [
      "\u001b[1m\n",
      "============================= Recognizer Results =============================\u001b[0m\n",
      "\n",
      "Precision   71.047\n",
      "Recall      63.242\n",
      "F-Score     66.918\n",
      "\n",
      "\n",
      "Label           Precision   Recall   F-Score\n",
      "-------------   ---------   ------   -------\n",
      "ADDRESS         30.000      39.130   33.962 \n",
      "AGE             70.423      60.976   65.359 \n",
      "DATE            75.191      69.366   72.161 \n",
      "DATERANGE       72.131      71.637   71.883 \n",
      "DATETIMERANGE   75.000      54.545   63.158 \n",
      "DURATION        67.140      57.366   61.869 \n",
      "EVENT           51.641      15.850   24.255 \n",
      "GPE             74.808      86.712   80.321 \n",
      "LOC             63.544      43.390   51.568 \n",
      "MONEY           88.772      84.053   86.348 \n",
      "NUMBER          75.248      73.578   74.404 \n",
      "NUM_RANGE       32.143      23.077   26.866 \n",
      "ORG             66.770      65.712   66.237 \n",
      "PERCENT         97.587      95.789   96.680 \n",
      "PERSON          81.224      90.439   85.584 \n",
      "PERSONTYPE      71.287      72.449   71.864 \n",
      "PRODUCT         59.403      35.718   44.612 \n",
      "SET             79.808      58.042   67.206 \n",
      "TIME            55.556      38.462   45.455 \n",
      "TIMERANGE       77.778      40.385   53.165 \n",
      "\n"
     ]
    },
    {
     "data": {
      "text/plain": [
       "<spacy.scorer.Scorer at 0x7f628624d860>"
      ]
     },
     "execution_count": 21,
     "metadata": {},
     "output_type": "execute_result"
    }
   ],
   "source": [
    "recognizer.evaluate(corpus.test)"
   ]
  },
  {
   "cell_type": "code",
   "execution_count": 109,
   "metadata": {},
   "outputs": [
    {
     "data": {
      "text/plain": [
       "1334"
      ]
     },
     "execution_count": 109,
     "metadata": {},
     "output_type": "execute_result"
    }
   ],
   "source": [
    "bad_tokenization = []\n",
    "\n",
    "for e in corpus.test:\n",
    "    for s in e.spans:\n",
    "        if not s.token_start or not s.token_end:\n",
    "            bad_tokenization.append(e)\n",
    "            \n",
    "len(bad_tokenization)"
   ]
  },
  {
   "cell_type": "code",
   "execution_count": 23,
   "metadata": {},
   "outputs": [
    {
     "name": "stdout",
     "output_type": "stream",
     "text": [
      "\u001b[1m\n",
      "=============================== Error Analysis ===============================\u001b[0m\n",
      "\n",
      "N Examples         128901\n",
      "N Errors           100764\n",
      "N Error Examples   81163 \n",
      "Error Rate         0.63  \n",
      "\n",
      "\u001b[1m\n",
      "=============================== Error Analysis ===============================\u001b[0m\n",
      "\n",
      "N Examples         9928 \n",
      "N Errors           11876\n",
      "N Error Examples   6679 \n",
      "Error Rate         0.67 \n",
      "\n"
     ]
    }
   ],
   "source": [
    "train_errors = top_prediction_errors(recognizer, corpus.train, verbose=True)\n",
    "dev_errors = top_prediction_errors(recognizer, corpus.dev, verbose=True)"
   ]
  },
  {
   "cell_type": "code",
   "execution_count": 238,
   "metadata": {},
   "outputs": [
    {
     "name": "stdout",
     "output_type": "stream",
     "text": [
      "\u001b[1m\n",
      "=============================== Error Analysis ===============================\u001b[0m\n",
      "\n",
      "N Examples         10000\n",
      "N Errors           10198\n",
      "N Error Examples   6150 \n",
      "Error Rate         0.61 \n",
      "\n"
     ]
    }
   ],
   "source": [
    "test_errors = top_prediction_errors(recognizer, corpus.test, verbose=True)"
   ]
  },
  {
   "cell_type": "code",
   "execution_count": 24,
   "metadata": {},
   "outputs": [
    {
     "name": "stdout",
     "output_type": "stream",
     "text": [
      "\u001b[1m\n",
      "=============================== Error Analysis ===============================\u001b[0m\n",
      "\n",
      "N Examples         9978 \n",
      "N Errors           10116\n",
      "N Error Examples   6128 \n",
      "Error Rate         0.61 \n",
      "\n"
     ]
    }
   ],
   "source": [
    "test_errors = top_prediction_errors(recognizer, corpus.test, verbose=True)"
   ]
  },
  {
   "cell_type": "code",
   "execution_count": 36,
   "metadata": {},
   "outputs": [
    {
     "data": {
      "text/plain": [
       "HardestExample(example=Example(text='Kefallonia is often spelled as Cephallenia or Cephalonia, Ithaki as Ithaca, Kerkyra as Corcyra, Kythera as Cythera, Lefkada as Leucas or Leucada and Zakynthos as Zacynthus or Zante.', spans=[Span(text='Kefallonia', start=0, end=10, label='LOC', token_start=0, token_end=0), Span(text='Cephallenia', start=31, end=42, label='LOC', token_start=5, token_end=5), Span(text='Cephalonia', start=46, end=56, label='LOC', token_start=7, token_end=7), Span(text='Ithaki', start=58, end=64, label='LOC', token_start=9, token_end=9), Span(text='Ithaca', start=68, end=74, label='LOC', token_start=11, token_end=11), Span(text='Kerkyra', start=76, end=83, label='LOC', token_start=13, token_end=13), Span(text='Corcyra', start=87, end=94, label='LOC', token_start=15, token_end=15), Span(text='Kythera', start=96, end=103, label='LOC', token_start=17, token_end=17), Span(text='Cythera', start=107, end=114, label='LOC', token_start=19, token_end=19), Span(text='Lefkada', start=116, end=123, label='LOC', token_start=21, token_end=21), Span(text='Leucas', start=127, end=133, label='LOC', token_start=23, token_end=23), Span(text='Leucada', start=137, end=144, label='LOC', token_start=25, token_end=25), Span(text='Zakynthos', start=149, end=158, label='LOC', token_start=27, token_end=27), Span(text='Zacynthus', start=162, end=171, label='LOC', token_start=29, token_end=29), Span(text='Zante', start=175, end=180, label='LOC', token_start=31, token_end=31)], tokens=[Token(text='Kefallonia', start=0, end=10, id=0), Token(text='is', start=11, end=13, id=1), Token(text='often', start=14, end=19, id=2), Token(text='spelled', start=20, end=27, id=3), Token(text='as', start=28, end=30, id=4), Token(text='Cephallenia', start=31, end=42, id=5), Token(text='or', start=43, end=45, id=6), Token(text='Cephalonia', start=46, end=56, id=7), Token(text=',', start=56, end=57, id=8), Token(text='Ithaki', start=58, end=64, id=9), Token(text='as', start=65, end=67, id=10), Token(text='Ithaca', start=68, end=74, id=11), Token(text=',', start=74, end=75, id=12), Token(text='Kerkyra', start=76, end=83, id=13), Token(text='as', start=84, end=86, id=14), Token(text='Corcyra', start=87, end=94, id=15), Token(text=',', start=94, end=95, id=16), Token(text='Kythera', start=96, end=103, id=17), Token(text='as', start=104, end=106, id=18), Token(text='Cythera', start=107, end=114, id=19), Token(text=',', start=114, end=115, id=20), Token(text='Lefkada', start=116, end=123, id=21), Token(text='as', start=124, end=126, id=22), Token(text='Leucas', start=127, end=133, id=23), Token(text='or', start=134, end=136, id=24), Token(text='Leucada', start=137, end=144, id=25), Token(text='and', start=145, end=148, id=26), Token(text='Zakynthos', start=149, end=158, id=27), Token(text='as', start=159, end=161, id=28), Token(text='Zacynthus', start=162, end=171, id=29), Token(text='or', start=172, end=174, id=30), Token(text='Zante', start=175, end=180, id=31), Token(text='.', start=180, end=181, id=32)], meta={'source': 'Cognitive Services Training Set'}), count=14, prediction_errors=[PredictionError(text='Zakynthos', true_label='LOC', pred_label='GPE', count=3, examples=[]), PredictionError(text='Cythera', true_label='LOC', pred_label='GPE', count=1, examples=[]), PredictionError(text='Ithaca', true_label='LOC', pred_label='GPE', count=1, examples=[]), PredictionError(text='Zacynthus', true_label='LOC', pred_label='GPE', count=1, examples=[]), PredictionError(text='Leucas', true_label='LOC', pred_label='GPE', count=1, examples=[]), PredictionError(text='Kerkyra', true_label='LOC', pred_label='GPE', count=1, examples=[]), PredictionError(text='Corcyra', true_label='LOC', pred_label='GPE', count=1, examples=[]), PredictionError(text='Ithaki', true_label='LOC', pred_label='GPE', count=1, examples=[]), PredictionError(text='Cephallenia', true_label='LOC', pred_label='GPE', count=1, examples=[]), PredictionError(text='Kefallonia', true_label='LOC', pred_label='GPE', count=1, examples=[]), PredictionError(text='Lefkada', true_label='LOC', pred_label='GPE', count=1, examples=[]), PredictionError(text='Zante', true_label='LOC', pred_label='GPE', count=1, examples=[]), PredictionError(text='Leucada', true_label='LOC', pred_label='GPE', count=1, examples=[]), PredictionError(text='Kythera', true_label='LOC', pred_label='GPE', count=1, examples=[])])"
      ]
     },
     "execution_count": 36,
     "metadata": {},
     "output_type": "execute_result"
    }
   ],
   "source": [
    "labels = [\"ADDRESS\", \"LOC\"]\n",
    "train_errors_address = [pe for pe in train_errors if pe.true_label in labels or pe.pred_label in labels]\n",
    "address_loc_he = get_hardest_examples(train_errors_address)\n",
    "address_loc_he[0]"
   ]
  },
  {
   "cell_type": "code",
   "execution_count": 25,
   "metadata": {},
   "outputs": [
    {
     "name": "stdout",
     "output_type": "stream",
     "text": [
      "\n",
      "text              city       \n",
      "True Label        LOC        \n",
      "Predicted Label   NOT_LABELED\n",
      "N Errors          1064       \n",
      "\n",
      "Example(text='Lathrup Village was formerly served by the Annie Lathrup School, an elementary school located on Southfield Rd. in the center of the city.', spans=[Span(text='Lathrup Village', start=0, end=15, label='GPE', token_start=0, token_end=1), Span(text='Annie Lathrup School', start=43, end=63, label='ORG', token_start=7, token_end=9), Span(text='school', start=79, end=85, label='LOC', token_start=13, token_end=13), Span(text='Southfield Rd.', start=97, end=111, label='ADDRESS', token_start=16, token_end=18), Span(text='city', start=133, end=137, label='LOC', token_start=24, token_end=24)], tokens=[Token(text='Lathrup', start=0, end=7, id=0), Token(text='Village', start=8, end=15, id=1), Token(text='was', start=16, end=19, id=2), Token(text='formerly', start=20, end=28, id=3), Token(text='served', start=29, end=35, id=4), Token(text='by', start=36, end=38, id=5), Token(text='the', start=39, end=42, id=6), Token(text='Annie', start=43, end=48, id=7), Token(text='Lathrup', start=49, end=56, id=8), Token(text='School', start=57, end=63, id=9), Token(text=',', start=63, end=64, id=10), Token(text='an', start=65, end=67, id=11), Token(text='elementary', start=68, end=78, id=12), Token(text='school', start=79, end=85, id=13), Token(text='located', start=86, end=93, id=14), Token(text='on', start=94, end=96, id=15), Token(text='Southfield', start=97, end=107, id=16), Token(text='Rd', start=108, end=110, id=17), Token(text='.', start=110, end=111, id=18), Token(text='in', start=112, end=114, id=19), Token(text='the', start=115, end=118, id=20), Token(text='center', start=119, end=125, id=21), Token(text='of', start=126, end=128, id=22), Token(text='the', start=129, end=132, id=23), Token(text='city', start=133, end=137, id=24), Token(text='.', start=137, end=138, id=25)], meta={'source': 'Cognitive Services Training Set'})\n",
      "Example(text='On 8 April 1691, after a nine-month siege, Louis XIV’s army stormed the city, which again suffered heavy casualties.', spans=[Span(text='8 April 1691', start=3, end=15, label='DATE', token_start=1, token_end=3), Span(text='nine-month', start=25, end=35, label='DURATION', token_start=7, token_end=9), Span(text='siege', start=36, end=41, label='EVENT', token_start=10, token_end=10), Span(text='Louis XIV’s army', start=43, end=59, label='ORG', token_start=12, token_end=15), Span(text='city', start=72, end=76, label='LOC', token_start=18, token_end=18)], tokens=[Token(text='On', start=0, end=2, id=0), Token(text='8', start=3, end=4, id=1), Token(text='April', start=5, end=10, id=2), Token(text='1691', start=11, end=15, id=3), Token(text=',', start=15, end=16, id=4), Token(text='after', start=17, end=22, id=5), Token(text='a', start=23, end=24, id=6), Token(text='nine', start=25, end=29, id=7), Token(text='-', start=29, end=30, id=8), Token(text='month', start=30, end=35, id=9), Token(text='siege', start=36, end=41, id=10), Token(text=',', start=41, end=42, id=11), Token(text='Louis', start=43, end=48, id=12), Token(text='XIV', start=49, end=52, id=13), Token(text='’s', start=52, end=54, id=14), Token(text='army', start=55, end=59, id=15), Token(text='stormed', start=60, end=67, id=16), Token(text='the', start=68, end=71, id=17), Token(text='city', start=72, end=76, id=18), Token(text=',', start=76, end=77, id=19), Token(text='which', start=78, end=83, id=20), Token(text='again', start=84, end=89, id=21), Token(text='suffered', start=90, end=98, id=22), Token(text='heavy', start=99, end=104, id=23), Token(text='casualties', start=105, end=115, id=24), Token(text='.', start=115, end=116, id=25)], meta={'source': 'Cognitive Services Training Set'})\n",
      "Example(text='Many peaks of the Cascade Range, including Hood, Jefferson, Adams, St. Helens and Rainier, are visible from the city.', spans=[Span(text='peaks', start=5, end=10, label='LOC', token_start=1, token_end=1), Span(text='Cascade Range', start=18, end=31, label='LOC', token_start=4, token_end=5), Span(text='Hood', start=43, end=47, label='LOC', token_start=8, token_end=8), Span(text='Jefferson', start=49, end=58, label='LOC', token_start=10, token_end=10), Span(text='Adams', start=60, end=65, label='LOC', token_start=12, token_end=12), Span(text='St. Helens', start=67, end=77, label='LOC', token_start=14, token_end=15), Span(text='Rainier', start=82, end=89, label='LOC', token_start=17, token_end=17), Span(text='city', start=112, end=116, label='LOC', token_start=23, token_end=23)], tokens=[Token(text='Many', start=0, end=4, id=0), Token(text='peaks', start=5, end=10, id=1), Token(text='of', start=11, end=13, id=2), Token(text='the', start=14, end=17, id=3), Token(text='Cascade', start=18, end=25, id=4), Token(text='Range', start=26, end=31, id=5), Token(text=',', start=31, end=32, id=6), Token(text='including', start=33, end=42, id=7), Token(text='Hood', start=43, end=47, id=8), Token(text=',', start=47, end=48, id=9), Token(text='Jefferson', start=49, end=58, id=10), Token(text=',', start=58, end=59, id=11), Token(text='Adams', start=60, end=65, id=12), Token(text=',', start=65, end=66, id=13), Token(text='St.', start=67, end=70, id=14), Token(text='Helens', start=71, end=77, id=15), Token(text='and', start=78, end=81, id=16), Token(text='Rainier', start=82, end=89, id=17), Token(text=',', start=89, end=90, id=18), Token(text='are', start=91, end=94, id=19), Token(text='visible', start=95, end=102, id=20), Token(text='from', start=103, end=107, id=21), Token(text='the', start=108, end=111, id=22), Token(text='city', start=112, end=116, id=23), Token(text='.', start=116, end=117, id=24)], meta={'source': 'Cognitive Services Training Set'})\n",
      "====================================================================================================\n",
      "\n",
      "text              one        \n",
      "True Label        NUMBER     \n",
      "Predicted Label   NOT_LABELED\n",
      "N Errors          864        \n",
      "\n",
      "Example(text='On one occasion though, he becomes infatuated with Tripti Gokhale (Radhika Apte), the bohemian Pune girl, whose parents want to see her name on a wedding card.', spans=[Span(text='one', start=3, end=6, label='NUMBER', token_start=1, token_end=1), Span(text='Tripti Gokhale', start=51, end=65, label='PERSON', token_start=9, token_end=10), Span(text='Radhika Apte', start=67, end=79, label='PERSON', token_start=12, token_end=13), Span(text='Pune', start=95, end=99, label='PERSONTYPE', token_start=18, token_end=18), Span(text='parents', start=112, end=119, label='PERSONTYPE', token_start=22, token_end=22), Span(text='wedding card', start=146, end=158, label='PRODUCT', token_start=30, token_end=31)], tokens=[Token(text='On', start=0, end=2, id=0), Token(text='one', start=3, end=6, id=1), Token(text='occasion', start=7, end=15, id=2), Token(text='though', start=16, end=22, id=3), Token(text=',', start=22, end=23, id=4), Token(text='he', start=24, end=26, id=5), Token(text='becomes', start=27, end=34, id=6), Token(text='infatuated', start=35, end=45, id=7), Token(text='with', start=46, end=50, id=8), Token(text='Tripti', start=51, end=57, id=9), Token(text='Gokhale', start=58, end=65, id=10), Token(text='(', start=66, end=67, id=11), Token(text='Radhika', start=67, end=74, id=12), Token(text='Apte', start=75, end=79, id=13), Token(text=')', start=79, end=80, id=14), Token(text=',', start=80, end=81, id=15), Token(text='the', start=82, end=85, id=16), Token(text='bohemian', start=86, end=94, id=17), Token(text='Pune', start=95, end=99, id=18), Token(text='girl', start=100, end=104, id=19), Token(text=',', start=104, end=105, id=20), Token(text='whose', start=106, end=111, id=21), Token(text='parents', start=112, end=119, id=22), Token(text='want', start=120, end=124, id=23), Token(text='to', start=125, end=127, id=24), Token(text='see', start=128, end=131, id=25), Token(text='her', start=132, end=135, id=26), Token(text='name', start=136, end=140, id=27), Token(text='on', start=141, end=143, id=28), Token(text='a', start=144, end=145, id=29), Token(text='wedding', start=146, end=153, id=30), Token(text='card', start=154, end=158, id=31), Token(text='.', start=158, end=159, id=32)], meta={'source': 'Cognitive Services Training Set'})\n",
      "Example(text='But when asked by reporters if they actually spotted those boxes underwater, one of the two submersible pilots, Jefferey L. Heaton, answered “I did not see any steel boxes (that may contain gold).“ Heaton’s Canadian company Nuuytco has been hired by Shinil to identify the Donskoii.', spans=[Span(text='reporters', start=18, end=27, label='PERSONTYPE', token_start=4, token_end=4), Span(text='boxes', start=59, end=64, label='PRODUCT', token_start=10, token_end=10), Span(text='underwater', start=65, end=75, label='LOC', token_start=11, token_end=11), Span(text='one', start=77, end=80, label='NUMBER', token_start=13, token_end=13), Span(text='two', start=88, end=91, label='NUMBER', token_start=16, token_end=16), Span(text='pilots', start=104, end=110, label='PERSONTYPE', token_start=18, token_end=18), Span(text='Jefferey L. Heaton', start=112, end=130, label='PERSON', token_start=20, token_end=22), Span(text='steel boxes', start=160, end=171, label='PRODUCT', token_start=31, token_end=32), Span(text='gold', start=190, end=194, label='PRODUCT', token_start=37, token_end=37), Span(text='Heaton', start=198, end=204, label='PERSON', token_start=41, token_end=41), Span(text='Nuuytco', start=224, end=231, label='ORG', token_start=45, token_end=45), Span(text='Shinil', start=250, end=256, label='PERSON', token_start=50, token_end=50), Span(text='Donskoii', start=273, end=281, label='PERSON', token_start=54, token_end=54)], tokens=[Token(text='But', start=0, end=3, id=0), Token(text='when', start=4, end=8, id=1), Token(text='asked', start=9, end=14, id=2), Token(text='by', start=15, end=17, id=3), Token(text='reporters', start=18, end=27, id=4), Token(text='if', start=28, end=30, id=5), Token(text='they', start=31, end=35, id=6), Token(text='actually', start=36, end=44, id=7), Token(text='spotted', start=45, end=52, id=8), Token(text='those', start=53, end=58, id=9), Token(text='boxes', start=59, end=64, id=10), Token(text='underwater', start=65, end=75, id=11), Token(text=',', start=75, end=76, id=12), Token(text='one', start=77, end=80, id=13), Token(text='of', start=81, end=83, id=14), Token(text='the', start=84, end=87, id=15), Token(text='two', start=88, end=91, id=16), Token(text='submersible', start=92, end=103, id=17), Token(text='pilots', start=104, end=110, id=18), Token(text=',', start=110, end=111, id=19), Token(text='Jefferey', start=112, end=120, id=20), Token(text='L.', start=121, end=123, id=21), Token(text='Heaton', start=124, end=130, id=22), Token(text=',', start=130, end=131, id=23), Token(text='answered', start=132, end=140, id=24), Token(text='“', start=141, end=142, id=25), Token(text='I', start=142, end=143, id=26), Token(text='did', start=144, end=147, id=27), Token(text='not', start=148, end=151, id=28), Token(text='see', start=152, end=155, id=29), Token(text='any', start=156, end=159, id=30), Token(text='steel', start=160, end=165, id=31), Token(text='boxes', start=166, end=171, id=32), Token(text='(', start=172, end=173, id=33), Token(text='that', start=173, end=177, id=34), Token(text='may', start=178, end=181, id=35), Token(text='contain', start=182, end=189, id=36), Token(text='gold', start=190, end=194, id=37), Token(text=')', start=194, end=195, id=38), Token(text='.', start=195, end=196, id=39), Token(text='“', start=196, end=197, id=40), Token(text='Heaton', start=198, end=204, id=41), Token(text='’s', start=204, end=206, id=42), Token(text='Canadian', start=207, end=215, id=43), Token(text='company', start=216, end=223, id=44), Token(text='Nuuytco', start=224, end=231, id=45), Token(text='has', start=232, end=235, id=46), Token(text='been', start=236, end=240, id=47), Token(text='hired', start=241, end=246, id=48), Token(text='by', start=247, end=249, id=49), Token(text='Shinil', start=250, end=256, id=50), Token(text='to', start=257, end=259, id=51), Token(text='identify', start=260, end=268, id=52), Token(text='the', start=269, end=272, id=53), Token(text='Donskoii', start=273, end=281, id=54), Token(text='.', start=281, end=282, id=55)], meta={'source': 'Cognitive Services Training Set'})\n",
      "Example(text='\\ufeffThe New Insolvency and Bankruptcy Code, 2016 stipulates the maximum time to be taken to liquidate a company to 180 days with an one time extension of 90 days, while earlier it used to take at least four years for the same.', spans=[Span(text='2016', start=41, end=45, label='DATERANGE', token_start=7, token_end=7), Span(text='180 days', start=112, end=120, label='DURATION', token_start=20, token_end=21), Span(text='one', start=129, end=132, label='NUMBER', token_start=24, token_end=24), Span(text='90 days', start=151, end=158, label='DURATION', token_start=28, token_end=29), Span(text='four years', start=199, end=209, label='DURATION', token_start=39, token_end=40)], tokens=[Token(text='\\ufeffThe', start=0, end=4, id=0), Token(text='New', start=5, end=8, id=1), Token(text='Insolvency', start=9, end=19, id=2), Token(text='and', start=20, end=23, id=3), Token(text='Bankruptcy', start=24, end=34, id=4), Token(text='Code', start=35, end=39, id=5), Token(text=',', start=39, end=40, id=6), Token(text='2016', start=41, end=45, id=7), Token(text='stipulates', start=46, end=56, id=8), Token(text='the', start=57, end=60, id=9), Token(text='maximum', start=61, end=68, id=10), Token(text='time', start=69, end=73, id=11), Token(text='to', start=74, end=76, id=12), Token(text='be', start=77, end=79, id=13), Token(text='taken', start=80, end=85, id=14), Token(text='to', start=86, end=88, id=15), Token(text='liquidate', start=89, end=98, id=16), Token(text='a', start=99, end=100, id=17), Token(text='company', start=101, end=108, id=18), Token(text='to', start=109, end=111, id=19), Token(text='180', start=112, end=115, id=20), Token(text='days', start=116, end=120, id=21), Token(text='with', start=121, end=125, id=22), Token(text='an', start=126, end=128, id=23), Token(text='one', start=129, end=132, id=24), Token(text='time', start=133, end=137, id=25), Token(text='extension', start=138, end=147, id=26), Token(text='of', start=148, end=150, id=27), Token(text='90', start=151, end=153, id=28), Token(text='days', start=154, end=158, id=29), Token(text=',', start=158, end=159, id=30), Token(text='while', start=160, end=165, id=31), Token(text='earlier', start=166, end=173, id=32), Token(text='it', start=174, end=176, id=33), Token(text='used', start=177, end=181, id=34), Token(text='to', start=182, end=184, id=35), Token(text='take', start=185, end=189, id=36), Token(text='at', start=190, end=192, id=37), Token(text='least', start=193, end=198, id=38), Token(text='four', start=199, end=203, id=39), Token(text='years', start=204, end=209, id=40), Token(text='for', start=210, end=213, id=41), Token(text='the', start=214, end=217, id=42), Token(text='same', start=218, end=222, id=43), Token(text='.', start=222, end=223, id=44)], meta={'source': 'Cognitive Services Training Set'})\n",
      "====================================================================================================\n",
      "\n",
      "text              town       \n",
      "True Label        LOC        \n",
      "Predicted Label   NOT_LABELED\n",
      "N Errors          747        \n",
      "\n",
      "Example(text='The only town with the historical city status in Sweden was Sundsvall, which was granted the privilege in 1624.', spans=[Span(text='town', start=9, end=13, label='LOC', token_start=2, token_end=2), Span(text='Sweden', start=49, end=55, label='GPE', token_start=9, token_end=9), Span(text='Sundsvall', start=60, end=69, label='GPE', token_start=11, token_end=11), Span(text='1624', start=106, end=110, label='DATERANGE', token_start=19, token_end=19)], tokens=[Token(text='The', start=0, end=3, id=0), Token(text='only', start=4, end=8, id=1), Token(text='town', start=9, end=13, id=2), Token(text='with', start=14, end=18, id=3), Token(text='the', start=19, end=22, id=4), Token(text='historical', start=23, end=33, id=5), Token(text='city', start=34, end=38, id=6), Token(text='status', start=39, end=45, id=7), Token(text='in', start=46, end=48, id=8), Token(text='Sweden', start=49, end=55, id=9), Token(text='was', start=56, end=59, id=10), Token(text='Sundsvall', start=60, end=69, id=11), Token(text=',', start=69, end=70, id=12), Token(text='which', start=71, end=76, id=13), Token(text='was', start=77, end=80, id=14), Token(text='granted', start=81, end=88, id=15), Token(text='the', start=89, end=92, id=16), Token(text='privilege', start=93, end=102, id=17), Token(text='in', start=103, end=105, id=18), Token(text='1624', start=106, end=110, id=19), Token(text='.', start=110, end=111, id=20)], meta={'source': 'Cognitive Services Training Set'})\n",
      "Example(text='Alexandria is a town in DeKalb County, Tennessee, United States.', spans=[Span(text='Alexandria', start=0, end=10, label='GPE', token_start=0, token_end=0), Span(text='town', start=16, end=20, label='LOC', token_start=3, token_end=3), Span(text='DeKalb County, Tennessee, United States', start=24, end=63, label='GPE', token_start=5, token_end=11)], tokens=[Token(text='Alexandria', start=0, end=10, id=0), Token(text='is', start=11, end=13, id=1), Token(text='a', start=14, end=15, id=2), Token(text='town', start=16, end=20, id=3), Token(text='in', start=21, end=23, id=4), Token(text='DeKalb', start=24, end=30, id=5), Token(text='County', start=31, end=37, id=6), Token(text=',', start=37, end=38, id=7), Token(text='Tennessee', start=39, end=48, id=8), Token(text=',', start=48, end=49, id=9), Token(text='United', start=50, end=56, id=10), Token(text='States', start=57, end=63, id=11), Token(text='.', start=63, end=64, id=12)], meta={'source': 'Cognitive Services Training Set'})\n",
      "Example(text='Severn is a town in Northampton County, North Carolina, United States.', spans=[Span(text='Severn', start=0, end=6, label='GPE', token_start=0, token_end=0), Span(text='town', start=12, end=16, label='LOC', token_start=3, token_end=3), Span(text='Northampton County, North Carolina, United States', start=20, end=69, label='GPE', token_start=5, token_end=12)], tokens=[Token(text='Severn', start=0, end=6, id=0), Token(text='is', start=7, end=9, id=1), Token(text='a', start=10, end=11, id=2), Token(text='town', start=12, end=16, id=3), Token(text='in', start=17, end=19, id=4), Token(text='Northampton', start=20, end=31, id=5), Token(text='County', start=32, end=38, id=6), Token(text=',', start=38, end=39, id=7), Token(text='North', start=40, end=45, id=8), Token(text='Carolina', start=46, end=54, id=9), Token(text=',', start=54, end=55, id=10), Token(text='United', start=56, end=62, id=11), Token(text='States', start=63, end=69, id=12), Token(text='.', start=69, end=70, id=13)], meta={'source': 'Cognitive Services Training Set'})\n",
      "====================================================================================================\n",
      "\n",
      "text              United States\n",
      "True Label        NOT_LABELED  \n",
      "Predicted Label   GPE          \n",
      "N Errors          560          \n",
      "\n",
      "Example(text=\"Chandler's Purchase is a township located in Coos County, New Hampshire, United States.\", spans=[Span(text=\"Chandler's Purchase\", start=0, end=19, label='GPE', token_start=0, token_end=2), Span(text='Coos County, New Hampshire, United States', start=45, end=86, label='GPE', token_start=8, token_end=15)], tokens=[Token(text='Chandler', start=0, end=8, id=0), Token(text=\"'s\", start=8, end=10, id=1), Token(text='Purchase', start=11, end=19, id=2), Token(text='is', start=20, end=22, id=3), Token(text='a', start=23, end=24, id=4), Token(text='township', start=25, end=33, id=5), Token(text='located', start=34, end=41, id=6), Token(text='in', start=42, end=44, id=7), Token(text='Coos', start=45, end=49, id=8), Token(text='County', start=50, end=56, id=9), Token(text=',', start=56, end=57, id=10), Token(text='New', start=58, end=61, id=11), Token(text='Hampshire', start=62, end=71, id=12), Token(text=',', start=71, end=72, id=13), Token(text='United', start=73, end=79, id=14), Token(text='States', start=80, end=86, id=15), Token(text='.', start=86, end=87, id=16)], meta={'source': 'Cognitive Services Training Set'})\n",
      "Example(text='Carpentersville is a village in Kane County, Illinois, United States.', spans=[Span(text='Carpentersville', start=0, end=15, label='LOC', token_start=0, token_end=0), Span(text='village', start=21, end=28, label='LOC', token_start=3, token_end=3), Span(text='Kane County, Illinois, United States', start=32, end=68, label='GPE', token_start=5, token_end=11)], tokens=[Token(text='Carpentersville', start=0, end=15, id=0), Token(text='is', start=16, end=18, id=1), Token(text='a', start=19, end=20, id=2), Token(text='village', start=21, end=28, id=3), Token(text='in', start=29, end=31, id=4), Token(text='Kane', start=32, end=36, id=5), Token(text='County', start=37, end=43, id=6), Token(text=',', start=43, end=44, id=7), Token(text='Illinois', start=45, end=53, id=8), Token(text=',', start=53, end=54, id=9), Token(text='United', start=55, end=61, id=10), Token(text='States', start=62, end=68, id=11), Token(text='.', start=68, end=69, id=12)], meta={'source': 'Cognitive Services Training Set'})\n",
      "Example(text='Bevil Oaks is a city in Jefferson County, Texas, United States.', spans=[Span(text='Bevil Oaks', start=0, end=10, label='GPE', token_start=0, token_end=1), Span(text='Jefferson County, Texas, United States', start=24, end=62, label='GPE', token_start=6, token_end=12)], tokens=[Token(text='Bevil', start=0, end=5, id=0), Token(text='Oaks', start=6, end=10, id=1), Token(text='is', start=11, end=13, id=2), Token(text='a', start=14, end=15, id=3), Token(text='city', start=16, end=20, id=4), Token(text='in', start=21, end=23, id=5), Token(text='Jefferson', start=24, end=33, id=6), Token(text='County', start=34, end=40, id=7), Token(text=',', start=40, end=41, id=8), Token(text='Texas', start=42, end=47, id=9), Token(text=',', start=47, end=48, id=10), Token(text='United', start=49, end=55, id=11), Token(text='States', start=56, end=62, id=12), Token(text='.', start=62, end=63, id=13)], meta={'source': 'Cognitive Services Training Set'})\n",
      "====================================================================================================\n",
      "\n",
      "text              two        \n",
      "True Label        NOT_LABELED\n",
      "Predicted Label   NUMBER     \n",
      "N Errors          522        \n",
      "\n",
      "Example(text='Aashka and Brent are madly in love with each other and the two appeared on dance reality show Nach Baliye season 8.', spans=[Span(text='Aashka', start=0, end=6, label='PERSON', token_start=0, token_end=0), Span(text='Brent', start=11, end=16, label='PERSON', token_start=2, token_end=2)], tokens=[Token(text='Aashka', start=0, end=6, id=0), Token(text='and', start=7, end=10, id=1), Token(text='Brent', start=11, end=16, id=2), Token(text='are', start=17, end=20, id=3), Token(text='madly', start=21, end=26, id=4), Token(text='in', start=27, end=29, id=5), Token(text='love', start=30, end=34, id=6), Token(text='with', start=35, end=39, id=7), Token(text='each', start=40, end=44, id=8), Token(text='other', start=45, end=50, id=9), Token(text='and', start=51, end=54, id=10), Token(text='the', start=55, end=58, id=11), Token(text='two', start=59, end=62, id=12), Token(text='appeared', start=63, end=71, id=13), Token(text='on', start=72, end=74, id=14), Token(text='dance', start=75, end=80, id=15), Token(text='reality', start=81, end=88, id=16), Token(text='show', start=89, end=93, id=17), Token(text='Nach', start=94, end=98, id=18), Token(text='Baliye', start=99, end=105, id=19), Token(text='season', start=106, end=112, id=20), Token(text='8', start=113, end=114, id=21), Token(text='.', start=114, end=115, id=22)], meta={'source': 'Cognitive Services Training Set'})\n",
      "Example(text='In 1884–85, Batey built a store and home for the arrival of the Mortimer Cook family from Santa Barbara, California where Cook had been mayor for two terms.', spans=[Span(text='1884–85', start=3, end=10, label='DATERANGE', token_start=1, token_end=1), Span(text='Batey', start=12, end=17, label='PERSON', token_start=3, token_end=3), Span(text='store', start=26, end=31, label='LOC', token_start=6, token_end=6), Span(text='home', start=36, end=40, label='LOC', token_start=8, token_end=8), Span(text='arrival', start=49, end=56, label='EVENT', token_start=11, token_end=11), Span(text='Mortimer Cook', start=64, end=77, label='PERSON', token_start=14, token_end=15), Span(text='Santa Barbara, California', start=90, end=115, label='GPE', token_start=18, token_end=21), Span(text='Cook', start=122, end=126, label='PERSON', token_start=23, token_end=23), Span(text='mayor', start=136, end=141, label='PERSONTYPE', token_start=26, token_end=26), Span(text='two terms', start=146, end=155, label='DURATION', token_start=28, token_end=29)], tokens=[Token(text='In', start=0, end=2, id=0), Token(text='1884–85', start=3, end=10, id=1), Token(text=',', start=10, end=11, id=2), Token(text='Batey', start=12, end=17, id=3), Token(text='built', start=18, end=23, id=4), Token(text='a', start=24, end=25, id=5), Token(text='store', start=26, end=31, id=6), Token(text='and', start=32, end=35, id=7), Token(text='home', start=36, end=40, id=8), Token(text='for', start=41, end=44, id=9), Token(text='the', start=45, end=48, id=10), Token(text='arrival', start=49, end=56, id=11), Token(text='of', start=57, end=59, id=12), Token(text='the', start=60, end=63, id=13), Token(text='Mortimer', start=64, end=72, id=14), Token(text='Cook', start=73, end=77, id=15), Token(text='family', start=78, end=84, id=16), Token(text='from', start=85, end=89, id=17), Token(text='Santa', start=90, end=95, id=18), Token(text='Barbara', start=96, end=103, id=19), Token(text=',', start=103, end=104, id=20), Token(text='California', start=105, end=115, id=21), Token(text='where', start=116, end=121, id=22), Token(text='Cook', start=122, end=126, id=23), Token(text='had', start=127, end=130, id=24), Token(text='been', start=131, end=135, id=25), Token(text='mayor', start=136, end=141, id=26), Token(text='for', start=142, end=145, id=27), Token(text='two', start=146, end=149, id=28), Token(text='terms', start=150, end=155, id=29), Token(text='.', start=155, end=156, id=30)], meta={'source': 'Cognitive Services Training Set'})\n",
      "Example(text=\"Formed in 1989 in Charlotte, North Carolina, Jodeci's members began their musical careers as two duos of brothers and, after years of limited success, joined forces.\", spans=[Span(text='1989', start=10, end=14, label='DATERANGE', token_start=2, token_end=2), Span(text='Charlotte', start=18, end=27, label='GPE', token_start=4, token_end=4), Span(text='North Carolina', start=29, end=43, label='GPE', token_start=6, token_end=7), Span(text='Jodeci', start=45, end=51, label='ORG', token_start=9, token_end=9), Span(text='members', start=54, end=61, label='PERSONTYPE', token_start=11, token_end=11), Span(text='brothers', start=105, end=113, label='PERSONTYPE', token_start=20, token_end=20)], tokens=[Token(text='Formed', start=0, end=6, id=0), Token(text='in', start=7, end=9, id=1), Token(text='1989', start=10, end=14, id=2), Token(text='in', start=15, end=17, id=3), Token(text='Charlotte', start=18, end=27, id=4), Token(text=',', start=27, end=28, id=5), Token(text='North', start=29, end=34, id=6), Token(text='Carolina', start=35, end=43, id=7), Token(text=',', start=43, end=44, id=8), Token(text='Jodeci', start=45, end=51, id=9), Token(text=\"'s\", start=51, end=53, id=10), Token(text='members', start=54, end=61, id=11), Token(text='began', start=62, end=67, id=12), Token(text='their', start=68, end=73, id=13), Token(text='musical', start=74, end=81, id=14), Token(text='careers', start=82, end=89, id=15), Token(text='as', start=90, end=92, id=16), Token(text='two', start=93, end=96, id=17), Token(text='duos', start=97, end=101, id=18), Token(text='of', start=102, end=104, id=19), Token(text='brothers', start=105, end=113, id=20), Token(text='and', start=114, end=117, id=21), Token(text=',', start=117, end=118, id=22), Token(text='after', start=119, end=124, id=23), Token(text='years', start=125, end=130, id=24), Token(text='of', start=131, end=133, id=25), Token(text='limited', start=134, end=141, id=26), Token(text='success', start=142, end=149, id=27), Token(text=',', start=149, end=150, id=28), Token(text='joined', start=151, end=157, id=29), Token(text='forces', start=158, end=164, id=30), Token(text='.', start=164, end=165, id=31)], meta={'source': 'Cognitive Services Training Set'})\n",
      "====================================================================================================\n",
      "\n",
      "text                         \n",
      "True Label        GPE        \n",
      "Predicted Label   NOT_LABELED\n",
      "N Errors          500        \n",
      "\n",
      "Example(text='The west country of Oz is bordered at the northeast by theGillikin Country and to the south by the QuadlingCountry.', spans=[Span(text='Oz', start=20, end=22, label='GPE', token_start=4, token_end=4), Span(text='Country', start=67, end=66, label='GPE', token_start=12, token_end=None), Span(text='QuadlingCountry', start=99, end=114, label='GPE', token_start=19, token_end=19)], tokens=[Token(text='The', start=0, end=3, id=0), Token(text='west', start=4, end=8, id=1), Token(text='country', start=9, end=16, id=2), Token(text='of', start=17, end=19, id=3), Token(text='Oz', start=20, end=22, id=4), Token(text='is', start=23, end=25, id=5), Token(text='bordered', start=26, end=34, id=6), Token(text='at', start=35, end=37, id=7), Token(text='the', start=38, end=41, id=8), Token(text='northeast', start=42, end=51, id=9), Token(text='by', start=52, end=54, id=10), Token(text='theGillikin', start=55, end=66, id=11), Token(text='Country', start=67, end=74, id=12), Token(text='and', start=75, end=78, id=13), Token(text='to', start=79, end=81, id=14), Token(text='the', start=82, end=85, id=15), Token(text='south', start=86, end=91, id=16), Token(text='by', start=92, end=94, id=17), Token(text='the', start=95, end=98, id=18), Token(text='QuadlingCountry', start=99, end=114, id=19), Token(text='.', start=114, end=115, id=20)], meta={'source': 'Cognitive Services Training Set'})\n",
      "Example(text='\\ufeffHYDERABAD: The Adani Group and textile major Welspun Group are in the process of setting up two separate Logistics Parks here, a senior government official said here Wednesday.', spans=[Span(text=':', start=10, end=10, label='GPE', token_start=1, token_end=None), Span(text='Adani Group', start=16, end=27, label='ORG', token_start=3, token_end=4), Span(text='Welspun Group', start=46, end=59, label='ORG', token_start=8, token_end=9), Span(text='two', start=93, end=96, label='NUMBER', token_start=17, token_end=17), Span(text='Logistics Parks', start=106, end=121, label='LOC', token_start=19, token_end=20), Span(text='government official', start=137, end=156, label='PERSONTYPE', token_start=25, token_end=26), Span(text='Wednesday', start=167, end=176, label='DATE', token_start=29, token_end=29)], tokens=[Token(text='\\ufeffHYDERABAD', start=0, end=10, id=0), Token(text=':', start=10, end=11, id=1), Token(text='The', start=12, end=15, id=2), Token(text='Adani', start=16, end=21, id=3), Token(text='Group', start=22, end=27, id=4), Token(text='and', start=28, end=31, id=5), Token(text='textile', start=32, end=39, id=6), Token(text='major', start=40, end=45, id=7), Token(text='Welspun', start=46, end=53, id=8), Token(text='Group', start=54, end=59, id=9), Token(text='are', start=60, end=63, id=10), Token(text='in', start=64, end=66, id=11), Token(text='the', start=67, end=70, id=12), Token(text='process', start=71, end=78, id=13), Token(text='of', start=79, end=81, id=14), Token(text='setting', start=82, end=89, id=15), Token(text='up', start=90, end=92, id=16), Token(text='two', start=93, end=96, id=17), Token(text='separate', start=97, end=105, id=18), Token(text='Logistics', start=106, end=115, id=19), Token(text='Parks', start=116, end=121, id=20), Token(text='here', start=122, end=126, id=21), Token(text=',', start=126, end=127, id=22), Token(text='a', start=128, end=129, id=23), Token(text='senior', start=130, end=136, id=24), Token(text='government', start=137, end=147, id=25), Token(text='official', start=148, end=156, id=26), Token(text='said', start=157, end=161, id=27), Token(text='here', start=162, end=166, id=28), Token(text='Wednesday', start=167, end=176, id=29), Token(text='.', start=176, end=177, id=30)], meta={'source': 'Cognitive Services Training Set'})\n",
      "Example(text='The House of Sforza (pron) was a ruling family of Renaissance Italy, based inMilan.', spans=[Span(text='House of Sforza', start=4, end=19, label='ORG', token_start=1, token_end=3), Span(text='Italy', start=62, end=67, label='GPE', token_start=13, token_end=13), Span(text='.', start=82, end=82, label='GPE', token_start=17, token_end=None)], tokens=[Token(text='The', start=0, end=3, id=0), Token(text='House', start=4, end=9, id=1), Token(text='of', start=10, end=12, id=2), Token(text='Sforza', start=13, end=19, id=3), Token(text='(', start=20, end=21, id=4), Token(text='pron', start=21, end=25, id=5), Token(text=')', start=25, end=26, id=6), Token(text='was', start=27, end=30, id=7), Token(text='a', start=31, end=32, id=8), Token(text='ruling', start=33, end=39, id=9), Token(text='family', start=40, end=46, id=10), Token(text='of', start=47, end=49, id=11), Token(text='Renaissance', start=50, end=61, id=12), Token(text='Italy', start=62, end=67, id=13), Token(text=',', start=67, end=68, id=14), Token(text='based', start=69, end=74, id=15), Token(text='inMilan', start=75, end=82, id=16), Token(text='.', start=82, end=83, id=17)], meta={'source': 'Cognitive Services Training Set'})\n",
      "====================================================================================================\n",
      "\n",
      "text              American   \n",
      "True Label        NOT_LABELED\n",
      "Predicted Label   PERSONTYPE \n",
      "N Errors          357        \n",
      "\n",
      "Example(text='American historian Kenneth C. Davis said in a New York Times Op-Ed that Franklin\\'s worry about German immigrants is evidence that as long as we have thought of ourselves as a \"melting pot\" or a \"nation of immigrants,\" we have also harbored a strong strain of xenophobia.', spans=[Span(text='American historian', start=0, end=18, label='PERSONTYPE', token_start=0, token_end=1), Span(text='Kenneth C. Davis', start=19, end=35, label='PERSON', token_start=2, token_end=4), Span(text='New York Times', start=46, end=60, label='ORG', token_start=8, token_end=10), Span(text='Franklin', start=72, end=80, label='PERSON', token_start=15, token_end=15), Span(text='immigrants', start=95, end=112, label='PERSONTYPE', token_start=19, token_end=20), Span(text='immigrants', start=205, end=215, label='PERSONTYPE', token_start=43, token_end=43)], tokens=[Token(text='American', start=0, end=8, id=0), Token(text='historian', start=9, end=18, id=1), Token(text='Kenneth', start=19, end=26, id=2), Token(text='C.', start=27, end=29, id=3), Token(text='Davis', start=30, end=35, id=4), Token(text='said', start=36, end=40, id=5), Token(text='in', start=41, end=43, id=6), Token(text='a', start=44, end=45, id=7), Token(text='New', start=46, end=49, id=8), Token(text='York', start=50, end=54, id=9), Token(text='Times', start=55, end=60, id=10), Token(text='Op', start=61, end=63, id=11), Token(text='-', start=63, end=64, id=12), Token(text='Ed', start=64, end=66, id=13), Token(text='that', start=67, end=71, id=14), Token(text='Franklin', start=72, end=80, id=15), Token(text=\"'s\", start=80, end=82, id=16), Token(text='worry', start=83, end=88, id=17), Token(text='about', start=89, end=94, id=18), Token(text='German', start=95, end=101, id=19), Token(text='immigrants', start=102, end=112, id=20), Token(text='is', start=113, end=115, id=21), Token(text='evidence', start=116, end=124, id=22), Token(text='that', start=125, end=129, id=23), Token(text='as', start=130, end=132, id=24), Token(text='long', start=133, end=137, id=25), Token(text='as', start=138, end=140, id=26), Token(text='we', start=141, end=143, id=27), Token(text='have', start=144, end=148, id=28), Token(text='thought', start=149, end=156, id=29), Token(text='of', start=157, end=159, id=30), Token(text='ourselves', start=160, end=169, id=31), Token(text='as', start=170, end=172, id=32), Token(text='a', start=173, end=174, id=33), Token(text='\"', start=175, end=176, id=34), Token(text='melting', start=176, end=183, id=35), Token(text='pot', start=184, end=187, id=36), Token(text='\"', start=187, end=188, id=37), Token(text='or', start=189, end=191, id=38), Token(text='a', start=192, end=193, id=39), Token(text='\"', start=194, end=195, id=40), Token(text='nation', start=195, end=201, id=41), Token(text='of', start=202, end=204, id=42), Token(text='immigrants', start=205, end=215, id=43), Token(text=',', start=215, end=216, id=44), Token(text='\"', start=216, end=217, id=45), Token(text='we', start=218, end=220, id=46), Token(text='have', start=221, end=225, id=47), Token(text='also', start=226, end=230, id=48), Token(text='harbored', start=231, end=239, id=49), Token(text='a', start=240, end=241, id=50), Token(text='strong', start=242, end=248, id=51), Token(text='strain', start=249, end=255, id=52), Token(text='of', start=256, end=258, id=53), Token(text='xenophobia', start=259, end=269, id=54), Token(text='.', start=269, end=270, id=55)], meta={'source': 'Cognitive Services Training Set'})\n",
      "Example(text=\"A convoy carrying American humanitarian aid arrived at the Colombia-Venezuela border as the U.S. and Venezuela's interim president Juan Guaido pressure President Nicolas Maduro to let the aid in.\", spans=[Span(text='Colombia', start=59, end=67, label='GPE', token_start=9, token_end=9), Span(text='Venezuela', start=68, end=77, label='GPE', token_start=11, token_end=11), Span(text='border', start=78, end=84, label='LOC', token_start=12, token_end=12), Span(text='U.S.', start=92, end=96, label='GPE', token_start=15, token_end=15), Span(text='Venezuela', start=101, end=110, label='GPE', token_start=17, token_end=17), Span(text='Juan Guaido', start=131, end=142, label='PERSON', token_start=21, token_end=22), Span(text='Nicolas Maduro', start=162, end=176, label='PERSON', token_start=25, token_end=26)], tokens=[Token(text='A', start=0, end=1, id=0), Token(text='convoy', start=2, end=8, id=1), Token(text='carrying', start=9, end=17, id=2), Token(text='American', start=18, end=26, id=3), Token(text='humanitarian', start=27, end=39, id=4), Token(text='aid', start=40, end=43, id=5), Token(text='arrived', start=44, end=51, id=6), Token(text='at', start=52, end=54, id=7), Token(text='the', start=55, end=58, id=8), Token(text='Colombia', start=59, end=67, id=9), Token(text='-', start=67, end=68, id=10), Token(text='Venezuela', start=68, end=77, id=11), Token(text='border', start=78, end=84, id=12), Token(text='as', start=85, end=87, id=13), Token(text='the', start=88, end=91, id=14), Token(text='U.S.', start=92, end=96, id=15), Token(text='and', start=97, end=100, id=16), Token(text='Venezuela', start=101, end=110, id=17), Token(text=\"'s\", start=110, end=112, id=18), Token(text='interim', start=113, end=120, id=19), Token(text='president', start=121, end=130, id=20), Token(text='Juan', start=131, end=135, id=21), Token(text='Guaido', start=136, end=142, id=22), Token(text='pressure', start=143, end=151, id=23), Token(text='President', start=152, end=161, id=24), Token(text='Nicolas', start=162, end=169, id=25), Token(text='Maduro', start=170, end=176, id=26), Token(text='to', start=177, end=179, id=27), Token(text='let', start=180, end=183, id=28), Token(text='the', start=184, end=187, id=29), Token(text='aid', start=188, end=191, id=30), Token(text='in', start=192, end=194, id=31), Token(text='.', start=194, end=195, id=32)], meta={'source': 'Cognitive Services Training Set'})\n",
      "Example(text='Gaylord Kent Conrad (born March 12, 1948) is a former American politician who was a United States Senator from North Dakota.', spans=[Span(text='Gaylord Kent Conrad', start=0, end=19, label='PERSON', token_start=0, token_end=2), Span(text='March 12, 1948', start=26, end=40, label='DATE', token_start=5, token_end=8), Span(text='American politician', start=54, end=73, label='PERSONTYPE', token_start=13, token_end=14), Span(text='United States Senator', start=84, end=105, label='PERSONTYPE', token_start=18, token_end=20), Span(text='North Dakota', start=111, end=123, label='GPE', token_start=22, token_end=23)], tokens=[Token(text='Gaylord', start=0, end=7, id=0), Token(text='Kent', start=8, end=12, id=1), Token(text='Conrad', start=13, end=19, id=2), Token(text='(', start=20, end=21, id=3), Token(text='born', start=21, end=25, id=4), Token(text='March', start=26, end=31, id=5), Token(text='12', start=32, end=34, id=6), Token(text=',', start=34, end=35, id=7), Token(text='1948', start=36, end=40, id=8), Token(text=')', start=40, end=41, id=9), Token(text='is', start=42, end=44, id=10), Token(text='a', start=45, end=46, id=11), Token(text='former', start=47, end=53, id=12), Token(text='American', start=54, end=62, id=13), Token(text='politician', start=63, end=73, id=14), Token(text='who', start=74, end=77, id=15), Token(text='was', start=78, end=81, id=16), Token(text='a', start=82, end=83, id=17), Token(text='United', start=84, end=90, id=18), Token(text='States', start=91, end=97, id=19), Token(text='Senator', start=98, end=105, id=20), Token(text='from', start=106, end=110, id=21), Token(text='North', start=111, end=116, id=22), Token(text='Dakota', start=117, end=123, id=23), Token(text='.', start=123, end=124, id=24)], meta={'source': 'Cognitive Services Training Set'})\n",
      "====================================================================================================\n",
      "\n",
      "text              year       \n",
      "True Label        DATERANGE  \n",
      "Predicted Label   NOT_LABELED\n",
      "N Errors          355        \n",
      "\n",
      "Example(text='\\ufeffNEW DELHI:IN a move that could benefit six crore subscribers, the Employees’ Provident Fund Organisation (EPFO) on Thursday proposed to raise the interest rate on Employee Provident Fund to 8.65 per cent for the current financial year.', spans=[Span(text='DELHI', start=5, end=10, label='GPE', token_start=1, token_end=None), Span(text='six crore', start=40, end=49, label='NUMBER', token_start=9, token_end=10), Span(text='subscribers', start=50, end=61, label='PERSONTYPE', token_start=11, token_end=11), Span(text='Employees’ Provident Fund Organisation', start=67, end=105, label='ORG', token_start=14, token_end=18), Span(text='Thursday', start=116, end=124, label='DATE', token_start=23, token_end=23), Span(text='8.65 per cent', start=191, end=204, label='PERCENT', token_start=35, token_end=37), Span(text='year', start=231, end=235, label='DATERANGE', token_start=42, token_end=42)], tokens=[Token(text='\\ufeffNEW', start=0, end=4, id=0), Token(text='DELHI', start=5, end=10, id=1), Token(text=':', start=10, end=11, id=2), Token(text='IN', start=11, end=13, id=3), Token(text='a', start=14, end=15, id=4), Token(text='move', start=16, end=20, id=5), Token(text='that', start=21, end=25, id=6), Token(text='could', start=26, end=31, id=7), Token(text='benefit', start=32, end=39, id=8), Token(text='six', start=40, end=43, id=9), Token(text='crore', start=44, end=49, id=10), Token(text='subscribers', start=50, end=61, id=11), Token(text=',', start=61, end=62, id=12), Token(text='the', start=63, end=66, id=13), Token(text='Employees', start=67, end=76, id=14), Token(text='’', start=76, end=77, id=15), Token(text='Provident', start=78, end=87, id=16), Token(text='Fund', start=88, end=92, id=17), Token(text='Organisation', start=93, end=105, id=18), Token(text='(', start=106, end=107, id=19), Token(text='EPFO', start=107, end=111, id=20), Token(text=')', start=111, end=112, id=21), Token(text='on', start=113, end=115, id=22), Token(text='Thursday', start=116, end=124, id=23), Token(text='proposed', start=125, end=133, id=24), Token(text='to', start=134, end=136, id=25), Token(text='raise', start=137, end=142, id=26), Token(text='the', start=143, end=146, id=27), Token(text='interest', start=147, end=155, id=28), Token(text='rate', start=156, end=160, id=29), Token(text='on', start=161, end=163, id=30), Token(text='Employee', start=164, end=172, id=31), Token(text='Provident', start=173, end=182, id=32), Token(text='Fund', start=183, end=187, id=33), Token(text='to', start=188, end=190, id=34), Token(text='8.65', start=191, end=195, id=35), Token(text='per', start=196, end=199, id=36), Token(text='cent', start=200, end=204, id=37), Token(text='for', start=205, end=208, id=38), Token(text='the', start=209, end=212, id=39), Token(text='current', start=213, end=220, id=40), Token(text='financial', start=221, end=230, id=41), Token(text='year', start=231, end=235, id=42), Token(text='.', start=235, end=236, id=43)], meta={'source': 'Cognitive Services Training Set'})\n",
      "Example(text=\"The following year, he went on to play 'Poor Tom' in another Welles project, the TV film of King Lear (1953) for CBS.\", spans=[Span(text='year', start=14, end=18, label='DATERANGE', token_start=2, token_end=2), Span(text='1953', start=103, end=107, label='DATERANGE', token_start=25, token_end=25), Span(text='CBS', start=113, end=116, label='ORG', token_start=28, token_end=28)], tokens=[Token(text='The', start=0, end=3, id=0), Token(text='following', start=4, end=13, id=1), Token(text='year', start=14, end=18, id=2), Token(text=',', start=18, end=19, id=3), Token(text='he', start=20, end=22, id=4), Token(text='went', start=23, end=27, id=5), Token(text='on', start=28, end=30, id=6), Token(text='to', start=31, end=33, id=7), Token(text='play', start=34, end=38, id=8), Token(text=\"'\", start=39, end=40, id=9), Token(text='Poor', start=40, end=44, id=10), Token(text='Tom', start=45, end=48, id=11), Token(text=\"'\", start=48, end=49, id=12), Token(text='in', start=50, end=52, id=13), Token(text='another', start=53, end=60, id=14), Token(text='Welles', start=61, end=67, id=15), Token(text='project', start=68, end=75, id=16), Token(text=',', start=75, end=76, id=17), Token(text='the', start=77, end=80, id=18), Token(text='TV', start=81, end=83, id=19), Token(text='film', start=84, end=88, id=20), Token(text='of', start=89, end=91, id=21), Token(text='King', start=92, end=96, id=22), Token(text='Lear', start=97, end=101, id=23), Token(text='(', start=102, end=103, id=24), Token(text='1953', start=103, end=107, id=25), Token(text=')', start=107, end=108, id=26), Token(text='for', start=109, end=112, id=27), Token(text='CBS', start=113, end=116, id=28), Token(text='.', start=116, end=117, id=29)], meta={'source': 'Cognitive Services Training Set'})\n",
      "Example(text=\"That same year, Eleniak began in a recurring role on the TV series Charles in Charge as Charles's girlfriend, Stephanie Curtis.\", spans=[Span(text='year', start=10, end=14, label='DATERANGE', token_start=2, token_end=2), Span(text='Eleniak', start=16, end=23, label='PERSON', token_start=4, token_end=4), Span(text='Charles', start=67, end=74, label='PERSON', token_start=14, token_end=14), Span(text='Charles', start=88, end=95, label='PERSON', token_start=18, token_end=18), Span(text='girlfriend-offset', start=98, end=108, label='PERSONTYPE', token_start=20, token_end=20), Span(text='Stephanie Curtis', start=110, end=126, label='PERSON', token_start=22, token_end=23)], tokens=[Token(text='That', start=0, end=4, id=0), Token(text='same', start=5, end=9, id=1), Token(text='year', start=10, end=14, id=2), Token(text=',', start=14, end=15, id=3), Token(text='Eleniak', start=16, end=23, id=4), Token(text='began', start=24, end=29, id=5), Token(text='in', start=30, end=32, id=6), Token(text='a', start=33, end=34, id=7), Token(text='recurring', start=35, end=44, id=8), Token(text='role', start=45, end=49, id=9), Token(text='on', start=50, end=52, id=10), Token(text='the', start=53, end=56, id=11), Token(text='TV', start=57, end=59, id=12), Token(text='series', start=60, end=66, id=13), Token(text='Charles', start=67, end=74, id=14), Token(text='in', start=75, end=77, id=15), Token(text='Charge', start=78, end=84, id=16), Token(text='as', start=85, end=87, id=17), Token(text='Charles', start=88, end=95, id=18), Token(text=\"'s\", start=95, end=97, id=19), Token(text='girlfriend', start=98, end=108, id=20), Token(text=',', start=108, end=109, id=21), Token(text='Stephanie', start=110, end=119, id=22), Token(text='Curtis', start=120, end=126, id=23), Token(text='.', start=126, end=127, id=24)], meta={'source': 'Cognitive Services Training Set'})\n",
      "====================================================================================================\n",
      "\n",
      "text                         \n",
      "True Label        PERSON     \n",
      "Predicted Label   NOT_LABELED\n",
      "N Errors          313        \n",
      "\n",
      "Example(text='In1959, PresidentSukarno introduced his concept of Guided Democracy, in which so-called functional groups would play a role in government in place of political parties.', spans=[Span(text=',', start=6, end=6, label='DATERANGE', token_start=1, token_end=None), Span(text='introduced', start=25, end=24, label='PERSON', token_start=3, token_end=None)], tokens=[Token(text='In1959', start=0, end=6, id=0), Token(text=',', start=6, end=7, id=1), Token(text='PresidentSukarno', start=8, end=24, id=2), Token(text='introduced', start=25, end=35, id=3), Token(text='his', start=36, end=39, id=4), Token(text='concept', start=40, end=47, id=5), Token(text='of', start=48, end=50, id=6), Token(text='Guided', start=51, end=57, id=7), Token(text='Democracy', start=58, end=67, id=8), Token(text=',', start=67, end=68, id=9), Token(text='in', start=69, end=71, id=10), Token(text='which', start=72, end=77, id=11), Token(text='so', start=78, end=80, id=12), Token(text='-', start=80, end=81, id=13), Token(text='called', start=81, end=87, id=14), Token(text='functional', start=88, end=98, id=15), Token(text='groups', start=99, end=105, id=16), Token(text='would', start=106, end=111, id=17), Token(text='play', start=112, end=116, id=18), Token(text='a', start=117, end=118, id=19), Token(text='role', start=119, end=123, id=20), Token(text='in', start=124, end=126, id=21), Token(text='government', start=127, end=137, id=22), Token(text='in', start=138, end=140, id=23), Token(text='place', start=141, end=146, id=24), Token(text='of', start=147, end=149, id=25), Token(text='political', start=150, end=159, id=26), Token(text='parties', start=160, end=167, id=27), Token(text='.', start=167, end=168, id=28)], meta={'source': 'Cognitive Services Training Set'})\n",
      "Example(text='\\ufeffStayner murdered three tourists near Yosemite National Park in 1999.', spans=[Span(text='murdered', start=9, end=8, label='PERSON', token_start=1, token_end=None), Span(text='three', start=18, end=23, label='NUMBER', token_start=2, token_end=2), Span(text='tourists', start=24, end=32, label='PERSONTYPE', token_start=3, token_end=3), Span(text='Yosemite National Park', start=38, end=60, label='LOC', token_start=5, token_end=7), Span(text='1999', start=64, end=68, label='DATERANGE', token_start=9, token_end=9)], tokens=[Token(text='\\ufeffStayner', start=0, end=8, id=0), Token(text='murdered', start=9, end=17, id=1), Token(text='three', start=18, end=23, id=2), Token(text='tourists', start=24, end=32, id=3), Token(text='near', start=33, end=37, id=4), Token(text='Yosemite', start=38, end=46, id=5), Token(text='National', start=47, end=55, id=6), Token(text='Park', start=56, end=60, id=7), Token(text='in', start=61, end=63, id=8), Token(text='1999', start=64, end=68, id=9), Token(text='.', start=68, end=69, id=10)], meta={'source': 'Cognitive Services Training Set'})\n",
      "Example(text='The younger Koenig, who appeared on \"Star Trek: Deep Space Nine\" and played TheJoker in 2003\\'s \"Batman: Dead End,\" hated being known for his \"Growing Pains\" role and \"Star Trek\" connection, according to his friend, writer/producer Lance Miccio.', spans=[Span(text='Koenig', start=12, end=18, label='PERSON', token_start=2, token_end=2), Span(text='in', start=85, end=84, label='PERSON', token_start=18, token_end=None), Span(text='2003', start=88, end=92, label='DATERANGE', token_start=19, token_end=19), Span(text='Batman', start=96, end=102, label='PERSON', token_start=22, token_end=22), Span(text='friend-offset', start=207, end=213, label='PERSONTYPE', token_start=48, token_end=48), Span(text='writer', start=215, end=221, label='PERSONTYPE', token_start=50, token_end=50), Span(text='producer', start=222, end=230, label='PERSONTYPE', token_start=52, token_end=52), Span(text='Lance Miccio', start=231, end=243, label='PERSON', token_start=53, token_end=54)], tokens=[Token(text='The', start=0, end=3, id=0), Token(text='younger', start=4, end=11, id=1), Token(text='Koenig', start=12, end=18, id=2), Token(text=',', start=18, end=19, id=3), Token(text='who', start=20, end=23, id=4), Token(text='appeared', start=24, end=32, id=5), Token(text='on', start=33, end=35, id=6), Token(text='\"', start=36, end=37, id=7), Token(text='Star', start=37, end=41, id=8), Token(text='Trek', start=42, end=46, id=9), Token(text=':', start=46, end=47, id=10), Token(text='Deep', start=48, end=52, id=11), Token(text='Space', start=53, end=58, id=12), Token(text='Nine', start=59, end=63, id=13), Token(text='\"', start=63, end=64, id=14), Token(text='and', start=65, end=68, id=15), Token(text='played', start=69, end=75, id=16), Token(text='TheJoker', start=76, end=84, id=17), Token(text='in', start=85, end=87, id=18), Token(text='2003', start=88, end=92, id=19), Token(text=\"'s\", start=92, end=94, id=20), Token(text='\"', start=95, end=96, id=21), Token(text='Batman', start=96, end=102, id=22), Token(text=':', start=102, end=103, id=23), Token(text='Dead', start=104, end=108, id=24), Token(text='End', start=109, end=112, id=25), Token(text=',', start=112, end=113, id=26), Token(text='\"', start=113, end=114, id=27), Token(text='hated', start=115, end=120, id=28), Token(text='being', start=121, end=126, id=29), Token(text='known', start=127, end=132, id=30), Token(text='for', start=133, end=136, id=31), Token(text='his', start=137, end=140, id=32), Token(text='\"', start=141, end=142, id=33), Token(text='Growing', start=142, end=149, id=34), Token(text='Pains', start=150, end=155, id=35), Token(text='\"', start=155, end=156, id=36), Token(text='role', start=157, end=161, id=37), Token(text='and', start=162, end=165, id=38), Token(text='\"', start=166, end=167, id=39), Token(text='Star', start=167, end=171, id=40), Token(text='Trek', start=172, end=176, id=41), Token(text='\"', start=176, end=177, id=42), Token(text='connection', start=178, end=188, id=43), Token(text=',', start=188, end=189, id=44), Token(text='according', start=190, end=199, id=45), Token(text='to', start=200, end=202, id=46), Token(text='his', start=203, end=206, id=47), Token(text='friend', start=207, end=213, id=48), Token(text=',', start=213, end=214, id=49), Token(text='writer', start=215, end=221, id=50), Token(text='/', start=221, end=222, id=51), Token(text='producer', start=222, end=230, id=52), Token(text='Lance', start=231, end=236, id=53), Token(text='Miccio', start=237, end=243, id=54), Token(text='.', start=243, end=244, id=55)], meta={'source': 'Cognitive Services Training Set'})\n",
      "====================================================================================================\n",
      "\n",
      "text                         \n",
      "True Label        PERSONTYPE \n",
      "Predicted Label   NOT_LABELED\n",
      "N Errors          290        \n",
      "\n",
      "Example(text='Still,Rabbi Solomon Efraimof Lontschitz (the author of \"Kli Yakar\"), a prominent and well knownrabbi, lived here.', spans=[Span(text='Rabbi', start=6, end=11, label='PERSONTYPE', token_start=2, token_end=2), Span(text='Efraimof', start=12, end=28, label='PERSON', token_start=3, token_end=4), Span(text=',', start=100, end=100, label='PERSONTYPE', token_start=21, token_end=None)], tokens=[Token(text='Still', start=0, end=5, id=0), Token(text=',', start=5, end=6, id=1), Token(text='Rabbi', start=6, end=11, id=2), Token(text='Solomon', start=12, end=19, id=3), Token(text='Efraimof', start=20, end=28, id=4), Token(text='Lontschitz', start=29, end=39, id=5), Token(text='(', start=40, end=41, id=6), Token(text='the', start=41, end=44, id=7), Token(text='author', start=45, end=51, id=8), Token(text='of', start=52, end=54, id=9), Token(text='\"', start=55, end=56, id=10), Token(text='Kli', start=56, end=59, id=11), Token(text='Yakar', start=60, end=65, id=12), Token(text='\"', start=65, end=66, id=13), Token(text=')', start=66, end=67, id=14), Token(text=',', start=67, end=68, id=15), Token(text='a', start=69, end=70, id=16), Token(text='prominent', start=71, end=80, id=17), Token(text='and', start=81, end=84, id=18), Token(text='well', start=85, end=89, id=19), Token(text='knownrabbi', start=90, end=100, id=20), Token(text=',', start=100, end=101, id=21), Token(text='lived', start=102, end=107, id=22), Token(text='here', start=108, end=112, id=23), Token(text='.', start=112, end=113, id=24)], meta={'source': 'Cognitive Services Training Set'})\n",
      "Example(text='The bench had granted the real estate firm and its incarceratedMD time till March 26 to give a list of its unencumbered properties in India and abroad.', spans=[Span(text='time', start=66, end=65, label='PERSONTYPE', token_start=11, token_end=None), Span(text='March 26', start=76, end=84, label='DATE', token_start=13, token_end=14), Span(text='India', start=134, end=139, label='GPE', token_start=24, token_end=24)], tokens=[Token(text='The', start=0, end=3, id=0), Token(text='bench', start=4, end=9, id=1), Token(text='had', start=10, end=13, id=2), Token(text='granted', start=14, end=21, id=3), Token(text='the', start=22, end=25, id=4), Token(text='real', start=26, end=30, id=5), Token(text='estate', start=31, end=37, id=6), Token(text='firm', start=38, end=42, id=7), Token(text='and', start=43, end=46, id=8), Token(text='its', start=47, end=50, id=9), Token(text='incarceratedMD', start=51, end=65, id=10), Token(text='time', start=66, end=70, id=11), Token(text='till', start=71, end=75, id=12), Token(text='March', start=76, end=81, id=13), Token(text='26', start=82, end=84, id=14), Token(text='to', start=85, end=87, id=15), Token(text='give', start=88, end=92, id=16), Token(text='a', start=93, end=94, id=17), Token(text='list', start=95, end=99, id=18), Token(text='of', start=100, end=102, id=19), Token(text='its', start=103, end=106, id=20), Token(text='unencumbered', start=107, end=119, id=21), Token(text='properties', start=120, end=130, id=22), Token(text='in', start=131, end=133, id=23), Token(text='India', start=134, end=139, id=24), Token(text='and', start=140, end=143, id=25), Token(text='abroad', start=144, end=150, id=26), Token(text='.', start=150, end=151, id=27)], meta={'source': 'Cognitive Services Training Set'})\n",
      "Example(text=\"Investigations by independent researchers and journalists later proved the two were in fact Anatoly Chepiga, a special forcesofficer, and Alexander Mishkin, a military doctor, who had both been awarded Russia's highest state honor.\", spans=[Span(text='Investigations', start=0, end=14, label='EVENT', token_start=0, token_end=0), Span(text='researchers', start=30, end=41, label='PERSONTYPE', token_start=3, token_end=3), Span(text='journalists', start=46, end=57, label='PERSONTYPE', token_start=5, token_end=5), Span(text='Anatoly Chepiga', start=92, end=107, label='PERSON', token_start=13, token_end=14), Span(text=',', start=132, end=132, label='PERSONTYPE', token_start=19, token_end=None), Span(text='Alexander Mishkin', start=138, end=155, label='PERSON', token_start=21, token_end=22), Span(text='military', start=159, end=167, label='ORG', token_start=25, token_end=25), Span(text='doctor', start=168, end=174, label='PERSONTYPE', token_start=26, token_end=26), Span(text='Russia', start=202, end=208, label='GPE', token_start=33, token_end=33)], tokens=[Token(text='Investigations', start=0, end=14, id=0), Token(text='by', start=15, end=17, id=1), Token(text='independent', start=18, end=29, id=2), Token(text='researchers', start=30, end=41, id=3), Token(text='and', start=42, end=45, id=4), Token(text='journalists', start=46, end=57, id=5), Token(text='later', start=58, end=63, id=6), Token(text='proved', start=64, end=70, id=7), Token(text='the', start=71, end=74, id=8), Token(text='two', start=75, end=78, id=9), Token(text='were', start=79, end=83, id=10), Token(text='in', start=84, end=86, id=11), Token(text='fact', start=87, end=91, id=12), Token(text='Anatoly', start=92, end=99, id=13), Token(text='Chepiga', start=100, end=107, id=14), Token(text=',', start=107, end=108, id=15), Token(text='a', start=109, end=110, id=16), Token(text='special', start=111, end=118, id=17), Token(text='forcesofficer', start=119, end=132, id=18), Token(text=',', start=132, end=133, id=19), Token(text='and', start=134, end=137, id=20), Token(text='Alexander', start=138, end=147, id=21), Token(text='Mishkin', start=148, end=155, id=22), Token(text=',', start=155, end=156, id=23), Token(text='a', start=157, end=158, id=24), Token(text='military', start=159, end=167, id=25), Token(text='doctor', start=168, end=174, id=26), Token(text=',', start=174, end=175, id=27), Token(text='who', start=176, end=179, id=28), Token(text='had', start=180, end=183, id=29), Token(text='both', start=184, end=188, id=30), Token(text='been', start=189, end=193, id=31), Token(text='awarded', start=194, end=201, id=32), Token(text='Russia', start=202, end=208, id=33), Token(text=\"'s\", start=208, end=210, id=34), Token(text='highest', start=211, end=218, id=35), Token(text='state', start=219, end=224, id=36), Token(text='honor', start=225, end=230, id=37), Token(text='.', start=230, end=231, id=38)], meta={'source': 'Cognitive Services Training Set'})\n",
      "====================================================================================================\n",
      "****************************************************************************************************\n",
      "****************************************************************************************************\n",
      "\n",
      "text              city       \n",
      "True Label        LOC        \n",
      "Predicted Label   NOT_LABELED\n",
      "N Errors          75         \n",
      "\n",
      "Example(text='The city hosts the Neste Oil Rally Finland, which is part of the World Rally Championship.', spans=[Span(text='city', start=4, end=8, label='LOC', token_start=1, token_end=1), Span(text='Neste Oil Rally Finland', start=19, end=42, label='EVENT', token_start=4, token_end=7), Span(text='Championship', start=65, end=89, label='EVENT', token_start=14, token_end=16)], tokens=[Token(text='The', start=0, end=3, id=0), Token(text='city', start=4, end=8, id=1), Token(text='hosts', start=9, end=14, id=2), Token(text='the', start=15, end=18, id=3), Token(text='Neste', start=19, end=24, id=4), Token(text='Oil', start=25, end=28, id=5), Token(text='Rally', start=29, end=34, id=6), Token(text='Finland', start=35, end=42, id=7), Token(text=',', start=42, end=43, id=8), Token(text='which', start=44, end=49, id=9), Token(text='is', start=50, end=52, id=10), Token(text='part', start=53, end=57, id=11), Token(text='of', start=58, end=60, id=12), Token(text='the', start=61, end=64, id=13), Token(text='World', start=65, end=70, id=14), Token(text='Rally', start=71, end=76, id=15), Token(text='Championship', start=77, end=89, id=16), Token(text='.', start=89, end=90, id=17)], meta={'source': 'Cognitive Services Training Set'})\n",
      "Example(text='This was quickly repealed when then-Col. James A. Garfield marched his brigade into the city.', spans=[Span(text='James A. Garfield', start=41, end=58, label='PERSON', token_start=9, token_end=11), Span(text='city', start=88, end=92, label='LOC', token_start=17, token_end=17)], tokens=[Token(text='This', start=0, end=4, id=0), Token(text='was', start=5, end=8, id=1), Token(text='quickly', start=9, end=16, id=2), Token(text='repealed', start=17, end=25, id=3), Token(text='when', start=26, end=30, id=4), Token(text='then', start=31, end=35, id=5), Token(text='-', start=35, end=36, id=6), Token(text='Col', start=36, end=39, id=7), Token(text='.', start=39, end=40, id=8), Token(text='James', start=41, end=46, id=9), Token(text='A.', start=47, end=49, id=10), Token(text='Garfield', start=50, end=58, id=11), Token(text='marched', start=59, end=66, id=12), Token(text='his', start=67, end=70, id=13), Token(text='brigade', start=71, end=78, id=14), Token(text='into', start=79, end=83, id=15), Token(text='the', start=84, end=87, id=16), Token(text='city', start=88, end=92, id=17), Token(text='.', start=92, end=93, id=18)], meta={'source': 'Cognitive Services Training Set'})\n",
      "Example(text='Societies may also be structured politically with the leader usually a president residing in the capital city.', spans=[Span(text='leader', start=54, end=60, label='PERSONTYPE', token_start=8, token_end=8), Span(text='president', start=71, end=80, label='PERSONTYPE', token_start=11, token_end=11), Span(text='city', start=105, end=109, label='LOC', token_start=16, token_end=16)], tokens=[Token(text='Societies', start=0, end=9, id=0), Token(text='may', start=10, end=13, id=1), Token(text='also', start=14, end=18, id=2), Token(text='be', start=19, end=21, id=3), Token(text='structured', start=22, end=32, id=4), Token(text='politically', start=33, end=44, id=5), Token(text='with', start=45, end=49, id=6), Token(text='the', start=50, end=53, id=7), Token(text='leader', start=54, end=60, id=8), Token(text='usually', start=61, end=68, id=9), Token(text='a', start=69, end=70, id=10), Token(text='president', start=71, end=80, id=11), Token(text='residing', start=81, end=89, id=12), Token(text='in', start=90, end=92, id=13), Token(text='the', start=93, end=96, id=14), Token(text='capital', start=97, end=104, id=15), Token(text='city', start=105, end=109, id=16), Token(text='.', start=109, end=110, id=17)], meta={'source': 'Cognitive Services Training Set'})\n",
      "====================================================================================================\n",
      "\n",
      "text              one        \n",
      "True Label        NUMBER     \n",
      "Predicted Label   NOT_LABELED\n",
      "N Errors          66         \n",
      "\n",
      "Example(text='Garcia said her income comes from her YouTube videos that now feature ads, her three books (two on slime and one on crafting), and her Craft City line as well as other deals.', spans=[Span(text='Garcia', start=0, end=6, label='PERSON', token_start=0, token_end=0), Span(text='YouTube', start=38, end=45, label='ORG', token_start=7, token_end=7), Span(text='three', start=79, end=84, label='NUMBER', token_start=15, token_end=15), Span(text='books', start=85, end=90, label='PRODUCT', token_start=16, token_end=16), Span(text='two', start=92, end=95, label='NUMBER', token_start=18, token_end=18), Span(text='one', start=109, end=112, label='NUMBER', token_start=22, token_end=22), Span(text='Craft City', start=135, end=145, label='ORG', token_start=29, token_end=30)], tokens=[Token(text='Garcia', start=0, end=6, id=0), Token(text='said', start=7, end=11, id=1), Token(text='her', start=12, end=15, id=2), Token(text='income', start=16, end=22, id=3), Token(text='comes', start=23, end=28, id=4), Token(text='from', start=29, end=33, id=5), Token(text='her', start=34, end=37, id=6), Token(text='YouTube', start=38, end=45, id=7), Token(text='videos', start=46, end=52, id=8), Token(text='that', start=53, end=57, id=9), Token(text='now', start=58, end=61, id=10), Token(text='feature', start=62, end=69, id=11), Token(text='ads', start=70, end=73, id=12), Token(text=',', start=73, end=74, id=13), Token(text='her', start=75, end=78, id=14), Token(text='three', start=79, end=84, id=15), Token(text='books', start=85, end=90, id=16), Token(text='(', start=91, end=92, id=17), Token(text='two', start=92, end=95, id=18), Token(text='on', start=96, end=98, id=19), Token(text='slime', start=99, end=104, id=20), Token(text='and', start=105, end=108, id=21), Token(text='one', start=109, end=112, id=22), Token(text='on', start=113, end=115, id=23), Token(text='crafting', start=116, end=124, id=24), Token(text=')', start=124, end=125, id=25), Token(text=',', start=125, end=126, id=26), Token(text='and', start=127, end=130, id=27), Token(text='her', start=131, end=134, id=28), Token(text='Craft', start=135, end=140, id=29), Token(text='City', start=141, end=145, id=30), Token(text='line', start=146, end=150, id=31), Token(text='as', start=151, end=153, id=32), Token(text='well', start=154, end=158, id=33), Token(text='as', start=159, end=161, id=34), Token(text='other', start=162, end=167, id=35), Token(text='deals', start=168, end=173, id=36), Token(text='.', start=173, end=174, id=37)], meta={'source': 'Cognitive Services Training Set'})\n",
      "Example(text='In a lengthy Twitter post yesterday, Shafi had said she had been subjected to sexual harassment \"of a physical nature\" at the hands of Zafar on more than one occasion.', spans=[Span(text='Twitter', start=13, end=20, label='ORG', token_start=3, token_end=3), Span(text='Shafi', start=37, end=42, label='PERSON', token_start=7, token_end=7), Span(text='sexual harassment', start=78, end=95, label='EVENT', token_start=15, token_end=16), Span(text='Zafar', start=135, end=140, label='PERSON', token_start=27, token_end=27), Span(text='one', start=154, end=157, label='NUMBER', token_start=31, token_end=31)], tokens=[Token(text='In', start=0, end=2, id=0), Token(text='a', start=3, end=4, id=1), Token(text='lengthy', start=5, end=12, id=2), Token(text='Twitter', start=13, end=20, id=3), Token(text='post', start=21, end=25, id=4), Token(text='yesterday', start=26, end=35, id=5), Token(text=',', start=35, end=36, id=6), Token(text='Shafi', start=37, end=42, id=7), Token(text='had', start=43, end=46, id=8), Token(text='said', start=47, end=51, id=9), Token(text='she', start=52, end=55, id=10), Token(text='had', start=56, end=59, id=11), Token(text='been', start=60, end=64, id=12), Token(text='subjected', start=65, end=74, id=13), Token(text='to', start=75, end=77, id=14), Token(text='sexual', start=78, end=84, id=15), Token(text='harassment', start=85, end=95, id=16), Token(text='\"', start=96, end=97, id=17), Token(text='of', start=97, end=99, id=18), Token(text='a', start=100, end=101, id=19), Token(text='physical', start=102, end=110, id=20), Token(text='nature', start=111, end=117, id=21), Token(text='\"', start=117, end=118, id=22), Token(text='at', start=119, end=121, id=23), Token(text='the', start=122, end=125, id=24), Token(text='hands', start=126, end=131, id=25), Token(text='of', start=132, end=134, id=26), Token(text='Zafar', start=135, end=140, id=27), Token(text='on', start=141, end=143, id=28), Token(text='more', start=144, end=148, id=29), Token(text='than', start=149, end=153, id=30), Token(text='one', start=154, end=157, id=31), Token(text='occasion', start=158, end=166, id=32), Token(text='.', start=166, end=167, id=33)], meta={'source': 'Cognitive Services Training Set'})\n",
      "Example(text='Babol is on the north-east of Tehran and is one of the most important cities in the north of Iran.', spans=[Span(text='Babol', start=0, end=5, label='GPE', token_start=0, token_end=0), Span(text='Tehran', start=30, end=36, label='GPE', token_start=8, token_end=8), Span(text='one', start=44, end=47, label='NUMBER', token_start=11, token_end=11), Span(text='Iran', start=93, end=97, label='GPE', token_start=21, token_end=21)], tokens=[Token(text='Babol', start=0, end=5, id=0), Token(text='is', start=6, end=8, id=1), Token(text='on', start=9, end=11, id=2), Token(text='the', start=12, end=15, id=3), Token(text='north', start=16, end=21, id=4), Token(text='-', start=21, end=22, id=5), Token(text='east', start=22, end=26, id=6), Token(text='of', start=27, end=29, id=7), Token(text='Tehran', start=30, end=36, id=8), Token(text='and', start=37, end=40, id=9), Token(text='is', start=41, end=43, id=10), Token(text='one', start=44, end=47, id=11), Token(text='of', start=48, end=50, id=12), Token(text='the', start=51, end=54, id=13), Token(text='most', start=55, end=59, id=14), Token(text='important', start=60, end=69, id=15), Token(text='cities', start=70, end=76, id=16), Token(text='in', start=77, end=79, id=17), Token(text='the', start=80, end=83, id=18), Token(text='north', start=84, end=89, id=19), Token(text='of', start=90, end=92, id=20), Token(text='Iran', start=93, end=97, id=21), Token(text='.', start=97, end=98, id=22)], meta={'source': 'Cognitive Services Training Set'})\n",
      "====================================================================================================\n",
      "\n",
      "text              town       \n",
      "True Label        LOC        \n",
      "Predicted Label   NOT_LABELED\n",
      "N Errors          63         \n",
      "\n",
      "Example(text='El Toboso is a town and municipality located in the Mancha Alta de Toledo comarca, province of Toledo, Castile-La Mancha, central Spain.', spans=[Span(text='El Toboso', start=0, end=9, label='GPE', token_start=0, token_end=1), Span(text='town', start=15, end=19, label='LOC', token_start=4, token_end=4), Span(text='Mancha Alta de Toledo comarca', start=52, end=81, label='GPE', token_start=10, token_end=14), Span(text='Toledo', start=95, end=101, label='GPE', token_start=18, token_end=18), Span(text='Castile-La Mancha', start=103, end=120, label='GPE', token_start=20, token_end=23), Span(text='Spain', start=130, end=135, label='GPE', token_start=26, token_end=26)], tokens=[Token(text='El', start=0, end=2, id=0), Token(text='Toboso', start=3, end=9, id=1), Token(text='is', start=10, end=12, id=2), Token(text='a', start=13, end=14, id=3), Token(text='town', start=15, end=19, id=4), Token(text='and', start=20, end=23, id=5), Token(text='municipality', start=24, end=36, id=6), Token(text='located', start=37, end=44, id=7), Token(text='in', start=45, end=47, id=8), Token(text='the', start=48, end=51, id=9), Token(text='Mancha', start=52, end=58, id=10), Token(text='Alta', start=59, end=63, id=11), Token(text='de', start=64, end=66, id=12), Token(text='Toledo', start=67, end=73, id=13), Token(text='comarca', start=74, end=81, id=14), Token(text=',', start=81, end=82, id=15), Token(text='province', start=83, end=91, id=16), Token(text='of', start=92, end=94, id=17), Token(text='Toledo', start=95, end=101, id=18), Token(text=',', start=101, end=102, id=19), Token(text='Castile', start=103, end=110, id=20), Token(text='-', start=110, end=111, id=21), Token(text='La', start=111, end=113, id=22), Token(text='Mancha', start=114, end=120, id=23), Token(text=',', start=120, end=121, id=24), Token(text='central', start=122, end=129, id=25), Token(text='Spain', start=130, end=135, id=26), Token(text='.', start=135, end=136, id=27)], meta={'source': 'Cognitive Services Training Set'})\n",
      "Example(text='The village lies mi East of the town of North Walsham.', spans=[Span(text='village', start=4, end=11, label='LOC', token_start=1, token_end=1), Span(text='town', start=32, end=36, label='LOC', token_start=7, token_end=7), Span(text='North Walsham', start=40, end=53, label='GPE', token_start=9, token_end=10)], tokens=[Token(text='The', start=0, end=3, id=0), Token(text='village', start=4, end=11, id=1), Token(text='lies', start=12, end=16, id=2), Token(text='mi', start=17, end=19, id=3), Token(text='East', start=20, end=24, id=4), Token(text='of', start=25, end=27, id=5), Token(text='the', start=28, end=31, id=6), Token(text='town', start=32, end=36, id=7), Token(text='of', start=37, end=39, id=8), Token(text='North', start=40, end=45, id=9), Token(text='Walsham', start=46, end=53, id=10), Token(text='.', start=53, end=54, id=11)], meta={'source': 'Cognitive Services Training Set'})\n",
      "Example(text='McSherrystown epitomizes the old small town feel, as there are no major retail shopping in the area besides a Food Lion grocery store.', spans=[Span(text='McSherrystown', start=0, end=13, label='GPE', token_start=0, token_end=0), Span(text='town', start=39, end=43, label='LOC', token_start=5, token_end=5), Span(text='Food Lion', start=110, end=119, label='ORG', token_start=20, token_end=21), Span(text='grocery store', start=120, end=133, label='LOC', token_start=22, token_end=23)], tokens=[Token(text='McSherrystown', start=0, end=13, id=0), Token(text='epitomizes', start=14, end=24, id=1), Token(text='the', start=25, end=28, id=2), Token(text='old', start=29, end=32, id=3), Token(text='small', start=33, end=38, id=4), Token(text='town', start=39, end=43, id=5), Token(text='feel', start=44, end=48, id=6), Token(text=',', start=48, end=49, id=7), Token(text='as', start=50, end=52, id=8), Token(text='there', start=53, end=58, id=9), Token(text='are', start=59, end=62, id=10), Token(text='no', start=63, end=65, id=11), Token(text='major', start=66, end=71, id=12), Token(text='retail', start=72, end=78, id=13), Token(text='shopping', start=79, end=87, id=14), Token(text='in', start=88, end=90, id=15), Token(text='the', start=91, end=94, id=16), Token(text='area', start=95, end=99, id=17), Token(text='besides', start=100, end=107, id=18), Token(text='a', start=108, end=109, id=19), Token(text='Food', start=110, end=114, id=20), Token(text='Lion', start=115, end=119, id=21), Token(text='grocery', start=120, end=127, id=22), Token(text='store', start=128, end=133, id=23), Token(text='.', start=133, end=134, id=24)], meta={'source': 'Cognitive Services Training Set'})\n",
      "====================================================================================================\n",
      "\n",
      "text              two        \n",
      "True Label        NOT_LABELED\n",
      "Predicted Label   NUMBER     \n",
      "N Errors          35         \n",
      "\n",
      "Example(text='Since the 1960s, the economy has been supported by two industries: tourism and the United States Armed Forces.', spans=[Span(text='1960s', start=10, end=15, label='DATERANGE', token_start=2, token_end=2), Span(text='United States Armed Forces.', start=83, end=110, label='ORG', token_start=16, token_end=20)], tokens=[Token(text='Since', start=0, end=5, id=0), Token(text='the', start=6, end=9, id=1), Token(text='1960s', start=10, end=15, id=2), Token(text=',', start=15, end=16, id=3), Token(text='the', start=17, end=20, id=4), Token(text='economy', start=21, end=28, id=5), Token(text='has', start=29, end=32, id=6), Token(text='been', start=33, end=37, id=7), Token(text='supported', start=38, end=47, id=8), Token(text='by', start=48, end=50, id=9), Token(text='two', start=51, end=54, id=10), Token(text='industries', start=55, end=65, id=11), Token(text=':', start=65, end=66, id=12), Token(text='tourism', start=67, end=74, id=13), Token(text='and', start=75, end=78, id=14), Token(text='the', start=79, end=82, id=15), Token(text='United', start=83, end=89, id=16), Token(text='States', start=90, end=96, id=17), Token(text='Armed', start=97, end=102, id=18), Token(text='Forces', start=103, end=109, id=19), Token(text='.', start=109, end=110, id=20)], meta={'source': 'Cognitive Services Training Set'})\n",
      "Example(text='Immorality Act was the title of two acts of the Parliament of South Africa which prohibited, amongst other things, sexual relations between white people and people of other races.', spans=[Span(text='South Africa', start=62, end=74, label='GPE', token_start=12, token_end=13)], tokens=[Token(text='Immorality', start=0, end=10, id=0), Token(text='Act', start=11, end=14, id=1), Token(text='was', start=15, end=18, id=2), Token(text='the', start=19, end=22, id=3), Token(text='title', start=23, end=28, id=4), Token(text='of', start=29, end=31, id=5), Token(text='two', start=32, end=35, id=6), Token(text='acts', start=36, end=40, id=7), Token(text='of', start=41, end=43, id=8), Token(text='the', start=44, end=47, id=9), Token(text='Parliament', start=48, end=58, id=10), Token(text='of', start=59, end=61, id=11), Token(text='South', start=62, end=67, id=12), Token(text='Africa', start=68, end=74, id=13), Token(text='which', start=75, end=80, id=14), Token(text='prohibited', start=81, end=91, id=15), Token(text=',', start=91, end=92, id=16), Token(text='amongst', start=93, end=100, id=17), Token(text='other', start=101, end=106, id=18), Token(text='things', start=107, end=113, id=19), Token(text=',', start=113, end=114, id=20), Token(text='sexual', start=115, end=121, id=21), Token(text='relations', start=122, end=131, id=22), Token(text='between', start=132, end=139, id=23), Token(text='white', start=140, end=145, id=24), Token(text='people', start=146, end=152, id=25), Token(text='and', start=153, end=156, id=26), Token(text='people', start=157, end=163, id=27), Token(text='of', start=164, end=166, id=28), Token(text='other', start=167, end=172, id=29), Token(text='races', start=173, end=178, id=30), Token(text='.', start=178, end=179, id=31)], meta={'source': 'Cognitive Services Training Set'})\n",
      "Example(text='Taylor, a two-time Academy Award-winning actress who became notorious for her seven marriages and sometimes eccentric behavior, had reported health problems in recent years and appeared frail in public appearances.', spans=[Span(text='Taylor', start=0, end=6, label='PERSON', token_start=0, token_end=0), Span(text='actress', start=41, end=48, label='PERSONTYPE', token_start=10, token_end=10)], tokens=[Token(text='Taylor', start=0, end=6, id=0), Token(text=',', start=6, end=7, id=1), Token(text='a', start=8, end=9, id=2), Token(text='two', start=10, end=13, id=3), Token(text='-', start=13, end=14, id=4), Token(text='time', start=14, end=18, id=5), Token(text='Academy', start=19, end=26, id=6), Token(text='Award', start=27, end=32, id=7), Token(text='-', start=32, end=33, id=8), Token(text='winning', start=33, end=40, id=9), Token(text='actress', start=41, end=48, id=10), Token(text='who', start=49, end=52, id=11), Token(text='became', start=53, end=59, id=12), Token(text='notorious', start=60, end=69, id=13), Token(text='for', start=70, end=73, id=14), Token(text='her', start=74, end=77, id=15), Token(text='seven', start=78, end=83, id=16), Token(text='marriages', start=84, end=93, id=17), Token(text='and', start=94, end=97, id=18), Token(text='sometimes', start=98, end=107, id=19), Token(text='eccentric', start=108, end=117, id=20), Token(text='behavior', start=118, end=126, id=21), Token(text=',', start=126, end=127, id=22), Token(text='had', start=128, end=131, id=23), Token(text='reported', start=132, end=140, id=24), Token(text='health', start=141, end=147, id=25), Token(text='problems', start=148, end=156, id=26), Token(text='in', start=157, end=159, id=27), Token(text='recent', start=160, end=166, id=28), Token(text='years', start=167, end=172, id=29), Token(text='and', start=173, end=176, id=30), Token(text='appeared', start=177, end=185, id=31), Token(text='frail', start=186, end=191, id=32), Token(text='in', start=192, end=194, id=33), Token(text='public', start=195, end=201, id=34), Token(text='appearances', start=202, end=213, id=35), Token(text='.', start=213, end=214, id=36)], meta={'source': 'Cognitive Services Training Set'})\n",
      "====================================================================================================\n",
      "\n",
      "text              American   \n",
      "True Label        NOT_LABELED\n",
      "Predicted Label   PERSONTYPE \n",
      "N Errors          35         \n",
      "\n",
      "Example(text='The band consists of Scottish musician and lead singer Shirley Manson and American musicians Duke Erikson, Steve Marker, and Butch Vig.', spans=[Span(text='Scottish musician', start=21, end=38, label='PERSONTYPE', token_start=4, token_end=5), Span(text='lead singer', start=43, end=54, label='PERSONTYPE', token_start=7, token_end=8), Span(text='Shirley Manson', start=55, end=69, label='PERSON', token_start=9, token_end=10), Span(text='musicians', start=74, end=92, label='PERSONTYPE', token_start=12, token_end=13), Span(text='Duke Erikson', start=93, end=105, label='PERSON', token_start=14, token_end=15), Span(text='Steve Marker', start=107, end=119, label='PERSON', token_start=17, token_end=18), Span(text='Butch Vig', start=125, end=134, label='PERSON', token_start=21, token_end=22)], tokens=[Token(text='The', start=0, end=3, id=0), Token(text='band', start=4, end=8, id=1), Token(text='consists', start=9, end=17, id=2), Token(text='of', start=18, end=20, id=3), Token(text='Scottish', start=21, end=29, id=4), Token(text='musician', start=30, end=38, id=5), Token(text='and', start=39, end=42, id=6), Token(text='lead', start=43, end=47, id=7), Token(text='singer', start=48, end=54, id=8), Token(text='Shirley', start=55, end=62, id=9), Token(text='Manson', start=63, end=69, id=10), Token(text='and', start=70, end=73, id=11), Token(text='American', start=74, end=82, id=12), Token(text='musicians', start=83, end=92, id=13), Token(text='Duke', start=93, end=97, id=14), Token(text='Erikson', start=98, end=105, id=15), Token(text=',', start=105, end=106, id=16), Token(text='Steve', start=107, end=112, id=17), Token(text='Marker', start=113, end=119, id=18), Token(text=',', start=119, end=120, id=19), Token(text='and', start=121, end=124, id=20), Token(text='Butch', start=125, end=130, id=21), Token(text='Vig', start=131, end=134, id=22), Token(text='.', start=134, end=135, id=23)], meta={'source': 'Cognitive Services Training Set'})\n",
      "Example(text=\"The 51-year-old American country singer and actor performed the song's bridge solo before the three concluded the song with an emotional finale.\", spans=[Span(text='51-year-old', start=4, end=15, label='AGE', token_start=1, token_end=3), Span(text='singer', start=33, end=39, label='PERSONTYPE', token_start=6, token_end=6), Span(text='actor', start=44, end=49, label='PERSONTYPE', token_start=8, token_end=8), Span(text='three', start=94, end=99, label='NUMBER', token_start=17, token_end=17)], tokens=[Token(text='The', start=0, end=3, id=0), Token(text='51-year', start=4, end=11, id=1), Token(text='-', start=11, end=12, id=2), Token(text='old', start=12, end=15, id=3), Token(text='American', start=16, end=24, id=4), Token(text='country', start=25, end=32, id=5), Token(text='singer', start=33, end=39, id=6), Token(text='and', start=40, end=43, id=7), Token(text='actor', start=44, end=49, id=8), Token(text='performed', start=50, end=59, id=9), Token(text='the', start=60, end=63, id=10), Token(text='song', start=64, end=68, id=11), Token(text=\"'s\", start=68, end=70, id=12), Token(text='bridge', start=71, end=77, id=13), Token(text='solo', start=78, end=82, id=14), Token(text='before', start=83, end=89, id=15), Token(text='the', start=90, end=93, id=16), Token(text='three', start=94, end=99, id=17), Token(text='concluded', start=100, end=109, id=18), Token(text='the', start=110, end=113, id=19), Token(text='song', start=114, end=118, id=20), Token(text='with', start=119, end=123, id=21), Token(text='an', start=124, end=126, id=22), Token(text='emotional', start=127, end=136, id=23), Token(text='finale', start=137, end=143, id=24), Token(text='.', start=143, end=144, id=25)], meta={'source': 'Cognitive Services Training Set'})\n",
      "Example(text='Paul Edward Gottfried (born November 21, 1941) is an American paleoconservative philosopher, historian, and columnist.', spans=[Span(text='Paul Edward Gottfried', start=0, end=21, label='PERSON', token_start=0, token_end=2), Span(text='born', start=23, end=27, label='EVENT', token_start=4, token_end=4), Span(text='November 21, 1941', start=28, end=45, label='TIME', token_start=5, token_end=8), Span(text='American paleoconservative philosopher', start=53, end=91, label='PERSONTYPE', token_start=12, token_end=14), Span(text='historian', start=93, end=102, label='PERSONTYPE', token_start=16, token_end=16), Span(text='columnist', start=108, end=117, label='PERSONTYPE', token_start=19, token_end=19)], tokens=[Token(text='Paul', start=0, end=4, id=0), Token(text='Edward', start=5, end=11, id=1), Token(text='Gottfried', start=12, end=21, id=2), Token(text='(', start=22, end=23, id=3), Token(text='born', start=23, end=27, id=4), Token(text='November', start=28, end=36, id=5), Token(text='21', start=37, end=39, id=6), Token(text=',', start=39, end=40, id=7), Token(text='1941', start=41, end=45, id=8), Token(text=')', start=45, end=46, id=9), Token(text='is', start=47, end=49, id=10), Token(text='an', start=50, end=52, id=11), Token(text='American', start=53, end=61, id=12), Token(text='paleoconservative', start=62, end=79, id=13), Token(text='philosopher', start=80, end=91, id=14), Token(text=',', start=91, end=92, id=15), Token(text='historian', start=93, end=102, id=16), Token(text=',', start=102, end=103, id=17), Token(text='and', start=104, end=107, id=18), Token(text='columnist', start=108, end=117, id=19), Token(text='.', start=117, end=118, id=20)], meta={'source': 'Cognitive Services Training Set'})\n",
      "====================================================================================================\n",
      "\n",
      "text                         \n",
      "True Label        PERSON     \n",
      "Predicted Label   NOT_LABELED\n",
      "N Errors          35         \n",
      "\n",
      "Example(text='When asked how muchRaymond was investing in design and brand development, he retorts: “It’s no longer about money; it’s about the culture.', spans=[Span(text='was', start=27, end=26, label='PERSON', token_start=4, token_end=None)], tokens=[Token(text='When', start=0, end=4, id=0), Token(text='asked', start=5, end=10, id=1), Token(text='how', start=11, end=14, id=2), Token(text='muchRaymond', start=15, end=26, id=3), Token(text='was', start=27, end=30, id=4), Token(text='investing', start=31, end=40, id=5), Token(text='in', start=41, end=43, id=6), Token(text='design', start=44, end=50, id=7), Token(text='and', start=51, end=54, id=8), Token(text='brand', start=55, end=60, id=9), Token(text='development', start=61, end=72, id=10), Token(text=',', start=72, end=73, id=11), Token(text='he', start=74, end=76, id=12), Token(text='retorts', start=77, end=84, id=13), Token(text=':', start=84, end=85, id=14), Token(text='“', start=86, end=87, id=15), Token(text='It', start=87, end=89, id=16), Token(text='’s', start=89, end=91, id=17), Token(text='no', start=92, end=94, id=18), Token(text='longer', start=95, end=101, id=19), Token(text='about', start=102, end=107, id=20), Token(text='money', start=108, end=113, id=21), Token(text=';', start=113, end=114, id=22), Token(text='it', start=115, end=117, id=23), Token(text='’s', start=117, end=119, id=24), Token(text='about', start=120, end=125, id=25), Token(text='the', start=126, end=129, id=26), Token(text='culture', start=130, end=137, id=27), Token(text='.', start=137, end=138, id=28)], meta={'source': 'Cognitive Services Training Set'})\n",
      "Example(text='If such a demand is made, we would best meet it by all wearing the Star ofDavid.', spans=[Span(text='.', start=79, end=79, label='PERSON', token_start=18, token_end=None)], tokens=[Token(text='If', start=0, end=2, id=0), Token(text='such', start=3, end=7, id=1), Token(text='a', start=8, end=9, id=2), Token(text='demand', start=10, end=16, id=3), Token(text='is', start=17, end=19, id=4), Token(text='made', start=20, end=24, id=5), Token(text=',', start=24, end=25, id=6), Token(text='we', start=26, end=28, id=7), Token(text='would', start=29, end=34, id=8), Token(text='best', start=35, end=39, id=9), Token(text='meet', start=40, end=44, id=10), Token(text='it', start=45, end=47, id=11), Token(text='by', start=48, end=50, id=12), Token(text='all', start=51, end=54, id=13), Token(text='wearing', start=55, end=62, id=14), Token(text='the', start=63, end=66, id=15), Token(text='Star', start=67, end=71, id=16), Token(text='ofDavid', start=72, end=79, id=17), Token(text='.', start=79, end=80, id=18)], meta={'source': 'Cognitive Services Training Set'})\n",
      "Example(text='In their teensWalford and McMahanplayed together in the seminal Louisville punkbandSquirrel Bait.', spans=[Span(text='and', start=22, end=21, label='PERSON', token_start=3, token_end=None), Span(text='McMahanplayed', start=26, end=39, label='PERSON', token_start=4, token_end=4), Span(text='punkbandSquirrel', start=64, end=91, label='ORG', token_start=9, token_end=10)], tokens=[Token(text='In', start=0, end=2, id=0), Token(text='their', start=3, end=8, id=1), Token(text='teensWalford', start=9, end=21, id=2), Token(text='and', start=22, end=25, id=3), Token(text='McMahanplayed', start=26, end=39, id=4), Token(text='together', start=40, end=48, id=5), Token(text='in', start=49, end=51, id=6), Token(text='the', start=52, end=55, id=7), Token(text='seminal', start=56, end=63, id=8), Token(text='Louisville', start=64, end=74, id=9), Token(text='punkbandSquirrel', start=75, end=91, id=10), Token(text='Bait', start=92, end=96, id=11), Token(text='.', start=96, end=97, id=12)], meta={'source': 'Cognitive Services Training Set'})\n",
      "====================================================================================================\n",
      "\n",
      "text              United States\n",
      "True Label        NOT_LABELED  \n",
      "Predicted Label   GPE          \n",
      "N Errors          34           \n",
      "\n",
      "Example(text='Clarkson Valley is a city in St. Louis County, Missouri, United States.', spans=[Span(text='Clarkson Valley', start=0, end=15, label='GPE', token_start=0, token_end=1), Span(text='St. Louis County, Missouri, United States', start=29, end=70, label='GPE', token_start=6, token_end=13)], tokens=[Token(text='Clarkson', start=0, end=8, id=0), Token(text='Valley', start=9, end=15, id=1), Token(text='is', start=16, end=18, id=2), Token(text='a', start=19, end=20, id=3), Token(text='city', start=21, end=25, id=4), Token(text='in', start=26, end=28, id=5), Token(text='St.', start=29, end=32, id=6), Token(text='Louis', start=33, end=38, id=7), Token(text='County', start=39, end=45, id=8), Token(text=',', start=45, end=46, id=9), Token(text='Missouri', start=47, end=55, id=10), Token(text=',', start=55, end=56, id=11), Token(text='United', start=57, end=63, id=12), Token(text='States', start=64, end=70, id=13), Token(text='.', start=70, end=71, id=14)], meta={'source': 'Cognitive Services Training Set'})\n",
      "Example(text=\"Edgartown is a tourist destination on the island of Martha's Vineyard in Dukes County, Massachusetts, United States, for which it is the county seat.\", spans=[Span(text='Edgartown', start=0, end=9, label='GPE', token_start=0, token_end=0), Span(text='tourist', start=15, end=22, label='PERSONTYPE', token_start=3, token_end=3), Span(text=\"Martha's Vineyard\", start=52, end=69, label='LOC', token_start=9, token_end=11), Span(text='Dukes County, Massachusetts, United States', start=73, end=115, label='GPE', token_start=13, token_end=19)], tokens=[Token(text='Edgartown', start=0, end=9, id=0), Token(text='is', start=10, end=12, id=1), Token(text='a', start=13, end=14, id=2), Token(text='tourist', start=15, end=22, id=3), Token(text='destination', start=23, end=34, id=4), Token(text='on', start=35, end=37, id=5), Token(text='the', start=38, end=41, id=6), Token(text='island', start=42, end=48, id=7), Token(text='of', start=49, end=51, id=8), Token(text='Martha', start=52, end=58, id=9), Token(text=\"'s\", start=58, end=60, id=10), Token(text='Vineyard', start=61, end=69, id=11), Token(text='in', start=70, end=72, id=12), Token(text='Dukes', start=73, end=78, id=13), Token(text='County', start=79, end=85, id=14), Token(text=',', start=85, end=86, id=15), Token(text='Massachusetts', start=87, end=100, id=16), Token(text=',', start=100, end=101, id=17), Token(text='United', start=102, end=108, id=18), Token(text='States', start=109, end=115, id=19), Token(text=',', start=115, end=116, id=20), Token(text='for', start=117, end=120, id=21), Token(text='which', start=121, end=126, id=22), Token(text='it', start=127, end=129, id=23), Token(text='is', start=130, end=132, id=24), Token(text='the', start=133, end=136, id=25), Token(text='county', start=137, end=143, id=26), Token(text='seat', start=144, end=148, id=27), Token(text='.', start=148, end=149, id=28)], meta={'source': 'Cognitive Services Training Set'})\n",
      "Example(text='Point Clear is an unincorporated census-designated place (CDP) in Baldwin County, Alabama, United States.', spans=[Span(text='Point Clear', start=0, end=11, label='GPE', token_start=0, token_end=1), Span(text='Baldwin County, Alabama, United States', start=66, end=104, label='GPE', token_start=13, token_end=19)], tokens=[Token(text='Point', start=0, end=5, id=0), Token(text='Clear', start=6, end=11, id=1), Token(text='is', start=12, end=14, id=2), Token(text='an', start=15, end=17, id=3), Token(text='unincorporated', start=18, end=32, id=4), Token(text='census', start=33, end=39, id=5), Token(text='-', start=39, end=40, id=6), Token(text='designated', start=40, end=50, id=7), Token(text='place', start=51, end=56, id=8), Token(text='(', start=57, end=58, id=9), Token(text='CDP', start=58, end=61, id=10), Token(text=')', start=61, end=62, id=11), Token(text='in', start=63, end=65, id=12), Token(text='Baldwin', start=66, end=73, id=13), Token(text='County', start=74, end=80, id=14), Token(text=',', start=80, end=81, id=15), Token(text='Alabama', start=82, end=89, id=16), Token(text=',', start=89, end=90, id=17), Token(text='United', start=91, end=97, id=18), Token(text='States', start=98, end=104, id=19), Token(text='.', start=104, end=105, id=20)], meta={'source': 'Cognitive Services Training Set'})\n",
      "====================================================================================================\n",
      "\n",
      "text                         \n",
      "True Label        GPE        \n",
      "Predicted Label   NOT_LABELED\n",
      "N Errors          31         \n",
      "\n",
      "Example(text='\\ufeffMUMBAI: The Reserve Bank has \"more than adequate\" reserves and that it can transfer over Rs 1 trillion to the government after a specially constituted panel identifies the \"excess capital\", says a report.', spans=[Span(text=':', start=7, end=7, label='GPE', token_start=1, token_end=None), Span(text='The Reserve Bank', start=9, end=25, label='ORG', token_start=2, token_end=4), Span(text='Rs 1 trillion', start=90, end=103, label='MONEY', token_start=18, token_end=20)], tokens=[Token(text='\\ufeffMUMBAI', start=0, end=7, id=0), Token(text=':', start=7, end=8, id=1), Token(text='The', start=9, end=12, id=2), Token(text='Reserve', start=13, end=20, id=3), Token(text='Bank', start=21, end=25, id=4), Token(text='has', start=26, end=29, id=5), Token(text='\"', start=30, end=31, id=6), Token(text='more', start=31, end=35, id=7), Token(text='than', start=36, end=40, id=8), Token(text='adequate', start=41, end=49, id=9), Token(text='\"', start=49, end=50, id=10), Token(text='reserves', start=51, end=59, id=11), Token(text='and', start=60, end=63, id=12), Token(text='that', start=64, end=68, id=13), Token(text='it', start=69, end=71, id=14), Token(text='can', start=72, end=75, id=15), Token(text='transfer', start=76, end=84, id=16), Token(text='over', start=85, end=89, id=17), Token(text='Rs', start=90, end=92, id=18), Token(text='1', start=93, end=94, id=19), Token(text='trillion', start=95, end=103, id=20), Token(text='to', start=104, end=106, id=21), Token(text='the', start=107, end=110, id=22), Token(text='government', start=111, end=121, id=23), Token(text='after', start=122, end=127, id=24), Token(text='a', start=128, end=129, id=25), Token(text='specially', start=130, end=139, id=26), Token(text='constituted', start=140, end=151, id=27), Token(text='panel', start=152, end=157, id=28), Token(text='identifies', start=158, end=168, id=29), Token(text='the', start=169, end=172, id=30), Token(text='\"', start=173, end=174, id=31), Token(text='excess', start=174, end=180, id=32), Token(text='capital', start=181, end=188, id=33), Token(text='\"', start=188, end=189, id=34), Token(text=',', start=189, end=190, id=35), Token(text='says', start=191, end=195, id=36), Token(text='a', start=196, end=197, id=37), Token(text='report', start=198, end=204, id=38), Token(text='.', start=204, end=205, id=39)], meta={'source': 'Cognitive Services Training Set'})\n",
      "Example(text='The county seat was initially established in Elk Park when the county was first formed, but was moved toNewland upon completion of thecourthouse in1912.', spans=[Span(text='Elk Park', start=45, end=53, label='LOC', token_start=7, token_end=8), Span(text='upon', start=112, end=111, label='GPE', token_start=20, token_end=None), Span(text='in1912', start=145, end=144, label='LOC', token_start=24, token_end=None), Span(text='.', start=151, end=151, label='DATERANGE', token_start=25, token_end=None)], tokens=[Token(text='The', start=0, end=3, id=0), Token(text='county', start=4, end=10, id=1), Token(text='seat', start=11, end=15, id=2), Token(text='was', start=16, end=19, id=3), Token(text='initially', start=20, end=29, id=4), Token(text='established', start=30, end=41, id=5), Token(text='in', start=42, end=44, id=6), Token(text='Elk', start=45, end=48, id=7), Token(text='Park', start=49, end=53, id=8), Token(text='when', start=54, end=58, id=9), Token(text='the', start=59, end=62, id=10), Token(text='county', start=63, end=69, id=11), Token(text='was', start=70, end=73, id=12), Token(text='first', start=74, end=79, id=13), Token(text='formed', start=80, end=86, id=14), Token(text=',', start=86, end=87, id=15), Token(text='but', start=88, end=91, id=16), Token(text='was', start=92, end=95, id=17), Token(text='moved', start=96, end=101, id=18), Token(text='toNewland', start=102, end=111, id=19), Token(text='upon', start=112, end=116, id=20), Token(text='completion', start=117, end=127, id=21), Token(text='of', start=128, end=130, id=22), Token(text='thecourthouse', start=131, end=144, id=23), Token(text='in1912', start=145, end=151, id=24), Token(text='.', start=151, end=152, id=25)], meta={'source': 'Cognitive Services Training Set'})\n",
      "Example(text='The couple had tied the knot at Umaid Bhavan Palace in Jodhpur on December 1 and 2After completing their married festivities, the couple is now back toLA. Recently, the duo took some time out from their busy schedule for a family dinner date.', spans=[Span(text='couple', start=4, end=10, label='PERSONTYPE', token_start=1, token_end=1), Span(text='Umaid Bhavan Palace', start=32, end=51, label='LOC', token_start=7, token_end=9), Span(text='Jodhpur', start=55, end=62, label='GPE', token_start=11, token_end=11), Span(text='2After', start=66, end=87, label='DATE', token_start=13, token_end=16), Span(text='couple', start=130, end=136, label='PERSONTYPE', token_start=23, token_end=23), Span(text='.', start=153, end=153, label='GPE', token_start=28, token_end=None), Span(text='family', start=223, end=229, label='PERSONTYPE', token_start=43, token_end=43)], tokens=[Token(text='The', start=0, end=3, id=0), Token(text='couple', start=4, end=10, id=1), Token(text='had', start=11, end=14, id=2), Token(text='tied', start=15, end=19, id=3), Token(text='the', start=20, end=23, id=4), Token(text='knot', start=24, end=28, id=5), Token(text='at', start=29, end=31, id=6), Token(text='Umaid', start=32, end=37, id=7), Token(text='Bhavan', start=38, end=44, id=8), Token(text='Palace', start=45, end=51, id=9), Token(text='in', start=52, end=54, id=10), Token(text='Jodhpur', start=55, end=62, id=11), Token(text='on', start=63, end=65, id=12), Token(text='December', start=66, end=74, id=13), Token(text='1', start=75, end=76, id=14), Token(text='and', start=77, end=80, id=15), Token(text='2After', start=81, end=87, id=16), Token(text='completing', start=88, end=98, id=17), Token(text='their', start=99, end=104, id=18), Token(text='married', start=105, end=112, id=19), Token(text='festivities', start=113, end=124, id=20), Token(text=',', start=124, end=125, id=21), Token(text='the', start=126, end=129, id=22), Token(text='couple', start=130, end=136, id=23), Token(text='is', start=137, end=139, id=24), Token(text='now', start=140, end=143, id=25), Token(text='back', start=144, end=148, id=26), Token(text='toLA', start=149, end=153, id=27), Token(text='.', start=153, end=154, id=28), Token(text='Recently', start=155, end=163, id=29), Token(text=',', start=163, end=164, id=30), Token(text='the', start=165, end=168, id=31), Token(text='duo', start=169, end=172, id=32), Token(text='took', start=173, end=177, id=33), Token(text='some', start=178, end=182, id=34), Token(text='time', start=183, end=187, id=35), Token(text='out', start=188, end=191, id=36), Token(text='from', start=192, end=196, id=37), Token(text='their', start=197, end=202, id=38), Token(text='busy', start=203, end=207, id=39), Token(text='schedule', start=208, end=216, id=40), Token(text='for', start=217, end=220, id=41), Token(text='a', start=221, end=222, id=42), Token(text='family', start=223, end=229, id=43), Token(text='dinner', start=230, end=236, id=44), Token(text='date', start=237, end=241, id=45), Token(text='.', start=241, end=242, id=46)], meta={'source': 'Cognitive Services Training Set'})\n",
      "====================================================================================================\n",
      "\n",
      "text              year       \n",
      "True Label        DATERANGE  \n",
      "Predicted Label   NOT_LABELED\n",
      "N Errors          25         \n",
      "\n",
      "Example(text='In his final year at York Street, to supplement the family budget, Hobbs took a job working before school hours in the domestic service of a private house.', spans=[Span(text='year', start=13, end=17, label='DATERANGE', token_start=3, token_end=3), Span(text='York Street', start=21, end=32, label='ADDRESS', token_start=5, token_end=6), Span(text='Hobbs', start=67, end=72, label='PERSON', token_start=14, token_end=14)], tokens=[Token(text='In', start=0, end=2, id=0), Token(text='his', start=3, end=6, id=1), Token(text='final', start=7, end=12, id=2), Token(text='year', start=13, end=17, id=3), Token(text='at', start=18, end=20, id=4), Token(text='York', start=21, end=25, id=5), Token(text='Street', start=26, end=32, id=6), Token(text=',', start=32, end=33, id=7), Token(text='to', start=34, end=36, id=8), Token(text='supplement', start=37, end=47, id=9), Token(text='the', start=48, end=51, id=10), Token(text='family', start=52, end=58, id=11), Token(text='budget', start=59, end=65, id=12), Token(text=',', start=65, end=66, id=13), Token(text='Hobbs', start=67, end=72, id=14), Token(text='took', start=73, end=77, id=15), Token(text='a', start=78, end=79, id=16), Token(text='job', start=80, end=83, id=17), Token(text='working', start=84, end=91, id=18), Token(text='before', start=92, end=98, id=19), Token(text='school', start=99, end=105, id=20), Token(text='hours', start=106, end=111, id=21), Token(text='in', start=112, end=114, id=22), Token(text='the', start=115, end=118, id=23), Token(text='domestic', start=119, end=127, id=24), Token(text='service', start=128, end=135, id=25), Token(text='of', start=136, end=138, id=26), Token(text='a', start=139, end=140, id=27), Token(text='private', start=141, end=148, id=28), Token(text='house', start=149, end=154, id=29), Token(text='.', start=154, end=155, id=30)], meta={'source': 'Cognitive Services Training Set'})\n",
      "Example(text='\\ufeffAlso, the base year for indexation is proposed to be shifted from April 1, 1981, to April 1, 2001, for all classes of assets including immovable property.', spans=[Span(text='year', start=16, end=20, label='DATERANGE', token_start=4, token_end=4), Span(text='April 1, 1981, to April 1, 2001', start=67, end=98, label='DATERANGE', token_start=13, token_end=22)], tokens=[Token(text='\\ufeffAlso', start=0, end=5, id=0), Token(text=',', start=5, end=6, id=1), Token(text='the', start=7, end=10, id=2), Token(text='base', start=11, end=15, id=3), Token(text='year', start=16, end=20, id=4), Token(text='for', start=21, end=24, id=5), Token(text='indexation', start=25, end=35, id=6), Token(text='is', start=36, end=38, id=7), Token(text='proposed', start=39, end=47, id=8), Token(text='to', start=48, end=50, id=9), Token(text='be', start=51, end=53, id=10), Token(text='shifted', start=54, end=61, id=11), Token(text='from', start=62, end=66, id=12), Token(text='April', start=67, end=72, id=13), Token(text='1', start=73, end=74, id=14), Token(text=',', start=74, end=75, id=15), Token(text='1981', start=76, end=80, id=16), Token(text=',', start=80, end=81, id=17), Token(text='to', start=82, end=84, id=18), Token(text='April', start=85, end=90, id=19), Token(text='1', start=91, end=92, id=20), Token(text=',', start=92, end=93, id=21), Token(text='2001', start=94, end=98, id=22), Token(text=',', start=98, end=99, id=23), Token(text='for', start=100, end=103, id=24), Token(text='all', start=104, end=107, id=25), Token(text='classes', start=108, end=115, id=26), Token(text='of', start=116, end=118, id=27), Token(text='assets', start=119, end=125, id=28), Token(text='including', start=126, end=135, id=29), Token(text='immovable', start=136, end=145, id=30), Token(text='property', start=146, end=154, id=31), Token(text='.', start=154, end=155, id=32)], meta={'source': 'Cognitive Services Training Set'})\n",
      "Example(text='He surpassed the single-season rushing record later in the year with more than 2,000 yards.', spans=[Span(text='year', start=59, end=63, label='DATERANGE', token_start=11, token_end=11)], tokens=[Token(text='He', start=0, end=2, id=0), Token(text='surpassed', start=3, end=12, id=1), Token(text='the', start=13, end=16, id=2), Token(text='single', start=17, end=23, id=3), Token(text='-', start=23, end=24, id=4), Token(text='season', start=24, end=30, id=5), Token(text='rushing', start=31, end=38, id=6), Token(text='record', start=39, end=45, id=7), Token(text='later', start=46, end=51, id=8), Token(text='in', start=52, end=54, id=9), Token(text='the', start=55, end=58, id=10), Token(text='year', start=59, end=63, id=11), Token(text='with', start=64, end=68, id=12), Token(text='more', start=69, end=73, id=13), Token(text='than', start=74, end=78, id=14), Token(text='2,000', start=79, end=84, id=15), Token(text='yards', start=85, end=90, id=16), Token(text='.', start=90, end=91, id=17)], meta={'source': 'Cognitive Services Training Set'})\n",
      "====================================================================================================\n",
      "\n",
      "text                         \n",
      "True Label        PERSONTYPE \n",
      "Predicted Label   NOT_LABELED\n",
      "N Errors          24         \n",
      "\n",
      "Example(text='Albertlater petitioned his local Masonic Lodge and became an activeFreemason.', spans=[Span(text='Albertlater', start=0, end=11, label='PERSON', token_start=0, token_end=0), Span(text='Masonic Lodge', start=33, end=46, label='LOC', token_start=4, token_end=5), Span(text='.', start=76, end=76, label='PERSONTYPE', token_start=10, token_end=None)], tokens=[Token(text='Albertlater', start=0, end=11, id=0), Token(text='petitioned', start=12, end=22, id=1), Token(text='his', start=23, end=26, id=2), Token(text='local', start=27, end=32, id=3), Token(text='Masonic', start=33, end=40, id=4), Token(text='Lodge', start=41, end=46, id=5), Token(text='and', start=47, end=50, id=6), Token(text='became', start=51, end=57, id=7), Token(text='an', start=58, end=60, id=8), Token(text='activeFreemason', start=61, end=76, id=9), Token(text='.', start=76, end=77, id=10)], meta={'source': 'Cognitive Services Training Set'})\n",
      "Example(text='\\ufeffChef introduces America to final five in his \"Pie in Emeril\\'s Eye\" contest.', spans=[Span(text='introduces', start=6, end=5, label='PERSONTYPE', token_start=1, token_end=None), Span(text='America', start=17, end=24, label='GPE', token_start=2, token_end=2), Span(text='five', start=34, end=38, label='NUMBER', token_start=5, token_end=5), Span(text='contest', start=68, end=75, label='EVENT', token_start=15, token_end=15)], tokens=[Token(text='\\ufeffChef', start=0, end=5, id=0), Token(text='introduces', start=6, end=16, id=1), Token(text='America', start=17, end=24, id=2), Token(text='to', start=25, end=27, id=3), Token(text='final', start=28, end=33, id=4), Token(text='five', start=34, end=38, id=5), Token(text='in', start=39, end=41, id=6), Token(text='his', start=42, end=45, id=7), Token(text='\"', start=46, end=47, id=8), Token(text='Pie', start=47, end=50, id=9), Token(text='in', start=51, end=53, id=10), Token(text='Emeril', start=54, end=60, id=11), Token(text=\"'s\", start=60, end=62, id=12), Token(text='Eye', start=63, end=66, id=13), Token(text='\"', start=66, end=67, id=14), Token(text='contest', start=68, end=75, id=15), Token(text='.', start=75, end=76, id=16)], meta={'source': 'Cognitive Services Training Set'})\n",
      "Example(text='Trouble begins when Arjun imports the moretalented Mannu to London and the best friend becomes a rival.', spans=[Span(text='Arjun', start=20, end=25, label='PERSON', token_start=3, token_end=3), Span(text='Mannu', start=51, end=50, label='PERSONTYPE', token_start=7, token_end=None), Span(text='Mannu', start=51, end=56, label='PERSON', token_start=7, token_end=7), Span(text='London', start=60, end=66, label='GPE', token_start=9, token_end=9), Span(text='best friend-offset', start=75, end=86, label='PERSONTYPE', token_start=12, token_end=13)], tokens=[Token(text='Trouble', start=0, end=7, id=0), Token(text='begins', start=8, end=14, id=1), Token(text='when', start=15, end=19, id=2), Token(text='Arjun', start=20, end=25, id=3), Token(text='imports', start=26, end=33, id=4), Token(text='the', start=34, end=37, id=5), Token(text='moretalented', start=38, end=50, id=6), Token(text='Mannu', start=51, end=56, id=7), Token(text='to', start=57, end=59, id=8), Token(text='London', start=60, end=66, id=9), Token(text='and', start=67, end=70, id=10), Token(text='the', start=71, end=74, id=11), Token(text='best', start=75, end=79, id=12), Token(text='friend', start=80, end=86, id=13), Token(text='becomes', start=87, end=94, id=14), Token(text='a', start=95, end=96, id=15), Token(text='rival', start=97, end=102, id=16), Token(text='.', start=102, end=103, id=17)], meta={'source': 'Cognitive Services Training Set'})\n",
      "====================================================================================================\n",
      "****************************************************************************************************\n",
      "****************************************************************************************************\n",
      "\n",
      "text              one        \n",
      "True Label        NUMBER     \n",
      "Predicted Label   NOT_LABELED\n",
      "N Errors          145        \n",
      "\n",
      "Example(text='He\\'s gotten letters from people commenting on the site, such as one from a local college professor who was teaching in Moscow, who wrote that \"it was nice and reassuring to be able to pull up the Channel 8 logo, like a bridge back home.\"', spans=[Span(text='one', start=64, end=67, label='NUMBER', token_start=13, token_end=13), Span(text='college professor', start=81, end=98, label='PERSONTYPE', token_start=17, token_end=18), Span(text='Moscow', start=119, end=125, label='GPE', token_start=23, token_end=23), Span(text='Channel 8', start=196, end=205, label='ORG', token_start=41, token_end=42), Span(text='bridge', start=219, end=225, label='LOC', token_start=47, token_end=47)], tokens=[Token(text='He', start=0, end=2, id=0), Token(text=\"'s\", start=2, end=4, id=1), Token(text='gotten', start=5, end=11, id=2), Token(text='letters', start=12, end=19, id=3), Token(text='from', start=20, end=24, id=4), Token(text='people', start=25, end=31, id=5), Token(text='commenting', start=32, end=42, id=6), Token(text='on', start=43, end=45, id=7), Token(text='the', start=46, end=49, id=8), Token(text='site', start=50, end=54, id=9), Token(text=',', start=54, end=55, id=10), Token(text='such', start=56, end=60, id=11), Token(text='as', start=61, end=63, id=12), Token(text='one', start=64, end=67, id=13), Token(text='from', start=68, end=72, id=14), Token(text='a', start=73, end=74, id=15), Token(text='local', start=75, end=80, id=16), Token(text='college', start=81, end=88, id=17), Token(text='professor', start=89, end=98, id=18), Token(text='who', start=99, end=102, id=19), Token(text='was', start=103, end=106, id=20), Token(text='teaching', start=107, end=115, id=21), Token(text='in', start=116, end=118, id=22), Token(text='Moscow', start=119, end=125, id=23), Token(text=',', start=125, end=126, id=24), Token(text='who', start=127, end=130, id=25), Token(text='wrote', start=131, end=136, id=26), Token(text='that', start=137, end=141, id=27), Token(text='\"', start=142, end=143, id=28), Token(text='it', start=143, end=145, id=29), Token(text='was', start=146, end=149, id=30), Token(text='nice', start=150, end=154, id=31), Token(text='and', start=155, end=158, id=32), Token(text='reassuring', start=159, end=169, id=33), Token(text='to', start=170, end=172, id=34), Token(text='be', start=173, end=175, id=35), Token(text='able', start=176, end=180, id=36), Token(text='to', start=181, end=183, id=37), Token(text='pull', start=184, end=188, id=38), Token(text='up', start=189, end=191, id=39), Token(text='the', start=192, end=195, id=40), Token(text='Channel', start=196, end=203, id=41), Token(text='8', start=204, end=205, id=42), Token(text='logo', start=206, end=210, id=43), Token(text=',', start=210, end=211, id=44), Token(text='like', start=212, end=216, id=45), Token(text='a', start=217, end=218, id=46), Token(text='bridge', start=219, end=225, id=47), Token(text='back', start=226, end=230, id=48), Token(text='home', start=231, end=235, id=49), Token(text='.', start=235, end=236, id=50), Token(text='\"', start=236, end=237, id=51)], meta={'source': 'Cognitive Services Training Set'})\n",
      "Example(text='Berry writes and designs the newsletter herself, and each issue \"is usually built around one article of current interest to working mothers,\" she said.', spans=[Span(text='Berry', start=0, end=5, label='PERSON', token_start=0, token_end=0), Span(text='one', start=89, end=92, label='NUMBER', token_start=16, token_end=16), Span(text='mothers', start=132, end=139, label='PERSONTYPE', token_start=23, token_end=23)], tokens=[Token(text='Berry', start=0, end=5, id=0), Token(text='writes', start=6, end=12, id=1), Token(text='and', start=13, end=16, id=2), Token(text='designs', start=17, end=24, id=3), Token(text='the', start=25, end=28, id=4), Token(text='newsletter', start=29, end=39, id=5), Token(text='herself', start=40, end=47, id=6), Token(text=',', start=47, end=48, id=7), Token(text='and', start=49, end=52, id=8), Token(text='each', start=53, end=57, id=9), Token(text='issue', start=58, end=63, id=10), Token(text='\"', start=64, end=65, id=11), Token(text='is', start=65, end=67, id=12), Token(text='usually', start=68, end=75, id=13), Token(text='built', start=76, end=81, id=14), Token(text='around', start=82, end=88, id=15), Token(text='one', start=89, end=92, id=16), Token(text='article', start=93, end=100, id=17), Token(text='of', start=101, end=103, id=18), Token(text='current', start=104, end=111, id=19), Token(text='interest', start=112, end=120, id=20), Token(text='to', start=121, end=123, id=21), Token(text='working', start=124, end=131, id=22), Token(text='mothers', start=132, end=139, id=23), Token(text=',', start=139, end=140, id=24), Token(text='\"', start=140, end=141, id=25), Token(text='she', start=142, end=145, id=26), Token(text='said', start=146, end=150, id=27), Token(text='.', start=150, end=151, id=28)], meta={'source': 'Cognitive Services Training Set'})\n",
      "Example(text='Certainly a printing concern would have saved time and bother by copying the layout of one of its previous editions, as did the house of Giunta in 1527, and again in 1560, 1606, 1611, 1618, and 1626. Since the Giunta firm had previously formed a partnership with Baba, the copy of the 1647 Giunta edition by Baba in 1653 should come as no surprise.', spans=[Span(text='one', start=87, end=90, label='NUMBER', token_start=15, token_end=15), Span(text='Giunta', start=137, end=143, label='ORG', token_start=26, token_end=26), Span(text='1527', start=147, end=151, label='DATERANGE', token_start=28, token_end=28), Span(text='1560', start=166, end=170, label='DATERANGE', token_start=33, token_end=33), Span(text='1606', start=172, end=176, label='DATERANGE', token_start=35, token_end=35), Span(text='1611', start=178, end=182, label='DATERANGE', token_start=37, token_end=37), Span(text='1618', start=184, end=188, label='DATERANGE', token_start=39, token_end=39), Span(text='1626', start=194, end=198, label='DATERANGE', token_start=42, token_end=42), Span(text='Giunta', start=210, end=216, label='ORG', token_start=46, token_end=46), Span(text='Baba', start=263, end=267, label='ORG', token_start=54, token_end=54), Span(text='1647', start=285, end=289, label='DATERANGE', token_start=60, token_end=60), Span(text='Giunta', start=290, end=296, label='ORG', token_start=61, token_end=61), Span(text='Baba', start=308, end=312, label='ORG', token_start=64, token_end=64), Span(text='1653', start=316, end=320, label='DATERANGE', token_start=66, token_end=66)], tokens=[Token(text='Certainly', start=0, end=9, id=0), Token(text='a', start=10, end=11, id=1), Token(text='printing', start=12, end=20, id=2), Token(text='concern', start=21, end=28, id=3), Token(text='would', start=29, end=34, id=4), Token(text='have', start=35, end=39, id=5), Token(text='saved', start=40, end=45, id=6), Token(text='time', start=46, end=50, id=7), Token(text='and', start=51, end=54, id=8), Token(text='bother', start=55, end=61, id=9), Token(text='by', start=62, end=64, id=10), Token(text='copying', start=65, end=72, id=11), Token(text='the', start=73, end=76, id=12), Token(text='layout', start=77, end=83, id=13), Token(text='of', start=84, end=86, id=14), Token(text='one', start=87, end=90, id=15), Token(text='of', start=91, end=93, id=16), Token(text='its', start=94, end=97, id=17), Token(text='previous', start=98, end=106, id=18), Token(text='editions', start=107, end=115, id=19), Token(text=',', start=115, end=116, id=20), Token(text='as', start=117, end=119, id=21), Token(text='did', start=120, end=123, id=22), Token(text='the', start=124, end=127, id=23), Token(text='house', start=128, end=133, id=24), Token(text='of', start=134, end=136, id=25), Token(text='Giunta', start=137, end=143, id=26), Token(text='in', start=144, end=146, id=27), Token(text='1527', start=147, end=151, id=28), Token(text=',', start=151, end=152, id=29), Token(text='and', start=153, end=156, id=30), Token(text='again', start=157, end=162, id=31), Token(text='in', start=163, end=165, id=32), Token(text='1560', start=166, end=170, id=33), Token(text=',', start=170, end=171, id=34), Token(text='1606', start=172, end=176, id=35), Token(text=',', start=176, end=177, id=36), Token(text='1611', start=178, end=182, id=37), Token(text=',', start=182, end=183, id=38), Token(text='1618', start=184, end=188, id=39), Token(text=',', start=188, end=189, id=40), Token(text='and', start=190, end=193, id=41), Token(text='1626', start=194, end=198, id=42), Token(text='.', start=198, end=199, id=43), Token(text='Since', start=200, end=205, id=44), Token(text='the', start=206, end=209, id=45), Token(text='Giunta', start=210, end=216, id=46), Token(text='firm', start=217, end=221, id=47), Token(text='had', start=222, end=225, id=48), Token(text='previously', start=226, end=236, id=49), Token(text='formed', start=237, end=243, id=50), Token(text='a', start=244, end=245, id=51), Token(text='partnership', start=246, end=257, id=52), Token(text='with', start=258, end=262, id=53), Token(text='Baba', start=263, end=267, id=54), Token(text=',', start=267, end=268, id=55), Token(text='the', start=269, end=272, id=56), Token(text='copy', start=273, end=277, id=57), Token(text='of', start=278, end=280, id=58), Token(text='the', start=281, end=284, id=59), Token(text='1647', start=285, end=289, id=60), Token(text='Giunta', start=290, end=296, id=61), Token(text='edition', start=297, end=304, id=62), Token(text='by', start=305, end=307, id=63), Token(text='Baba', start=308, end=312, id=64), Token(text='in', start=313, end=315, id=65), Token(text='1653', start=316, end=320, id=66), Token(text='should', start=321, end=327, id=67), Token(text='come', start=328, end=332, id=68), Token(text='as', start=333, end=335, id=69), Token(text='no', start=336, end=338, id=70), Token(text='surprise', start=339, end=347, id=71), Token(text='.', start=347, end=348, id=72)], meta={'source': 'Cognitive Services Training Set'})\n",
      "====================================================================================================\n",
      "\n",
      "text              nonwovens  \n",
      "True Label        PRODUCT    \n",
      "Predicted Label   NOT_LABELED\n",
      "N Errors          48         \n",
      "\n",
      "Example(text='Being able to tailor nonwovens to the needs of clothiers, not in interlinings but for the actual garments, would create huge market potential for nonwovens.', spans=[Span(text='nonwovens', start=21, end=30, label='PRODUCT', token_start=4, token_end=4), Span(text='clothiers', start=47, end=56, label='PERSONTYPE', token_start=9, token_end=9), Span(text='interlinings', start=65, end=77, label='PRODUCT', token_start=13, token_end=13), Span(text='garments', start=97, end=105, label='PRODUCT', token_start=18, token_end=18), Span(text='nonwovens', start=146, end=155, label='PRODUCT', token_start=26, token_end=26)], tokens=[Token(text='Being', start=0, end=5, id=0), Token(text='able', start=6, end=10, id=1), Token(text='to', start=11, end=13, id=2), Token(text='tailor', start=14, end=20, id=3), Token(text='nonwovens', start=21, end=30, id=4), Token(text='to', start=31, end=33, id=5), Token(text='the', start=34, end=37, id=6), Token(text='needs', start=38, end=43, id=7), Token(text='of', start=44, end=46, id=8), Token(text='clothiers', start=47, end=56, id=9), Token(text=',', start=56, end=57, id=10), Token(text='not', start=58, end=61, id=11), Token(text='in', start=62, end=64, id=12), Token(text='interlinings', start=65, end=77, id=13), Token(text='but', start=78, end=81, id=14), Token(text='for', start=82, end=85, id=15), Token(text='the', start=86, end=89, id=16), Token(text='actual', start=90, end=96, id=17), Token(text='garments', start=97, end=105, id=18), Token(text=',', start=105, end=106, id=19), Token(text='would', start=107, end=112, id=20), Token(text='create', start=113, end=119, id=21), Token(text='huge', start=120, end=124, id=22), Token(text='market', start=125, end=131, id=23), Token(text='potential', start=132, end=141, id=24), Token(text='for', start=142, end=145, id=25), Token(text='nonwovens', start=146, end=155, id=26), Token(text='.', start=155, end=156, id=27)], meta={'source': 'Cognitive Services Training Set'})\n",
      "Example(text='Being able to tailor nonwovens to the needs of clothiers, not in interlinings but for the actual garments, would create huge market potential for nonwovens.', spans=[Span(text='nonwovens', start=21, end=30, label='PRODUCT', token_start=4, token_end=4), Span(text='clothiers', start=47, end=56, label='PERSONTYPE', token_start=9, token_end=9), Span(text='interlinings', start=65, end=77, label='PRODUCT', token_start=13, token_end=13), Span(text='garments', start=97, end=105, label='PRODUCT', token_start=18, token_end=18), Span(text='nonwovens', start=146, end=155, label='PRODUCT', token_start=26, token_end=26)], tokens=[Token(text='Being', start=0, end=5, id=0), Token(text='able', start=6, end=10, id=1), Token(text='to', start=11, end=13, id=2), Token(text='tailor', start=14, end=20, id=3), Token(text='nonwovens', start=21, end=30, id=4), Token(text='to', start=31, end=33, id=5), Token(text='the', start=34, end=37, id=6), Token(text='needs', start=38, end=43, id=7), Token(text='of', start=44, end=46, id=8), Token(text='clothiers', start=47, end=56, id=9), Token(text=',', start=56, end=57, id=10), Token(text='not', start=58, end=61, id=11), Token(text='in', start=62, end=64, id=12), Token(text='interlinings', start=65, end=77, id=13), Token(text='but', start=78, end=81, id=14), Token(text='for', start=82, end=85, id=15), Token(text='the', start=86, end=89, id=16), Token(text='actual', start=90, end=96, id=17), Token(text='garments', start=97, end=105, id=18), Token(text=',', start=105, end=106, id=19), Token(text='would', start=107, end=112, id=20), Token(text='create', start=113, end=119, id=21), Token(text='huge', start=120, end=124, id=22), Token(text='market', start=125, end=131, id=23), Token(text='potential', start=132, end=141, id=24), Token(text='for', start=142, end=145, id=25), Token(text='nonwovens', start=146, end=155, id=26), Token(text='.', start=155, end=156, id=27)], meta={'source': 'Cognitive Services Training Set'})\n",
      "Example(text='In the case of olefin, nonwovens have always dominated the market.', spans=[Span(text='olefin', start=15, end=21, label='PRODUCT', token_start=4, token_end=4), Span(text='nonwovens', start=23, end=32, label='PRODUCT', token_start=6, token_end=6)], tokens=[Token(text='In', start=0, end=2, id=0), Token(text='the', start=3, end=6, id=1), Token(text='case', start=7, end=11, id=2), Token(text='of', start=12, end=14, id=3), Token(text='olefin', start=15, end=21, id=4), Token(text=',', start=21, end=22, id=5), Token(text='nonwovens', start=23, end=32, id=6), Token(text='have', start=33, end=37, id=7), Token(text='always', start=38, end=44, id=8), Token(text='dominated', start=45, end=54, id=9), Token(text='the', start=55, end=58, id=10), Token(text='market', start=59, end=65, id=11), Token(text='.', start=65, end=66, id=12)], meta={'source': 'Cognitive Services Training Set'})\n",
      "====================================================================================================\n",
      "\n",
      "text              people     \n",
      "True Label        PERSONTYPE \n",
      "Predicted Label   NOT_LABELED\n",
      "N Errors          28         \n",
      "\n",
      "Example(text=\"Yet there is no condemnation of Ono's statements as being crass, mean-spirited and just plain wrong. Since Lennon's tragic death, it has become all too common for people to deify him and his music at the expense of McCartney, who was every bit as vital to the success of the Beatles as John Lennon.\", spans=[Span(text='Ono', start=32, end=35, label='PERSON', token_start=6, token_end=6), Span(text='Lennon', start=107, end=113, label='PERSON', token_start=22, token_end=22), Span(text='people', start=163, end=169, label='PERSONTYPE', token_start=34, token_end=34), Span(text='McCartney', start=215, end=224, label='PERSON', token_start=45, token_end=45), Span(text='Beatles', start=275, end=282, label='ORG', token_start=58, token_end=58), Span(text='John Lennon', start=286, end=297, label='PERSON', token_start=60, token_end=61)], tokens=[Token(text='Yet', start=0, end=3, id=0), Token(text='there', start=4, end=9, id=1), Token(text='is', start=10, end=12, id=2), Token(text='no', start=13, end=15, id=3), Token(text='condemnation', start=16, end=28, id=4), Token(text='of', start=29, end=31, id=5), Token(text='Ono', start=32, end=35, id=6), Token(text=\"'s\", start=35, end=37, id=7), Token(text='statements', start=38, end=48, id=8), Token(text='as', start=49, end=51, id=9), Token(text='being', start=52, end=57, id=10), Token(text='crass', start=58, end=63, id=11), Token(text=',', start=63, end=64, id=12), Token(text='mean', start=65, end=69, id=13), Token(text='-', start=69, end=70, id=14), Token(text='spirited', start=70, end=78, id=15), Token(text='and', start=79, end=82, id=16), Token(text='just', start=83, end=87, id=17), Token(text='plain', start=88, end=93, id=18), Token(text='wrong', start=94, end=99, id=19), Token(text='.', start=99, end=100, id=20), Token(text='Since', start=101, end=106, id=21), Token(text='Lennon', start=107, end=113, id=22), Token(text=\"'s\", start=113, end=115, id=23), Token(text='tragic', start=116, end=122, id=24), Token(text='death', start=123, end=128, id=25), Token(text=',', start=128, end=129, id=26), Token(text='it', start=130, end=132, id=27), Token(text='has', start=133, end=136, id=28), Token(text='become', start=137, end=143, id=29), Token(text='all', start=144, end=147, id=30), Token(text='too', start=148, end=151, id=31), Token(text='common', start=152, end=158, id=32), Token(text='for', start=159, end=162, id=33), Token(text='people', start=163, end=169, id=34), Token(text='to', start=170, end=172, id=35), Token(text='deify', start=173, end=178, id=36), Token(text='him', start=179, end=182, id=37), Token(text='and', start=183, end=186, id=38), Token(text='his', start=187, end=190, id=39), Token(text='music', start=191, end=196, id=40), Token(text='at', start=197, end=199, id=41), Token(text='the', start=200, end=203, id=42), Token(text='expense', start=204, end=211, id=43), Token(text='of', start=212, end=214, id=44), Token(text='McCartney', start=215, end=224, id=45), Token(text=',', start=224, end=225, id=46), Token(text='who', start=226, end=229, id=47), Token(text='was', start=230, end=233, id=48), Token(text='every', start=234, end=239, id=49), Token(text='bit', start=240, end=243, id=50), Token(text='as', start=244, end=246, id=51), Token(text='vital', start=247, end=252, id=52), Token(text='to', start=253, end=255, id=53), Token(text='the', start=256, end=259, id=54), Token(text='success', start=260, end=267, id=55), Token(text='of', start=268, end=270, id=56), Token(text='the', start=271, end=274, id=57), Token(text='Beatles', start=275, end=282, id=58), Token(text='as', start=283, end=285, id=59), Token(text='John', start=286, end=290, id=60), Token(text='Lennon', start=291, end=297, id=61), Token(text='.', start=297, end=298, id=62)], meta={'source': 'Cognitive Services Training Set'})\n",
      "Example(text='Two years ago, the U.N. General Assembly adopted a doctrine known as the “responsibility to protect,” under which all U.N. members affirmed their duty to protect their own people from genocide, war crimes, ethnic cleansing and crimes against humanity.', spans=[Span(text='Two years', start=0, end=9, label='DATERANGE', token_start=0, token_end=1), Span(text='U.N. General Assembly', start=19, end=40, label='ORG', token_start=5, token_end=7), Span(text='U.N.', start=118, end=122, label='ORG', token_start=23, token_end=23), Span(text='members', start=123, end=130, label='PERSONTYPE', token_start=24, token_end=24), Span(text='people', start=172, end=178, label='PERSONTYPE', token_start=32, token_end=32)], tokens=[Token(text='Two', start=0, end=3, id=0), Token(text='years', start=4, end=9, id=1), Token(text='ago', start=10, end=13, id=2), Token(text=',', start=13, end=14, id=3), Token(text='the', start=15, end=18, id=4), Token(text='U.N.', start=19, end=23, id=5), Token(text='General', start=24, end=31, id=6), Token(text='Assembly', start=32, end=40, id=7), Token(text='adopted', start=41, end=48, id=8), Token(text='a', start=49, end=50, id=9), Token(text='doctrine', start=51, end=59, id=10), Token(text='known', start=60, end=65, id=11), Token(text='as', start=66, end=68, id=12), Token(text='the', start=69, end=72, id=13), Token(text='“', start=73, end=74, id=14), Token(text='responsibility', start=74, end=88, id=15), Token(text='to', start=89, end=91, id=16), Token(text='protect', start=92, end=99, id=17), Token(text=',', start=99, end=100, id=18), Token(text='”', start=100, end=101, id=19), Token(text='under', start=102, end=107, id=20), Token(text='which', start=108, end=113, id=21), Token(text='all', start=114, end=117, id=22), Token(text='U.N.', start=118, end=122, id=23), Token(text='members', start=123, end=130, id=24), Token(text='affirmed', start=131, end=139, id=25), Token(text='their', start=140, end=145, id=26), Token(text='duty', start=146, end=150, id=27), Token(text='to', start=151, end=153, id=28), Token(text='protect', start=154, end=161, id=29), Token(text='their', start=162, end=167, id=30), Token(text='own', start=168, end=171, id=31), Token(text='people', start=172, end=178, id=32), Token(text='from', start=179, end=183, id=33), Token(text='genocide', start=184, end=192, id=34), Token(text=',', start=192, end=193, id=35), Token(text='war', start=194, end=197, id=36), Token(text='crimes', start=198, end=204, id=37), Token(text=',', start=204, end=205, id=38), Token(text='ethnic', start=206, end=212, id=39), Token(text='cleansing', start=213, end=222, id=40), Token(text='and', start=223, end=226, id=41), Token(text='crimes', start=227, end=233, id=42), Token(text='against', start=234, end=241, id=43), Token(text='humanity', start=242, end=250, id=44), Token(text='.', start=250, end=251, id=45)], meta={'source': 'Cognitive Services Training Set'})\n",
      "Example(text='Founded in 1802, DuPont puts science to work by solving problems and creating solutions that make people lives better, safer and healthier.', spans=[Span(text='1802', start=11, end=15, label='DATERANGE', token_start=2, token_end=2), Span(text='DuPont', start=17, end=23, label='ORG', token_start=4, token_end=4), Span(text='people', start=98, end=104, label='PERSONTYPE', token_start=17, token_end=17)], tokens=[Token(text='Founded', start=0, end=7, id=0), Token(text='in', start=8, end=10, id=1), Token(text='1802', start=11, end=15, id=2), Token(text=',', start=15, end=16, id=3), Token(text='DuPont', start=17, end=23, id=4), Token(text='puts', start=24, end=28, id=5), Token(text='science', start=29, end=36, id=6), Token(text='to', start=37, end=39, id=7), Token(text='work', start=40, end=44, id=8), Token(text='by', start=45, end=47, id=9), Token(text='solving', start=48, end=55, id=10), Token(text='problems', start=56, end=64, id=11), Token(text='and', start=65, end=68, id=12), Token(text='creating', start=69, end=77, id=13), Token(text='solutions', start=78, end=87, id=14), Token(text='that', start=88, end=92, id=15), Token(text='make', start=93, end=97, id=16), Token(text='people', start=98, end=104, id=17), Token(text='lives', start=105, end=110, id=18), Token(text='better', start=111, end=117, id=19), Token(text=',', start=117, end=118, id=20), Token(text='safer', start=119, end=124, id=21), Token(text='and', start=125, end=128, id=22), Token(text='healthier', start=129, end=138, id=23), Token(text='.', start=138, end=139, id=24)], meta={'source': 'Cognitive Services Training Set'})\n",
      "====================================================================================================\n",
      "\n",
      "text              world      \n",
      "True Label        LOC        \n",
      "Predicted Label   NOT_LABELED\n",
      "N Errors          28         \n",
      "\n",
      "Example(text=\"Fiberweb reportedly decided to exit the wipes business to focus on more strategic business units like hygiene and industrial, and Ahlstrom jumped at the opportunity to become the world's largest supplier of nonwoven substrates to the wipes market.\", spans=[Span(text='Fiberweb', start=0, end=8, label='ORG', token_start=0, token_end=0), Span(text='Ahlstrom', start=130, end=138, label='ORG', token_start=21, token_end=21), Span(text='world', start=179, end=184, label='LOC', token_start=29, token_end=29)], tokens=[Token(text='Fiberweb', start=0, end=8, id=0), Token(text='reportedly', start=9, end=19, id=1), Token(text='decided', start=20, end=27, id=2), Token(text='to', start=28, end=30, id=3), Token(text='exit', start=31, end=35, id=4), Token(text='the', start=36, end=39, id=5), Token(text='wipes', start=40, end=45, id=6), Token(text='business', start=46, end=54, id=7), Token(text='to', start=55, end=57, id=8), Token(text='focus', start=58, end=63, id=9), Token(text='on', start=64, end=66, id=10), Token(text='more', start=67, end=71, id=11), Token(text='strategic', start=72, end=81, id=12), Token(text='business', start=82, end=90, id=13), Token(text='units', start=91, end=96, id=14), Token(text='like', start=97, end=101, id=15), Token(text='hygiene', start=102, end=109, id=16), Token(text='and', start=110, end=113, id=17), Token(text='industrial', start=114, end=124, id=18), Token(text=',', start=124, end=125, id=19), Token(text='and', start=126, end=129, id=20), Token(text='Ahlstrom', start=130, end=138, id=21), Token(text='jumped', start=139, end=145, id=22), Token(text='at', start=146, end=148, id=23), Token(text='the', start=149, end=152, id=24), Token(text='opportunity', start=153, end=164, id=25), Token(text='to', start=165, end=167, id=26), Token(text='become', start=168, end=174, id=27), Token(text='the', start=175, end=178, id=28), Token(text='world', start=179, end=184, id=29), Token(text=\"'s\", start=184, end=186, id=30), Token(text='largest', start=187, end=194, id=31), Token(text='supplier', start=195, end=203, id=32), Token(text='of', start=204, end=206, id=33), Token(text='nonwoven', start=207, end=215, id=34), Token(text='substrates', start=216, end=226, id=35), Token(text='to', start=227, end=229, id=36), Token(text='the', start=230, end=233, id=37), Token(text='wipes', start=234, end=239, id=38), Token(text='market', start=240, end=246, id=39), Token(text='.', start=246, end=247, id=40)], meta={'source': 'Cognitive Services Training Set'})\n",
      "Example(text='The Polyfelt Group is one of the largest producers of geotextiles in the world, with plants in Austria, France, Kuala Lumpur, Malaysia and a joint venture in Australia.', spans=[Span(text='Polyfelt Group', start=4, end=18, label='ORG', token_start=1, token_end=2), Span(text='world', start=73, end=78, label='LOC', token_start=13, token_end=13), Span(text='Austria', start=95, end=102, label='GPE', token_start=18, token_end=18), Span(text='France', start=104, end=110, label='GPE', token_start=20, token_end=20), Span(text='Kuala Lumpur', start=112, end=124, label='GPE', token_start=22, token_end=23), Span(text='Malaysia', start=126, end=134, label='GPE', token_start=25, token_end=25), Span(text='Australia', start=158, end=167, label='GPE', token_start=31, token_end=31)], tokens=[Token(text='The', start=0, end=3, id=0), Token(text='Polyfelt', start=4, end=12, id=1), Token(text='Group', start=13, end=18, id=2), Token(text='is', start=19, end=21, id=3), Token(text='one', start=22, end=25, id=4), Token(text='of', start=26, end=28, id=5), Token(text='the', start=29, end=32, id=6), Token(text='largest', start=33, end=40, id=7), Token(text='producers', start=41, end=50, id=8), Token(text='of', start=51, end=53, id=9), Token(text='geotextiles', start=54, end=65, id=10), Token(text='in', start=66, end=68, id=11), Token(text='the', start=69, end=72, id=12), Token(text='world', start=73, end=78, id=13), Token(text=',', start=78, end=79, id=14), Token(text='with', start=80, end=84, id=15), Token(text='plants', start=85, end=91, id=16), Token(text='in', start=92, end=94, id=17), Token(text='Austria', start=95, end=102, id=18), Token(text=',', start=102, end=103, id=19), Token(text='France', start=104, end=110, id=20), Token(text=',', start=110, end=111, id=21), Token(text='Kuala', start=112, end=117, id=22), Token(text='Lumpur', start=118, end=124, id=23), Token(text=',', start=124, end=125, id=24), Token(text='Malaysia', start=126, end=134, id=25), Token(text='and', start=135, end=138, id=26), Token(text='a', start=139, end=140, id=27), Token(text='joint', start=141, end=146, id=28), Token(text='venture', start=147, end=154, id=29), Token(text='in', start=155, end=157, id=30), Token(text='Australia', start=158, end=167, id=31), Token(text='.', start=167, end=168, id=32)], meta={'source': 'Cognitive Services Training Set'})\n",
      "Example(text=\"All of the companies are concerned about K-C's aggressive movement in the European market (as well as elsewhere in the world) and it is clear that P&G and K-C will be facing each other in the struggle of the Titans.\", spans=[Span(text='K-C', start=41, end=44, label='ORG', token_start=7, token_end=9), Span(text='world', start=119, end=124, label='LOC', token_start=24, token_end=24), Span(text='P&G', start=147, end=150, label='ORG', token_start=31, token_end=31), Span(text='K-C', start=155, end=158, label='ORG', token_start=33, token_end=35)], tokens=[Token(text='All', start=0, end=3, id=0), Token(text='of', start=4, end=6, id=1), Token(text='the', start=7, end=10, id=2), Token(text='companies', start=11, end=20, id=3), Token(text='are', start=21, end=24, id=4), Token(text='concerned', start=25, end=34, id=5), Token(text='about', start=35, end=40, id=6), Token(text='K', start=41, end=42, id=7), Token(text='-', start=42, end=43, id=8), Token(text='C', start=43, end=44, id=9), Token(text=\"'s\", start=44, end=46, id=10), Token(text='aggressive', start=47, end=57, id=11), Token(text='movement', start=58, end=66, id=12), Token(text='in', start=67, end=69, id=13), Token(text='the', start=70, end=73, id=14), Token(text='European', start=74, end=82, id=15), Token(text='market', start=83, end=89, id=16), Token(text='(', start=90, end=91, id=17), Token(text='as', start=91, end=93, id=18), Token(text='well', start=94, end=98, id=19), Token(text='as', start=99, end=101, id=20), Token(text='elsewhere', start=102, end=111, id=21), Token(text='in', start=112, end=114, id=22), Token(text='the', start=115, end=118, id=23), Token(text='world', start=119, end=124, id=24), Token(text=')', start=124, end=125, id=25), Token(text='and', start=126, end=129, id=26), Token(text='it', start=130, end=132, id=27), Token(text='is', start=133, end=135, id=28), Token(text='clear', start=136, end=141, id=29), Token(text='that', start=142, end=146, id=30), Token(text='P&G', start=147, end=150, id=31), Token(text='and', start=151, end=154, id=32), Token(text='K', start=155, end=156, id=33), Token(text='-', start=156, end=157, id=34), Token(text='C', start=157, end=158, id=35), Token(text='will', start=159, end=163, id=36), Token(text='be', start=164, end=166, id=37), Token(text='facing', start=167, end=173, id=38), Token(text='each', start=174, end=178, id=39), Token(text='other', start=179, end=184, id=40), Token(text='in', start=185, end=187, id=41), Token(text='the', start=188, end=191, id=42), Token(text='struggle', start=192, end=200, id=43), Token(text='of', start=201, end=203, id=44), Token(text='the', start=204, end=207, id=45), Token(text='Titans', start=208, end=214, id=46), Token(text='.', start=214, end=215, id=47)], meta={'source': 'Cognitive Services Training Set'})\n",
      "====================================================================================================\n",
      "\n",
      "text              year       \n",
      "True Label        DATERANGE  \n",
      "Predicted Label   NOT_LABELED\n",
      "N Errors          25         \n",
      "\n",
      "Example(text='WNI primarily targets North American customers, with 90% of sales coming from the continental U.S. In 2004 WNI generated $140 million in revenue and saw a 20%jump in sales compared to the prior year.', spans=[Span(text='WNI', start=0, end=3, label='ORG', token_start=0, token_end=0), Span(text='customers', start=37, end=46, label='PERSONTYPE', token_start=5, token_end=5), Span(text='90%', start=53, end=56, label='PERCENT', token_start=8, token_end=9), Span(text='U.S.', start=94, end=98, label='GPE', token_start=16, token_end=16), Span(text='2004', start=102, end=106, label='DATERANGE', token_start=18, token_end=18), Span(text='WNI', start=107, end=110, label='ORG', token_start=19, token_end=19), Span(text='$140 million', start=121, end=133, label='MONEY', token_start=21, token_end=23), Span(text='20%jump', start=155, end=162, label='PERCENT', token_start=29, token_end=29), Span(text='year', start=194, end=198, label='DATERANGE', token_start=36, token_end=36)], tokens=[Token(text='WNI', start=0, end=3, id=0), Token(text='primarily', start=4, end=13, id=1), Token(text='targets', start=14, end=21, id=2), Token(text='North', start=22, end=27, id=3), Token(text='American', start=28, end=36, id=4), Token(text='customers', start=37, end=46, id=5), Token(text=',', start=46, end=47, id=6), Token(text='with', start=48, end=52, id=7), Token(text='90', start=53, end=55, id=8), Token(text='%', start=55, end=56, id=9), Token(text='of', start=57, end=59, id=10), Token(text='sales', start=60, end=65, id=11), Token(text='coming', start=66, end=72, id=12), Token(text='from', start=73, end=77, id=13), Token(text='the', start=78, end=81, id=14), Token(text='continental', start=82, end=93, id=15), Token(text='U.S.', start=94, end=98, id=16), Token(text='In', start=99, end=101, id=17), Token(text='2004', start=102, end=106, id=18), Token(text='WNI', start=107, end=110, id=19), Token(text='generated', start=111, end=120, id=20), Token(text='$', start=121, end=122, id=21), Token(text='140', start=122, end=125, id=22), Token(text='million', start=126, end=133, id=23), Token(text='in', start=134, end=136, id=24), Token(text='revenue', start=137, end=144, id=25), Token(text='and', start=145, end=148, id=26), Token(text='saw', start=149, end=152, id=27), Token(text='a', start=153, end=154, id=28), Token(text='20%jump', start=155, end=162, id=29), Token(text='in', start=163, end=165, id=30), Token(text='sales', start=166, end=171, id=31), Token(text='compared', start=172, end=180, id=32), Token(text='to', start=181, end=183, id=33), Token(text='the', start=184, end=187, id=34), Token(text='prior', start=188, end=193, id=35), Token(text='year', start=194, end=198, id=36), Token(text='.', start=198, end=199, id=37)], meta={'source': 'Cognitive Services Training Set'})\n",
      "Example(text=\"The last issue matters a lot when you're spending big amounts on research and development--as Japanese corporations continue to do. Last year Canon opened a new digital-camera factory in the home islands. The higher labor costs didn't prevent the consumer-product giant from posting record profits of $5.2 billion in 2004.\", spans=[Span(text='year', start=137, end=141, label='DATERANGE', token_start=25, token_end=25), Span(text='Canon', start=142, end=147, label='ORG', token_start=26, token_end=26), Span(text='factory', start=176, end=183, label='LOC', token_start=33, token_end=33), Span(text='islands', start=191, end=203, label='LOC', token_start=36, token_end=37), Span(text='$5.2 billion', start=301, end=313, label='MONEY', token_start=56, token_end=58), Span(text='2004', start=317, end=321, label='DATERANGE', token_start=60, token_end=60)], tokens=[Token(text='The', start=0, end=3, id=0), Token(text='last', start=4, end=8, id=1), Token(text='issue', start=9, end=14, id=2), Token(text='matters', start=15, end=22, id=3), Token(text='a', start=23, end=24, id=4), Token(text='lot', start=25, end=28, id=5), Token(text='when', start=29, end=33, id=6), Token(text='you', start=34, end=37, id=7), Token(text=\"'re\", start=37, end=40, id=8), Token(text='spending', start=41, end=49, id=9), Token(text='big', start=50, end=53, id=10), Token(text='amounts', start=54, end=61, id=11), Token(text='on', start=62, end=64, id=12), Token(text='research', start=65, end=73, id=13), Token(text='and', start=74, end=77, id=14), Token(text='development', start=78, end=89, id=15), Token(text='--', start=89, end=91, id=16), Token(text='as', start=91, end=93, id=17), Token(text='Japanese', start=94, end=102, id=18), Token(text='corporations', start=103, end=115, id=19), Token(text='continue', start=116, end=124, id=20), Token(text='to', start=125, end=127, id=21), Token(text='do', start=128, end=130, id=22), Token(text='.', start=130, end=131, id=23), Token(text='Last', start=132, end=136, id=24), Token(text='year', start=137, end=141, id=25), Token(text='Canon', start=142, end=147, id=26), Token(text='opened', start=148, end=154, id=27), Token(text='a', start=155, end=156, id=28), Token(text='new', start=157, end=160, id=29), Token(text='digital', start=161, end=168, id=30), Token(text='-', start=168, end=169, id=31), Token(text='camera', start=169, end=175, id=32), Token(text='factory', start=176, end=183, id=33), Token(text='in', start=184, end=186, id=34), Token(text='the', start=187, end=190, id=35), Token(text='home', start=191, end=195, id=36), Token(text='islands', start=196, end=203, id=37), Token(text='.', start=203, end=204, id=38), Token(text='The', start=205, end=208, id=39), Token(text='higher', start=209, end=215, id=40), Token(text='labor', start=216, end=221, id=41), Token(text='costs', start=222, end=227, id=42), Token(text='did', start=228, end=231, id=43), Token(text=\"n't\", start=231, end=234, id=44), Token(text='prevent', start=235, end=242, id=45), Token(text='the', start=243, end=246, id=46), Token(text='consumer', start=247, end=255, id=47), Token(text='-', start=255, end=256, id=48), Token(text='product', start=256, end=263, id=49), Token(text='giant', start=264, end=269, id=50), Token(text='from', start=270, end=274, id=51), Token(text='posting', start=275, end=282, id=52), Token(text='record', start=283, end=289, id=53), Token(text='profits', start=290, end=297, id=54), Token(text='of', start=298, end=300, id=55), Token(text='$', start=301, end=302, id=56), Token(text='5.2', start=302, end=305, id=57), Token(text='billion', start=306, end=313, id=58), Token(text='in', start=314, end=316, id=59), Token(text='2004', start=317, end=321, id=60), Token(text='.', start=321, end=322, id=61)], meta={'source': 'Cognitive Services Training Set'})\n",
      "Example(text='Nokia says it will put its own WAP browser into all its new smart phones by the end of the year.', spans=[Span(text='Nokia', start=0, end=5, label='ORG', token_start=0, token_end=0), Span(text='smart phones', start=60, end=72, label='PRODUCT', token_start=13, token_end=14), Span(text='year', start=91, end=95, label='DATERANGE', token_start=20, token_end=20)], tokens=[Token(text='Nokia', start=0, end=5, id=0), Token(text='says', start=6, end=10, id=1), Token(text='it', start=11, end=13, id=2), Token(text='will', start=14, end=18, id=3), Token(text='put', start=19, end=22, id=4), Token(text='its', start=23, end=26, id=5), Token(text='own', start=27, end=30, id=6), Token(text='WAP', start=31, end=34, id=7), Token(text='browser', start=35, end=42, id=8), Token(text='into', start=43, end=47, id=9), Token(text='all', start=48, end=51, id=10), Token(text='its', start=52, end=55, id=11), Token(text='new', start=56, end=59, id=12), Token(text='smart', start=60, end=65, id=13), Token(text='phones', start=66, end=72, id=14), Token(text='by', start=73, end=75, id=15), Token(text='the', start=76, end=79, id=16), Token(text='end', start=80, end=83, id=17), Token(text='of', start=84, end=86, id=18), Token(text='the', start=87, end=90, id=19), Token(text='year', start=91, end=95, id=20), Token(text='.', start=95, end=96, id=21)], meta={'source': 'Cognitive Services Training Set'})\n",
      "====================================================================================================\n",
      "\n",
      "text              today      \n",
      "True Label        NOT_LABELED\n",
      "Predicted Label   DATE       \n",
      "N Errors          23         \n",
      "\n",
      "Example(text='The new, confident India of today owes its success at least in part to the influence of Western literature and learning.', spans=[Span(text='India', start=19, end=24, label='GPE', token_start=4, token_end=4)], tokens=[Token(text='The', start=0, end=3, id=0), Token(text='new', start=4, end=7, id=1), Token(text=',', start=7, end=8, id=2), Token(text='confident', start=9, end=18, id=3), Token(text='India', start=19, end=24, id=4), Token(text='of', start=25, end=27, id=5), Token(text='today', start=28, end=33, id=6), Token(text='owes', start=34, end=38, id=7), Token(text='its', start=39, end=42, id=8), Token(text='success', start=43, end=50, id=9), Token(text='at', start=51, end=53, id=10), Token(text='least', start=54, end=59, id=11), Token(text='in', start=60, end=62, id=12), Token(text='part', start=63, end=67, id=13), Token(text='to', start=68, end=70, id=14), Token(text='the', start=71, end=74, id=15), Token(text='influence', start=75, end=84, id=16), Token(text='of', start=85, end=87, id=17), Token(text='Western', start=88, end=95, id=18), Token(text='literature', start=96, end=106, id=19), Token(text='and', start=107, end=110, id=20), Token(text='learning', start=111, end=119, id=21), Token(text='.', start=119, end=120, id=22)], meta={'source': 'Cognitive Services Training Set'})\n",
      "Example(text=\"Consumer product giant  Kimberly-Clark, Dallas, TX, today opened a research and development center in Korea's Yongin, Kyonggi Province. The company's innovation center marks its first R&D facility to be launched outside of the U.S.\", spans=[Span(text='Kimberly-Clark', start=24, end=38, label='ORG', token_start=4, token_end=6), Span(text='Dallas, TX', start=40, end=50, label='GPE', token_start=8, token_end=10), Span(text='center', start=92, end=98, label='LOC', token_start=18, token_end=18), Span(text='Korea', start=102, end=107, label='GPE', token_start=20, token_end=20), Span(text='Yongin, Kyonggi Province', start=110, end=134, label='GPE', token_start=22, token_end=25), Span(text='R&D', start=184, end=187, label='ORG', token_start=35, token_end=35), Span(text='facility', start=188, end=196, label='LOC', token_start=36, token_end=36), Span(text='U.S.', start=227, end=231, label='GPE', token_start=43, token_end=43)], tokens=[Token(text='Consumer', start=0, end=8, id=0), Token(text='product', start=9, end=16, id=1), Token(text='giant', start=17, end=22, id=2), Token(text=' ', start=23, end=24, id=3), Token(text='Kimberly', start=24, end=32, id=4), Token(text='-', start=32, end=33, id=5), Token(text='Clark', start=33, end=38, id=6), Token(text=',', start=38, end=39, id=7), Token(text='Dallas', start=40, end=46, id=8), Token(text=',', start=46, end=47, id=9), Token(text='TX', start=48, end=50, id=10), Token(text=',', start=50, end=51, id=11), Token(text='today', start=52, end=57, id=12), Token(text='opened', start=58, end=64, id=13), Token(text='a', start=65, end=66, id=14), Token(text='research', start=67, end=75, id=15), Token(text='and', start=76, end=79, id=16), Token(text='development', start=80, end=91, id=17), Token(text='center', start=92, end=98, id=18), Token(text='in', start=99, end=101, id=19), Token(text='Korea', start=102, end=107, id=20), Token(text=\"'s\", start=107, end=109, id=21), Token(text='Yongin', start=110, end=116, id=22), Token(text=',', start=116, end=117, id=23), Token(text='Kyonggi', start=118, end=125, id=24), Token(text='Province', start=126, end=134, id=25), Token(text='.', start=134, end=135, id=26), Token(text='The', start=136, end=139, id=27), Token(text='company', start=140, end=147, id=28), Token(text=\"'s\", start=147, end=149, id=29), Token(text='innovation', start=150, end=160, id=30), Token(text='center', start=161, end=167, id=31), Token(text='marks', start=168, end=173, id=32), Token(text='its', start=174, end=177, id=33), Token(text='first', start=178, end=183, id=34), Token(text='R&D', start=184, end=187, id=35), Token(text='facility', start=188, end=196, id=36), Token(text='to', start=197, end=199, id=37), Token(text='be', start=200, end=202, id=38), Token(text='launched', start=203, end=211, id=39), Token(text='outside', start=212, end=219, id=40), Token(text='of', start=220, end=222, id=41), Token(text='the', start=223, end=226, id=42), Token(text='U.S.', start=227, end=231, id=43)], meta={'source': 'Cognitive Services Training Set'})\n",
      "Example(text='And may I say this again: there are three kinds of free daily tabloids out there today: youth-oriented (e.g.: Red-Eye, Red Streak in Chicago), commuter (such as Metro and Express) and home delivery (such as the various Examiners).', spans=[Span(text='three', start=36, end=41, label='NUMBER', token_start=9, token_end=9), Span(text='Red-Eye', start=110, end=117, label='ORG', token_start=25, token_end=27), Span(text='Red Streak', start=119, end=129, label='ORG', token_start=29, token_end=30), Span(text='Chicago', start=133, end=140, label='GPE', token_start=32, token_end=32), Span(text='commuter', start=143, end=151, label='PERSONTYPE', token_start=35, token_end=35), Span(text='Metro', start=161, end=166, label='ORG', token_start=39, token_end=39), Span(text='Express', start=171, end=178, label='ORG', token_start=41, token_end=41)], tokens=[Token(text='And', start=0, end=3, id=0), Token(text='may', start=4, end=7, id=1), Token(text='I', start=8, end=9, id=2), Token(text='say', start=10, end=13, id=3), Token(text='this', start=14, end=18, id=4), Token(text='again', start=19, end=24, id=5), Token(text=':', start=24, end=25, id=6), Token(text='there', start=26, end=31, id=7), Token(text='are', start=32, end=35, id=8), Token(text='three', start=36, end=41, id=9), Token(text='kinds', start=42, end=47, id=10), Token(text='of', start=48, end=50, id=11), Token(text='free', start=51, end=55, id=12), Token(text='daily', start=56, end=61, id=13), Token(text='tabloids', start=62, end=70, id=14), Token(text='out', start=71, end=74, id=15), Token(text='there', start=75, end=80, id=16), Token(text='today', start=81, end=86, id=17), Token(text=':', start=86, end=87, id=18), Token(text='youth', start=88, end=93, id=19), Token(text='-', start=93, end=94, id=20), Token(text='oriented', start=94, end=102, id=21), Token(text='(', start=103, end=104, id=22), Token(text='e.g.', start=104, end=108, id=23), Token(text=':', start=108, end=109, id=24), Token(text='Red', start=110, end=113, id=25), Token(text='-', start=113, end=114, id=26), Token(text='Eye', start=114, end=117, id=27), Token(text=',', start=117, end=118, id=28), Token(text='Red', start=119, end=122, id=29), Token(text='Streak', start=123, end=129, id=30), Token(text='in', start=130, end=132, id=31), Token(text='Chicago', start=133, end=140, id=32), Token(text=')', start=140, end=141, id=33), Token(text=',', start=141, end=142, id=34), Token(text='commuter', start=143, end=151, id=35), Token(text='(', start=152, end=153, id=36), Token(text='such', start=153, end=157, id=37), Token(text='as', start=158, end=160, id=38), Token(text='Metro', start=161, end=166, id=39), Token(text='and', start=167, end=170, id=40), Token(text='Express', start=171, end=178, id=41), Token(text=')', start=178, end=179, id=42), Token(text='and', start=180, end=183, id=43), Token(text='home', start=184, end=188, id=44), Token(text='delivery', start=189, end=197, id=45), Token(text='(', start=198, end=199, id=46), Token(text='such', start=199, end=203, id=47), Token(text='as', start=204, end=206, id=48), Token(text='the', start=207, end=210, id=49), Token(text='various', start=211, end=218, id=50), Token(text='Examiners', start=219, end=228, id=51), Token(text=')', start=228, end=229, id=52), Token(text='.', start=229, end=230, id=53)], meta={'source': 'Cognitive Services Training Set'})\n",
      "====================================================================================================\n",
      "\n",
      "text              Microsoft  \n",
      "True Label        ORG        \n",
      "Predicted Label   NOT_LABELED\n",
      "N Errors          23         \n",
      "\n",
      "Example(text='At times, Microsoft Expression Blend creates a storyboard for you, such as when you add an action to a property trigger or event trigger when you modify a control template.', spans=[Span(text='Microsoft', start=10, end=19, label='ORG', token_start=3, token_end=3), Span(text='Expression Blend-offset', start=20, end=36, label='PRODUCT', token_start=4, token_end=5), Span(text='storyboard', start=47, end=57, label='PRODUCT', token_start=8, token_end=8)], tokens=[Token(text='At', start=0, end=2, id=0), Token(text='times', start=3, end=8, id=1), Token(text=',', start=8, end=9, id=2), Token(text='Microsoft', start=10, end=19, id=3), Token(text='Expression', start=20, end=30, id=4), Token(text='Blend', start=31, end=36, id=5), Token(text='creates', start=37, end=44, id=6), Token(text='a', start=45, end=46, id=7), Token(text='storyboard', start=47, end=57, id=8), Token(text='for', start=58, end=61, id=9), Token(text='you', start=62, end=65, id=10), Token(text=',', start=65, end=66, id=11), Token(text='such', start=67, end=71, id=12), Token(text='as', start=72, end=74, id=13), Token(text='when', start=75, end=79, id=14), Token(text='you', start=80, end=83, id=15), Token(text='add', start=84, end=87, id=16), Token(text='an', start=88, end=90, id=17), Token(text='action', start=91, end=97, id=18), Token(text='to', start=98, end=100, id=19), Token(text='a', start=101, end=102, id=20), Token(text='property', start=103, end=111, id=21), Token(text='trigger', start=112, end=119, id=22), Token(text='or', start=120, end=122, id=23), Token(text='event', start=123, end=128, id=24), Token(text='trigger', start=129, end=136, id=25), Token(text='when', start=137, end=141, id=26), Token(text='you', start=142, end=145, id=27), Token(text='modify', start=146, end=152, id=28), Token(text='a', start=153, end=154, id=29), Token(text='control', start=155, end=162, id=30), Token(text='template', start=163, end=171, id=31), Token(text='.', start=171, end=172, id=32)], meta={'source': 'Cognitive Services Training Set'})\n",
      "Example(text='In the Microsoft Online Services Sign In application, on the Home tab, click Instant Messaging.', spans=[Span(text='Microsoft', start=7, end=16, label='ORG', token_start=2, token_end=2)], tokens=[Token(text='In', start=0, end=2, id=0), Token(text='the', start=3, end=6, id=1), Token(text='Microsoft', start=7, end=16, id=2), Token(text='Online', start=17, end=23, id=3), Token(text='Services', start=24, end=32, id=4), Token(text='Sign', start=33, end=37, id=5), Token(text='In', start=38, end=40, id=6), Token(text='application', start=41, end=52, id=7), Token(text=',', start=52, end=53, id=8), Token(text='on', start=54, end=56, id=9), Token(text='the', start=57, end=60, id=10), Token(text='Home', start=61, end=65, id=11), Token(text='tab', start=66, end=69, id=12), Token(text=',', start=69, end=70, id=13), Token(text='click', start=71, end=76, id=14), Token(text='Instant', start=77, end=84, id=15), Token(text='Messaging', start=85, end=94, id=16), Token(text='.', start=94, end=95, id=17)], meta={'source': 'Cognitive Services Training Set'})\n",
      "Example(text='You create a document list and a document approval workflow on a Microsoft Office SharePoint Server 2007 site.', spans=[Span(text='Microsoft', start=65, end=74, label='ORG', token_start=12, token_end=12), Span(text='2007', start=100, end=104, label='DATERANGE', token_start=16, token_end=16)], tokens=[Token(text='You', start=0, end=3, id=0), Token(text='create', start=4, end=10, id=1), Token(text='a', start=11, end=12, id=2), Token(text='document', start=13, end=21, id=3), Token(text='list', start=22, end=26, id=4), Token(text='and', start=27, end=30, id=5), Token(text='a', start=31, end=32, id=6), Token(text='document', start=33, end=41, id=7), Token(text='approval', start=42, end=50, id=8), Token(text='workflow', start=51, end=59, id=9), Token(text='on', start=60, end=62, id=10), Token(text='a', start=63, end=64, id=11), Token(text='Microsoft', start=65, end=74, id=12), Token(text='Office', start=75, end=81, id=13), Token(text='SharePoint', start=82, end=92, id=14), Token(text='Server', start=93, end=99, id=15), Token(text='2007', start=100, end=104, id=16), Token(text='site', start=105, end=109, id=17), Token(text='.', start=109, end=110, id=18)], meta={'source': 'Cognitive Services Training Set'})\n",
      "====================================================================================================\n",
      "\n",
      "text              users      \n",
      "True Label        NOT_LABELED\n",
      "Predicted Label   PERSONTYPE \n",
      "N Errors          22         \n",
      "\n",
      "Example(text='Adherence to open standards underlines all of our product development and gives users high levels of functionality and flexibility within a highly streamlined workflow, explains Stéphane Georges, Software Product Manager, Dalim Software.', spans=[Span(text='product development', start=50, end=69, label='EVENT', token_start=8, token_end=9), Span(text='Stéphane Georges', start=178, end=194, label='PERSON', token_start=26, token_end=27), Span(text='Software Product Manager', start=196, end=220, label='PERSONTYPE', token_start=29, token_end=31), Span(text='Dalim Software', start=222, end=236, label='ORG', token_start=33, token_end=34)], tokens=[Token(text='Adherence', start=0, end=9, id=0), Token(text='to', start=10, end=12, id=1), Token(text='open', start=13, end=17, id=2), Token(text='standards', start=18, end=27, id=3), Token(text='underlines', start=28, end=38, id=4), Token(text='all', start=39, end=42, id=5), Token(text='of', start=43, end=45, id=6), Token(text='our', start=46, end=49, id=7), Token(text='product', start=50, end=57, id=8), Token(text='development', start=58, end=69, id=9), Token(text='and', start=70, end=73, id=10), Token(text='gives', start=74, end=79, id=11), Token(text='users', start=80, end=85, id=12), Token(text='high', start=86, end=90, id=13), Token(text='levels', start=91, end=97, id=14), Token(text='of', start=98, end=100, id=15), Token(text='functionality', start=101, end=114, id=16), Token(text='and', start=115, end=118, id=17), Token(text='flexibility', start=119, end=130, id=18), Token(text='within', start=131, end=137, id=19), Token(text='a', start=138, end=139, id=20), Token(text='highly', start=140, end=146, id=21), Token(text='streamlined', start=147, end=158, id=22), Token(text='workflow', start=159, end=167, id=23), Token(text=',', start=167, end=168, id=24), Token(text='explains', start=169, end=177, id=25), Token(text='Stéphane', start=178, end=186, id=26), Token(text='Georges', start=187, end=194, id=27), Token(text=',', start=194, end=195, id=28), Token(text='Software', start=196, end=204, id=29), Token(text='Product', start=205, end=212, id=30), Token(text='Manager', start=213, end=220, id=31), Token(text=',', start=220, end=221, id=32), Token(text='Dalim', start=222, end=227, id=33), Token(text='Software', start=228, end=236, id=34), Token(text='.', start=236, end=237, id=35)], meta={'source': 'Cognitive Services Training Set'})\n",
      "Example(text=\"Exit Guide – NAVIGON's Highway Exit Guide enables users to search upcoming exits for one of six POI categories – food, gas, lodging, rest areas, auto service or shopping.\", spans=[Span(text='NAVIGON', start=13, end=20, label='ORG', token_start=3, token_end=3), Span(text='exits', start=75, end=80, label='LOC', token_start=13, token_end=13), Span(text='six', start=92, end=95, label='NUMBER', token_start=17, token_end=17), Span(text='food', start=113, end=117, label='PRODUCT', token_start=21, token_end=21), Span(text='gas', start=119, end=122, label='PRODUCT', token_start=23, token_end=23), Span(text='areas', start=133, end=143, label='LOC', token_start=27, token_end=28)], tokens=[Token(text='Exit', start=0, end=4, id=0), Token(text='Guide', start=5, end=10, id=1), Token(text='–', start=11, end=12, id=2), Token(text='NAVIGON', start=13, end=20, id=3), Token(text=\"'s\", start=20, end=22, id=4), Token(text='Highway', start=23, end=30, id=5), Token(text='Exit', start=31, end=35, id=6), Token(text='Guide', start=36, end=41, id=7), Token(text='enables', start=42, end=49, id=8), Token(text='users', start=50, end=55, id=9), Token(text='to', start=56, end=58, id=10), Token(text='search', start=59, end=65, id=11), Token(text='upcoming', start=66, end=74, id=12), Token(text='exits', start=75, end=80, id=13), Token(text='for', start=81, end=84, id=14), Token(text='one', start=85, end=88, id=15), Token(text='of', start=89, end=91, id=16), Token(text='six', start=92, end=95, id=17), Token(text='POI', start=96, end=99, id=18), Token(text='categories', start=100, end=110, id=19), Token(text='–', start=111, end=112, id=20), Token(text='food', start=113, end=117, id=21), Token(text=',', start=117, end=118, id=22), Token(text='gas', start=119, end=122, id=23), Token(text=',', start=122, end=123, id=24), Token(text='lodging', start=124, end=131, id=25), Token(text=',', start=131, end=132, id=26), Token(text='rest', start=133, end=137, id=27), Token(text='areas', start=138, end=143, id=28), Token(text=',', start=143, end=144, id=29), Token(text='auto', start=145, end=149, id=30), Token(text='service', start=150, end=157, id=31), Token(text='or', start=158, end=160, id=32), Token(text='shopping', start=161, end=169, id=33), Token(text='.', start=169, end=170, id=34)], meta={'source': 'Cognitive Services Training Set'})\n",
      "Example(text='The app called \"Twits Like Me\" is designed to help you find other Twitter users who share your interests.', spans=[Span(text='users', start=66, end=79, label='PERSONTYPE', token_start=15, token_end=16)], tokens=[Token(text='The', start=0, end=3, id=0), Token(text='app', start=4, end=7, id=1), Token(text='called', start=8, end=14, id=2), Token(text='\"', start=15, end=16, id=3), Token(text='Twits', start=16, end=21, id=4), Token(text='Like', start=22, end=26, id=5), Token(text='Me', start=27, end=29, id=6), Token(text='\"', start=29, end=30, id=7), Token(text='is', start=31, end=33, id=8), Token(text='designed', start=34, end=42, id=9), Token(text='to', start=43, end=45, id=10), Token(text='help', start=46, end=50, id=11), Token(text='you', start=51, end=54, id=12), Token(text='find', start=55, end=59, id=13), Token(text='other', start=60, end=65, id=14), Token(text='Twitter', start=66, end=73, id=15), Token(text='users', start=74, end=79, id=16), Token(text='who', start=80, end=83, id=17), Token(text='share', start=84, end=89, id=18), Token(text='your', start=90, end=94, id=19), Token(text='interests', start=95, end=104, id=20), Token(text='.', start=104, end=105, id=21)], meta={'source': 'Cognitive Services Training Set'})\n",
      "====================================================================================================\n",
      "\n",
      "text              country    \n",
      "True Label        LOC        \n",
      "Predicted Label   NOT_LABELED\n",
      "N Errors          22         \n",
      "\n",
      "Example(text=\"They were seen in Reader's Digest and heard on radio stations across the country.\", spans=[Span(text=\"Reader's Digest\", start=18, end=33, label='ORG', token_start=4, token_end=6), Span(text='country', start=73, end=80, label='LOC', token_start=14, token_end=14)], tokens=[Token(text='They', start=0, end=4, id=0), Token(text='were', start=5, end=9, id=1), Token(text='seen', start=10, end=14, id=2), Token(text='in', start=15, end=17, id=3), Token(text='Reader', start=18, end=24, id=4), Token(text=\"'s\", start=24, end=26, id=5), Token(text='Digest', start=27, end=33, id=6), Token(text='and', start=34, end=37, id=7), Token(text='heard', start=38, end=43, id=8), Token(text='on', start=44, end=46, id=9), Token(text='radio', start=47, end=52, id=10), Token(text='stations', start=53, end=61, id=11), Token(text='across', start=62, end=68, id=12), Token(text='the', start=69, end=72, id=13), Token(text='country', start=73, end=80, id=14), Token(text='.', start=80, end=81, id=15)], meta={'source': 'Cognitive Services Training Set'})\n",
      "Example(text=\"This has led to a myriad of problems, Katalayi said, including many refugees struggling in eastern Congo amid conflicts with neighboring countries lusting over the country's riches.\", spans=[Span(text='Katalayi', start=38, end=46, label='PERSON', token_start=9, token_end=9), Span(text='refugees', start=68, end=76, label='PERSONTYPE', token_start=14, token_end=14), Span(text='Congo', start=99, end=104, label='GPE', token_start=18, token_end=18), Span(text='conflicts', start=110, end=119, label='EVENT', token_start=20, token_end=20), Span(text='country', start=164, end=171, label='LOC', token_start=27, token_end=27)], tokens=[Token(text='This', start=0, end=4, id=0), Token(text='has', start=5, end=8, id=1), Token(text='led', start=9, end=12, id=2), Token(text='to', start=13, end=15, id=3), Token(text='a', start=16, end=17, id=4), Token(text='myriad', start=18, end=24, id=5), Token(text='of', start=25, end=27, id=6), Token(text='problems', start=28, end=36, id=7), Token(text=',', start=36, end=37, id=8), Token(text='Katalayi', start=38, end=46, id=9), Token(text='said', start=47, end=51, id=10), Token(text=',', start=51, end=52, id=11), Token(text='including', start=53, end=62, id=12), Token(text='many', start=63, end=67, id=13), Token(text='refugees', start=68, end=76, id=14), Token(text='struggling', start=77, end=87, id=15), Token(text='in', start=88, end=90, id=16), Token(text='eastern', start=91, end=98, id=17), Token(text='Congo', start=99, end=104, id=18), Token(text='amid', start=105, end=109, id=19), Token(text='conflicts', start=110, end=119, id=20), Token(text='with', start=120, end=124, id=21), Token(text='neighboring', start=125, end=136, id=22), Token(text='countries', start=137, end=146, id=23), Token(text='lusting', start=147, end=154, id=24), Token(text='over', start=155, end=159, id=25), Token(text='the', start=160, end=163, id=26), Token(text='country', start=164, end=171, id=27), Token(text=\"'s\", start=171, end=173, id=28), Token(text='riches', start=174, end=180, id=29), Token(text='.', start=180, end=181, id=30)], meta={'source': 'Cognitive Services Training Set'})\n",
      "Example(text='PDG Shopping Cart allows merchants to set up multiple tax rules to accommodate customers in numerous jurisdictions (counties, city, ZIP code, state/province, and country).', spans=[Span(text='PDG', start=0, end=3, label='ORG', token_start=0, token_end=0), Span(text='Shopping Cart', start=4, end=17, label='PRODUCT', token_start=1, token_end=2), Span(text='customers', start=79, end=88, label='PERSONTYPE', token_start=13, token_end=13), Span(text='counties', start=116, end=124, label='LOC', token_start=18, token_end=18), Span(text='city', start=126, end=130, label='LOC', token_start=20, token_end=20), Span(text='state', start=142, end=147, label='LOC', token_start=25, token_end=25), Span(text='province', start=148, end=156, label='LOC', token_start=27, token_end=27), Span(text='country', start=162, end=169, label='LOC', token_start=30, token_end=30)], tokens=[Token(text='PDG', start=0, end=3, id=0), Token(text='Shopping', start=4, end=12, id=1), Token(text='Cart', start=13, end=17, id=2), Token(text='allows', start=18, end=24, id=3), Token(text='merchants', start=25, end=34, id=4), Token(text='to', start=35, end=37, id=5), Token(text='set', start=38, end=41, id=6), Token(text='up', start=42, end=44, id=7), Token(text='multiple', start=45, end=53, id=8), Token(text='tax', start=54, end=57, id=9), Token(text='rules', start=58, end=63, id=10), Token(text='to', start=64, end=66, id=11), Token(text='accommodate', start=67, end=78, id=12), Token(text='customers', start=79, end=88, id=13), Token(text='in', start=89, end=91, id=14), Token(text='numerous', start=92, end=100, id=15), Token(text='jurisdictions', start=101, end=114, id=16), Token(text='(', start=115, end=116, id=17), Token(text='counties', start=116, end=124, id=18), Token(text=',', start=124, end=125, id=19), Token(text='city', start=126, end=130, id=20), Token(text=',', start=130, end=131, id=21), Token(text='ZIP', start=132, end=135, id=22), Token(text='code', start=136, end=140, id=23), Token(text=',', start=140, end=141, id=24), Token(text='state', start=142, end=147, id=25), Token(text='/', start=147, end=148, id=26), Token(text='province', start=148, end=156, id=27), Token(text=',', start=156, end=157, id=28), Token(text='and', start=158, end=161, id=29), Token(text='country', start=162, end=169, id=30), Token(text=')', start=169, end=170, id=31), Token(text='.', start=170, end=171, id=32)], meta={'source': 'Cognitive Services Training Set'})\n",
      "====================================================================================================\n",
      "\n",
      "text              One        \n",
      "True Label        NUMBER     \n",
      "Predicted Label   NOT_LABELED\n",
      "N Errors          21         \n",
      "\n",
      "Example(text='One outstanding feature of the new Byrd series has been the consistently high standard of the editorial prefaces.', spans=[Span(text='One', start=0, end=3, label='NUMBER', token_start=0, token_end=0), Span(text='Byrd', start=35, end=39, label='PRODUCT', token_start=6, token_end=6)], tokens=[Token(text='One', start=0, end=3, id=0), Token(text='outstanding', start=4, end=15, id=1), Token(text='feature', start=16, end=23, id=2), Token(text='of', start=24, end=26, id=3), Token(text='the', start=27, end=30, id=4), Token(text='new', start=31, end=34, id=5), Token(text='Byrd', start=35, end=39, id=6), Token(text='series', start=40, end=46, id=7), Token(text='has', start=47, end=50, id=8), Token(text='been', start=51, end=55, id=9), Token(text='the', start=56, end=59, id=10), Token(text='consistently', start=60, end=72, id=11), Token(text='high', start=73, end=77, id=12), Token(text='standard', start=78, end=86, id=13), Token(text='of', start=87, end=89, id=14), Token(text='the', start=90, end=93, id=15), Token(text='editorial', start=94, end=103, id=16), Token(text='prefaces', start=104, end=112, id=17), Token(text='.', start=112, end=113, id=18)], meta={'source': 'Cognitive Services Training Set'})\n",
      "Example(text='One creditor accused Stephen Foss of providing misleading financial information.', spans=[Span(text='One', start=0, end=3, label='NUMBER', token_start=0, token_end=0), Span(text='creditor', start=4, end=12, label='PERSONTYPE', token_start=1, token_end=1), Span(text='Stephen Foss', start=21, end=33, label='PERSON', token_start=3, token_end=4)], tokens=[Token(text='One', start=0, end=3, id=0), Token(text='creditor', start=4, end=12, id=1), Token(text='accused', start=13, end=20, id=2), Token(text='Stephen', start=21, end=28, id=3), Token(text='Foss', start=29, end=33, id=4), Token(text='of', start=34, end=36, id=5), Token(text='providing', start=37, end=46, id=6), Token(text='misleading', start=47, end=57, id=7), Token(text='financial', start=58, end=67, id=8), Token(text='information', start=68, end=79, id=9), Token(text='.', start=79, end=80, id=10)], meta={'source': 'Cognitive Services Training Set'})\n",
      "Example(text='With regard to the two Magnificats, Wielakker states that \"it was not uncommon for two Magnificats to be set in a Vespers collection, one a sober setting, the other richer. One or the other could be chosen, probably based on the effect sought in a First or Second Vespers and on the musicians available\" (p. x).', spans=[Span(text='two', start=19, end=22, label='NUMBER', token_start=4, token_end=4), Span(text='Wielakker', start=36, end=45, label='PERSON', token_start=7, token_end=7), Span(text='two', start=83, end=86, label='NUMBER', token_start=16, token_end=16), Span(text='one', start=134, end=137, label='NUMBER', token_start=26, token_end=26), Span(text='One', start=173, end=176, label='NUMBER', token_start=35, token_end=35), Span(text='musicians', start=283, end=292, label='PERSONTYPE', token_start=58, token_end=58)], tokens=[Token(text='With', start=0, end=4, id=0), Token(text='regard', start=5, end=11, id=1), Token(text='to', start=12, end=14, id=2), Token(text='the', start=15, end=18, id=3), Token(text='two', start=19, end=22, id=4), Token(text='Magnificats', start=23, end=34, id=5), Token(text=',', start=34, end=35, id=6), Token(text='Wielakker', start=36, end=45, id=7), Token(text='states', start=46, end=52, id=8), Token(text='that', start=53, end=57, id=9), Token(text='\"', start=58, end=59, id=10), Token(text='it', start=59, end=61, id=11), Token(text='was', start=62, end=65, id=12), Token(text='not', start=66, end=69, id=13), Token(text='uncommon', start=70, end=78, id=14), Token(text='for', start=79, end=82, id=15), Token(text='two', start=83, end=86, id=16), Token(text='Magnificats', start=87, end=98, id=17), Token(text='to', start=99, end=101, id=18), Token(text='be', start=102, end=104, id=19), Token(text='set', start=105, end=108, id=20), Token(text='in', start=109, end=111, id=21), Token(text='a', start=112, end=113, id=22), Token(text='Vespers', start=114, end=121, id=23), Token(text='collection', start=122, end=132, id=24), Token(text=',', start=132, end=133, id=25), Token(text='one', start=134, end=137, id=26), Token(text='a', start=138, end=139, id=27), Token(text='sober', start=140, end=145, id=28), Token(text='setting', start=146, end=153, id=29), Token(text=',', start=153, end=154, id=30), Token(text='the', start=155, end=158, id=31), Token(text='other', start=159, end=164, id=32), Token(text='richer', start=165, end=171, id=33), Token(text='.', start=171, end=172, id=34), Token(text='One', start=173, end=176, id=35), Token(text='or', start=177, end=179, id=36), Token(text='the', start=180, end=183, id=37), Token(text='other', start=184, end=189, id=38), Token(text='could', start=190, end=195, id=39), Token(text='be', start=196, end=198, id=40), Token(text='chosen', start=199, end=205, id=41), Token(text=',', start=205, end=206, id=42), Token(text='probably', start=207, end=215, id=43), Token(text='based', start=216, end=221, id=44), Token(text='on', start=222, end=224, id=45), Token(text='the', start=225, end=228, id=46), Token(text='effect', start=229, end=235, id=47), Token(text='sought', start=236, end=242, id=48), Token(text='in', start=243, end=245, id=49), Token(text='a', start=246, end=247, id=50), Token(text='First', start=248, end=253, id=51), Token(text='or', start=254, end=256, id=52), Token(text='Second', start=257, end=263, id=53), Token(text='Vespers', start=264, end=271, id=54), Token(text='and', start=272, end=275, id=55), Token(text='on', start=276, end=278, id=56), Token(text='the', start=279, end=282, id=57), Token(text='musicians', start=283, end=292, id=58), Token(text='available', start=293, end=302, id=59), Token(text='\"', start=302, end=303, id=60), Token(text='(', start=304, end=305, id=61), Token(text='p.', start=305, end=307, id=62), Token(text='x', start=308, end=309, id=63), Token(text=')', start=309, end=310, id=64), Token(text='.', start=310, end=311, id=65)], meta={'source': 'Cognitive Services Training Set'})\n",
      "====================================================================================================\n"
     ]
    }
   ],
   "source": [
    "def pprint_pred_error(pred_error: PredictionError):\n",
    "    msg = Printer()\n",
    "    msg.table({\n",
    "        'text': pred_error.text,\n",
    "        'True Label': pred_error.true_label,\n",
    "        'Predicted Label': pred_error.pred_label,\n",
    "        'N Errors': pred_error.count\n",
    "    })\n",
    "    for e in pred_error.examples[:3]:\n",
    "        pprint(e.original)\n",
    "        \n",
    "\n",
    "for pred_error in train_errors[:10]:\n",
    "    pprint_pred_error(pred_error)\n",
    "    print('=' * 100)\n",
    "    \n",
    "print(\"*\" * 100)\n",
    "print(\"*\" * 100)\n",
    "    \n",
    "for pred_error in dev_errors[:10]:\n",
    "    pprint_pred_error(pred_error)\n",
    "    print('=' * 100)\n",
    "    \n",
    "print(\"*\" * 100)\n",
    "print(\"*\" * 100)\n",
    "        \n",
    "for pred_error in test_errors[:10]:\n",
    "    pprint_pred_error(pred_error)\n",
    "    print('=' * 100)"
   ]
  },
  {
   "cell_type": "code",
   "execution_count": 219,
   "metadata": {},
   "outputs": [
    {
     "name": "stdout",
     "output_type": "stream",
     "text": [
      "The leading U.S. manufacturers of industrial protective clothing include Kappler, Guntersville, AL, Lakeland, Ronkonkoma, NY, Mar Mac, McBee, SC, and Kimberly Clark, Dallas, TX, with Kappler being the dominant and most sophisticated garment manufacturer.\n"
     ]
    }
   ],
   "source": [
    "for e in corpus.test:\n",
    "    if \"Kappler\" in e.text:\n",
    "        print(e.text)"
   ]
  },
  {
   "cell_type": "code",
   "execution_count": 225,
   "metadata": {},
   "outputs": [
    {
     "data": {
      "text/plain": [
       "[('U.S.', 'GPE'),\n",
       " ('Kappler', 'GPE'),\n",
       " ('Guntersville', 'GPE'),\n",
       " ('AL', 'GPE'),\n",
       " ('Lakeland', 'GPE'),\n",
       " ('Ronkonkoma', 'GPE'),\n",
       " ('NY', 'GPE'),\n",
       " ('Mar Mac', 'GPE'),\n",
       " ('McBee', 'PERSON'),\n",
       " ('SC', 'ORG'),\n",
       " ('Kimberly Clark', 'PERSON'),\n",
       " ('Dallas', 'GPE'),\n",
       " ('TX', 'GPE'),\n",
       " ('Kappler', 'PERSON')]"
      ]
     },
     "execution_count": 225,
     "metadata": {},
     "output_type": "execute_result"
    }
   ],
   "source": [
    "worst_text = \"The leading U.S. manufacturers of industrial protective clothing include Kappler, Guntersville, AL, Lakeland, Ronkonkoma, NY, Mar Mac, McBee, SC, and Kimberly Clark, Dallas, TX, with Kappler being the dominant and most sophisticated garment manufacturer.\"\n",
    "doc = nlp(worst_text)\n",
    "[(e.text, e.label_) for e in doc.ents]"
   ]
  },
  {
   "cell_type": "code",
   "execution_count": 235,
   "metadata": {},
   "outputs": [
    {
     "name": "stdout",
     "output_type": "stream",
     "text": [
      "{(166, 172, 'GPE'), (135, 140, 'PERSON'), (96, 98, 'GPE'), (142, 144, 'ORG'), (73, 80, 'GPE'), (150, 164, 'PERSON'), (82, 94, 'GPE'), (100, 108, 'GPE'), (110, 120, 'GPE'), (122, 124, 'GPE'), (183, 190, 'PERSON'), (126, 133, 'GPE'), (174, 176, 'GPE')}\n",
      "====================================================================================================\n",
      "{(166, 176, 'GPE'), (82, 98, 'GPE'), (183, 190, 'ORG'), (135, 144, 'GPE'), (126, 133, 'ORG'), (150, 164, 'ORG'), (100, 108, 'ORG'), (110, 124, 'GPE'), (73, 80, 'ORG')}\n"
     ]
    }
   ],
   "source": [
    "worst_test_errors = top_prediction_errors(recognizer, [e for e in corpus.test if e.text == worst_text])"
   ]
  },
  {
   "cell_type": "code",
   "execution_count": 236,
   "metadata": {},
   "outputs": [
    {
     "data": {
      "text/plain": [
       "17"
      ]
     },
     "execution_count": 236,
     "metadata": {},
     "output_type": "execute_result"
    }
   ],
   "source": [
    "len(worst_test_errors)"
   ]
  },
  {
   "cell_type": "code",
   "execution_count": null,
   "metadata": {},
   "outputs": [],
   "source": [
    "wor"
   ]
  },
  {
   "cell_type": "code",
   "execution_count": 232,
   "metadata": {},
   "outputs": [
    {
     "name": "stdout",
     "output_type": "stream",
     "text": [
      "Kappler ORG NOT_LABELED 2\n",
      "[('The leading U.S. manufacturers of industrial protective clothing include Kappler, Guntersville, AL, Lakeland, Ronkonkoma, NY, Mar Mac, McBee, SC, and Kimberly Clark, Dallas, TX, with Kappler being the dominant and most sophisticated garment manufacturer.', 'The leading U.S. manufacturers of industrial protective clothing include Kappler, Guntersville, AL, Lakeland, Ronkonkoma, NY, Mar Mac, McBee, SC, and Kimberly Clark, Dallas, TX, with Kappler being the dominant and most sophisticated garment manufacturer.'), ('The leading U.S. manufacturers of industrial protective clothing include Kappler, Guntersville, AL, Lakeland, Ronkonkoma, NY, Mar Mac, McBee, SC, and Kimberly Clark, Dallas, TX, with Kappler being the dominant and most sophisticated garment manufacturer.', 'The leading U.S. manufacturers of industrial protective clothing include Kappler, Guntersville, AL, Lakeland, Ronkonkoma, NY, Mar Mac, McBee, SC, and Kimberly Clark, Dallas, TX, with Kappler being the dominant and most sophisticated garment manufacturer.')]\n",
      "====================================================================================================\n",
      "Kappler ORG GPE 1\n",
      "[('The leading U.S. manufacturers of industrial protective clothing include Kappler, Guntersville, AL, Lakeland, Ronkonkoma, NY, Mar Mac, McBee, SC, and Kimberly Clark, Dallas, TX, with Kappler being the dominant and most sophisticated garment manufacturer.', 'The leading U.S. manufacturers of industrial protective clothing include Kappler, Guntersville, AL, Lakeland, Ronkonkoma, NY, Mar Mac, McBee, SC, and Kimberly Clark, Dallas, TX, with Kappler being the dominant and most sophisticated garment manufacturer.')]\n",
      "====================================================================================================\n",
      "Kappler ORG PERSON 1\n",
      "[('The leading U.S. manufacturers of industrial protective clothing include Kappler, Guntersville, AL, Lakeland, Ronkonkoma, NY, Mar Mac, McBee, SC, and Kimberly Clark, Dallas, TX, with Kappler being the dominant and most sophisticated garment manufacturer.', 'The leading U.S. manufacturers of industrial protective clothing include Kappler, Guntersville, AL, Lakeland, Ronkonkoma, NY, Mar Mac, McBee, SC, and Kimberly Clark, Dallas, TX, with Kappler being the dominant and most sophisticated garment manufacturer.')]\n",
      "====================================================================================================\n"
     ]
    }
   ],
   "source": [
    "for pe in worst_test_errors:\n",
    "    if pe.text == \"Kappler\":\n",
    "        print(pe.text, pe.true_label, pe.pred_label, pe.count)\n",
    "        print([(e.original.text, e.predicted.text) for e in pe.examples])\n",
    "        print('=' * 100)"
   ]
  },
  {
   "cell_type": "code",
   "execution_count": 208,
   "metadata": {},
   "outputs": [
    {
     "data": {
      "text/plain": [
       "0"
      ]
     },
     "execution_count": 208,
     "metadata": {},
     "output_type": "execute_result"
    }
   ],
   "source": [
    "counter = defaultdict(list)\n",
    "count = 0\n",
    "\n",
    "for pe in test_errors:\n",
    "    counter = defaultdict(list)\n",
    "\n",
    "    for e in pe.examples:\n",
    "        if e.original.text == text:\n",
    "            count += 1\n",
    "            counter[e.predicted.text].append(\n",
    "                PredictionError(\n",
    "                    text=pe.text,\n",
    "                    true_label=pe.true_label,\n",
    "                    pred_label=pe.pred_label,\n",
    "                    count=pe.count,\n",
    "                    examples=[e]\n",
    "                )\n",
    "            )\n",
    "        \n",
    "        \n",
    "len(counter['The leading U.S. manufacturers of industrial protective clothing include Kappler, Guntersville, AL, Lakeland, Ronkonkoma, NY, Mar Mac, McBee, SC, and Kimberly Clark, Dallas, TX, with Kappler being the dominant and most sophisticated garment manufacturer.'])\n",
    "\n",
    "# for k, v in counter.items():\n",
    "#     for pe in v:\n",
    "#         if pe.text == \"Kappler\":\n",
    "#             print(pe)\n",
    "            \n",
    "# count"
   ]
  },
  {
   "cell_type": "markdown",
   "metadata": {},
   "source": [
    "## Get the Hardest Examples for your model to Predict"
   ]
  },
  {
   "cell_type": "code",
   "execution_count": 19,
   "metadata": {},
   "outputs": [
    {
     "name": "stdout",
     "output_type": "stream",
     "text": [
      "22\n"
     ]
    }
   ],
   "source": [
    "hardest_examples = get_hardest_examples(test_errors, remove_pred_error_examples=False)\n",
    "text = hardest_examples[0].example.text\n",
    "\n",
    "\n",
    "pred_example = None\n",
    "print(len(hardest_examples[0].prediction_errors))\n",
    "for pe in hardest_examples[0].prediction_errors:\n",
    "    if pe.text == text:\n",
    "        pred_example = pe\n",
    "        \n",
    "pred_example"
   ]
  },
  {
   "cell_type": "code",
   "execution_count": 20,
   "metadata": {},
   "outputs": [
    {
     "data": {
      "text/plain": [
       "Example(text='Bayex, Inc., Albion, NY, a subsidiary of Bay Mills, St. Catherines, Ontario, Canada, is in the process of a 50% expansion at its Albion plant, adding machinery to several existing lines.', spans=[Span(text='Bayex, Inc.', start=0, end=11, label='ORG', token_start=0, token_end=3), Span(text='Albion', start=13, end=19, label='GPE', token_start=4, token_end=5), Span(text='NY', start=21, end=23, label='GPE', token_start=6, token_end=7), Span(text='Bay Mills', start=41, end=50, label='ORG', token_start=11, token_end=13), Span(text='St. Catherines', start=52, end=66, label='GPE', token_start=14, token_end=16), Span(text='Ontario', start=68, end=75, label='GPE', token_start=17, token_end=18), Span(text='Canada', start=77, end=83, label='GPE', token_start=19, token_end=20), Span(text='50%', start=108, end=111, label='PERCENT', token_start=27, token_end=29), Span(text='Albion plant', start=129, end=141, label='LOC', token_start=32, token_end=34)], tokens=[Token(text='Bayex', start=0, end=5, id=0), Token(text=',', start=5, end=6, id=1), Token(text='Inc.', start=7, end=11, id=2), Token(text=',', start=11, end=12, id=3), Token(text='Albion', start=13, end=19, id=4), Token(text=',', start=19, end=20, id=5), Token(text='NY', start=21, end=23, id=6), Token(text=',', start=23, end=24, id=7), Token(text='a', start=25, end=26, id=8), Token(text='subsidiary', start=27, end=37, id=9), Token(text='of', start=38, end=40, id=10), Token(text='Bay', start=41, end=44, id=11), Token(text='Mills', start=45, end=50, id=12), Token(text=',', start=50, end=51, id=13), Token(text='St.', start=52, end=55, id=14), Token(text='Catherines', start=56, end=66, id=15), Token(text=',', start=66, end=67, id=16), Token(text='Ontario', start=68, end=75, id=17), Token(text=',', start=75, end=76, id=18), Token(text='Canada', start=77, end=83, id=19), Token(text=',', start=83, end=84, id=20), Token(text='is', start=85, end=87, id=21), Token(text='in', start=88, end=90, id=22), Token(text='the', start=91, end=94, id=23), Token(text='process', start=95, end=102, id=24), Token(text='of', start=103, end=105, id=25), Token(text='a', start=106, end=107, id=26), Token(text='50', start=108, end=110, id=27), Token(text='%', start=110, end=111, id=28), Token(text='expansion', start=112, end=121, id=29), Token(text='at', start=122, end=124, id=30), Token(text='its', start=125, end=128, id=31), Token(text='Albion', start=129, end=135, id=32), Token(text='plant', start=136, end=141, id=33), Token(text=',', start=141, end=142, id=34), Token(text='adding', start=143, end=149, id=35), Token(text='machinery', start=150, end=159, id=36), Token(text='to', start=160, end=162, id=37), Token(text='several', start=163, end=170, id=38), Token(text='existing', start=171, end=179, id=39), Token(text='lines', start=180, end=185, id=40), Token(text='.', start=185, end=186, id=41)], meta={})"
      ]
     },
     "execution_count": 20,
     "metadata": {},
     "output_type": "execute_result"
    }
   ],
   "source": [
    "hardest_examples[0].prediction_errors[0].examples[0].predicted"
   ]
  },
  {
   "cell_type": "code",
   "execution_count": 21,
   "metadata": {},
   "outputs": [
    {
     "name": "stdout",
     "output_type": "stream",
     "text": [
      "\n",
      "✨  Starting the web server at http://localhost:8080 ...\n",
      "Open the app in your browser and start annotating!\n",
      "\n"
     ]
    },
    {
     "ename": "RuntimeError",
     "evalue": "This event loop is already running",
     "output_type": "error",
     "traceback": [
      "\u001b[0;31m---------------------------------------------------------------------------\u001b[0m",
      "\u001b[0;31mRuntimeError\u001b[0m                              Traceback (most recent call last)",
      "\u001b[0;32m<ipython-input-21-e8d01b70460a>\u001b[0m in \u001b[0;36m<module>\u001b[0;34m\u001b[0m\n\u001b[1;32m      1\u001b[0m \u001b[0;32mimport\u001b[0m \u001b[0mprodigy\u001b[0m\u001b[0;34m\u001b[0m\u001b[0;34m\u001b[0m\u001b[0m\n\u001b[1;32m      2\u001b[0m \u001b[0mlabels\u001b[0m \u001b[0;34m=\u001b[0m \u001b[0;34m\"ADDRESS,AGE,CARDINAL,DATE,DATERANGE,DATETIMERANGE,DURATION,EVENT,FAC,GPE,LANGUAGE,LAW,LOC,MONEY,NORP,NUMBER,NUM_RANGE,ORDINAL,ORG,PERCENT,PERSON,PERSONTYPE,PRODUCT,QUANTITY,SET,TIME,TIMERANGE,WORK_OF_ART\"\u001b[0m\u001b[0;34m\u001b[0m\u001b[0;34m\u001b[0m\u001b[0m\n\u001b[0;32m----> 3\u001b[0;31m \u001b[0mprodigy\u001b[0m\u001b[0;34m.\u001b[0m\u001b[0mserve\u001b[0m\u001b[0;34m(\u001b[0m\u001b[0;34m\"recon.ner_correct\"\u001b[0m\u001b[0;34m,\u001b[0m \u001b[0;34m\"cs_test_recon_ner_correct\"\u001b[0m\u001b[0;34m,\u001b[0m \u001b[0;34m\"blank:en\"\u001b[0m\u001b[0;34m,\u001b[0m \u001b[0mhardest_examples\u001b[0m\u001b[0;34m[\u001b[0m\u001b[0;34m:\u001b[0m\u001b[0;36m4\u001b[0m\u001b[0;34m]\u001b[0m\u001b[0;34m,\u001b[0m \u001b[0mlabels\u001b[0m\u001b[0;34m)\u001b[0m\u001b[0;34m\u001b[0m\u001b[0;34m\u001b[0m\u001b[0m\n\u001b[0m",
      "\u001b[0;32m/mnt/c/Users/kakh/Documents/reconner/.venv/lib/python3.6/site-packages/prodigy/__init__.py\u001b[0m in \u001b[0;36mserve\u001b[0;34m(command, *recipe_args, **config)\u001b[0m\n\u001b[1;32m     44\u001b[0m         \u001b[0mcontroller\u001b[0m \u001b[0;34m=\u001b[0m \u001b[0mloaded_recipe\u001b[0m\u001b[0;34m(\u001b[0m\u001b[0;34m*\u001b[0m\u001b[0mrecipe_args\u001b[0m\u001b[0;34m)\u001b[0m\u001b[0;34m\u001b[0m\u001b[0;34m\u001b[0m\u001b[0m\n\u001b[1;32m     45\u001b[0m         \u001b[0mcontroller\u001b[0m\u001b[0;34m.\u001b[0m\u001b[0mconfig\u001b[0m\u001b[0;34m.\u001b[0m\u001b[0mupdate\u001b[0m\u001b[0;34m(\u001b[0m\u001b[0mconfig\u001b[0m\u001b[0;34m)\u001b[0m\u001b[0;34m\u001b[0m\u001b[0;34m\u001b[0m\u001b[0m\n\u001b[0;32m---> 46\u001b[0;31m         \u001b[0mserver\u001b[0m\u001b[0;34m(\u001b[0m\u001b[0mcontroller\u001b[0m\u001b[0;34m,\u001b[0m \u001b[0mcontroller\u001b[0m\u001b[0;34m.\u001b[0m\u001b[0mconfig\u001b[0m\u001b[0;34m)\u001b[0m\u001b[0;34m\u001b[0m\u001b[0;34m\u001b[0m\u001b[0m\n\u001b[0m",
      "\u001b[0;32m/mnt/c/Users/kakh/Documents/reconner/.venv/lib/python3.6/site-packages/prodigy/app.py\u001b[0m in \u001b[0;36mserver\u001b[0;34m(controller, config)\u001b[0m\n\u001b[1;32m    510\u001b[0m         \u001b[0mport\u001b[0m\u001b[0;34m=\u001b[0m\u001b[0mint\u001b[0m\u001b[0;34m(\u001b[0m\u001b[0mport\u001b[0m\u001b[0;34m)\u001b[0m\u001b[0;34m,\u001b[0m\u001b[0;34m\u001b[0m\u001b[0;34m\u001b[0m\u001b[0m\n\u001b[1;32m    511\u001b[0m         \u001b[0mlog_level\u001b[0m\u001b[0;34m=\u001b[0m\u001b[0mget_log_level\u001b[0m\u001b[0;34m(\u001b[0m\u001b[0;34m)\u001b[0m\u001b[0;34m,\u001b[0m\u001b[0;34m\u001b[0m\u001b[0;34m\u001b[0m\u001b[0m\n\u001b[0;32m--> 512\u001b[0;31m         \u001b[0mlog_config\u001b[0m\u001b[0;34m=\u001b[0m\u001b[0m_uvicorn_log_config\u001b[0m\u001b[0;34m,\u001b[0m\u001b[0;34m\u001b[0m\u001b[0;34m\u001b[0m\u001b[0m\n\u001b[0m\u001b[1;32m    513\u001b[0m     )\n\u001b[1;32m    514\u001b[0m     \u001b[0mcontroller\u001b[0m\u001b[0;34m.\u001b[0m\u001b[0msave\u001b[0m\u001b[0;34m(\u001b[0m\u001b[0;34m)\u001b[0m\u001b[0;34m\u001b[0m\u001b[0;34m\u001b[0m\u001b[0m\n",
      "\u001b[0;32m/mnt/c/Users/kakh/Documents/reconner/.venv/lib/python3.6/site-packages/uvicorn/main.py\u001b[0m in \u001b[0;36mrun\u001b[0;34m(app, **kwargs)\u001b[0m\n\u001b[1;32m    352\u001b[0m         \u001b[0msupervisor\u001b[0m\u001b[0;34m.\u001b[0m\u001b[0mrun\u001b[0m\u001b[0;34m(\u001b[0m\u001b[0;34m)\u001b[0m\u001b[0;34m\u001b[0m\u001b[0;34m\u001b[0m\u001b[0m\n\u001b[1;32m    353\u001b[0m     \u001b[0;32melse\u001b[0m\u001b[0;34m:\u001b[0m\u001b[0;34m\u001b[0m\u001b[0;34m\u001b[0m\u001b[0m\n\u001b[0;32m--> 354\u001b[0;31m         \u001b[0mserver\u001b[0m\u001b[0;34m.\u001b[0m\u001b[0mrun\u001b[0m\u001b[0;34m(\u001b[0m\u001b[0;34m)\u001b[0m\u001b[0;34m\u001b[0m\u001b[0;34m\u001b[0m\u001b[0m\n\u001b[0m\u001b[1;32m    355\u001b[0m \u001b[0;34m\u001b[0m\u001b[0m\n\u001b[1;32m    356\u001b[0m \u001b[0;34m\u001b[0m\u001b[0m\n",
      "\u001b[0;32m/mnt/c/Users/kakh/Documents/reconner/.venv/lib/python3.6/site-packages/uvicorn/main.py\u001b[0m in \u001b[0;36mrun\u001b[0;34m(self, sockets)\u001b[0m\n\u001b[1;32m    380\u001b[0m         \u001b[0mself\u001b[0m\u001b[0;34m.\u001b[0m\u001b[0mconfig\u001b[0m\u001b[0;34m.\u001b[0m\u001b[0msetup_event_loop\u001b[0m\u001b[0;34m(\u001b[0m\u001b[0;34m)\u001b[0m\u001b[0;34m\u001b[0m\u001b[0;34m\u001b[0m\u001b[0m\n\u001b[1;32m    381\u001b[0m         \u001b[0mloop\u001b[0m \u001b[0;34m=\u001b[0m \u001b[0masyncio\u001b[0m\u001b[0;34m.\u001b[0m\u001b[0mget_event_loop\u001b[0m\u001b[0;34m(\u001b[0m\u001b[0;34m)\u001b[0m\u001b[0;34m\u001b[0m\u001b[0;34m\u001b[0m\u001b[0m\n\u001b[0;32m--> 382\u001b[0;31m         \u001b[0mloop\u001b[0m\u001b[0;34m.\u001b[0m\u001b[0mrun_until_complete\u001b[0m\u001b[0;34m(\u001b[0m\u001b[0mself\u001b[0m\u001b[0;34m.\u001b[0m\u001b[0mserve\u001b[0m\u001b[0;34m(\u001b[0m\u001b[0msockets\u001b[0m\u001b[0;34m=\u001b[0m\u001b[0msockets\u001b[0m\u001b[0;34m)\u001b[0m\u001b[0;34m)\u001b[0m\u001b[0;34m\u001b[0m\u001b[0;34m\u001b[0m\u001b[0m\n\u001b[0m\u001b[1;32m    383\u001b[0m \u001b[0;34m\u001b[0m\u001b[0m\n\u001b[1;32m    384\u001b[0m     \u001b[0;34masync\u001b[0m \u001b[0;32mdef\u001b[0m \u001b[0mserve\u001b[0m\u001b[0;34m(\u001b[0m\u001b[0mself\u001b[0m\u001b[0;34m,\u001b[0m \u001b[0msockets\u001b[0m\u001b[0;34m=\u001b[0m\u001b[0;32mNone\u001b[0m\u001b[0;34m)\u001b[0m\u001b[0;34m:\u001b[0m\u001b[0;34m\u001b[0m\u001b[0;34m\u001b[0m\u001b[0m\n",
      "\u001b[0;32m/usr/lib/python3.6/asyncio/base_events.py\u001b[0m in \u001b[0;36mrun_until_complete\u001b[0;34m(self, future)\u001b[0m\n\u001b[1;32m    469\u001b[0m         \u001b[0mfuture\u001b[0m\u001b[0;34m.\u001b[0m\u001b[0madd_done_callback\u001b[0m\u001b[0;34m(\u001b[0m\u001b[0m_run_until_complete_cb\u001b[0m\u001b[0;34m)\u001b[0m\u001b[0;34m\u001b[0m\u001b[0;34m\u001b[0m\u001b[0m\n\u001b[1;32m    470\u001b[0m         \u001b[0;32mtry\u001b[0m\u001b[0;34m:\u001b[0m\u001b[0;34m\u001b[0m\u001b[0;34m\u001b[0m\u001b[0m\n\u001b[0;32m--> 471\u001b[0;31m             \u001b[0mself\u001b[0m\u001b[0;34m.\u001b[0m\u001b[0mrun_forever\u001b[0m\u001b[0;34m(\u001b[0m\u001b[0;34m)\u001b[0m\u001b[0;34m\u001b[0m\u001b[0;34m\u001b[0m\u001b[0m\n\u001b[0m\u001b[1;32m    472\u001b[0m         \u001b[0;32mexcept\u001b[0m\u001b[0;34m:\u001b[0m\u001b[0;34m\u001b[0m\u001b[0;34m\u001b[0m\u001b[0m\n\u001b[1;32m    473\u001b[0m             \u001b[0;32mif\u001b[0m \u001b[0mnew_task\u001b[0m \u001b[0;32mand\u001b[0m \u001b[0mfuture\u001b[0m\u001b[0;34m.\u001b[0m\u001b[0mdone\u001b[0m\u001b[0;34m(\u001b[0m\u001b[0;34m)\u001b[0m \u001b[0;32mand\u001b[0m \u001b[0;32mnot\u001b[0m \u001b[0mfuture\u001b[0m\u001b[0;34m.\u001b[0m\u001b[0mcancelled\u001b[0m\u001b[0;34m(\u001b[0m\u001b[0;34m)\u001b[0m\u001b[0;34m:\u001b[0m\u001b[0;34m\u001b[0m\u001b[0;34m\u001b[0m\u001b[0m\n",
      "\u001b[0;32m/usr/lib/python3.6/asyncio/base_events.py\u001b[0m in \u001b[0;36mrun_forever\u001b[0;34m(self)\u001b[0m\n\u001b[1;32m    423\u001b[0m         \u001b[0mself\u001b[0m\u001b[0;34m.\u001b[0m\u001b[0m_check_closed\u001b[0m\u001b[0;34m(\u001b[0m\u001b[0;34m)\u001b[0m\u001b[0;34m\u001b[0m\u001b[0;34m\u001b[0m\u001b[0m\n\u001b[1;32m    424\u001b[0m         \u001b[0;32mif\u001b[0m \u001b[0mself\u001b[0m\u001b[0;34m.\u001b[0m\u001b[0mis_running\u001b[0m\u001b[0;34m(\u001b[0m\u001b[0;34m)\u001b[0m\u001b[0;34m:\u001b[0m\u001b[0;34m\u001b[0m\u001b[0;34m\u001b[0m\u001b[0m\n\u001b[0;32m--> 425\u001b[0;31m             \u001b[0;32mraise\u001b[0m \u001b[0mRuntimeError\u001b[0m\u001b[0;34m(\u001b[0m\u001b[0;34m'This event loop is already running'\u001b[0m\u001b[0;34m)\u001b[0m\u001b[0;34m\u001b[0m\u001b[0;34m\u001b[0m\u001b[0m\n\u001b[0m\u001b[1;32m    426\u001b[0m         \u001b[0;32mif\u001b[0m \u001b[0mevents\u001b[0m\u001b[0;34m.\u001b[0m\u001b[0m_get_running_loop\u001b[0m\u001b[0;34m(\u001b[0m\u001b[0;34m)\u001b[0m \u001b[0;32mis\u001b[0m \u001b[0;32mnot\u001b[0m \u001b[0;32mNone\u001b[0m\u001b[0;34m:\u001b[0m\u001b[0;34m\u001b[0m\u001b[0;34m\u001b[0m\u001b[0m\n\u001b[1;32m    427\u001b[0m             raise RuntimeError(\n",
      "\u001b[0;31mRuntimeError\u001b[0m: This event loop is already running"
     ]
    },
    {
     "name": "stdout",
     "output_type": "stream",
     "text": [
      "text='Albion, NY' start=13 end=23 label='NOT_LABELED' token_start=4 token_end=6\n",
      "text='St. Catherines, Ontario, Canada' start=52 end=83 label='NOT_LABELED' token_start=14 token_end=19\n",
      "text='expansion' start=112 end=121 label='NOT_LABELED' token_start=29 token_end=29\n",
      "text='Albion' start=129 end=135 label='NOT_LABELED' token_start=32 token_end=32\n",
      "text='plant' start=136 end=141 label='NOT_LABELED' token_start=33 token_end=33\n",
      "text='machinery' start=150 end=159 label='NOT_LABELED' token_start=36 token_end=36\n",
      "text='Kappler' start=73 end=80 label='NOT_LABELED' token_start=9 token_end=9\n",
      "text='Guntersville, AL' start=82 end=98 label='NOT_LABELED' token_start=11 token_end=13\n",
      "text='Lakeland' start=100 end=108 label='NOT_LABELED' token_start=15 token_end=15\n",
      "text='Ronkonkoma, NY' start=110 end=124 label='NOT_LABELED' token_start=17 token_end=19\n",
      "text='Mar Mac' start=126 end=133 label='NOT_LABELED' token_start=21 token_end=22\n",
      "text='McBee, SC' start=135 end=144 label='NOT_LABELED' token_start=24 token_end=26\n",
      "text='Kimberly Clark' start=150 end=164 label='NOT_LABELED' token_start=29 token_end=30\n",
      "text='Dallas, TX' start=166 end=176 label='NOT_LABELED' token_start=32 token_end=34\n",
      "text='Kappler' start=183 end=190 label='NOT_LABELED' token_start=37 token_end=37\n",
      "text='absorbent products' start=64 end=82 label='NOT_LABELED' token_start=13 token_end=14\n",
      "text='absorbent product' start=92 end=109 label='NOT_LABELED' token_start=17 token_end=18\n",
      "text='Dallas, TX' start=139 end=149 label='NOT_LABELED' token_start=24 token_end=26\n",
      "text='Monbebe' start=173 end=180 label='NOT_LABELED' token_start=31 token_end=31\n",
      "text='diaper' start=181 end=187 label='NOT_LABELED' token_start=32 token_end=32\n",
      "text='LHYSA/AUTEX Group' start=228 end=245 label='NOT_LABELED' token_start=40 token_end=43\n",
      "text='one' start=40 end=43 label='NOT_LABELED' token_start=9 token_end=9\n",
      "text='center' start=44 end=50 label='NOT_LABELED' token_start=10 token_end=10\n",
      "text='nonwovens' start=71 end=80 label='NOT_LABELED' token_start=14 token_end=14\n",
      "text='R&D center' start=120 end=130 label='NOT_LABELED' token_start=26 token_end=27\n",
      "text='nonwoven' start=175 end=183 label='NOT_LABELED' token_start=35 token_end=35\n",
      "text='needlepunch' start=201 end=212 label='NOT_LABELED' token_start=40 token_end=40\n",
      "text='thermal-bond' start=213 end=225 label='NOT_LABELED' token_start=42 token_end=44\n",
      "text='spunbond' start=230 end=238 label='NOT_LABELED' token_start=48 token_end=48\n",
      "text='meltblown' start=243 end=252 label='NOT_LABELED' token_start=52 token_end=52\n",
      "text='spunlace' start=260 end=268 label='NOT_LABELED' token_start=56 token_end=56\n"
     ]
    }
   ],
   "source": [
    "import prodigy\n",
    "labels = \"ADDRESS,AGE,CARDINAL,DATE,DATERANGE,DATETIMERANGE,DURATION,EVENT,FAC,GPE,LANGUAGE,LAW,LOC,MONEY,NORP,NUMBER,NUM_RANGE,ORDINAL,ORG,PERCENT,PERSON,PERSONTYPE,PRODUCT,QUANTITY,SET,TIME,TIMERANGE,WORK_OF_ART\"\n",
    "prodigy.serve(\"recon.ner_correct\", \"cs_test_recon_ner_correct\", \"blank:en\", hardest_examples[:4], labels)"
   ]
  },
  {
   "cell_type": "code",
   "execution_count": 98,
   "metadata": {},
   "outputs": [
    {
     "data": {
      "text/plain": [
       "[('Bayex, Inc.', 'ORG'),\n",
       " ('Albion', 'GPE'),\n",
       " ('NY', 'GPE'),\n",
       " ('Bay Mills', 'GPE'),\n",
       " ('St. Catherines', 'GPE'),\n",
       " ('Ontario', 'GPE'),\n",
       " ('Canada', 'GPE'),\n",
       " ('50%', 'PERCENT'),\n",
       " ('Albion plant', 'LOC')]"
      ]
     },
     "execution_count": 98,
     "metadata": {},
     "output_type": "execute_result"
    }
   ],
   "source": [
    "[(e.text, e.label_) for e in nlp(\"Bayex, Inc., Albion, NY, a subsidiary of Bay Mills, St. Catherines, Ontario, Canada, is in the process of a 50% expansion at its Albion plant, adding machinery to several existing lines.\").ents]"
   ]
  },
  {
   "cell_type": "code",
   "execution_count": null,
   "metadata": {},
   "outputs": [],
   "source": []
  },
  {
   "cell_type": "code",
   "execution_count": null,
   "metadata": {},
   "outputs": [],
   "source": []
  },
  {
   "cell_type": "code",
   "execution_count": 52,
   "metadata": {},
   "outputs": [],
   "source": []
  },
  {
   "cell_type": "code",
   "execution_count": 53,
   "metadata": {},
   "outputs": [
    {
     "data": {
      "text/plain": [
       "'Raymond'"
      ]
     },
     "execution_count": 53,
     "metadata": {},
     "output_type": "execute_result"
    }
   ],
   "source": []
  },
  {
   "cell_type": "code",
   "execution_count": 9,
   "metadata": {},
   "outputs": [],
   "source": [
    "from recon.types import Span\n",
    "\n",
    "_test_examples = [\n",
    "    Example(\n",
    "        text='When asked how muchRaymond was investing in design and brand development, he retorts: “It’s no longer about money; it’s about the culture.',\n",
    "        spans=[\n",
    "            Span(text='Raymond', start=19, end=26, label='PERSON', token_start=3, token_end=None),\n",
    "            Span(text='design', start=44, end=50, label='SKILL', token_start=3, token_end=None),\n",
    "            Span(text='brand development', start=55, end=72, label='SKILL', token_start=3, token_end=None),\n",
    "        ],\n",
    "        tokens=[]\n",
    "    ),\n",
    "    Example(\n",
    "        text='The west country of Oz is bordered at the northeast by theGillikin Country and to the south by the QuadlingCountry.',\n",
    "        spans=[\n",
    "            Span(text='Oz', start=20, end=22, label='GPE', token_start=4, token_end=4),\n",
    "            Span(text='Gillikin Country', start=55, end=74, label='GPE', token_start=12, token_end=None),\n",
    "            Span(text='QuadlingCountry', start=99, end=114, label='GPE', token_start=19, token_end=19)\n",
    "        ],\n",
    "        tokens=[]\n",
    "    ),\n",
    "    Example(\n",
    "        text='Still,Rabbi Solomon Efraimof Lontschitz (the author of \"Kli Yakar\"), a prominent and well knownrabbi, lived here.',\n",
    "        spans=[\n",
    "            Span(text='Rabbi', start=6, end=11, label='PERSONTYPE', token_start=2, token_end=2),\n",
    "            Span(text='Solomon Efraimof', start=12, end=28, label='PERSON', token_start=3, token_end=4),\n",
    "            Span(text=',', start=100, end=100, label='PERSONTYPE', token_start=21, token_end=None)\n",
    "        ],\n",
    "        tokens=[]\n",
    "    )\n",
    "]"
   ]
  },
  {
   "cell_type": "code",
   "execution_count": 11,
   "metadata": {},
   "outputs": [
    {
     "data": {
      "text/plain": [
       "[Example(text='The west country of Oz is bordered at the northeast by theGillikin Country and to the south by the QuadlingCountry.', spans=[Span(text='Oz', start=20, end=22, label='GPE', token_start=None, token_end=None), Span(text='Gillikin', start=58, end=66, label='GPE', token_start=None, token_end=None), Span(text='Quadling', start=99, end=107, label='GPE', token_start=None, token_end=None)], tokens=[Token(text='The', start=0, end=3, id=0), Token(text='west', start=4, end=8, id=1), Token(text='country', start=9, end=16, id=2), Token(text='of', start=17, end=19, id=3), Token(text='Oz', start=20, end=22, id=4), Token(text='is', start=23, end=25, id=5), Token(text='bordered', start=26, end=34, id=6), Token(text='at', start=35, end=37, id=7), Token(text='the', start=38, end=41, id=8), Token(text='northeast', start=42, end=51, id=9), Token(text='by', start=52, end=54, id=10), Token(text='theGillikin', start=55, end=66, id=11), Token(text='Country', start=67, end=74, id=12), Token(text='and', start=75, end=78, id=13), Token(text='to', start=79, end=81, id=14), Token(text='the', start=82, end=85, id=15), Token(text='south', start=86, end=91, id=16), Token(text='by', start=92, end=94, id=17), Token(text='the', start=95, end=98, id=18), Token(text='QuadlingCountry', start=99, end=114, id=19), Token(text='.', start=114, end=115, id=20)], meta={'source': 'Cognitive Services Training Set'}),\n",
       " Example(text='Still,Rabbi Solomon Efraimof Lontschitz (the author of \"Kli Yakar\"), a prominent and well knownrabbi, lived here.', spans=[Span(text='Rabbi', start=6, end=11, label='PERSONTYPE', token_start=None, token_end=None), Span(text='Solomon Efraim', start=12, end=26, label='PERSON', token_start=None, token_end=None), Span(text='rabbi', start=95, end=100, label='PERSONTYPE', token_start=None, token_end=None)], tokens=[Token(text='Still', start=0, end=5, id=0), Token(text=',', start=5, end=6, id=1), Token(text='Rabbi', start=6, end=11, id=2), Token(text='Solomon', start=12, end=19, id=3), Token(text='Efraimof', start=20, end=28, id=4), Token(text='Lontschitz', start=29, end=39, id=5), Token(text='(', start=40, end=41, id=6), Token(text='the', start=41, end=44, id=7), Token(text='author', start=45, end=51, id=8), Token(text='of', start=52, end=54, id=9), Token(text='\"', start=55, end=56, id=10), Token(text='Kli', start=56, end=59, id=11), Token(text='Yakar', start=60, end=65, id=12), Token(text='\"', start=65, end=66, id=13), Token(text=')', start=66, end=67, id=14), Token(text=',', start=67, end=68, id=15), Token(text='a', start=69, end=70, id=16), Token(text='prominent', start=71, end=80, id=17), Token(text='and', start=81, end=84, id=18), Token(text='well', start=85, end=89, id=19), Token(text='knownrabbi', start=90, end=100, id=20), Token(text=',', start=100, end=101, id=21), Token(text='lived', start=102, end=107, id=22), Token(text='here', start=108, end=112, id=23), Token(text='.', start=112, end=113, id=24)], meta={'source': 'Cognitive Services Training Set'}),\n",
       " Example(text='When asked how muchRaymond was investing in design and brand development, he retorts: “It’s no longer about money; it’s about the culture.', spans=[Span(text='Raymond', start=19, end=26, label='PERSON', token_start=None, token_end=None)], tokens=[Token(text='When', start=0, end=4, id=0), Token(text='asked', start=5, end=10, id=1), Token(text='how', start=11, end=14, id=2), Token(text='muchRaymond', start=15, end=26, id=3), Token(text='was', start=27, end=30, id=4), Token(text='investing', start=31, end=40, id=5), Token(text='in', start=41, end=43, id=6), Token(text='design', start=44, end=50, id=7), Token(text='and', start=51, end=54, id=8), Token(text='brand', start=55, end=60, id=9), Token(text='development', start=61, end=72, id=10), Token(text=',', start=72, end=73, id=11), Token(text='he', start=74, end=76, id=12), Token(text='retorts', start=77, end=84, id=13), Token(text=':', start=84, end=85, id=14), Token(text='“', start=86, end=87, id=15), Token(text='It', start=87, end=89, id=16), Token(text='’s', start=89, end=91, id=17), Token(text='no', start=92, end=94, id=18), Token(text='longer', start=95, end=101, id=19), Token(text='about', start=102, end=107, id=20), Token(text='money', start=108, end=113, id=21), Token(text=';', start=113, end=114, id=22), Token(text='it', start=115, end=117, id=23), Token(text='’s', start=117, end=119, id=24), Token(text='about', start=120, end=125, id=25), Token(text='the', start=126, end=129, id=26), Token(text='culture', start=130, end=137, id=27), Token(text='.', start=137, end=138, id=28)], meta={'source': 'Cognitive Services Training Set'})]"
      ]
     },
     "execution_count": 11,
     "metadata": {},
     "output_type": "execute_result"
    }
   ],
   "source": [
    "test_example_texts = {e.text for e in _test_examples}\n",
    "test_examples_ = []\n",
    "for e in old_corpus.all:\n",
    "    if e.text in test_example_texts:\n",
    "        test_examples_.append(e)\n",
    "        \n",
    "test_examples_"
   ]
  },
  {
   "cell_type": "code",
   "execution_count": 12,
   "metadata": {},
   "outputs": [],
   "source": [
    "customers_e = None\n",
    "for e in old_corpus.all:\n",
    "    if \"customers\" in e.text:\n",
    "        customers_e = e\n",
    "        break\n",
    "        \n",
    "test_examples_.append(customers_e)"
   ]
  },
  {
   "cell_type": "code",
   "execution_count": 16,
   "metadata": {},
   "outputs": [],
   "source": [
    "test_examples_[2].spans += [\n",
    "    Span(text='design', start=44, end=50, label='SKILL', token_start=3, token_end=None),\n",
    "    Span(text='brand development', start=55, end=72, label='SKILL', token_start=3, token_end=None),\n",
    "]\n",
    "test_examples_[2].spans = test_examples_[2].spans[:3]"
   ]
  },
  {
   "cell_type": "code",
   "execution_count": 17,
   "metadata": {},
   "outputs": [],
   "source": [
    "from typing import Any\n",
    "from spacy.language import Language\n",
    "\n",
    "def add_tokens(nlp: Language, data: List[Dict[str, Any]], force: bool = True, n_process: int = 4) -> List[Dict[str, Any]]:\n",
    "    \"\"\"Add tokens to each to JSON Example\n",
    "    \n",
    "    Args:\n",
    "        nlp (Language): spaCy Language instance for tokenization\n",
    "        data (List[Dict[str, Any]]): List of JSON Examples\n",
    "    \n",
    "    Returns:\n",
    "        List[Dict[str, Any]]: List of JSON Examples with tokens\n",
    "    \"\"\"\n",
    "    has_tokens = all([\"tokens\" in e for e in data])\n",
    "    if has_tokens and not force:\n",
    "        return data\n",
    "\n",
    "    texts = (e[\"text\"] for e in data)\n",
    "    tokenization_errors: Set[Tuple[str, str]] = set()\n",
    "    unfixable_tokenization_errors: Set[str] = set()\n",
    "    \n",
    "    output_examples = []\n",
    "\n",
    "    with nlp.disable_pipes(*nlp.pipe_names):\n",
    "        for example, doc in zip(data, nlp.pipe(texts)):\n",
    "            tokens = []\n",
    "            token_starts = dict()\n",
    "            token_ends = dict()\n",
    "\n",
    "            for t in doc:\n",
    "                start = t.idx\n",
    "                end = t.idx + len(t)\n",
    "                tokens.append(\n",
    "                    {\"text\": t.text, \"start\": start, \"end\": end, \"id\": t.i}\n",
    "                )\n",
    "                token_starts[start] = t\n",
    "                token_ends[end] = t\n",
    "\n",
    "            example[\"tokens\"] = tokens\n",
    "\n",
    "            if example[\"text\"] not in unfixable_tokenization_errors:\n",
    "                output_examples.append(example)\n",
    "\n",
    "    if tokenization_errors:\n",
    "        print(f\"Found {len(tokenization_errors)} tokenization errors.\")\n",
    "        print(f\"Found {len(unfixable_tokenization_errors)} unfixable tokenization errors.\")\n",
    "    return output_examples"
   ]
  },
  {
   "cell_type": "code",
   "execution_count": 18,
   "metadata": {},
   "outputs": [
    {
     "data": {
      "text/plain": [
       "[{'text': 'The west country of Oz is bordered at the northeast by theGillikin Country and to the south by the QuadlingCountry.',\n",
       "  'spans': [{'text': 'Oz',\n",
       "    'start': 20,\n",
       "    'end': 22,\n",
       "    'label': 'GPE',\n",
       "    'token_start': None,\n",
       "    'token_end': None},\n",
       "   {'text': 'Gillikin',\n",
       "    'start': 58,\n",
       "    'end': 66,\n",
       "    'label': 'GPE',\n",
       "    'token_start': None,\n",
       "    'token_end': None},\n",
       "   {'text': 'Quadling',\n",
       "    'start': 99,\n",
       "    'end': 107,\n",
       "    'label': 'GPE',\n",
       "    'token_start': None,\n",
       "    'token_end': None}]},\n",
       " {'text': 'Still,Rabbi Solomon Efraimof Lontschitz (the author of \"Kli Yakar\"), a prominent and well knownrabbi, lived here.',\n",
       "  'spans': [{'text': 'Rabbi',\n",
       "    'start': 6,\n",
       "    'end': 11,\n",
       "    'label': 'PERSONTYPE',\n",
       "    'token_start': None,\n",
       "    'token_end': None},\n",
       "   {'text': 'Solomon Efraim',\n",
       "    'start': 12,\n",
       "    'end': 26,\n",
       "    'label': 'PERSON',\n",
       "    'token_start': None,\n",
       "    'token_end': None},\n",
       "   {'text': 'rabbi',\n",
       "    'start': 95,\n",
       "    'end': 100,\n",
       "    'label': 'PERSONTYPE',\n",
       "    'token_start': None,\n",
       "    'token_end': None}]},\n",
       " {'text': 'When asked how muchRaymond was investing in design and brand development, he retorts: “It’s no longer about money; it’s about the culture.',\n",
       "  'spans': [{'text': 'Raymond',\n",
       "    'start': 19,\n",
       "    'end': 26,\n",
       "    'label': 'PERSON',\n",
       "    'token_start': None,\n",
       "    'token_end': None},\n",
       "   {'text': 'design',\n",
       "    'start': 44,\n",
       "    'end': 50,\n",
       "    'label': 'SKILL',\n",
       "    'token_start': 3,\n",
       "    'token_end': None},\n",
       "   {'text': 'brand development',\n",
       "    'start': 55,\n",
       "    'end': 72,\n",
       "    'label': 'SKILL',\n",
       "    'token_start': 3,\n",
       "    'token_end': None}]},\n",
       " {'text': 'As for the backlash and some customers burning their shoes, it may not ultimately harm the company.',\n",
       "  'spans': [{'text': 'customer',\n",
       "    'start': 29,\n",
       "    'end': 37,\n",
       "    'label': 'PERSONTYPE',\n",
       "    'token_start': None,\n",
       "    'token_end': None},\n",
       "   {'text': 'shoe',\n",
       "    'start': 53,\n",
       "    'end': 57,\n",
       "    'label': 'PRODUCT',\n",
       "    'token_start': None,\n",
       "    'token_end': None}]}]"
      ]
     },
     "execution_count": 18,
     "metadata": {},
     "output_type": "execute_result"
    }
   ],
   "source": [
    "test_examples = copy.deepcopy(test_examples_)\n",
    "raw_test_examples = [{\n",
    "    'text': e.text,\n",
    "    'spans': [s.dict() for s in e.spans]\n",
    "} for e in test_examples]\n",
    "raw_test_examples"
   ]
  },
  {
   "cell_type": "code",
   "execution_count": 22,
   "metadata": {},
   "outputs": [
    {
     "name": "stdout",
     "output_type": "stream",
     "text": [
      "[{'spans': [{'end': 22,\n",
      "             'label': 'GPE',\n",
      "             'start': 20,\n",
      "             'text': 'Oz',\n",
      "             'token_end': None,\n",
      "             'token_start': None},\n",
      "            {'end': 66,\n",
      "             'label': 'GPE',\n",
      "             'start': 58,\n",
      "             'text': 'Gillikin',\n",
      "             'token_end': None,\n",
      "             'token_start': None},\n",
      "            {'end': 107,\n",
      "             'label': 'GPE',\n",
      "             'start': 99,\n",
      "             'text': 'Quadling',\n",
      "             'token_end': None,\n",
      "             'token_start': None}],\n",
      "  'text': 'The west country of Oz is bordered at the northeast by theGillikin '\n",
      "          'Country and to the south by the QuadlingCountry.'},\n",
      " {'spans': [{'end': 11,\n",
      "             'label': 'PERSONTYPE',\n",
      "             'start': 6,\n",
      "             'text': 'Rabbi',\n",
      "             'token_end': None,\n",
      "             'token_start': None},\n",
      "            {'end': 26,\n",
      "             'label': 'PERSON',\n",
      "             'start': 12,\n",
      "             'text': 'Solomon Efraim',\n",
      "             'token_end': None,\n",
      "             'token_start': None},\n",
      "            {'end': 100,\n",
      "             'label': 'PERSONTYPE',\n",
      "             'start': 95,\n",
      "             'text': 'rabbi',\n",
      "             'token_end': None,\n",
      "             'token_start': None}],\n",
      "  'text': 'Still,Rabbi Solomon Efraimof Lontschitz (the author of \"Kli '\n",
      "          'Yakar\"), a prominent and well knownrabbi, lived here.'},\n",
      " {'spans': [{'end': 26,\n",
      "             'label': 'PERSON',\n",
      "             'start': 19,\n",
      "             'text': 'Raymond',\n",
      "             'token_end': None,\n",
      "             'token_start': None},\n",
      "            {'end': 50,\n",
      "             'label': 'SKILL',\n",
      "             'start': 44,\n",
      "             'text': 'design',\n",
      "             'token_end': None,\n",
      "             'token_start': 3},\n",
      "            {'end': 72,\n",
      "             'label': 'SKILL',\n",
      "             'start': 55,\n",
      "             'text': 'brand development',\n",
      "             'token_end': None,\n",
      "             'token_start': 3}],\n",
      "  'text': 'When asked how muchRaymond was investing in design and brand '\n",
      "          'development, he retorts: “It’s no longer about money; it’s about '\n",
      "          'the culture.'},\n",
      " {'spans': [{'end': 37,\n",
      "             'label': 'PERSONTYPE',\n",
      "             'start': 29,\n",
      "             'text': 'customer',\n",
      "             'token_end': None,\n",
      "             'token_start': None},\n",
      "            {'end': 57,\n",
      "             'label': 'PRODUCT',\n",
      "             'start': 53,\n",
      "             'text': 'shoe',\n",
      "             'token_end': None,\n",
      "             'token_start': None}],\n",
      "  'text': 'As for the backlash and some customers burning their shoes, it may '\n",
      "          'not ultimately harm the company.'}]\n"
     ]
    },
    {
     "ename": "AttributeError",
     "evalue": "'set' object has no attribute 'append'",
     "output_type": "error",
     "traceback": [
      "\u001b[0;31m---------------------------------------------------------------------------\u001b[0m",
      "\u001b[0;31mAttributeError\u001b[0m                            Traceback (most recent call last)",
      "\u001b[0;32m<ipython-input-22-ca622139e73e>\u001b[0m in \u001b[0;36m<module>\u001b[0;34m\u001b[0m\n\u001b[1;32m     81\u001b[0m \u001b[0;31m#     space_fixed_examples.append(fix_spans_and_spacing(spacy.blank(\"en\"), rte))\u001b[0m\u001b[0;34m\u001b[0m\u001b[0;34m\u001b[0m\u001b[0;34m\u001b[0m\u001b[0m\n\u001b[1;32m     82\u001b[0m \u001b[0;34m\u001b[0m\u001b[0m\n\u001b[0;32m---> 83\u001b[0;31m \u001b[0mfixed_examples\u001b[0m \u001b[0;34m=\u001b[0m \u001b[0mfix_spans_and_spacing\u001b[0m\u001b[0;34m(\u001b[0m\u001b[0mspacy\u001b[0m\u001b[0;34m.\u001b[0m\u001b[0mblank\u001b[0m\u001b[0;34m(\u001b[0m\u001b[0;34m\"en\"\u001b[0m\u001b[0;34m)\u001b[0m\u001b[0;34m,\u001b[0m \u001b[0mraw_test_examples\u001b[0m\u001b[0;34m)\u001b[0m\u001b[0;34m\u001b[0m\u001b[0;34m\u001b[0m\u001b[0m\n\u001b[0m\u001b[1;32m     84\u001b[0m \u001b[0mfixed_examples\u001b[0m\u001b[0;34m\u001b[0m\u001b[0;34m\u001b[0m\u001b[0m\n",
      "\u001b[0;32m<ipython-input-22-ca622139e73e>\u001b[0m in \u001b[0;36mfix_spans_and_spacing\u001b[0;34m(nlp, examples)\u001b[0m\n\u001b[1;32m     50\u001b[0m                     \u001b[0;31m# Bad tokenization\u001b[0m\u001b[0;34m\u001b[0m\u001b[0;34m\u001b[0m\u001b[0;34m\u001b[0m\u001b[0m\n\u001b[1;32m     51\u001b[0m                     \u001b[0;31m# e.g. with[Raymond][PERSON] but text should be split to with [Raymond][PERSON]\u001b[0m\u001b[0;34m\u001b[0m\u001b[0;34m\u001b[0m\u001b[0;34m\u001b[0m\u001b[0m\n\u001b[0;32m---> 52\u001b[0;31m                     \u001b[0mtokenization_errors\u001b[0m\u001b[0;34m.\u001b[0m\u001b[0mappend\u001b[0m\u001b[0;34m(\u001b[0m\u001b[0mfixed_example\u001b[0m\u001b[0;34m[\u001b[0m\u001b[0;34m\"text\"\u001b[0m\u001b[0;34m]\u001b[0m\u001b[0;34m,\u001b[0m \u001b[0mspan\u001b[0m\u001b[0;34m[\u001b[0m\u001b[0;34m\"text\"\u001b[0m\u001b[0;34m]\u001b[0m\u001b[0;34m)\u001b[0m\u001b[0;34m\u001b[0m\u001b[0;34m\u001b[0m\u001b[0m\n\u001b[0m\u001b[1;32m     53\u001b[0m                     \u001b[0mnew_text\u001b[0m \u001b[0;34m=\u001b[0m \u001b[0mfixed_example\u001b[0m\u001b[0;34m[\u001b[0m\u001b[0;34m'text'\u001b[0m\u001b[0;34m]\u001b[0m\u001b[0;34m.\u001b[0m\u001b[0mreplace\u001b[0m\u001b[0;34m(\u001b[0m\u001b[0mspan\u001b[0m\u001b[0;34m[\u001b[0m\u001b[0;34m\"text\"\u001b[0m\u001b[0;34m]\u001b[0m\u001b[0;34m,\u001b[0m \u001b[0;34mf\" {span['text']}\"\u001b[0m\u001b[0;34m)\u001b[0m\u001b[0;34m\u001b[0m\u001b[0;34m\u001b[0m\u001b[0m\n\u001b[1;32m     54\u001b[0m                     \u001b[0;32mfor\u001b[0m \u001b[0mj\u001b[0m \u001b[0;32min\u001b[0m \u001b[0mrange\u001b[0m\u001b[0;34m(\u001b[0m\u001b[0mspan_i\u001b[0m\u001b[0;34m,\u001b[0m \u001b[0mlen\u001b[0m\u001b[0;34m(\u001b[0m\u001b[0mfixed_example\u001b[0m\u001b[0;34m[\u001b[0m\u001b[0;34m'spans'\u001b[0m\u001b[0;34m]\u001b[0m\u001b[0;34m)\u001b[0m\u001b[0;34m)\u001b[0m\u001b[0;34m:\u001b[0m\u001b[0;34m\u001b[0m\u001b[0;34m\u001b[0m\u001b[0m\n",
      "\u001b[0;31mAttributeError\u001b[0m: 'set' object has no attribute 'append'"
     ]
    }
   ],
   "source": [
    "def fix_spans_and_spacing(nlp, examples: List[Dict[str, Any]], verbose: bool = True):\n",
    "    \n",
    "    fixed_examples = []\n",
    "    tokenization_errors: Set[Tuple[str, str]] = set()\n",
    "    unfixable_tokenization_errors: Set[str] = set()\n",
    "    texts = (e['text'] for e in examples)\n",
    "    \n",
    "    with nlp.disable_pipes(*nlp.pipe_names):\n",
    "        for example, doc in zip(examples, nlp.pipe(texts)):\n",
    "            fixed_example = copy.deepcopy(example)\n",
    "            doc = nlp.make_doc(fixed_example['text'])\n",
    "\n",
    "            tokens = []\n",
    "            token_starts = dict()\n",
    "            token_ends = dict()\n",
    "\n",
    "            for t in doc:\n",
    "                start = t.idx\n",
    "                end = t.idx + len(t)\n",
    "                tokens.append(\n",
    "                    {\"text\": t.text, \"start\": start, \"end\": end, \"id\": t.i}\n",
    "                )\n",
    "                token_starts[start] = t\n",
    "                token_ends[end] = t\n",
    "\n",
    "            spans_to_increment = defaultdict(int)\n",
    "            for span_i, span in enumerate(fixed_example['spans']):\n",
    "                if span['start'] in token_starts and span['end'] in token_ends:\n",
    "                    # Aligns to token boundaries, nothing to change here\n",
    "                    continue\n",
    "\n",
    "                if span['start'] in token_starts and span['end'] not in token_ends:\n",
    "                    # Span start aligns to token_start but end doesn't\n",
    "                    # e.g. [customer][PERSONTYPE]s but should be annotated as [customers][PERSONTYPE]\n",
    "                    tokenization_errors.append(fixed_example[\"text\"], span[\"text\"])\n",
    "                    if span['end'] + 1 in token_ends:\n",
    "                        # Likely off by 1 annotation\n",
    "                        # e.g. [customer][PERSONTYPE]s but should be annotated as [customers][PERSONTYPE]\n",
    "                        span['end'] = span['end'] + 1\n",
    "                        span['text'] = fixed_example['text'][span['start']:span['end']]\n",
    "                    else:\n",
    "                        # Likely bad tokenization\n",
    "                        # e.g. [Quadling][GPE]Country should be split to [Quadling][GPE] Country\n",
    "                        new_text = fixed_example['text'].replace(span[\"text\"], f\"{span['text']} \")\n",
    "                        for j in range(span_i, len(fixed_example['spans'])):\n",
    "                            spans_to_increment[j] += 1\n",
    "\n",
    "                        fixed_example[\"text\"] = new_text\n",
    "                elif span['start'] not in token_starts and span['end'] in token_ends:\n",
    "                    # Bad tokenization\n",
    "                    # e.g. with[Raymond][PERSON] but text should be split to with [Raymond][PERSON]\n",
    "                    tokenization_errors.append(fixed_example[\"text\"], span[\"text\"])\n",
    "                    new_text = fixed_example['text'].replace(span[\"text\"], f\" {span['text']}\")\n",
    "                    for j in range(span_i, len(fixed_example['spans'])):\n",
    "                        spans_to_increment[j] += 1\n",
    "\n",
    "                    fixed_example[\"text\"] = new_text\n",
    "\n",
    "                else:\n",
    "                    # Something is super fucked up.\n",
    "                    tokenization_errors.append(fixed_example[\"text\"], span[\"text\"])\n",
    "                    unfixable_tokenization_errors.append(fixed_example[\"text\"])\n",
    "                    break\n",
    "\n",
    "\n",
    "            for span_i, count in spans_to_increment.items():\n",
    "                fixed_example['spans'][span_i]['start'] += count\n",
    "                fixed_example['spans'][span_i]['end'] += count\n",
    "\n",
    "            fixed_examples.append(fixed_example)\n",
    "    \n",
    "    if tokenization_errors and verbose:\n",
    "        print(f\"Found {len(tokenization_errors)} tokenization errors.\")\n",
    "        print(f\"Found {len(unfixable_tokenization_errors)} unfixable tokenization errors.\")\n",
    "    return fixed_examples\n",
    "\n",
    "\n",
    "pprint(raw_test_examples)\n",
    "# space_fixed_examples = []\n",
    "# for rte in raw_test_examples:\n",
    "#     space_fixed_examples.append(fix_spans_and_spacing(spacy.blank(\"en\"), rte))\n",
    "\n",
    "fixed_examples = fix_spans_and_spacing(spacy.blank(\"en\"), raw_test_examples)\n",
    "fixed_examples"
   ]
  },
  {
   "cell_type": "code",
   "execution_count": null,
   "metadata": {},
   "outputs": [],
   "source": []
  },
  {
   "cell_type": "code",
   "execution_count": null,
   "metadata": {},
   "outputs": [],
   "source": [
    "\"When asked how much Raymond was investing in design and brand development, he retorts: “It’s no longer about money; it’s about the culture\""
   ]
  },
  {
   "cell_type": "code",
   "execution_count": 225,
   "metadata": {},
   "outputs": [
    {
     "name": "stdout",
     "output_type": "stream",
     "text": [
      "Found 4 tokenization errors.\n",
      "Found 0 unfixable tokenization errors.\n"
     ]
    },
    {
     "data": {
      "text/plain": [
       "[{'text': 'The west country of Oz is bordered at the northeast by the Gillikin Country and to the south by the QuadlingCountry.',\n",
       "  'spans': [{'text': 'Oz',\n",
       "    'start': 21,\n",
       "    'end': 23,\n",
       "    'label': 'GPE',\n",
       "    'token_start': 4,\n",
       "    'token_end': 4},\n",
       "   {'text': 'Gillikin',\n",
       "    'start': 59,\n",
       "    'end': 67,\n",
       "    'label': 'GPE',\n",
       "    'token_start': None,\n",
       "    'token_end': None},\n",
       "   {'text': 'QuadlingCountry',\n",
       "    'start': 99,\n",
       "    'end': 114,\n",
       "    'label': 'GPE',\n",
       "    'token_start': 19,\n",
       "    'token_end': 19}],\n",
       "  'tokens': [{'text': 'The', 'start': 0, 'end': 3, 'id': 0},\n",
       "   {'text': 'west', 'start': 4, 'end': 8, 'id': 1},\n",
       "   {'text': 'country', 'start': 9, 'end': 16, 'id': 2},\n",
       "   {'text': 'of', 'start': 17, 'end': 19, 'id': 3},\n",
       "   {'text': 'Oz', 'start': 20, 'end': 22, 'id': 4},\n",
       "   {'text': 'is', 'start': 23, 'end': 25, 'id': 5},\n",
       "   {'text': 'bordered', 'start': 26, 'end': 34, 'id': 6},\n",
       "   {'text': 'at', 'start': 35, 'end': 37, 'id': 7},\n",
       "   {'text': 'the', 'start': 38, 'end': 41, 'id': 8},\n",
       "   {'text': 'northeast', 'start': 42, 'end': 51, 'id': 9},\n",
       "   {'text': 'by', 'start': 52, 'end': 54, 'id': 10},\n",
       "   {'text': 'theGillikin', 'start': 55, 'end': 66, 'id': 11},\n",
       "   {'text': 'Country', 'start': 67, 'end': 74, 'id': 12},\n",
       "   {'text': 'and', 'start': 75, 'end': 78, 'id': 13},\n",
       "   {'text': 'to', 'start': 79, 'end': 81, 'id': 14},\n",
       "   {'text': 'the', 'start': 82, 'end': 85, 'id': 15},\n",
       "   {'text': 'south', 'start': 86, 'end': 91, 'id': 16},\n",
       "   {'text': 'by', 'start': 92, 'end': 94, 'id': 17},\n",
       "   {'text': 'the', 'start': 95, 'end': 98, 'id': 18},\n",
       "   {'text': 'QuadlingCountry', 'start': 99, 'end': 114, 'id': 19},\n",
       "   {'text': '.', 'start': 114, 'end': 115, 'id': 20}]},\n",
       " {'text': 'As for the backlash and some customers burning their shoes, it may not ultimately harm the company.',\n",
       "  'spans': [{'text': 'customers',\n",
       "    'start': 29,\n",
       "    'end': 38,\n",
       "    'label': 'PERSONTYPE',\n",
       "    'token_start': 6,\n",
       "    'token_end': 6},\n",
       "   {'text': 'shoes',\n",
       "    'start': 53,\n",
       "    'end': 58,\n",
       "    'label': 'PRODUCT',\n",
       "    'token_start': 9,\n",
       "    'token_end': 9}],\n",
       "  'tokens': [{'text': 'As', 'start': 0, 'end': 2, 'id': 0},\n",
       "   {'text': 'for', 'start': 3, 'end': 6, 'id': 1},\n",
       "   {'text': 'the', 'start': 7, 'end': 10, 'id': 2},\n",
       "   {'text': 'backlash', 'start': 11, 'end': 19, 'id': 3},\n",
       "   {'text': 'and', 'start': 20, 'end': 23, 'id': 4},\n",
       "   {'text': 'some', 'start': 24, 'end': 28, 'id': 5},\n",
       "   {'text': 'customers', 'start': 29, 'end': 38, 'id': 6},\n",
       "   {'text': 'burning', 'start': 39, 'end': 46, 'id': 7},\n",
       "   {'text': 'their', 'start': 47, 'end': 52, 'id': 8},\n",
       "   {'text': 'shoes', 'start': 53, 'end': 58, 'id': 9},\n",
       "   {'text': ',', 'start': 58, 'end': 59, 'id': 10},\n",
       "   {'text': 'it', 'start': 60, 'end': 62, 'id': 11},\n",
       "   {'text': 'may', 'start': 63, 'end': 66, 'id': 12},\n",
       "   {'text': 'not', 'start': 67, 'end': 70, 'id': 13},\n",
       "   {'text': 'ultimately', 'start': 71, 'end': 81, 'id': 14},\n",
       "   {'text': 'harm', 'start': 82, 'end': 86, 'id': 15},\n",
       "   {'text': 'the', 'start': 87, 'end': 90, 'id': 16},\n",
       "   {'text': 'company', 'start': 91, 'end': 98, 'id': 17},\n",
       "   {'text': '.', 'start': 98, 'end': 99, 'id': 18}]},\n",
       " {'text': 'Still,Rabbi Solomon Efraimof Lontschitz (the author of \"Kli Yakar\"), a prominent and well known rabbi, lived here.',\n",
       "  'spans': [{'text': 'Rabbi',\n",
       "    'start': 7,\n",
       "    'end': 12,\n",
       "    'label': 'PERSONTYPE',\n",
       "    'token_start': 2,\n",
       "    'token_end': 2},\n",
       "   {'text': 'Efraimof',\n",
       "    'start': 12,\n",
       "    'end': 28,\n",
       "    'label': 'PERSON',\n",
       "    'token_start': 3,\n",
       "    'token_end': 4},\n",
       "   {'text': 'rabbi',\n",
       "    'start': 95,\n",
       "    'end': 100,\n",
       "    'label': 'PERSONTYPE',\n",
       "    'token_start': None,\n",
       "    'token_end': None}],\n",
       "  'tokens': [{'text': 'Still', 'start': 0, 'end': 5, 'id': 0},\n",
       "   {'text': ',', 'start': 5, 'end': 6, 'id': 1},\n",
       "   {'text': 'Rabbi', 'start': 6, 'end': 11, 'id': 2},\n",
       "   {'text': 'Solomon', 'start': 12, 'end': 19, 'id': 3},\n",
       "   {'text': 'Efraimof', 'start': 20, 'end': 28, 'id': 4},\n",
       "   {'text': 'Lontschitz', 'start': 29, 'end': 39, 'id': 5},\n",
       "   {'text': '(', 'start': 40, 'end': 41, 'id': 6},\n",
       "   {'text': 'the', 'start': 41, 'end': 44, 'id': 7},\n",
       "   {'text': 'author', 'start': 45, 'end': 51, 'id': 8},\n",
       "   {'text': 'of', 'start': 52, 'end': 54, 'id': 9},\n",
       "   {'text': '\"', 'start': 55, 'end': 56, 'id': 10},\n",
       "   {'text': 'Kli', 'start': 56, 'end': 59, 'id': 11},\n",
       "   {'text': 'Yakar', 'start': 60, 'end': 65, 'id': 12},\n",
       "   {'text': '\"', 'start': 65, 'end': 66, 'id': 13},\n",
       "   {'text': ')', 'start': 66, 'end': 67, 'id': 14},\n",
       "   {'text': ',', 'start': 67, 'end': 68, 'id': 15},\n",
       "   {'text': 'a', 'start': 69, 'end': 70, 'id': 16},\n",
       "   {'text': 'prominent', 'start': 71, 'end': 80, 'id': 17},\n",
       "   {'text': 'and', 'start': 81, 'end': 84, 'id': 18},\n",
       "   {'text': 'well', 'start': 85, 'end': 89, 'id': 19},\n",
       "   {'text': 'knownrabbi', 'start': 90, 'end': 100, 'id': 20},\n",
       "   {'text': ',', 'start': 100, 'end': 101, 'id': 21},\n",
       "   {'text': 'lived', 'start': 102, 'end': 107, 'id': 22},\n",
       "   {'text': 'here', 'start': 108, 'end': 112, 'id': 23},\n",
       "   {'text': '.', 'start': 112, 'end': 113, 'id': 24}]},\n",
       " {'text': 'When asked how much Raymond was investing in design and brand development, he retorts: “It’s no longer about money; it’s about the culture.',\n",
       "  'spans': [{'text': 'Raymond',\n",
       "    'start': 20,\n",
       "    'end': 27,\n",
       "    'label': 'PERSON',\n",
       "    'token_start': None,\n",
       "    'token_end': None},\n",
       "   {'text': 'design',\n",
       "    'start': 45,\n",
       "    'end': 51,\n",
       "    'label': 'SKILL',\n",
       "    'token_start': 7,\n",
       "    'token_end': 7},\n",
       "   {'text': 'brand development',\n",
       "    'start': 56,\n",
       "    'end': 73,\n",
       "    'label': 'SKILL',\n",
       "    'token_start': 9,\n",
       "    'token_end': 10}],\n",
       "  'tokens': [{'text': 'When', 'start': 0, 'end': 4, 'id': 0},\n",
       "   {'text': 'asked', 'start': 5, 'end': 10, 'id': 1},\n",
       "   {'text': 'how', 'start': 11, 'end': 14, 'id': 2},\n",
       "   {'text': 'muchRaymond', 'start': 15, 'end': 26, 'id': 3},\n",
       "   {'text': 'was', 'start': 27, 'end': 30, 'id': 4},\n",
       "   {'text': 'investing', 'start': 31, 'end': 40, 'id': 5},\n",
       "   {'text': 'in', 'start': 41, 'end': 43, 'id': 6},\n",
       "   {'text': 'design', 'start': 44, 'end': 50, 'id': 7},\n",
       "   {'text': 'and', 'start': 51, 'end': 54, 'id': 8},\n",
       "   {'text': 'brand', 'start': 55, 'end': 60, 'id': 9},\n",
       "   {'text': 'development', 'start': 61, 'end': 72, 'id': 10},\n",
       "   {'text': ',', 'start': 72, 'end': 73, 'id': 11},\n",
       "   {'text': 'he', 'start': 74, 'end': 76, 'id': 12},\n",
       "   {'text': 'retorts', 'start': 77, 'end': 84, 'id': 13},\n",
       "   {'text': ':', 'start': 84, 'end': 85, 'id': 14},\n",
       "   {'text': '“', 'start': 86, 'end': 87, 'id': 15},\n",
       "   {'text': 'It', 'start': 87, 'end': 89, 'id': 16},\n",
       "   {'text': '’s', 'start': 89, 'end': 91, 'id': 17},\n",
       "   {'text': 'no', 'start': 92, 'end': 94, 'id': 18},\n",
       "   {'text': 'longer', 'start': 95, 'end': 101, 'id': 19},\n",
       "   {'text': 'about', 'start': 102, 'end': 107, 'id': 20},\n",
       "   {'text': 'money', 'start': 108, 'end': 113, 'id': 21},\n",
       "   {'text': ';', 'start': 113, 'end': 114, 'id': 22},\n",
       "   {'text': 'it', 'start': 115, 'end': 117, 'id': 23},\n",
       "   {'text': '’s', 'start': 117, 'end': 119, 'id': 24},\n",
       "   {'text': 'about', 'start': 120, 'end': 125, 'id': 25},\n",
       "   {'text': 'the', 'start': 126, 'end': 129, 'id': 26},\n",
       "   {'text': 'culture', 'start': 130, 'end': 137, 'id': 27},\n",
       "   {'text': '.', 'start': 137, 'end': 138, 'id': 28}]},\n",
       " {'text': 'As for the backlash and some customers burning their shoes, it may not ultimately harm the company.',\n",
       "  'spans': [{'text': 'customers',\n",
       "    'start': 29,\n",
       "    'end': 38,\n",
       "    'label': 'PERSONTYPE',\n",
       "    'token_start': 6,\n",
       "    'token_end': 6},\n",
       "   {'text': 'shoes',\n",
       "    'start': 53,\n",
       "    'end': 58,\n",
       "    'label': 'PRODUCT',\n",
       "    'token_start': 9,\n",
       "    'token_end': 9}],\n",
       "  'tokens': [{'text': 'As', 'start': 0, 'end': 2, 'id': 0},\n",
       "   {'text': 'for', 'start': 3, 'end': 6, 'id': 1},\n",
       "   {'text': 'the', 'start': 7, 'end': 10, 'id': 2},\n",
       "   {'text': 'backlash', 'start': 11, 'end': 19, 'id': 3},\n",
       "   {'text': 'and', 'start': 20, 'end': 23, 'id': 4},\n",
       "   {'text': 'some', 'start': 24, 'end': 28, 'id': 5},\n",
       "   {'text': 'customers', 'start': 29, 'end': 38, 'id': 6},\n",
       "   {'text': 'burning', 'start': 39, 'end': 46, 'id': 7},\n",
       "   {'text': 'their', 'start': 47, 'end': 52, 'id': 8},\n",
       "   {'text': 'shoes', 'start': 53, 'end': 58, 'id': 9},\n",
       "   {'text': ',', 'start': 58, 'end': 59, 'id': 10},\n",
       "   {'text': 'it', 'start': 60, 'end': 62, 'id': 11},\n",
       "   {'text': 'may', 'start': 63, 'end': 66, 'id': 12},\n",
       "   {'text': 'not', 'start': 67, 'end': 70, 'id': 13},\n",
       "   {'text': 'ultimately', 'start': 71, 'end': 81, 'id': 14},\n",
       "   {'text': 'harm', 'start': 82, 'end': 86, 'id': 15},\n",
       "   {'text': 'the', 'start': 87, 'end': 90, 'id': 16},\n",
       "   {'text': 'company', 'start': 91, 'end': 98, 'id': 17},\n",
       "   {'text': '.', 'start': 98, 'end': 99, 'id': 18}]}]"
      ]
     },
     "execution_count": 225,
     "metadata": {},
     "output_type": "execute_result"
    }
   ],
   "source": [
    "tokenized = add_tokens(spacy.blank(\"en\"), fixed_examples)\n",
    "tokenized"
   ]
  },
  {
   "cell_type": "code",
   "execution_count": 106,
   "metadata": {},
   "outputs": [
    {
     "data": {
      "text/plain": [
       "[{'text': 'When asked how much Raymond was investing in design and brand development, he retorts: “It’s no longer about money; it’s about the culture.',\n",
       "  'spans': [{'text': 'Raymond',\n",
       "    'start': 20,\n",
       "    'end': 27,\n",
       "    'label': 'PERSON',\n",
       "    'token_start': 4,\n",
       "    'token_end': 4},\n",
       "   {'text': 'design',\n",
       "    'start': 45,\n",
       "    'end': 51,\n",
       "    'label': 'SKILL',\n",
       "    'token_start': 8,\n",
       "    'token_end': 8},\n",
       "   {'text': 'brand development',\n",
       "    'start': 56,\n",
       "    'end': 73,\n",
       "    'label': 'SKILL',\n",
       "    'token_start': 10,\n",
       "    'token_end': 11}],\n",
       "  'tokens': [{'text': 'When', 'start': 0, 'end': 4, 'id': 0},\n",
       "   {'text': 'asked', 'start': 5, 'end': 10, 'id': 1},\n",
       "   {'text': 'how', 'start': 11, 'end': 14, 'id': 2},\n",
       "   {'text': 'much', 'start': 15, 'end': 19, 'id': 3},\n",
       "   {'text': 'Raymond', 'start': 20, 'end': 27, 'id': 4},\n",
       "   {'text': 'was', 'start': 28, 'end': 31, 'id': 5},\n",
       "   {'text': 'investing', 'start': 32, 'end': 41, 'id': 6},\n",
       "   {'text': 'in', 'start': 42, 'end': 44, 'id': 7},\n",
       "   {'text': 'design', 'start': 45, 'end': 51, 'id': 8},\n",
       "   {'text': 'and', 'start': 52, 'end': 55, 'id': 9},\n",
       "   {'text': 'brand', 'start': 56, 'end': 61, 'id': 10},\n",
       "   {'text': 'development', 'start': 62, 'end': 73, 'id': 11},\n",
       "   {'text': ',', 'start': 73, 'end': 74, 'id': 12},\n",
       "   {'text': 'he', 'start': 75, 'end': 77, 'id': 13},\n",
       "   {'text': 'retorts', 'start': 78, 'end': 85, 'id': 14},\n",
       "   {'text': ':', 'start': 85, 'end': 86, 'id': 15},\n",
       "   {'text': '“', 'start': 87, 'end': 88, 'id': 16},\n",
       "   {'text': 'It', 'start': 88, 'end': 90, 'id': 17},\n",
       "   {'text': '’s', 'start': 90, 'end': 92, 'id': 18},\n",
       "   {'text': 'no', 'start': 93, 'end': 95, 'id': 19},\n",
       "   {'text': 'longer', 'start': 96, 'end': 102, 'id': 20},\n",
       "   {'text': 'about', 'start': 103, 'end': 108, 'id': 21},\n",
       "   {'text': 'money', 'start': 109, 'end': 114, 'id': 22},\n",
       "   {'text': ';', 'start': 114, 'end': 115, 'id': 23},\n",
       "   {'text': 'it', 'start': 116, 'end': 118, 'id': 24},\n",
       "   {'text': '’s', 'start': 118, 'end': 120, 'id': 25},\n",
       "   {'text': 'about', 'start': 121, 'end': 126, 'id': 26},\n",
       "   {'text': 'the', 'start': 127, 'end': 130, 'id': 27},\n",
       "   {'text': 'culture', 'start': 131, 'end': 138, 'id': 28},\n",
       "   {'text': '.', 'start': 138, 'end': 139, 'id': 29}],\n",
       "  'meta': {}}]"
      ]
     },
     "execution_count": 106,
     "metadata": {},
     "output_type": "execute_result"
    }
   ],
   "source": [
    "add_tokens(spacy.blank(\"en\"), new_e)"
   ]
  },
  {
   "cell_type": "markdown",
   "metadata": {},
   "source": [
    "---"
   ]
  },
  {
   "cell_type": "markdown",
   "metadata": {},
   "source": [
    "## Workbook stuff"
   ]
  },
  {
   "cell_type": "code",
   "execution_count": null,
   "metadata": {},
   "outputs": [],
   "source": []
  },
  {
   "cell_type": "code",
   "execution_count": null,
   "metadata": {},
   "outputs": [],
   "source": []
  },
  {
   "cell_type": "code",
   "execution_count": null,
   "metadata": {},
   "outputs": [],
   "source": []
  },
  {
   "cell_type": "code",
   "execution_count": null,
   "metadata": {},
   "outputs": [],
   "source": []
  },
  {
   "cell_type": "code",
   "execution_count": null,
   "metadata": {},
   "outputs": [],
   "source": []
  },
  {
   "cell_type": "code",
   "execution_count": null,
   "metadata": {},
   "outputs": [],
   "source": []
  },
  {
   "cell_type": "code",
   "execution_count": 97,
   "metadata": {},
   "outputs": [
    {
     "data": {
      "text/plain": [
       "{'Agrippa fought Sextus at Mylae in August 36 BC, and again a month later, while Lepidus and Statilius Taurus invaded Sicily.',\n",
       " 'Between 1971 and 1992, Atlanta–Fulton County Stadium hosted the game.',\n",
       " 'Diana Krall and mandolinist Eva Scow appear on the latter.',\n",
       " 'Early Puberty in Girls: Long-Term Effects?',\n",
       " 'In 1599 it was acquired by Sir Edward Coke, who is said to have entertained Queen Elizabeth I there in 1601.',\n",
       " 'In 1975 their second album, Straight Shooter, reached No. 3 in both the UK and the US, and also went platinum in the US.',\n",
       " 'In 330 Constantine chose for himself the nearby Byzantium (which was renamed Constantinople, modern Istanbul) as the new capital of the Roman Empire.',\n",
       " \"In late 1906, Rasputin began acting as a healer for the Tsar and his wife Alexandra's only son Alexei, who suffered from hemophilia.\",\n",
       " 'It is held on September 14 and 15 of each year outside the west exit of Ikebukuro Station and attracts as many as 200,000 people.',\n",
       " 'No mass die-offs or large-scale shifts in faunal composition have been observed (with the exception of collections for scientific purposes) over the 19-year history of research at this site.',\n",
       " \"Numerous ancient sources, including Plutarch's Life of Alcibiades, preserve stories of Anytus' tumultuous relationship with the young Alcibiades, who was disciple of Socrates.\",\n",
       " 'The Hida region, with its higher elevation and northerly latitude, is significantly cooler than the Mino region, although there are sometimes extremely hot days there too.',\n",
       " 'The actress has worked in some hit films such as ‘Jai Mehraru Jai Sasurari’, ‘Devra Bhail Deewana’, ‘Patna Se Pakistan’, ‘Ham Hain Hindustani’, ‘Dulhan Ganga Paar Ke’, ‘Balam Ji Love You’, ‘Naagdev’ and ‘Mehndi Laga Ke Rakhna’.',\n",
       " 'These studies may be qualitative or quantitative, and can use a variety of approaches, such as queer theory or feminist theory.',\n",
       " 'Vast industrial settlements came in its wake, including a nuclear power plant inDoel, which allows Beveren to provide low municipal tax rates for its inhabitants.',\n",
       " 'Webster returned to the House in 1823 and became a key supporter of President John Quincy Adams.',\n",
       " 'William Sidney Porter was born on September 11, 1862, in Greensboro, North Carolina.'}"
      ]
     },
     "execution_count": 97,
     "metadata": {},
     "output_type": "execute_result"
    }
   ],
   "source": [
    "def duplicates(data: List[Example]):\n",
    "    unique_texts = set()\n",
    "    duplicates = set()\n",
    "    for example in data:\n",
    "        if example.text in unique_texts:\n",
    "            duplicates.add(example.text)\n",
    "        unique_texts.add(example.text)\n",
    "        \n",
    "    return duplicates\n",
    "    \n",
    "duplicates(ds.train)"
   ]
  },
  {
   "cell_type": "code",
   "execution_count": 99,
   "metadata": {},
   "outputs": [],
   "source": [
    "from wasabi import Printer"
   ]
  },
  {
   "cell_type": "code",
   "execution_count": 101,
   "metadata": {},
   "outputs": [
    {
     "name": "stdout",
     "output_type": "stream",
     "text": [
      "\u001b[1m\n",
      "============================= Duplicate Numbers =============================\u001b[0m\n",
      "89 total duplicates found in all data.\n",
      "17 total duplicates found in train data.\n",
      "0 total duplicates found in dev data.\n",
      "68 total duplicates found in test data.\n",
      "\u001b[1m\n",
      "============================== Examples Overlap ==============================\u001b[0m\n",
      "4 examples overlap between train and dev data.\n",
      "0 examples overlap between train and test data.\n",
      "0 examples overlap between dev and test data.\n"
     ]
    }
   ],
   "source": [
    "def find_duplicates(ds: Dataset):\n",
    "    msg = Printer()\n",
    "    msg.divider(\"Duplicate Numbers\")\n",
    "    print(len(duplicates(ds.all)), \"total duplicates found in all data.\")\n",
    "    unique_train_texts = set([e.text for e in ds.train])\n",
    "    unique_dev_texts = set([e.text for e in ds.dev])\n",
    "    unique_test_texts = set([e.text for e in ds.test])\n",
    "    \n",
    "    print(len(duplicates(ds.train)), \"total duplicates found in train data.\")\n",
    "    print(len(duplicates(ds.dev)), \"total duplicates found in dev data.\")\n",
    "    print(len(duplicates(ds.test)), \"total duplicates found in test data.\")\n",
    "    \n",
    "    msg.divider(\"Examples Overlap\")\n",
    "    print(len(unique_train_texts.intersection(unique_dev_texts)), 'examples overlap between train and dev data.')\n",
    "    print(len(unique_train_texts.intersection(unique_test_texts)), 'examples overlap between train and test data.')\n",
    "    print(len(unique_dev_texts.intersection(unique_test_texts)), 'examples overlap between dev and test data.')\n",
    "    \n",
    "find_duplicates(ds)"
   ]
  },
  {
   "cell_type": "code",
   "execution_count": 103,
   "metadata": {},
   "outputs": [],
   "source": [
    "from spacy.cli import convert, debug_data\n",
    "from pathlib import Path"
   ]
  },
  {
   "cell_type": "code",
   "execution_count": 104,
   "metadata": {},
   "outputs": [],
   "source": [
    "data_dir = Path('../../CognitiveServices/API-TextAnalytics-NER.CloudServices/data/2020-02-24/')"
   ]
  },
  {
   "cell_type": "code",
   "execution_count": 106,
   "metadata": {},
   "outputs": [
    {
     "name": "stdout",
     "output_type": "stream",
     "text": [
      "\u001b[38;5;2m✔ Generated output file (130000 documents):\n",
      "../../CognitiveServices/API-TextAnalytics-NER.CloudServices/data/2020-02-24/train.jsonl\u001b[0m\n"
     ]
    }
   ],
   "source": [
    "convert(data_dir/'train.jsonl', data_dir, 'jsonl', converter='jsonl', lang='en')"
   ]
  },
  {
   "cell_type": "code",
   "execution_count": 107,
   "metadata": {},
   "outputs": [
    {
     "name": "stdout",
     "output_type": "stream",
     "text": [
      "\u001b[38;5;2m✔ Generated output file (10000 documents):\n",
      "../../CognitiveServices/API-TextAnalytics-NER.CloudServices/data/2020-02-24/spacy_format/dev.jsonl\u001b[0m\n",
      "\u001b[38;5;2m✔ Generated output file (10000 documents):\n",
      "../../CognitiveServices/API-TextAnalytics-NER.CloudServices/data/2020-02-24/spacy_format/test.jsonl\u001b[0m\n"
     ]
    }
   ],
   "source": [
    "convert(data_dir/'dev.jsonl', data_dir/'spacy_format', 'jsonl', converter='jsonl', lang='en')\n",
    "convert(data_dir/'test.jsonl', data_dir/'spacy_format', 'jsonl', converter='jsonl', lang='en')"
   ]
  },
  {
   "cell_type": "code",
   "execution_count": null,
   "metadata": {},
   "outputs": [
    {
     "name": "stdout",
     "output_type": "stream",
     "text": [
      "\u001b[1m\n",
      "=========================== Data format validation ===========================\u001b[0m\n",
      "⠴ Loading corpus..."
     ]
    }
   ],
   "source": [
    "debug_data('en', data_dir/'spacy_format/train.jsonl', data_dir/'spacy_format/dev.jsonl')"
   ]
  },
  {
   "cell_type": "code",
   "execution_count": 148,
   "metadata": {},
   "outputs": [],
   "source": [
    "from pdoc.html_helpers import to_html, to_markdown"
   ]
  },
  {
   "cell_type": "code",
   "execution_count": 149,
   "metadata": {},
   "outputs": [
    {
     "data": {
      "text/plain": [
       "'<pre><code>Get hardest examples from list of PredictionError types\\n\\nArgs:\\n    pred_errors (List[PredictionError]): list of PredictionError\\n    return_pred_errors (bool, optional): Whether to return prediction errors. Defaults to True.\\n    remove_pred_error_examples (bool, optional): Whether to remove examples from returned PredictionError. Defaults to True.\\n\\nRaises:\\n    ValueError: Each PredictionError must have a List of Examples\\n\\nReturns:\\n    List[HardestExample]: Sorted list of the hardest examples for a model to work on.\\n</code></pre>'"
      ]
     },
     "execution_count": 149,
     "metadata": {},
     "output_type": "execute_result"
    }
   ],
   "source": [
    "docstring_test = \"\"\"\n",
    "    Get hardest examples from list of PredictionError types\n",
    "    \n",
    "    Args:\n",
    "        pred_errors (List[PredictionError]): list of PredictionError\n",
    "        return_pred_errors (bool, optional): Whether to return prediction errors. Defaults to True.\n",
    "        remove_pred_error_examples (bool, optional): Whether to remove examples from returned PredictionError. Defaults to True.\n",
    "    \n",
    "    Raises:\n",
    "        ValueError: Each PredictionError must have a List of Examples \n",
    "    \n",
    "    Returns:\n",
    "        List[HardestExample]: Sorted list of the hardest examples for a model to work on.\n",
    "\"\"\"\n",
    "\n",
    "to_html(docstring_test, docformat=\"google\")"
   ]
  },
  {
   "cell_type": "code",
   "execution_count": null,
   "metadata": {},
   "outputs": [],
   "source": []
  }
 ],
 "metadata": {
  "kernelspec": {
   "display_name": "Python 3",
   "language": "python",
   "name": "python3"
  },
  "language_info": {
   "codemirror_mode": {
    "name": "ipython",
    "version": 3
   },
   "file_extension": ".py",
   "mimetype": "text/x-python",
   "name": "python",
   "nbconvert_exporter": "python",
   "pygments_lexer": "ipython3",
   "version": "3.6.8"
  }
 },
 "nbformat": 4,
 "nbformat_minor": 4
}
