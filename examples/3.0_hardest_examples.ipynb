{
 "cells": [
  {
   "cell_type": "markdown",
   "id": "4bdf3ba3",
   "metadata": {},
   "source": [
    "# Finding Errors in the Conll 2003 NER dataset\n",
    "\n",
    "In this notebook, we'll walk through identifying potential errors in the Conll 2003 NER dataset.\n",
    "We'll load up the Conll data into Recon using the huggingface [datasets](https://huggingface.co/docs/datasets/index) library and walk through a standard debugging process with Recon.\n",
    "\n",
    "We'll discuss:\n",
    "\n",
    "1. Stats\n",
    "2. Entity Coverage\n",
    "3. Label Disparities\n",
    "4. Prediction Errors\n",
    "5. Hardest Examples\n",
    "\n",
    "First, lets load up the Corpus using the `load_dataset` function from `datasets` and the `Dataset.from_hf_dataset` loader in Recon"
   ]
  },
  {
   "cell_type": "code",
   "execution_count": 2,
   "id": "c4f5a57f",
   "metadata": {},
   "outputs": [],
   "source": [
    "from recon import Corpus, Dataset\n",
    "from recon import get_ner_stats, get_entity_coverage\n",
    "from recon.insights import get_label_disparities, top_label_disparities"
   ]
  },
  {
   "cell_type": "code",
   "execution_count": 3,
   "id": "bd3935e0",
   "metadata": {},
   "outputs": [],
   "source": [
    "from datasets import load_dataset, Dataset as HFDataset"
   ]
  },
  {
   "cell_type": "code",
   "execution_count": 4,
   "id": "80207692",
   "metadata": {},
   "outputs": [
    {
     "name": "stderr",
     "output_type": "stream",
     "text": [
      "Reusing dataset conll2003 (/Users/kabirkhan/.cache/huggingface/datasets/conll2003/conll2003/1.0.0/63f4ebd1bcb7148b1644497336fd74643d4ce70123334431a3c053b7ee4e96ee)\n"
     ]
    },
    {
     "data": {
      "application/vnd.jupyter.widget-view+json": {
       "model_id": "90fae037d3d64f139a8a5c7fbe32a549",
       "version_major": 2,
       "version_minor": 0
      },
      "text/plain": [
       "  0%|          | 0/3 [00:00<?, ?it/s]"
      ]
     },
     "metadata": {},
     "output_type": "display_data"
    }
   ],
   "source": [
    "conll2003 = load_dataset(\"conll2003\")"
   ]
  },
  {
   "cell_type": "code",
   "execution_count": 5,
   "id": "edcbf9e6",
   "metadata": {},
   "outputs": [],
   "source": [
    "conll_labels = [\"O\", \"B-PER\", \"I-PER\", \"B-ORG\", \"I-ORG\", \"B-LOC\", \"I-LOC\", \"B-MISC\", \"I-MISC\"]"
   ]
  },
  {
   "cell_type": "code",
   "execution_count": 6,
   "id": "12da4a39",
   "metadata": {},
   "outputs": [],
   "source": [
    "train_ds = Dataset(\"train\").from_hf_dataset(conll2003[\"train\"], labels=conll_labels)\n",
    "dev_ds = Dataset(\"dev\").from_hf_dataset(conll2003[\"validation\"], labels=conll_labels)\n",
    "test_ds = Dataset(\"test\").from_hf_dataset(conll2003[\"test\"], labels=conll_labels)"
   ]
  },
  {
   "cell_type": "code",
   "execution_count": 7,
   "id": "0291a492",
   "metadata": {},
   "outputs": [
    {
     "name": "stdout",
     "output_type": "stream",
     "text": [
      "<recon.corpus.Corpus object at 0x28fe6bca0>\n"
     ]
    }
   ],
   "source": [
    "corpus = Corpus(\"conll2003\", train_ds, dev_ds, test_ds)\n",
    "print(corpus)"
   ]
  },
  {
   "cell_type": "markdown",
   "id": "0c36bc5a",
   "metadata": {},
   "source": [
    "## 1. Stats\n",
    "\n",
    "First we'll look at the basic stats of the each split in the Corpus using `Corpus.summary`. \n",
    "Under the hood, `summary` runs the `recon.stats.get_ner_stats` function across each Dataset"
   ]
  },
  {
   "cell_type": "code",
   "execution_count": 8,
   "id": "8acc6e9d",
   "metadata": {},
   "outputs": [
    {
     "name": "stdout",
     "output_type": "stream",
     "text": [
      "Dataset\n",
      "Name: train\n",
      "Stats: {\n",
      "    \"n_examples\": 14042,\n",
      "    \"n_examples_no_entities\": 2910,\n",
      "    \"n_annotations\": 23499,\n",
      "    \"n_annotations_per_type\": {\n",
      "        \"LOC\": 7140,\n",
      "        \"PER\": 6600,\n",
      "        \"ORG\": 6321,\n",
      "        \"MISC\": 3438\n",
      "    },\n",
      "    \"examples_with_type\": null\n",
      "}\n",
      "Dataset\n",
      "Name: dev\n",
      "Stats: {\n",
      "    \"n_examples\": 3251,\n",
      "    \"n_examples_no_entities\": 646,\n",
      "    \"n_annotations\": 5942,\n",
      "    \"n_annotations_per_type\": {\n",
      "        \"PER\": 1842,\n",
      "        \"LOC\": 1837,\n",
      "        \"ORG\": 1341,\n",
      "        \"MISC\": 922\n",
      "    },\n",
      "    \"examples_with_type\": null\n",
      "}\n",
      "Dataset\n",
      "Name: test\n",
      "Stats: {\n",
      "    \"n_examples\": 3454,\n",
      "    \"n_examples_no_entities\": 698,\n",
      "    \"n_annotations\": 5648,\n",
      "    \"n_annotations_per_type\": {\n",
      "        \"LOC\": 1668,\n",
      "        \"ORG\": 1661,\n",
      "        \"PER\": 1617,\n",
      "        \"MISC\": 702\n",
      "    },\n",
      "    \"examples_with_type\": null\n",
      "}\n"
     ]
    }
   ],
   "source": [
    "corpus.summary()"
   ]
  },
  {
   "cell_type": "markdown",
   "id": "62154e83",
   "metadata": {},
   "source": [
    "Just based on the stats above, we'd probably expect our model to do better on the `LOC` label than the `MISC` label since we have almost twice the labels for `LOC`.\n",
    "\n",
    "Let's dive into dataset statistics a bit more granularly and look at Entity Coverage"
   ]
  },
  {
   "cell_type": "markdown",
   "id": "68575d69",
   "metadata": {},
   "source": [
    "## 2. Entity Coverage\n",
    "\n",
    "Entity Coverage looks at individual annotation spans and aggregates and sorts them. Looking at the extremes (start and end) for the Entity Coverage can tell you a lot about your Dataset."
   ]
  },
  {
   "cell_type": "code",
   "execution_count": 13,
   "id": "41d3b859",
   "metadata": {},
   "outputs": [],
   "source": [
    "train_ecs = get_entity_coverage(corpus.train, case_sensitive=True)"
   ]
  },
  {
   "cell_type": "markdown",
   "id": "cbbec35c",
   "metadata": {},
   "source": [
    "**Most** covered entity spans\n",
    "\n",
    "It's no surprise that common locations are our most covered entity spans. If we train a model, we'd expect these entities to be easy to identify."
   ]
  },
  {
   "cell_type": "code",
   "execution_count": 14,
   "id": "857db0c2",
   "metadata": {},
   "outputs": [
    {
     "data": {
      "text/plain": [
       "[EntityCoverage(text='U.S.', label='LOC', count=303, examples=[]),\n",
       " EntityCoverage(text='Germany', label='LOC', count=141, examples=[]),\n",
       " EntityCoverage(text='Britain', label='LOC', count=133, examples=[]),\n",
       " EntityCoverage(text='Australia', label='LOC', count=130, examples=[]),\n",
       " EntityCoverage(text='England', label='LOC', count=123, examples=[]),\n",
       " EntityCoverage(text='France', label='LOC', count=122, examples=[]),\n",
       " EntityCoverage(text='Spain', label='LOC', count=110, examples=[]),\n",
       " EntityCoverage(text='Italy', label='LOC', count=98, examples=[]),\n",
       " EntityCoverage(text='LONDON', label='LOC', count=93, examples=[]),\n",
       " EntityCoverage(text='Russian', label='MISC', count=92, examples=[])]"
      ]
     },
     "execution_count": 14,
     "metadata": {},
     "output_type": "execute_result"
    }
   ],
   "source": [
    "train_ecs[:10]"
   ]
  },
  {
   "cell_type": "markdown",
   "id": "ba9d6b54",
   "metadata": {},
   "source": [
    "**Least** covered entity spans"
   ]
  },
  {
   "cell_type": "code",
   "execution_count": 15,
   "id": "c91949e1",
   "metadata": {},
   "outputs": [
    {
     "data": {
      "text/plain": [
       "[EntityCoverage(text='Luca Cadalora', label='PER', count=1, examples=[]),\n",
       " EntityCoverage(text='Alex Criville', label='PER', count=1, examples=[]),\n",
       " EntityCoverage(text='Scott Russell', label='PER', count=1, examples=[]),\n",
       " EntityCoverage(text='Tadayuki Okada', label='PER', count=1, examples=[]),\n",
       " EntityCoverage(text='Carlos Checa', label='PER', count=1, examples=[]),\n",
       " EntityCoverage(text='Alexandre Barros', label='PER', count=1, examples=[]),\n",
       " EntityCoverage(text='Shinichi Itoh', label='PER', count=1, examples=[]),\n",
       " EntityCoverage(text='Swe', label='LOC', count=1, examples=[]),\n",
       " EntityCoverage(text='Bob May', label='PER', count=1, examples=[]),\n",
       " EntityCoverage(text='Bradley Hughes', label='PER', count=1, examples=[])]"
      ]
     },
     "execution_count": 15,
     "metadata": {},
     "output_type": "execute_result"
    }
   ],
   "source": [
    "train_ecs[-10:]"
   ]
  },
  {
   "cell_type": "code",
   "execution_count": 17,
   "id": "db83e38b",
   "metadata": {},
   "outputs": [],
   "source": [
    "lds = top_label_disparities(corpus.train)"
   ]
  },
  {
   "cell_type": "code",
   "execution_count": 18,
   "id": "8a28de16",
   "metadata": {},
   "outputs": [
    {
     "data": {
      "text/plain": [
       "[LabelDisparity(label1='ORG', label2='LOC', count=93, examples=[]),\n",
       " LabelDisparity(label1='LOC', label2='ORG', count=93, examples=[]),\n",
       " LabelDisparity(label1='ORG', label2='PER', count=16, examples=[]),\n",
       " LabelDisparity(label1='PER', label2='ORG', count=16, examples=[]),\n",
       " LabelDisparity(label1='PER', label2='LOC', count=12, examples=[]),\n",
       " LabelDisparity(label1='LOC', label2='PER', count=12, examples=[]),\n",
       " LabelDisparity(label1='MISC', label2='LOC', count=7, examples=[]),\n",
       " LabelDisparity(label1='LOC', label2='MISC', count=7, examples=[]),\n",
       " LabelDisparity(label1='ORG', label2='MISC', count=6, examples=[]),\n",
       " LabelDisparity(label1='MISC', label2='ORG', count=6, examples=[]),\n",
       " LabelDisparity(label1='MISC', label2='PER', count=1, examples=[]),\n",
       " LabelDisparity(label1='PER', label2='MISC', count=1, examples=[])]"
      ]
     },
     "execution_count": 18,
     "metadata": {},
     "output_type": "execute_result"
    }
   ],
   "source": [
    "lds"
   ]
  },
  {
   "cell_type": "code",
   "execution_count": 19,
   "id": "08a23988",
   "metadata": {},
   "outputs": [],
   "source": [
    "from typing import Tuple\n",
    "import numpy as np\n",
    "import seaborn as sns\n",
    "from recon.types import LabelDisparity\n",
    "\n",
    "def plot_cm(cm: np.array, labels: List[str]):\n",
    "    labels = np.asarray(list(labels))\n",
    "    print(cm, labels)\n",
    "    return sns.heatmap(cm, annot=True, xticklabels=labels, yticklabels=labels, cmap=\"Blues\")\n",
    "\n",
    "def get_lds_cm(label_disparities: List[LabelDisparity]) -> Tuple[List[str], np.array]:\n",
    "    labels = set()\n",
    "    for ld in lds:\n",
    "        labels.add(ld.label1)\n",
    "        labels.add(ld.label2)\n",
    "    labels_map = {l:i for i, l in enumerate(labels)}\n",
    "    K = len(labels)\n",
    "    result = np.zeros((K, K))\n",
    "    for ld in lds:\n",
    "        result[labels_map[ld.label1]][labels_map[ld.label2]] = ld.count\n",
    "    return labels, result"
   ]
  },
  {
   "cell_type": "code",
   "execution_count": 20,
   "id": "0726054f",
   "metadata": {},
   "outputs": [
    {
     "name": "stdout",
     "output_type": "stream",
     "text": [
      "[[ 0.  7.  1.  6.]\n",
      " [ 7.  0. 12. 93.]\n",
      " [ 1. 12.  0. 16.]\n",
      " [ 6. 93. 16.  0.]] ['MISC' 'LOC' 'PER' 'ORG']\n"
     ]
    },
    {
     "data": {
      "text/plain": [
       "<AxesSubplot:>"
      ]
     },
     "execution_count": 20,
     "metadata": {},
     "output_type": "execute_result"
    },
    {
     "data": {
      "image/png": "[encoded data removed]",
      "text/plain": [
       "<Figure size 432x288 with 2 Axes>"
      ]
     },
     "metadata": {
      "needs_background": "light"
     },
     "output_type": "display_data"
    }
   ],
   "source": [
    "labels, cm = get_lds_cm(lds)\n",
    "plot_cm(cm, labels=labels)"
   ]
  },
  {
   "cell_type": "code",
   "execution_count": 22,
   "id": "4742da23",
   "metadata": {},
   "outputs": [],
   "source": [
    "corpus.to_disk(\"./data/conll2003\", overwrite=True)"
   ]
  },
  {
   "cell_type": "code",
   "execution_count": 24,
   "id": "6db29df2",
   "metadata": {},
   "outputs": [],
   "source": [
    "corpus.train_ds.to_spacy(\"./data/conll2003\")\n",
    "corpus.dev_ds.to_spacy(\"./data/conll2003\")"
   ]
  },
  {
   "cell_type": "code",
   "execution_count": 26,
   "id": "31b0872c",
   "metadata": {},
   "outputs": [
    {
     "name": "stdout",
     "output_type": "stream",
     "text": [
      "\u001b[38;5;2m✔ Created output directory: models/en_conll_sm\u001b[0m\n",
      "\u001b[38;5;4mℹ Saving to output directory: models/en_conll_sm\u001b[0m\n",
      "\u001b[38;5;4mℹ Using CPU\u001b[0m\n",
      "\u001b[1m\n",
      "=========================== Initializing pipeline ===========================\u001b[0m\n",
      "[2022-04-25 12:11:45,709] [INFO] Set up nlp object from config\n",
      "[2022-04-25 12:11:45,713] [INFO] Pipeline: ['tok2vec', 'ner']\n",
      "[2022-04-25 12:11:45,715] [INFO] Created vocabulary\n",
      "[2022-04-25 12:11:45,716] [INFO] Finished initializing nlp object\n",
      "[2022-04-25 12:11:50,458] [INFO] Initialized pipeline components: ['tok2vec', 'ner']\n",
      "\u001b[38;5;2m✔ Initialized pipeline\u001b[0m\n",
      "\u001b[1m\n",
      "============================= Training pipeline =============================\u001b[0m\n",
      "\u001b[38;5;4mℹ Pipeline: ['tok2vec', 'ner']\u001b[0m\n",
      "\u001b[38;5;4mℹ Initial learn rate: 0.001\u001b[0m\n",
      "E    #       LOSS TOK2VEC  LOSS NER  ENTS_F  ENTS_P  ENTS_R  SCORE \n",
      "---  ------  ------------  --------  ------  ------  ------  ------\n",
      "  0       0          0.00     44.28    0.00    0.00    0.00    0.00\n",
      "  0     200         82.58   2838.65   52.41   60.56   46.20    0.52\n",
      "  0     400       1039.30   2465.74   63.43   64.10   62.77    0.63\n",
      "  0     600        256.40   2220.14   71.76   74.24   69.44    0.72\n",
      "  0     800        331.60   2215.43   76.00   76.09   75.90    0.76\n",
      "  0    1000        424.40   2506.67   77.33   77.49   77.16    0.77\n",
      "  1    1200        747.23   2470.54   81.29   82.58   80.04    0.81\n",
      "  1    1400        557.30   2108.81   81.58   81.55   81.61    0.82\n",
      "  1    1600        731.19   2369.50   83.59   84.28   82.92    0.84\n",
      "  2    1800        805.75   2527.25   84.53   85.11   83.96    0.85\n",
      "  2    2000        930.29   2263.20   84.68   84.35   85.01    0.85\n",
      "  3    2200       1026.41   2208.37   86.23   86.62   85.85    0.86\n",
      "  4    2400       1033.96   1906.29   86.28   87.67   84.94    0.86\n",
      "  5    2600       1214.51   1830.59   85.98   86.73   85.24    0.86\n",
      "  6    2800        916.89   1385.59   86.13   86.54   85.73    0.86\n",
      "  7    3000        990.98   1218.15   86.06   86.63   85.49    0.86\n",
      "  8    3200        937.03   1127.00   86.02   87.19   84.89    0.86\n",
      "  9    3400        922.85    972.14   86.42   87.56   85.31    0.86\n",
      "  9    3600        874.39    860.02   86.04   86.38   85.71    0.86\n",
      " 10    3800        972.10    791.65   85.80   86.33   85.27    0.86\n",
      " 11    4000       1506.55    928.18   85.51   85.83   85.19    0.86\n",
      " 12    4200        733.55    644.62   86.02   86.35   85.70    0.86\n",
      " 13    4400        998.06    709.30   85.83   86.58   85.09    0.86\n",
      " 14    4600        872.85    629.78   85.68   85.89   85.46    0.86\n",
      " 15    4800       1082.83    592.74   85.92   86.20   85.64    0.86\n",
      " 16    5000       1135.73    630.67   86.74   87.19   86.28    0.87\n",
      " 17    5200        852.50    531.29   86.18   86.91   85.46    0.86\n",
      " 18    5400        867.14    522.03   86.41   87.23   85.61    0.86\n",
      " 19    5600        970.52    538.62   86.94   87.64   86.25    0.87\n",
      " 19    5800        948.11    485.70   86.65   87.28   86.03    0.87\n",
      " 20    6000        743.83    404.57   86.64   87.01   86.27    0.87\n",
      " 21    6200       1125.98    462.46   86.44   86.86   86.01    0.86\n",
      " 22    6400       1029.71    434.16   86.86   87.39   86.33    0.87\n",
      " 23    6600       1097.69    426.17   86.64   86.96   86.32    0.87\n",
      " 24    6800       1156.23    395.99   85.64   85.99   85.29    0.86\n",
      " 25    7000       1110.51    382.47   86.81   86.78   86.84    0.87\n",
      " 26    7200       1074.24    361.87   86.16   86.42   85.90    0.86\n",
      "\u001b[38;5;2m✔ Saved pipeline to output directory\u001b[0m\n",
      "models/en_conll_sm/model-last\n"
     ]
    }
   ],
   "source": [
    "!spacy train config/config.cfg --paths.train ./data/conll2003/train.spacy --paths.dev ./data/conll2003/dev.spacy --output ./models/en_conll_sm"
   ]
  },
  {
   "cell_type": "code",
   "execution_count": 27,
   "id": "2d57de57",
   "metadata": {},
   "outputs": [],
   "source": [
    "from recon.recognizer import SpacyEntityRecognizer"
   ]
  },
  {
   "cell_type": "code",
   "execution_count": 28,
   "id": "92344dfc",
   "metadata": {},
   "outputs": [],
   "source": [
    "nlp = spacy.load(\"models/en_conll_sm/model-last/\")\n",
    "rec = SpacyEntityRecognizer(nlp)"
   ]
  },
  {
   "cell_type": "code",
   "execution_count": 34,
   "id": "d41ad89c",
   "metadata": {},
   "outputs": [],
   "source": [
    "from recon.insights import top_prediction_errors, get_hardest_examples"
   ]
  },
  {
   "cell_type": "code",
   "execution_count": 37,
   "id": "363da42d",
   "metadata": {},
   "outputs": [
    {
     "name": "stdout",
     "output_type": "stream",
     "text": [
      "\u001b[1m\n",
      "=============================== Error Analysis ===============================\u001b[0m\n",
      "\n",
      "N Examples         3251\n",
      "N Errors           947 \n",
      "N Error Examples   709 \n",
      "Error Rate         0.22\n",
      "\n"
     ]
    },
    {
     "data": {
      "text/plain": [
       "PredictionError(text='Pirelli', true_label='ORG', pred_label='PER', count=9, examples=[PredictionErrorExamplePair(original=Example(text='Pirelli cables look to tap Chinese growth . ', spans=[Span(text='Pirelli', start=0, end=7, label='ORG', token_start=None, token_end=None, kb_id=None), Span(text='Chinese', start=27, end=34, label='MISC', token_start=None, token_end=None, kb_id=None)], tokens=[Token(text='Pirelli', start=0, end=7, id=0), Token(text='cables', start=8, end=14, id=1), Token(text='look', start=15, end=19, id=2), Token(text='to', start=20, end=22, id=3), Token(text='tap', start=23, end=26, id=4), Token(text='Chinese', start=27, end=34, id=5), Token(text='growth', start=35, end=41, id=6), Token(text='.', start=42, end=43, id=7)], meta={}, formatted=True), predicted=Example(text='Pirelli cables look to tap Chinese growth . ', spans=[Span(text='Pirelli', start=0, end=7, label='PER', token_start=0, token_end=1, kb_id=None), Span(text='Chinese', start=27, end=34, label='MISC', token_start=5, token_end=6, kb_id=None)], tokens=[Token(text='Pirelli', start=0, end=7, id=0), Token(text='cables', start=8, end=14, id=1), Token(text='look', start=15, end=19, id=2), Token(text='to', start=20, end=22, id=3), Token(text='tap', start=23, end=26, id=4), Token(text='Chinese', start=27, end=34, id=5), Token(text='growth', start=35, end=41, id=6), Token(text='.', start=42, end=43, id=7)], meta={}, formatted=True)), PredictionErrorExamplePair(original=Example(text='Italian tyre and cables giant Pirelli on Friday announced its long-awaited move into China with a cables joint venture set to capitalise on the rapidly-growing Chinese telecommunications market . ', spans=[Span(text='Italian', start=0, end=7, label='MISC', token_start=None, token_end=None, kb_id=None), Span(text='Pirelli', start=30, end=37, label='ORG', token_start=None, token_end=None, kb_id=None), Span(text='China', start=85, end=90, label='LOC', token_start=None, token_end=None, kb_id=None), Span(text='Chinese', start=160, end=167, label='MISC', token_start=None, token_end=None, kb_id=None)], tokens=[Token(text='Italian', start=0, end=7, id=0), Token(text='tyre', start=8, end=12, id=1), Token(text='and', start=13, end=16, id=2), Token(text='cables', start=17, end=23, id=3), Token(text='giant', start=24, end=29, id=4), Token(text='Pirelli', start=30, end=37, id=5), Token(text='on', start=38, end=40, id=6), Token(text='Friday', start=41, end=47, id=7), Token(text='announced', start=48, end=57, id=8), Token(text='its', start=58, end=61, id=9), Token(text='long-awaited', start=62, end=74, id=10), Token(text='move', start=75, end=79, id=11), Token(text='into', start=80, end=84, id=12), Token(text='China', start=85, end=90, id=13), Token(text='with', start=91, end=95, id=14), Token(text='a', start=96, end=97, id=15), Token(text='cables', start=98, end=104, id=16), Token(text='joint', start=105, end=110, id=17), Token(text='venture', start=111, end=118, id=18), Token(text='set', start=119, end=122, id=19), Token(text='to', start=123, end=125, id=20), Token(text='capitalise', start=126, end=136, id=21), Token(text='on', start=137, end=139, id=22), Token(text='the', start=140, end=143, id=23), Token(text='rapidly-growing', start=144, end=159, id=24), Token(text='Chinese', start=160, end=167, id=25), Token(text='telecommunications', start=168, end=186, id=26), Token(text='market', start=187, end=193, id=27), Token(text='.', start=194, end=195, id=28)], meta={}, formatted=True), predicted=Example(text='Italian tyre and cables giant Pirelli on Friday announced its long-awaited move into China with a cables joint venture set to capitalise on the rapidly-growing Chinese telecommunications market . ', spans=[Span(text='Italian', start=0, end=7, label='MISC', token_start=0, token_end=1, kb_id=None), Span(text='Pirelli', start=30, end=37, label='PER', token_start=5, token_end=6, kb_id=None), Span(text='China', start=85, end=90, label='LOC', token_start=15, token_end=16, kb_id=None), Span(text='Chinese', start=160, end=167, label='MISC', token_start=29, token_end=30, kb_id=None)], tokens=[Token(text='Italian', start=0, end=7, id=0), Token(text='tyre', start=8, end=12, id=1), Token(text='and', start=13, end=16, id=2), Token(text='cables', start=17, end=23, id=3), Token(text='giant', start=24, end=29, id=4), Token(text='Pirelli', start=30, end=37, id=5), Token(text='on', start=38, end=40, id=6), Token(text='Friday', start=41, end=47, id=7), Token(text='announced', start=48, end=57, id=8), Token(text='its', start=58, end=61, id=9), Token(text='long', start=62, end=66, id=10), Token(text='-', start=66, end=67, id=11), Token(text='awaited', start=67, end=74, id=12), Token(text='move', start=75, end=79, id=13), Token(text='into', start=80, end=84, id=14), Token(text='China', start=85, end=90, id=15), Token(text='with', start=91, end=95, id=16), Token(text='a', start=96, end=97, id=17), Token(text='cables', start=98, end=104, id=18), Token(text='joint', start=105, end=110, id=19), Token(text='venture', start=111, end=118, id=20), Token(text='set', start=119, end=122, id=21), Token(text='to', start=123, end=125, id=22), Token(text='capitalise', start=126, end=136, id=23), Token(text='on', start=137, end=139, id=24), Token(text='the', start=140, end=143, id=25), Token(text='rapidly', start=144, end=151, id=26), Token(text='-', start=151, end=152, id=27), Token(text='growing', start=152, end=159, id=28), Token(text='Chinese', start=160, end=167, id=29), Token(text='telecommunications', start=168, end=186, id=30), Token(text='market', start=187, end=193, id=31), Token(text='.', start=194, end=195, id=32)], meta={}, formatted=True)), PredictionErrorExamplePair(original=Example(text='Pirelli is linking with Hong Kong-based group CITIC Pacific in a venture to be called the Wuxi Tong Ling Company Ltd , which will operate in partnership with a local industrial company at its existing factory in Wuxi , Jiangsu province , Shanghai . ', spans=[Span(text='Pirelli', start=0, end=7, label='ORG', token_start=None, token_end=None, kb_id=None), Span(text='Hong Kong-based', start=24, end=39, label='MISC', token_start=None, token_end=None, kb_id=None), Span(text='CITIC Pacific', start=46, end=59, label='ORG', token_start=None, token_end=None, kb_id=None), Span(text='Wuxi Tong Ling Company Ltd', start=90, end=116, label='ORG', token_start=None, token_end=None, kb_id=None), Span(text='Wuxi', start=212, end=216, label='LOC', token_start=None, token_end=None, kb_id=None), Span(text='Jiangsu', start=219, end=226, label='LOC', token_start=None, token_end=None, kb_id=None), Span(text='Shanghai', start=238, end=246, label='LOC', token_start=None, token_end=None, kb_id=None)], tokens=[Token(text='Pirelli', start=0, end=7, id=0), Token(text='is', start=8, end=10, id=1), Token(text='linking', start=11, end=18, id=2), Token(text='with', start=19, end=23, id=3), Token(text='Hong', start=24, end=28, id=4), Token(text='Kong-based', start=29, end=39, id=5), Token(text='group', start=40, end=45, id=6), Token(text='CITIC', start=46, end=51, id=7), Token(text='Pacific', start=52, end=59, id=8), Token(text='in', start=60, end=62, id=9), Token(text='a', start=63, end=64, id=10), Token(text='venture', start=65, end=72, id=11), Token(text='to', start=73, end=75, id=12), Token(text='be', start=76, end=78, id=13), Token(text='called', start=79, end=85, id=14), Token(text='the', start=86, end=89, id=15), Token(text='Wuxi', start=90, end=94, id=16), Token(text='Tong', start=95, end=99, id=17), Token(text='Ling', start=100, end=104, id=18), Token(text='Company', start=105, end=112, id=19), Token(text='Ltd', start=113, end=116, id=20), Token(text=',', start=117, end=118, id=21), Token(text='which', start=119, end=124, id=22), Token(text='will', start=125, end=129, id=23), Token(text='operate', start=130, end=137, id=24), Token(text='in', start=138, end=140, id=25), Token(text='partnership', start=141, end=152, id=26), Token(text='with', start=153, end=157, id=27), Token(text='a', start=158, end=159, id=28), Token(text='local', start=160, end=165, id=29), Token(text='industrial', start=166, end=176, id=30), Token(text='company', start=177, end=184, id=31), Token(text='at', start=185, end=187, id=32), Token(text='its', start=188, end=191, id=33), Token(text='existing', start=192, end=200, id=34), Token(text='factory', start=201, end=208, id=35), Token(text='in', start=209, end=211, id=36), Token(text='Wuxi', start=212, end=216, id=37), Token(text=',', start=217, end=218, id=38), Token(text='Jiangsu', start=219, end=226, id=39), Token(text='province', start=227, end=235, id=40), Token(text=',', start=236, end=237, id=41), Token(text='Shanghai', start=238, end=246, id=42), Token(text='.', start=247, end=248, id=43)], meta={}, formatted=True), predicted=Example(text='Pirelli is linking with Hong Kong-based group CITIC Pacific in a venture to be called the Wuxi Tong Ling Company Ltd , which will operate in partnership with a local industrial company at its existing factory in Wuxi , Jiangsu province , Shanghai . ', spans=[Span(text='Pirelli', start=0, end=7, label='PER', token_start=0, token_end=1, kb_id=None), Span(text='Hong Kong-based', start=24, end=39, label='MISC', token_start=4, token_end=8, kb_id=None), Span(text='CITIC Pacific', start=46, end=59, label='ORG', token_start=9, token_end=11, kb_id=None), Span(text='Wuxi Tong Ling Company Ltd', start=90, end=116, label='ORG', token_start=18, token_end=23, kb_id=None), Span(text='Wuxi', start=212, end=216, label='LOC', token_start=39, token_end=40, kb_id=None), Span(text='Jiangsu', start=219, end=226, label='LOC', token_start=41, token_end=42, kb_id=None), Span(text='Shanghai', start=238, end=246, label='LOC', token_start=44, token_end=45, kb_id=None)], tokens=[Token(text='Pirelli', start=0, end=7, id=0), Token(text='is', start=8, end=10, id=1), Token(text='linking', start=11, end=18, id=2), Token(text='with', start=19, end=23, id=3), Token(text='Hong', start=24, end=28, id=4), Token(text='Kong', start=29, end=33, id=5), Token(text='-', start=33, end=34, id=6), Token(text='based', start=34, end=39, id=7), Token(text='group', start=40, end=45, id=8), Token(text='CITIC', start=46, end=51, id=9), Token(text='Pacific', start=52, end=59, id=10), Token(text='in', start=60, end=62, id=11), Token(text='a', start=63, end=64, id=12), Token(text='venture', start=65, end=72, id=13), Token(text='to', start=73, end=75, id=14), Token(text='be', start=76, end=78, id=15), Token(text='called', start=79, end=85, id=16), Token(text='the', start=86, end=89, id=17), Token(text='Wuxi', start=90, end=94, id=18), Token(text='Tong', start=95, end=99, id=19), Token(text='Ling', start=100, end=104, id=20), Token(text='Company', start=105, end=112, id=21), Token(text='Ltd', start=113, end=116, id=22), Token(text=',', start=117, end=118, id=23), Token(text='which', start=119, end=124, id=24), Token(text='will', start=125, end=129, id=25), Token(text='operate', start=130, end=137, id=26), Token(text='in', start=138, end=140, id=27), Token(text='partnership', start=141, end=152, id=28), Token(text='with', start=153, end=157, id=29), Token(text='a', start=158, end=159, id=30), Token(text='local', start=160, end=165, id=31), Token(text='industrial', start=166, end=176, id=32), Token(text='company', start=177, end=184, id=33), Token(text='at', start=185, end=187, id=34), Token(text='its', start=188, end=191, id=35), Token(text='existing', start=192, end=200, id=36), Token(text='factory', start=201, end=208, id=37), Token(text='in', start=209, end=211, id=38), Token(text='Wuxi', start=212, end=216, id=39), Token(text=',', start=217, end=218, id=40), Token(text='Jiangsu', start=219, end=226, id=41), Token(text='province', start=227, end=235, id=42), Token(text=',', start=236, end=237, id=43), Token(text='Shanghai', start=238, end=246, id=44), Token(text='.', start=247, end=248, id=45)], meta={}, formatted=True)), PredictionErrorExamplePair(original=Example(text=\"The move marks a further move by Pirelli 's cables division to expand in the fast-growing Far Eastern developing markets with the group already present in Indonesia , India and Malaysia . \", spans=[Span(text='Pirelli', start=33, end=40, label='ORG', token_start=None, token_end=None, kb_id=None), Span(text='Far Eastern', start=90, end=101, label='MISC', token_start=None, token_end=None, kb_id=None), Span(text='Indonesia', start=155, end=164, label='LOC', token_start=None, token_end=None, kb_id=None), Span(text='India', start=167, end=172, label='LOC', token_start=None, token_end=None, kb_id=None), Span(text='Malaysia', start=177, end=185, label='LOC', token_start=None, token_end=None, kb_id=None)], tokens=[Token(text='The', start=0, end=3, id=0), Token(text='move', start=4, end=8, id=1), Token(text='marks', start=9, end=14, id=2), Token(text='a', start=15, end=16, id=3), Token(text='further', start=17, end=24, id=4), Token(text='move', start=25, end=29, id=5), Token(text='by', start=30, end=32, id=6), Token(text='Pirelli', start=33, end=40, id=7), Token(text=\"'s\", start=41, end=43, id=8), Token(text='cables', start=44, end=50, id=9), Token(text='division', start=51, end=59, id=10), Token(text='to', start=60, end=62, id=11), Token(text='expand', start=63, end=69, id=12), Token(text='in', start=70, end=72, id=13), Token(text='the', start=73, end=76, id=14), Token(text='fast-growing', start=77, end=89, id=15), Token(text='Far', start=90, end=93, id=16), Token(text='Eastern', start=94, end=101, id=17), Token(text='developing', start=102, end=112, id=18), Token(text='markets', start=113, end=120, id=19), Token(text='with', start=121, end=125, id=20), Token(text='the', start=126, end=129, id=21), Token(text='group', start=130, end=135, id=22), Token(text='already', start=136, end=143, id=23), Token(text='present', start=144, end=151, id=24), Token(text='in', start=152, end=154, id=25), Token(text='Indonesia', start=155, end=164, id=26), Token(text=',', start=165, end=166, id=27), Token(text='India', start=167, end=172, id=28), Token(text='and', start=173, end=176, id=29), Token(text='Malaysia', start=177, end=185, id=30), Token(text='.', start=186, end=187, id=31)], meta={}, formatted=True), predicted=Example(text=\"The move marks a further move by Pirelli 's cables division to expand in the fast-growing Far Eastern developing markets with the group already present in Indonesia , India and Malaysia . \", spans=[Span(text='Pirelli', start=33, end=40, label='PER', token_start=7, token_end=8, kb_id=None), Span(text='Far Eastern', start=90, end=101, label='MISC', token_start=18, token_end=20, kb_id=None), Span(text='Indonesia', start=155, end=164, label='LOC', token_start=28, token_end=29, kb_id=None), Span(text='India', start=167, end=172, label='LOC', token_start=30, token_end=31, kb_id=None), Span(text='Malaysia', start=177, end=185, label='LOC', token_start=32, token_end=33, kb_id=None)], tokens=[Token(text='The', start=0, end=3, id=0), Token(text='move', start=4, end=8, id=1), Token(text='marks', start=9, end=14, id=2), Token(text='a', start=15, end=16, id=3), Token(text='further', start=17, end=24, id=4), Token(text='move', start=25, end=29, id=5), Token(text='by', start=30, end=32, id=6), Token(text='Pirelli', start=33, end=40, id=7), Token(text=\"'s\", start=41, end=43, id=8), Token(text='cables', start=44, end=50, id=9), Token(text='division', start=51, end=59, id=10), Token(text='to', start=60, end=62, id=11), Token(text='expand', start=63, end=69, id=12), Token(text='in', start=70, end=72, id=13), Token(text='the', start=73, end=76, id=14), Token(text='fast', start=77, end=81, id=15), Token(text='-', start=81, end=82, id=16), Token(text='growing', start=82, end=89, id=17), Token(text='Far', start=90, end=93, id=18), Token(text='Eastern', start=94, end=101, id=19), Token(text='developing', start=102, end=112, id=20), Token(text='markets', start=113, end=120, id=21), Token(text='with', start=121, end=125, id=22), Token(text='the', start=126, end=129, id=23), Token(text='group', start=130, end=135, id=24), Token(text='already', start=136, end=143, id=25), Token(text='present', start=144, end=151, id=26), Token(text='in', start=152, end=154, id=27), Token(text='Indonesia', start=155, end=164, id=28), Token(text=',', start=165, end=166, id=29), Token(text='India', start=167, end=172, id=30), Token(text='and', start=173, end=176, id=31), Token(text='Malaysia', start=177, end=185, id=32), Token(text='.', start=186, end=187, id=33)], meta={}, formatted=True)), PredictionErrorExamplePair(original=Example(text='\" This is really positive news for Pirelli , and I expect that it will produce one of the best half-year results in late September compared to other industrial Italian companies , \" said analyst Paula Buratti at Indosuez . ', spans=[Span(text='Pirelli', start=35, end=42, label='ORG', token_start=None, token_end=None, kb_id=None), Span(text='Italian', start=160, end=167, label='MISC', token_start=None, token_end=None, kb_id=None), Span(text='Paula Buratti', start=195, end=208, label='PER', token_start=None, token_end=None, kb_id=None), Span(text='Indosuez', start=212, end=220, label='ORG', token_start=None, token_end=None, kb_id=None)], tokens=[Token(text='\"', start=0, end=1, id=0), Token(text='This', start=2, end=6, id=1), Token(text='is', start=7, end=9, id=2), Token(text='really', start=10, end=16, id=3), Token(text='positive', start=17, end=25, id=4), Token(text='news', start=26, end=30, id=5), Token(text='for', start=31, end=34, id=6), Token(text='Pirelli', start=35, end=42, id=7), Token(text=',', start=43, end=44, id=8), Token(text='and', start=45, end=48, id=9), Token(text='I', start=49, end=50, id=10), Token(text='expect', start=51, end=57, id=11), Token(text='that', start=58, end=62, id=12), Token(text='it', start=63, end=65, id=13), Token(text='will', start=66, end=70, id=14), Token(text='produce', start=71, end=78, id=15), Token(text='one', start=79, end=82, id=16), Token(text='of', start=83, end=85, id=17), Token(text='the', start=86, end=89, id=18), Token(text='best', start=90, end=94, id=19), Token(text='half-year', start=95, end=104, id=20), Token(text='results', start=105, end=112, id=21), Token(text='in', start=113, end=115, id=22), Token(text='late', start=116, end=120, id=23), Token(text='September', start=121, end=130, id=24), Token(text='compared', start=131, end=139, id=25), Token(text='to', start=140, end=142, id=26), Token(text='other', start=143, end=148, id=27), Token(text='industrial', start=149, end=159, id=28), Token(text='Italian', start=160, end=167, id=29), Token(text='companies', start=168, end=177, id=30), Token(text=',', start=178, end=179, id=31), Token(text='\"', start=180, end=181, id=32), Token(text='said', start=182, end=186, id=33), Token(text='analyst', start=187, end=194, id=34), Token(text='Paula', start=195, end=200, id=35), Token(text='Buratti', start=201, end=208, id=36), Token(text='at', start=209, end=211, id=37), Token(text='Indosuez', start=212, end=220, id=38), Token(text='.', start=221, end=222, id=39)], meta={}, formatted=True), predicted=Example(text='\" This is really positive news for Pirelli , and I expect that it will produce one of the best half-year results in late September compared to other industrial Italian companies , \" said analyst Paula Buratti at Indosuez . ', spans=[Span(text='Pirelli', start=35, end=42, label='PER', token_start=7, token_end=8, kb_id=None), Span(text='Italian', start=160, end=167, label='MISC', token_start=31, token_end=32, kb_id=None), Span(text='Paula Buratti', start=195, end=208, label='PER', token_start=37, token_end=39, kb_id=None), Span(text='Indosuez', start=212, end=220, label='MISC', token_start=40, token_end=41, kb_id=None)], tokens=[Token(text='\"', start=0, end=1, id=0), Token(text='This', start=2, end=6, id=1), Token(text='is', start=7, end=9, id=2), Token(text='really', start=10, end=16, id=3), Token(text='positive', start=17, end=25, id=4), Token(text='news', start=26, end=30, id=5), Token(text='for', start=31, end=34, id=6), Token(text='Pirelli', start=35, end=42, id=7), Token(text=',', start=43, end=44, id=8), Token(text='and', start=45, end=48, id=9), Token(text='I', start=49, end=50, id=10), Token(text='expect', start=51, end=57, id=11), Token(text='that', start=58, end=62, id=12), Token(text='it', start=63, end=65, id=13), Token(text='will', start=66, end=70, id=14), Token(text='produce', start=71, end=78, id=15), Token(text='one', start=79, end=82, id=16), Token(text='of', start=83, end=85, id=17), Token(text='the', start=86, end=89, id=18), Token(text='best', start=90, end=94, id=19), Token(text='half', start=95, end=99, id=20), Token(text='-', start=99, end=100, id=21), Token(text='year', start=100, end=104, id=22), Token(text='results', start=105, end=112, id=23), Token(text='in', start=113, end=115, id=24), Token(text='late', start=116, end=120, id=25), Token(text='September', start=121, end=130, id=26), Token(text='compared', start=131, end=139, id=27), Token(text='to', start=140, end=142, id=28), Token(text='other', start=143, end=148, id=29), Token(text='industrial', start=149, end=159, id=30), Token(text='Italian', start=160, end=167, id=31), Token(text='companies', start=168, end=177, id=32), Token(text=',', start=178, end=179, id=33), Token(text='\"', start=180, end=181, id=34), Token(text='said', start=182, end=186, id=35), Token(text='analyst', start=187, end=194, id=36), Token(text='Paula', start=195, end=200, id=37), Token(text='Buratti', start=201, end=208, id=38), Token(text='at', start=209, end=211, id=39), Token(text='Indosuez', start=212, end=220, id=40), Token(text='.', start=221, end=222, id=41)], meta={}, formatted=True)), PredictionErrorExamplePair(original=Example(text='She emphasised that the move was positive because Pirelli will have management control of the Chinese venture , and it also showed another example of Pirelli exporting its technical know-how to developing markets . ', spans=[Span(text='Pirelli', start=50, end=57, label='ORG', token_start=None, token_end=None, kb_id=None), Span(text='Chinese', start=94, end=101, label='MISC', token_start=None, token_end=None, kb_id=None), Span(text='Pirelli', start=150, end=157, label='ORG', token_start=None, token_end=None, kb_id=None)], tokens=[Token(text='She', start=0, end=3, id=0), Token(text='emphasised', start=4, end=14, id=1), Token(text='that', start=15, end=19, id=2), Token(text='the', start=20, end=23, id=3), Token(text='move', start=24, end=28, id=4), Token(text='was', start=29, end=32, id=5), Token(text='positive', start=33, end=41, id=6), Token(text='because', start=42, end=49, id=7), Token(text='Pirelli', start=50, end=57, id=8), Token(text='will', start=58, end=62, id=9), Token(text='have', start=63, end=67, id=10), Token(text='management', start=68, end=78, id=11), Token(text='control', start=79, end=86, id=12), Token(text='of', start=87, end=89, id=13), Token(text='the', start=90, end=93, id=14), Token(text='Chinese', start=94, end=101, id=15), Token(text='venture', start=102, end=109, id=16), Token(text=',', start=110, end=111, id=17), Token(text='and', start=112, end=115, id=18), Token(text='it', start=116, end=118, id=19), Token(text='also', start=119, end=123, id=20), Token(text='showed', start=124, end=130, id=21), Token(text='another', start=131, end=138, id=22), Token(text='example', start=139, end=146, id=23), Token(text='of', start=147, end=149, id=24), Token(text='Pirelli', start=150, end=157, id=25), Token(text='exporting', start=158, end=167, id=26), Token(text='its', start=168, end=171, id=27), Token(text='technical', start=172, end=181, id=28), Token(text='know-how', start=182, end=190, id=29), Token(text='to', start=191, end=193, id=30), Token(text='developing', start=194, end=204, id=31), Token(text='markets', start=205, end=212, id=32), Token(text='.', start=213, end=214, id=33)], meta={}, formatted=True), predicted=Example(text='She emphasised that the move was positive because Pirelli will have management control of the Chinese venture , and it also showed another example of Pirelli exporting its technical know-how to developing markets . ', spans=[Span(text='Pirelli', start=50, end=57, label='PER', token_start=8, token_end=9, kb_id=None), Span(text='Chinese', start=94, end=101, label='MISC', token_start=15, token_end=16, kb_id=None), Span(text='Pirelli', start=150, end=157, label='PER', token_start=25, token_end=26, kb_id=None)], tokens=[Token(text='She', start=0, end=3, id=0), Token(text='emphasised', start=4, end=14, id=1), Token(text='that', start=15, end=19, id=2), Token(text='the', start=20, end=23, id=3), Token(text='move', start=24, end=28, id=4), Token(text='was', start=29, end=32, id=5), Token(text='positive', start=33, end=41, id=6), Token(text='because', start=42, end=49, id=7), Token(text='Pirelli', start=50, end=57, id=8), Token(text='will', start=58, end=62, id=9), Token(text='have', start=63, end=67, id=10), Token(text='management', start=68, end=78, id=11), Token(text='control', start=79, end=86, id=12), Token(text='of', start=87, end=89, id=13), Token(text='the', start=90, end=93, id=14), Token(text='Chinese', start=94, end=101, id=15), Token(text='venture', start=102, end=109, id=16), Token(text=',', start=110, end=111, id=17), Token(text='and', start=112, end=115, id=18), Token(text='it', start=116, end=118, id=19), Token(text='also', start=119, end=123, id=20), Token(text='showed', start=124, end=130, id=21), Token(text='another', start=131, end=138, id=22), Token(text='example', start=139, end=146, id=23), Token(text='of', start=147, end=149, id=24), Token(text='Pirelli', start=150, end=157, id=25), Token(text='exporting', start=158, end=167, id=26), Token(text='its', start=168, end=171, id=27), Token(text='technical', start=172, end=181, id=28), Token(text='know', start=182, end=186, id=29), Token(text='-', start=186, end=187, id=30), Token(text='how', start=187, end=190, id=31), Token(text='to', start=191, end=193, id=32), Token(text='developing', start=194, end=204, id=33), Token(text='markets', start=205, end=212, id=34), Token(text='.', start=213, end=214, id=35)], meta={}, formatted=True)), PredictionErrorExamplePair(original=Example(text='She emphasised that the move was positive because Pirelli will have management control of the Chinese venture , and it also showed another example of Pirelli exporting its technical know-how to developing markets . ', spans=[Span(text='Pirelli', start=50, end=57, label='ORG', token_start=None, token_end=None, kb_id=None), Span(text='Chinese', start=94, end=101, label='MISC', token_start=None, token_end=None, kb_id=None), Span(text='Pirelli', start=150, end=157, label='ORG', token_start=None, token_end=None, kb_id=None)], tokens=[Token(text='She', start=0, end=3, id=0), Token(text='emphasised', start=4, end=14, id=1), Token(text='that', start=15, end=19, id=2), Token(text='the', start=20, end=23, id=3), Token(text='move', start=24, end=28, id=4), Token(text='was', start=29, end=32, id=5), Token(text='positive', start=33, end=41, id=6), Token(text='because', start=42, end=49, id=7), Token(text='Pirelli', start=50, end=57, id=8), Token(text='will', start=58, end=62, id=9), Token(text='have', start=63, end=67, id=10), Token(text='management', start=68, end=78, id=11), Token(text='control', start=79, end=86, id=12), Token(text='of', start=87, end=89, id=13), Token(text='the', start=90, end=93, id=14), Token(text='Chinese', start=94, end=101, id=15), Token(text='venture', start=102, end=109, id=16), Token(text=',', start=110, end=111, id=17), Token(text='and', start=112, end=115, id=18), Token(text='it', start=116, end=118, id=19), Token(text='also', start=119, end=123, id=20), Token(text='showed', start=124, end=130, id=21), Token(text='another', start=131, end=138, id=22), Token(text='example', start=139, end=146, id=23), Token(text='of', start=147, end=149, id=24), Token(text='Pirelli', start=150, end=157, id=25), Token(text='exporting', start=158, end=167, id=26), Token(text='its', start=168, end=171, id=27), Token(text='technical', start=172, end=181, id=28), Token(text='know-how', start=182, end=190, id=29), Token(text='to', start=191, end=193, id=30), Token(text='developing', start=194, end=204, id=31), Token(text='markets', start=205, end=212, id=32), Token(text='.', start=213, end=214, id=33)], meta={}, formatted=True), predicted=Example(text='She emphasised that the move was positive because Pirelli will have management control of the Chinese venture , and it also showed another example of Pirelli exporting its technical know-how to developing markets . ', spans=[Span(text='Pirelli', start=50, end=57, label='PER', token_start=8, token_end=9, kb_id=None), Span(text='Chinese', start=94, end=101, label='MISC', token_start=15, token_end=16, kb_id=None), Span(text='Pirelli', start=150, end=157, label='PER', token_start=25, token_end=26, kb_id=None)], tokens=[Token(text='She', start=0, end=3, id=0), Token(text='emphasised', start=4, end=14, id=1), Token(text='that', start=15, end=19, id=2), Token(text='the', start=20, end=23, id=3), Token(text='move', start=24, end=28, id=4), Token(text='was', start=29, end=32, id=5), Token(text='positive', start=33, end=41, id=6), Token(text='because', start=42, end=49, id=7), Token(text='Pirelli', start=50, end=57, id=8), Token(text='will', start=58, end=62, id=9), Token(text='have', start=63, end=67, id=10), Token(text='management', start=68, end=78, id=11), Token(text='control', start=79, end=86, id=12), Token(text='of', start=87, end=89, id=13), Token(text='the', start=90, end=93, id=14), Token(text='Chinese', start=94, end=101, id=15), Token(text='venture', start=102, end=109, id=16), Token(text=',', start=110, end=111, id=17), Token(text='and', start=112, end=115, id=18), Token(text='it', start=116, end=118, id=19), Token(text='also', start=119, end=123, id=20), Token(text='showed', start=124, end=130, id=21), Token(text='another', start=131, end=138, id=22), Token(text='example', start=139, end=146, id=23), Token(text='of', start=147, end=149, id=24), Token(text='Pirelli', start=150, end=157, id=25), Token(text='exporting', start=158, end=167, id=26), Token(text='its', start=168, end=171, id=27), Token(text='technical', start=172, end=181, id=28), Token(text='know', start=182, end=186, id=29), Token(text='-', start=186, end=187, id=30), Token(text='how', start=187, end=190, id=31), Token(text='to', start=191, end=193, id=32), Token(text='developing', start=194, end=204, id=33), Token(text='markets', start=205, end=212, id=34), Token(text='.', start=213, end=214, id=35)], meta={}, formatted=True)), PredictionErrorExamplePair(original=Example(text='Pirelli shares reacted favourable even though talks had been underway for some time and news about a venture had been widely expected . ', spans=[Span(text='Pirelli', start=0, end=7, label='ORG', token_start=None, token_end=None, kb_id=None)], tokens=[Token(text='Pirelli', start=0, end=7, id=0), Token(text='shares', start=8, end=14, id=1), Token(text='reacted', start=15, end=22, id=2), Token(text='favourable', start=23, end=33, id=3), Token(text='even', start=34, end=38, id=4), Token(text='though', start=39, end=45, id=5), Token(text='talks', start=46, end=51, id=6), Token(text='had', start=52, end=55, id=7), Token(text='been', start=56, end=60, id=8), Token(text='underway', start=61, end=69, id=9), Token(text='for', start=70, end=73, id=10), Token(text='some', start=74, end=78, id=11), Token(text='time', start=79, end=83, id=12), Token(text='and', start=84, end=87, id=13), Token(text='news', start=88, end=92, id=14), Token(text='about', start=93, end=98, id=15), Token(text='a', start=99, end=100, id=16), Token(text='venture', start=101, end=108, id=17), Token(text='had', start=109, end=112, id=18), Token(text='been', start=113, end=117, id=19), Token(text='widely', start=118, end=124, id=20), Token(text='expected', start=125, end=133, id=21), Token(text='.', start=134, end=135, id=22)], meta={}, formatted=True), predicted=Example(text='Pirelli shares reacted favourable even though talks had been underway for some time and news about a venture had been widely expected . ', spans=[Span(text='Pirelli', start=0, end=7, label='PER', token_start=0, token_end=1, kb_id=None)], tokens=[Token(text='Pirelli', start=0, end=7, id=0), Token(text='shares', start=8, end=14, id=1), Token(text='reacted', start=15, end=22, id=2), Token(text='favourable', start=23, end=33, id=3), Token(text='even', start=34, end=38, id=4), Token(text='though', start=39, end=45, id=5), Token(text='talks', start=46, end=51, id=6), Token(text='had', start=52, end=55, id=7), Token(text='been', start=56, end=60, id=8), Token(text='underway', start=61, end=69, id=9), Token(text='for', start=70, end=73, id=10), Token(text='some', start=74, end=78, id=11), Token(text='time', start=79, end=83, id=12), Token(text='and', start=84, end=87, id=13), Token(text='news', start=88, end=92, id=14), Token(text='about', start=93, end=98, id=15), Token(text='a', start=99, end=100, id=16), Token(text='venture', start=101, end=108, id=17), Token(text='had', start=109, end=112, id=18), Token(text='been', start=113, end=117, id=19), Token(text='widely', start=118, end=124, id=20), Token(text='expected', start=125, end=133, id=21), Token(text='.', start=134, end=135, id=22)], meta={}, formatted=True)), PredictionErrorExamplePair(original=Example(text=\"This will be Pirelli 's first industrial involvement in a Chinese market where demand for telecommunication networks is expected to grow to 80-100 million new lines between 1996 and 2000 , doubling demand for optical cables . \", spans=[Span(text='Pirelli', start=13, end=20, label='ORG', token_start=None, token_end=None, kb_id=None), Span(text='Chinese', start=58, end=65, label='MISC', token_start=None, token_end=None, kb_id=None)], tokens=[Token(text='This', start=0, end=4, id=0), Token(text='will', start=5, end=9, id=1), Token(text='be', start=10, end=12, id=2), Token(text='Pirelli', start=13, end=20, id=3), Token(text=\"'s\", start=21, end=23, id=4), Token(text='first', start=24, end=29, id=5), Token(text='industrial', start=30, end=40, id=6), Token(text='involvement', start=41, end=52, id=7), Token(text='in', start=53, end=55, id=8), Token(text='a', start=56, end=57, id=9), Token(text='Chinese', start=58, end=65, id=10), Token(text='market', start=66, end=72, id=11), Token(text='where', start=73, end=78, id=12), Token(text='demand', start=79, end=85, id=13), Token(text='for', start=86, end=89, id=14), Token(text='telecommunication', start=90, end=107, id=15), Token(text='networks', start=108, end=116, id=16), Token(text='is', start=117, end=119, id=17), Token(text='expected', start=120, end=128, id=18), Token(text='to', start=129, end=131, id=19), Token(text='grow', start=132, end=136, id=20), Token(text='to', start=137, end=139, id=21), Token(text='80-100', start=140, end=146, id=22), Token(text='million', start=147, end=154, id=23), Token(text='new', start=155, end=158, id=24), Token(text='lines', start=159, end=164, id=25), Token(text='between', start=165, end=172, id=26), Token(text='1996', start=173, end=177, id=27), Token(text='and', start=178, end=181, id=28), Token(text='2000', start=182, end=186, id=29), Token(text=',', start=187, end=188, id=30), Token(text='doubling', start=189, end=197, id=31), Token(text='demand', start=198, end=204, id=32), Token(text='for', start=205, end=208, id=33), Token(text='optical', start=209, end=216, id=34), Token(text='cables', start=217, end=223, id=35), Token(text='.', start=224, end=225, id=36)], meta={}, formatted=True), predicted=Example(text=\"This will be Pirelli 's first industrial involvement in a Chinese market where demand for telecommunication networks is expected to grow to 80-100 million new lines between 1996 and 2000 , doubling demand for optical cables . \", spans=[Span(text='Pirelli', start=13, end=20, label='PER', token_start=3, token_end=4, kb_id=None), Span(text='Chinese', start=58, end=65, label='MISC', token_start=10, token_end=11, kb_id=None)], tokens=[Token(text='This', start=0, end=4, id=0), Token(text='will', start=5, end=9, id=1), Token(text='be', start=10, end=12, id=2), Token(text='Pirelli', start=13, end=20, id=3), Token(text=\"'s\", start=21, end=23, id=4), Token(text='first', start=24, end=29, id=5), Token(text='industrial', start=30, end=40, id=6), Token(text='involvement', start=41, end=52, id=7), Token(text='in', start=53, end=55, id=8), Token(text='a', start=56, end=57, id=9), Token(text='Chinese', start=58, end=65, id=10), Token(text='market', start=66, end=72, id=11), Token(text='where', start=73, end=78, id=12), Token(text='demand', start=79, end=85, id=13), Token(text='for', start=86, end=89, id=14), Token(text='telecommunication', start=90, end=107, id=15), Token(text='networks', start=108, end=116, id=16), Token(text='is', start=117, end=119, id=17), Token(text='expected', start=120, end=128, id=18), Token(text='to', start=129, end=131, id=19), Token(text='grow', start=132, end=136, id=20), Token(text='to', start=137, end=139, id=21), Token(text='80', start=140, end=142, id=22), Token(text='-', start=142, end=143, id=23), Token(text='100', start=143, end=146, id=24), Token(text='million', start=147, end=154, id=25), Token(text='new', start=155, end=158, id=26), Token(text='lines', start=159, end=164, id=27), Token(text='between', start=165, end=172, id=28), Token(text='1996', start=173, end=177, id=29), Token(text='and', start=178, end=181, id=30), Token(text='2000', start=182, end=186, id=31), Token(text=',', start=187, end=188, id=32), Token(text='doubling', start=189, end=197, id=33), Token(text='demand', start=198, end=204, id=34), Token(text='for', start=205, end=208, id=35), Token(text='optical', start=209, end=216, id=36), Token(text='cables', start=217, end=223, id=37), Token(text='.', start=224, end=225, id=38)], meta={}, formatted=True))])"
      ]
     },
     "execution_count": 37,
     "metadata": {},
     "output_type": "execute_result"
    }
   ],
   "source": [
    "pe = top_prediction_errors(rec, corpus.dev, verbose=True)\n",
    "pe[0]"
   ]
  },
  {
   "cell_type": "code",
   "execution_count": null,
   "id": "6a262506",
   "metadata": {},
   "outputs": [],
   "source": [
    "he = get_hardest_examples(rec, corpus.dev)"
   ]
  },
  {
   "cell_type": "code",
   "execution_count": 32,
   "id": "bfb828a5",
   "metadata": {},
   "outputs": [
    {
     "data": {
      "text/html": [
       "<span class=\"tex2jax_ignore\"><div class=\"entities\" style=\"line-height: 2.5; direction: ltr\">The titles of his other novels translate as &quot; \n",
       "<mark class=\"entity\" style=\"background: #ddd; padding: 0.45em 0.6em; margin: 0 0.25em; line-height: 1; border-radius: 0.35em;\">\n",
       "    In the Year of January\n",
       "    <span style=\"font-size: 0.8em; font-weight: bold; line-height: 1; border-radius: 0.35em; vertical-align: middle; margin-left: 0.5rem\">MISC</span>\n",
       "</mark>\n",
       " &quot; ( 1963 ) , &quot; \n",
       "<mark class=\"entity\" style=\"background: #ddd; padding: 0.45em 0.6em; margin: 0 0.25em; line-height: 1; border-radius: 0.35em;\">\n",
       "    The Collapse\n",
       "    <span style=\"font-size: 0.8em; font-weight: bold; line-height: 1; border-radius: 0.35em; vertical-align: middle; margin-left: 0.5rem\">MISC</span>\n",
       "</mark>\n",
       " &quot; ( 1964 ) , &quot; \n",
       "<mark class=\"entity\" style=\"background: #ddd; padding: 0.45em 0.6em; margin: 0 0.25em; line-height: 1; border-radius: 0.35em;\">\n",
       "    Sleeping Bread\n",
       "    <span style=\"font-size: 0.8em; font-weight: bold; line-height: 1; border-radius: 0.35em; vertical-align: middle; margin-left: 0.5rem\">MISC</span>\n",
       "</mark>\n",
       " &quot; ( 1975 ) , &quot; \n",
       "<mark class=\"entity\" style=\"background: #ddd; padding: 0.45em 0.6em; margin: 0 0.25em; line-height: 1; border-radius: 0.35em;\">\n",
       "    The Decaying Mansion\n",
       "    <span style=\"font-size: 0.8em; font-weight: bold; line-height: 1; border-radius: 0.35em; vertical-align: middle; margin-left: 0.5rem\">MISC</span>\n",
       "</mark>\n",
       " &quot; ( 1977 ) and &quot; \n",
       "<mark class=\"entity\" style=\"background: #ddd; padding: 0.45em 0.6em; margin: 0 0.25em; line-height: 1; border-radius: 0.35em;\">\n",
       "    A World of Things\n",
       "    <span style=\"font-size: 0.8em; font-weight: bold; line-height: 1; border-radius: 0.35em; vertical-align: middle; margin-left: 0.5rem\">MISC</span>\n",
       "</mark>\n",
       " &quot; ( 1982 ) , followed by &quot; \n",
       "<mark class=\"entity\" style=\"background: #ddd; padding: 0.45em 0.6em; margin: 0 0.25em; line-height: 1; border-radius: 0.35em;\">\n",
       "    The Knot\n",
       "    <span style=\"font-size: 0.8em; font-weight: bold; line-height: 1; border-radius: 0.35em; vertical-align: middle; margin-left: 0.5rem\">MISC</span>\n",
       "</mark>\n",
       " , &quot; &quot; \n",
       "<mark class=\"entity\" style=\"background: #ddd; padding: 0.45em 0.6em; margin: 0 0.25em; line-height: 1; border-radius: 0.35em;\">\n",
       "    Soul Alone\n",
       "    <span style=\"font-size: 0.8em; font-weight: bold; line-height: 1; border-radius: 0.35em; vertical-align: middle; margin-left: 0.5rem\">MISC</span>\n",
       "</mark>\n",
       " &quot; and , most recently , &quot; \n",
       "<mark class=\"entity\" style=\"background: #ddd; padding: 0.45em 0.6em; margin: 0 0.25em; line-height: 1; border-radius: 0.35em;\">\n",
       "    A Woman\n",
       "    <span style=\"font-size: 0.8em; font-weight: bold; line-height: 1; border-radius: 0.35em; vertical-align: middle; margin-left: 0.5rem\">MISC</span>\n",
       "</mark>\n",
       " . &quot; </div></span>"
      ],
      "text/plain": [
       "<IPython.core.display.HTML object>"
      ]
     },
     "metadata": {},
     "output_type": "display_data"
    }
   ],
   "source": [
    "he[0].reference.show()"
   ]
  },
  {
   "cell_type": "code",
   "execution_count": 33,
   "id": "1f5cb6d3",
   "metadata": {},
   "outputs": [
    {
     "data": {
      "text/html": [
       "<span class=\"tex2jax_ignore\"><div class=\"entities\" style=\"line-height: 2.5; direction: ltr\">The titles of his other novels translate as &quot; In the Year of January &quot; ( 1963 ) , &quot; The \n",
       "<mark class=\"entity\" style=\"background: #7aecec; padding: 0.45em 0.6em; margin: 0 0.25em; line-height: 1; border-radius: 0.35em;\">\n",
       "    Collapse\n",
       "    <span style=\"font-size: 0.8em; font-weight: bold; line-height: 1; border-radius: 0.35em; vertical-align: middle; margin-left: 0.5rem\">ORG</span>\n",
       "</mark>\n",
       " &quot; ( 1964 ) , &quot; \n",
       "<mark class=\"entity\" style=\"background: #ddd; padding: 0.45em 0.6em; margin: 0 0.25em; line-height: 1; border-radius: 0.35em;\">\n",
       "    Sleeping Bread\n",
       "    <span style=\"font-size: 0.8em; font-weight: bold; line-height: 1; border-radius: 0.35em; vertical-align: middle; margin-left: 0.5rem\">PER</span>\n",
       "</mark>\n",
       " &quot; ( 1975 ) , &quot; The \n",
       "<mark class=\"entity\" style=\"background: #7aecec; padding: 0.45em 0.6em; margin: 0 0.25em; line-height: 1; border-radius: 0.35em;\">\n",
       "    Decaying Mansion\n",
       "    <span style=\"font-size: 0.8em; font-weight: bold; line-height: 1; border-radius: 0.35em; vertical-align: middle; margin-left: 0.5rem\">ORG</span>\n",
       "</mark>\n",
       " &quot; ( 1977 ) and &quot; A \n",
       "<mark class=\"entity\" style=\"background: #ddd; padding: 0.45em 0.6em; margin: 0 0.25em; line-height: 1; border-radius: 0.35em;\">\n",
       "    World of Things\n",
       "    <span style=\"font-size: 0.8em; font-weight: bold; line-height: 1; border-radius: 0.35em; vertical-align: middle; margin-left: 0.5rem\">MISC</span>\n",
       "</mark>\n",
       " &quot; ( 1982 ) , followed by &quot; The \n",
       "<mark class=\"entity\" style=\"background: #ddd; padding: 0.45em 0.6em; margin: 0 0.25em; line-height: 1; border-radius: 0.35em;\">\n",
       "    Knot\n",
       "    <span style=\"font-size: 0.8em; font-weight: bold; line-height: 1; border-radius: 0.35em; vertical-align: middle; margin-left: 0.5rem\">PER</span>\n",
       "</mark>\n",
       " , &quot; &quot; \n",
       "<mark class=\"entity\" style=\"background: #ddd; padding: 0.45em 0.6em; margin: 0 0.25em; line-height: 1; border-radius: 0.35em;\">\n",
       "    Soul Alone\n",
       "    <span style=\"font-size: 0.8em; font-weight: bold; line-height: 1; border-radius: 0.35em; vertical-align: middle; margin-left: 0.5rem\">MISC</span>\n",
       "</mark>\n",
       " &quot; and , most recently , &quot; A \n",
       "<mark class=\"entity\" style=\"background: #7aecec; padding: 0.45em 0.6em; margin: 0 0.25em; line-height: 1; border-radius: 0.35em;\">\n",
       "    Woman\n",
       "    <span style=\"font-size: 0.8em; font-weight: bold; line-height: 1; border-radius: 0.35em; vertical-align: middle; margin-left: 0.5rem\">ORG</span>\n",
       "</mark>\n",
       " . &quot; </div></span>"
      ],
      "text/plain": [
       "<IPython.core.display.HTML object>"
      ]
     },
     "metadata": {},
     "output_type": "display_data"
    }
   ],
   "source": [
    "he[0].prediction.show()"
   ]
  },
  {
   "cell_type": "code",
   "execution_count": 39,
   "id": "78943b11",
   "metadata": {},
   "outputs": [
    {
     "name": "stdout",
     "output_type": "stream",
     "text": [
      "Saving dataset to prodigy dataset: dev_671418edc919b3e9\n"
     ]
    },
    {
     "ename": "ModuleNotFoundError",
     "evalue": "No module named 'prodigy'",
     "output_type": "error",
     "traceback": [
      "\u001b[0;31m---------------------------------------------------------------------------\u001b[0m",
      "\u001b[0;31mModuleNotFoundError\u001b[0m                       Traceback (most recent call last)",
      "Input \u001b[0;32mIn [39]\u001b[0m, in \u001b[0;36m<cell line: 1>\u001b[0;34m()\u001b[0m\n\u001b[0;32m----> 1\u001b[0m \u001b[43mcorpus\u001b[49m\u001b[38;5;241;43m.\u001b[39;49m\u001b[43mdev_ds\u001b[49m\u001b[38;5;241;43m.\u001b[39;49m\u001b[43mto_prodigy\u001b[49m\u001b[43m(\u001b[49m\u001b[43m)\u001b[49m\n",
      "File \u001b[0;32m~/Documents/recon/recon/dataset.py:413\u001b[0m, in \u001b[0;36mDataset.to_prodigy\u001b[0;34m(self, prodigy_dataset, overwrite)\u001b[0m\n\u001b[1;32m    410\u001b[0m     prodigy_dataset \u001b[38;5;241m=\u001b[39m \u001b[38;5;124mf\u001b[39m\u001b[38;5;124m\"\u001b[39m\u001b[38;5;132;01m{\u001b[39;00m\u001b[38;5;28mself\u001b[39m\u001b[38;5;241m.\u001b[39mname\u001b[38;5;132;01m}\u001b[39;00m\u001b[38;5;124m_\u001b[39m\u001b[38;5;132;01m{\u001b[39;00m\u001b[38;5;28mself\u001b[39m\u001b[38;5;241m.\u001b[39mcommit_hash\u001b[38;5;132;01m}\u001b[39;00m\u001b[38;5;124m\"\u001b[39m\n\u001b[1;32m    412\u001b[0m \u001b[38;5;28mprint\u001b[39m(\u001b[38;5;124mf\u001b[39m\u001b[38;5;124m\"\u001b[39m\u001b[38;5;124mSaving dataset to prodigy dataset: \u001b[39m\u001b[38;5;132;01m{\u001b[39;00mprodigy_dataset\u001b[38;5;132;01m}\u001b[39;00m\u001b[38;5;124m\"\u001b[39m)\n\u001b[0;32m--> 413\u001b[0m \u001b[43mto_prodigy\u001b[49m\u001b[43m(\u001b[49m\u001b[38;5;28;43mself\u001b[39;49m\u001b[38;5;241;43m.\u001b[39;49m\u001b[43mdata\u001b[49m\u001b[43m,\u001b[49m\u001b[43m \u001b[49m\u001b[43mprodigy_dataset\u001b[49m\u001b[43m,\u001b[49m\u001b[43m \u001b[49m\u001b[43moverwrite_dataset\u001b[49m\u001b[38;5;241;43m=\u001b[39;49m\u001b[43moverwrite\u001b[49m\u001b[43m)\u001b[49m\n\u001b[1;32m    414\u001b[0m \u001b[38;5;28;01mreturn\u001b[39;00m prodigy_dataset\n",
      "File \u001b[0;32m~/Documents/recon/recon/prodigy/utils.py:23\u001b[0m, in \u001b[0;36mto_prodigy\u001b[0;34m(examples, prodigy_dataset, overwrite_dataset, add_hash)\u001b[0m\n\u001b[1;32m      6\u001b[0m \u001b[38;5;28;01mdef\u001b[39;00m \u001b[38;5;21mto_prodigy\u001b[39m(\n\u001b[1;32m      7\u001b[0m     examples: List[Example],\n\u001b[1;32m      8\u001b[0m     prodigy_dataset: \u001b[38;5;28mstr\u001b[39m,\n\u001b[1;32m      9\u001b[0m     overwrite_dataset: \u001b[38;5;28mbool\u001b[39m \u001b[38;5;241m=\u001b[39m \u001b[38;5;28;01mFalse\u001b[39;00m,\n\u001b[1;32m     10\u001b[0m     add_hash: \u001b[38;5;28mbool\u001b[39m \u001b[38;5;241m=\u001b[39m \u001b[38;5;28;01mTrue\u001b[39;00m,\n\u001b[1;32m     11\u001b[0m ) \u001b[38;5;241m-\u001b[39m\u001b[38;5;241m>\u001b[39m \u001b[38;5;28;01mNone\u001b[39;00m:\n\u001b[1;32m     12\u001b[0m     \u001b[38;5;124;03m\"\"\"Save a list of examples to Prodigy\u001b[39;00m\n\u001b[1;32m     13\u001b[0m \n\u001b[1;32m     14\u001b[0m \u001b[38;5;124;03m    Args:\u001b[39;00m\n\u001b[0;32m   (...)\u001b[0m\n\u001b[1;32m     21\u001b[0m \u001b[38;5;124;03m            setting overwrite_dataset to True\u001b[39;00m\n\u001b[1;32m     22\u001b[0m \u001b[38;5;124;03m    \"\"\"\u001b[39;00m\n\u001b[0;32m---> 23\u001b[0m     \u001b[38;5;28;01mfrom\u001b[39;00m \u001b[38;5;21;01mprodigy\u001b[39;00m\u001b[38;5;21;01m.\u001b[39;00m\u001b[38;5;21;01mcore\u001b[39;00m \u001b[38;5;28;01mimport\u001b[39;00m connect\n\u001b[1;32m     24\u001b[0m     \u001b[38;5;28;01mfrom\u001b[39;00m \u001b[38;5;21;01mprodigy\u001b[39;00m\u001b[38;5;21;01m.\u001b[39;00m\u001b[38;5;21;01mutil\u001b[39;00m \u001b[38;5;28;01mimport\u001b[39;00m set_hashes\n\u001b[1;32m     26\u001b[0m     db \u001b[38;5;241m=\u001b[39m connect()\n",
      "\u001b[0;31mModuleNotFoundError\u001b[0m: No module named 'prodigy'"
     ]
    }
   ],
   "source": [
    "corpus.dev_ds.to_prodigy()"
   ]
  },
  {
   "cell_type": "code",
   "execution_count": null,
   "id": "b763b82b",
   "metadata": {},
   "outputs": [],
   "source": []
  }
 ],
 "metadata": {
  "kernelspec": {
   "display_name": "Python 3 (ipykernel)",
   "language": "python",
   "name": "python3"
  },
  "language_info": {
   "codemirror_mode": {
    "name": "ipython",
    "version": 3
   },
   "file_extension": ".py",
   "mimetype": "text/x-python",
   "name": "python",
   "nbconvert_exporter": "python",
   "pygments_lexer": "ipython3",
   "version": "3.10.2"
  }
 },
 "nbformat": 4,
 "nbformat_minor": 5
}
