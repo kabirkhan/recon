{
 "cells": [
  {
   "cell_type": "markdown",
   "id": "22de5205",
   "metadata": {},
   "source": [
    "# Finding Errors in the Conll 2003 NER dataset\n",
    "\n",
    "In this notebook, we'll walk through identifying potential errors in the Conll 2003 NER dataset.\n",
    "We'll load up the Conll data into Recon using the huggingface [datasets](https://huggingface.co/docs/datasets/index) library and walk through a standard debugging process with Recon.\n",
    "\n",
    "We'll discuss:\n",
    "\n",
    "1. Stats\n",
    "2. Entity Coverage\n",
    "3. Label Disparities\n",
    "4. Prediction Errors\n",
    "5. Hardest Examples\n",
    "\n",
    "First, lets load up the Corpus using the `load_dataset` function from `datasets` and the `Dataset.from_hf_dataset` loader in Recon"
   ]
  },
  {
   "cell_type": "code",
   "execution_count": 1,
   "id": "bf8338e8",
   "metadata": {},
   "outputs": [],
   "source": [
    "from recon import Corpus, Dataset\n",
    "from recon.stats import get_ner_stats, get_entity_coverage\n",
    "from recon.insights import get_label_disparities, top_label_disparities"
   ]
  },
  {
   "cell_type": "code",
   "execution_count": 2,
   "id": "4542648f",
   "metadata": {},
   "outputs": [
    {
     "name": "stderr",
     "output_type": "stream",
     "text": [
      "/Users/kabirkhan/Documents/recon/.venv/lib/python3.11/site-packages/tqdm/auto.py:21: TqdmWarning: IProgress not found. Please update jupyter and ipywidgets. See https://ipywidgets.readthedocs.io/en/stable/user_install.html\n",
      "  from .autonotebook import tqdm as notebook_tqdm\n"
     ]
    }
   ],
   "source": [
    "from datasets.load import load_dataset\n",
    "from datasets.arrow_dataset import Dataset as HFDataset"
   ]
  },
  {
   "cell_type": "code",
   "execution_count": 3,
   "id": "7af6c21c",
   "metadata": {},
   "outputs": [
    {
     "name": "stderr",
     "output_type": "stream",
     "text": [
      "Downloading builder script: 100%|████████████████████████████████████████████████████| 9.57k/9.57k [00:00<00:00, 11.5MB/s]\n",
      "Downloading metadata: 100%|██████████████████████████████████████████████████████████| 3.73k/3.73k [00:00<00:00, 10.3MB/s]\n",
      "Downloading readme: 100%|████████████████████████████████████████████████████████████| 12.3k/12.3k [00:00<00:00, 18.3MB/s]\n",
      "Generating train split: 100%|█████████████████████████████████████████████| 14041/14041 [00:01<00:00, 12022.47 examples/s]\n",
      "Generating validation split: 100%|██████████████████████████████████████████| 3250/3250 [00:00<00:00, 11959.00 examples/s]\n",
      "Generating test split: 100%|████████████████████████████████████████████████| 3453/3453 [00:00<00:00, 13750.50 examples/s]\n"
     ]
    }
   ],
   "source": [
    "conll2003 = load_dataset(\"conll2003\")"
   ]
  },
  {
   "cell_type": "code",
   "execution_count": 4,
   "id": "ab3cffc8",
   "metadata": {},
   "outputs": [],
   "source": [
    "conll_labels = [\"O\", \"B-PER\", \"I-PER\", \"B-ORG\", \"I-ORG\", \"B-LOC\", \"I-LOC\", \"B-MISC\", \"I-MISC\"]"
   ]
  },
  {
   "cell_type": "code",
   "execution_count": 5,
   "id": "a23bc562",
   "metadata": {},
   "outputs": [],
   "source": [
    "train_ds = Dataset(\"train\").from_hf_dataset(conll2003[\"train\"], labels=conll_labels)\n",
    "dev_ds = Dataset(\"dev\").from_hf_dataset(conll2003[\"validation\"], labels=conll_labels)\n",
    "test_ds = Dataset(\"test\").from_hf_dataset(conll2003[\"test\"], labels=conll_labels)"
   ]
  },
  {
   "cell_type": "code",
   "execution_count": 6,
   "id": "b1311c23",
   "metadata": {},
   "outputs": [],
   "source": [
    "corpus = Corpus(\"conll2003\", train_ds, dev_ds, test_ds)"
   ]
  },
  {
   "cell_type": "markdown",
   "id": "1e687d54",
   "metadata": {},
   "source": [
    "## 1. Stats\n",
    "\n",
    "First we'll look at the basic stats of the each split in the Corpus using `Corpus.print_summary`. \n",
    "Under the hood, `summary` runs the `recon.stats.get_ner_stats` function across each Dataset"
   ]
  },
  {
   "cell_type": "code",
   "execution_count": 7,
   "id": "cef80ea6",
   "metadata": {},
   "outputs": [
    {
     "name": "stdout",
     "output_type": "stream",
     "text": [
      "Dataset\n",
      "Name: train\n",
      "Stats: {\n",
      "    \"n_examples\": 14041,\n",
      "    \"n_examples_no_entities\": 2909,\n",
      "    \"n_annotations\": 23499,\n",
      "    \"n_annotations_per_type\": {\n",
      "        \"LOC\": 7140,\n",
      "        \"PER\": 6600,\n",
      "        \"ORG\": 6321,\n",
      "        \"MISC\": 3438\n",
      "    }\n",
      "}\n",
      "Dataset\n",
      "Name: dev\n",
      "Stats: {\n",
      "    \"n_examples\": 3250,\n",
      "    \"n_examples_no_entities\": 645,\n",
      "    \"n_annotations\": 5942,\n",
      "    \"n_annotations_per_type\": {\n",
      "        \"PER\": 1842,\n",
      "        \"LOC\": 1837,\n",
      "        \"ORG\": 1341,\n",
      "        \"MISC\": 922\n",
      "    }\n",
      "}\n",
      "Dataset\n",
      "Name: test\n",
      "Stats: {\n",
      "    \"n_examples\": 3453,\n",
      "    \"n_examples_no_entities\": 697,\n",
      "    \"n_annotations\": 5648,\n",
      "    \"n_annotations_per_type\": {\n",
      "        \"LOC\": 1668,\n",
      "        \"ORG\": 1661,\n",
      "        \"PER\": 1617,\n",
      "        \"MISC\": 702\n",
      "    }\n",
      "}\n"
     ]
    }
   ],
   "source": [
    "corpus.print_summary()"
   ]
  },
  {
   "cell_type": "markdown",
   "id": "0b0ad3fb",
   "metadata": {},
   "source": [
    "Just based on the stats above, we'd probably expect our model to do better on the `LOC` label than the `MISC` label since we have almost twice the labels for `LOC`.\n",
    "\n",
    "Let's dive into dataset statistics a bit more granularly and look at Entity Coverage"
   ]
  },
  {
   "cell_type": "markdown",
   "id": "4efc3ead",
   "metadata": {},
   "source": [
    "## 2. Entity Coverage\n",
    "\n",
    "Entity Coverage looks at individual annotation spans and aggregates and sorts them. Looking at the extremes (start and end) for the Entity Coverage can tell you a lot about your Dataset."
   ]
  },
  {
   "cell_type": "code",
   "execution_count": 11,
   "id": "2883d203",
   "metadata": {},
   "outputs": [],
   "source": [
    "train_ecs = get_entity_coverage(corpus.train, case_sensitive=True)"
   ]
  },
  {
   "cell_type": "markdown",
   "id": "2b17c9f4",
   "metadata": {},
   "source": [
    "**Most** covered entity spans\n",
    "\n",
    "It's no surprise that common locations are our most covered entity spans. If we train a model, we'd expect these entities to be easy to identify."
   ]
  },
  {
   "cell_type": "code",
   "execution_count": 12,
   "id": "0aa28e53",
   "metadata": {},
   "outputs": [
    {
     "data": {
      "text/plain": [
       "[EntityCoverage(text='U.S.', label='LOC', count=303),\n",
       " EntityCoverage(text='Germany', label='LOC', count=141),\n",
       " EntityCoverage(text='Britain', label='LOC', count=133),\n",
       " EntityCoverage(text='Australia', label='LOC', count=130),\n",
       " EntityCoverage(text='England', label='LOC', count=123),\n",
       " EntityCoverage(text='France', label='LOC', count=122),\n",
       " EntityCoverage(text='Spain', label='LOC', count=110),\n",
       " EntityCoverage(text='Italy', label='LOC', count=98),\n",
       " EntityCoverage(text='LONDON', label='LOC', count=93),\n",
       " EntityCoverage(text='Russian', label='MISC', count=92)]"
      ]
     },
     "execution_count": 12,
     "metadata": {},
     "output_type": "execute_result"
    }
   ],
   "source": [
    "train_ecs[:10]"
   ]
  },
  {
   "cell_type": "markdown",
   "id": "8ba6ac9c",
   "metadata": {},
   "source": [
    "**Least** covered entity spans\n",
    "It's also no surprise that Person names are in our least covered entities"
   ]
  },
  {
   "cell_type": "code",
   "execution_count": 13,
   "id": "b92c395e",
   "metadata": {},
   "outputs": [
    {
     "data": {
      "text/plain": [
       "[EntityCoverage(text='Luca Cadalora', label='PER', count=1),\n",
       " EntityCoverage(text='Alex Criville', label='PER', count=1),\n",
       " EntityCoverage(text='Scott Russell', label='PER', count=1),\n",
       " EntityCoverage(text='Tadayuki Okada', label='PER', count=1),\n",
       " EntityCoverage(text='Carlos Checa', label='PER', count=1),\n",
       " EntityCoverage(text='Alexandre Barros', label='PER', count=1),\n",
       " EntityCoverage(text='Shinichi Itoh', label='PER', count=1),\n",
       " EntityCoverage(text='Swe', label='LOC', count=1),\n",
       " EntityCoverage(text='Bob May', label='PER', count=1),\n",
       " EntityCoverage(text='Bradley Hughes', label='PER', count=1)]"
      ]
     },
     "execution_count": 13,
     "metadata": {},
     "output_type": "execute_result"
    }
   ],
   "source": [
    "train_ecs[-10:]"
   ]
  },
  {
   "cell_type": "markdown",
   "id": "14156b82-c5bb-4e39-a0cd-6d1cc3254fb6",
   "metadata": {},
   "source": [
    "## Label Disparities (sometimes 1 label, sometimes another)"
   ]
  },
  {
   "cell_type": "code",
   "execution_count": 57,
   "id": "e89ff9b5",
   "metadata": {},
   "outputs": [],
   "source": [
    "lds = top_label_disparities(corpus.train)"
   ]
  },
  {
   "cell_type": "code",
   "execution_count": 58,
   "id": "6756f91e",
   "metadata": {},
   "outputs": [
    {
     "data": {
      "text/plain": [
       "[LabelDisparity(label1='ORG', label2='LOC', count=93, examples=[]),\n",
       " LabelDisparity(label1='LOC', label2='ORG', count=93, examples=[]),\n",
       " LabelDisparity(label1='ORG', label2='PER', count=16, examples=[]),\n",
       " LabelDisparity(label1='PER', label2='ORG', count=16, examples=[]),\n",
       " LabelDisparity(label1='PER', label2='LOC', count=12, examples=[]),\n",
       " LabelDisparity(label1='LOC', label2='PER', count=12, examples=[]),\n",
       " LabelDisparity(label1='MISC', label2='LOC', count=7, examples=[]),\n",
       " LabelDisparity(label1='LOC', label2='MISC', count=7, examples=[]),\n",
       " LabelDisparity(label1='ORG', label2='MISC', count=6, examples=[]),\n",
       " LabelDisparity(label1='MISC', label2='ORG', count=6, examples=[]),\n",
       " LabelDisparity(label1='MISC', label2='PER', count=1, examples=[]),\n",
       " LabelDisparity(label1='PER', label2='MISC', count=1, examples=[])]"
      ]
     },
     "execution_count": 58,
     "metadata": {},
     "output_type": "execute_result"
    }
   ],
   "source": [
    "lds"
   ]
  },
  {
   "cell_type": "code",
   "execution_count": 37,
   "id": "21d47a7b",
   "metadata": {},
   "outputs": [],
   "source": [
    "from typing import List, Tuple\n",
    "import numpy as np\n",
    "import seaborn as sns\n",
    "from recon.types import LabelDisparity\n",
    "\n",
    "def plot_cm(cm: np.array, labels: List[str]):\n",
    "    labels = np.asarray(list(labels))\n",
    "    print(cm, labels)\n",
    "    return sns.heatmap(cm, annot=True, xticklabels=labels, yticklabels=labels, cmap=\"Blues\")\n",
    "\n",
    "def get_lds_cm(label_disparities: List[LabelDisparity]) -> Tuple[List[str], np.array]:\n",
    "    labels = set()\n",
    "    for ld in lds:\n",
    "        labels.add(ld.label1)\n",
    "        labels.add(ld.label2)\n",
    "    labels_map = {l:i for i, l in enumerate(labels)}\n",
    "    K = len(labels)\n",
    "    result = np.zeros((K, K))\n",
    "    for ld in lds:\n",
    "        result[labels_map[ld.label1]][labels_map[ld.label2]] = ld.count\n",
    "    return labels, result"
   ]
  },
  {
   "cell_type": "code",
   "execution_count": 38,
   "id": "973e5668",
   "metadata": {},
   "outputs": [
    {
     "name": "stdout",
     "output_type": "stream",
     "text": [
      "[[ 0.  7. 12. 93.]\n",
      " [ 7.  0.  1.  6.]\n",
      " [12.  1.  0. 16.]\n",
      " [93.  6. 16.  0.]] ['LOC' 'MISC' 'PER' 'ORG']\n"
     ]
    },
    {
     "data": {
      "text/plain": [
       "<Axes: >"
      ]
     },
     "execution_count": 38,
     "metadata": {},
     "output_type": "execute_result"
    },
    {
     "data": {
      "image/png": "[encoded data removed]",
      "text/plain": [
       "<Figure size 640x480 with 2 Axes>"
      ]
     },
     "metadata": {},
     "output_type": "display_data"
    }
   ],
   "source": [
    "labels, cm = get_lds_cm(lds)\n",
    "plot_cm(cm, labels=labels)"
   ]
  },
  {
   "cell_type": "code",
   "execution_count": 41,
   "id": "ae70897e",
   "metadata": {},
   "outputs": [],
   "source": [
    "corpus.to_disk(\"./data/conll2003\", overwrite=True)"
   ]
  },
  {
   "cell_type": "code",
   "execution_count": 42,
   "id": "e9fa04af",
   "metadata": {},
   "outputs": [],
   "source": [
    "corpus.train_ds.to_spacy(\"./data/conll2003\")\n",
    "corpus.dev_ds.to_spacy(\"./data/conll2003\")"
   ]
  },
  {
   "cell_type": "code",
   "execution_count": 44,
   "id": "4b7f3e4c",
   "metadata": {},
   "outputs": [
    {
     "name": "stdout",
     "output_type": "stream",
     "text": [
      "Collecting en-core-web-md==3.6.0\n",
      "  Downloading https://github.com/explosion/spacy-models/releases/download/en_core_web_md-3.6.0/en_core_web_md-3.6.0-py3-none-any.whl (42.8 MB)\n",
      "\u001b[2K     \u001b[38;2;114;156;31m━━━━━━━━━━━━━━━━━━━━━━━━━━━━━━━━━━━━━━━━\u001b[0m \u001b[32m42.8/42.8 MB\u001b[0m \u001b[31m9.6 MB/s\u001b[0m eta \u001b[36m0:00:00\u001b[0mm eta \u001b[36m0:00:01\u001b[0m[36m0:00:01\u001b[0mm\n",
      "\u001b[?25hRequirement already satisfied: spacy<3.7.0,>=3.6.0 in /Users/kabirkhan/Documents/recon/.venv/lib/python3.11/site-packages (from en-core-web-md==3.6.0) (3.6.1)\n",
      "Requirement already satisfied: spacy-legacy<3.1.0,>=3.0.11 in /Users/kabirkhan/Documents/recon/.venv/lib/python3.11/site-packages (from spacy<3.7.0,>=3.6.0->en-core-web-md==3.6.0) (3.0.12)\n",
      "Requirement already satisfied: spacy-loggers<2.0.0,>=1.0.0 in /Users/kabirkhan/Documents/recon/.venv/lib/python3.11/site-packages (from spacy<3.7.0,>=3.6.0->en-core-web-md==3.6.0) (1.0.4)\n",
      "Requirement already satisfied: murmurhash<1.1.0,>=0.28.0 in /Users/kabirkhan/Documents/recon/.venv/lib/python3.11/site-packages (from spacy<3.7.0,>=3.6.0->en-core-web-md==3.6.0) (1.0.9)\n",
      "Requirement already satisfied: cymem<2.1.0,>=2.0.2 in /Users/kabirkhan/Documents/recon/.venv/lib/python3.11/site-packages (from spacy<3.7.0,>=3.6.0->en-core-web-md==3.6.0) (2.0.7)\n",
      "Requirement already satisfied: preshed<3.1.0,>=3.0.2 in /Users/kabirkhan/Documents/recon/.venv/lib/python3.11/site-packages (from spacy<3.7.0,>=3.6.0->en-core-web-md==3.6.0) (3.0.8)\n",
      "Requirement already satisfied: thinc<8.2.0,>=8.1.8 in /Users/kabirkhan/Documents/recon/.venv/lib/python3.11/site-packages (from spacy<3.7.0,>=3.6.0->en-core-web-md==3.6.0) (8.1.12)\n",
      "Requirement already satisfied: wasabi<1.2.0,>=0.9.1 in /Users/kabirkhan/Documents/recon/.venv/lib/python3.11/site-packages (from spacy<3.7.0,>=3.6.0->en-core-web-md==3.6.0) (1.1.2)\n",
      "Requirement already satisfied: srsly<3.0.0,>=2.4.3 in /Users/kabirkhan/Documents/recon/.venv/lib/python3.11/site-packages (from spacy<3.7.0,>=3.6.0->en-core-web-md==3.6.0) (2.4.7)\n",
      "Requirement already satisfied: catalogue<2.1.0,>=2.0.6 in /Users/kabirkhan/Documents/recon/.venv/lib/python3.11/site-packages (from spacy<3.7.0,>=3.6.0->en-core-web-md==3.6.0) (2.0.9)\n",
      "Requirement already satisfied: typer<0.10.0,>=0.3.0 in /Users/kabirkhan/Documents/recon/.venv/lib/python3.11/site-packages (from spacy<3.7.0,>=3.6.0->en-core-web-md==3.6.0) (0.9.0)\n",
      "Requirement already satisfied: pathy>=0.10.0 in /Users/kabirkhan/Documents/recon/.venv/lib/python3.11/site-packages (from spacy<3.7.0,>=3.6.0->en-core-web-md==3.6.0) (0.10.2)\n",
      "Requirement already satisfied: smart-open<7.0.0,>=5.2.1 in /Users/kabirkhan/Documents/recon/.venv/lib/python3.11/site-packages (from spacy<3.7.0,>=3.6.0->en-core-web-md==3.6.0) (6.3.0)\n",
      "Requirement already satisfied: tqdm<5.0.0,>=4.38.0 in /Users/kabirkhan/Documents/recon/.venv/lib/python3.11/site-packages (from spacy<3.7.0,>=3.6.0->en-core-web-md==3.6.0) (4.66.1)\n",
      "Requirement already satisfied: numpy>=1.15.0 in /Users/kabirkhan/Documents/recon/.venv/lib/python3.11/site-packages (from spacy<3.7.0,>=3.6.0->en-core-web-md==3.6.0) (1.24.4)\n",
      "Requirement already satisfied: requests<3.0.0,>=2.13.0 in /Users/kabirkhan/Documents/recon/.venv/lib/python3.11/site-packages (from spacy<3.7.0,>=3.6.0->en-core-web-md==3.6.0) (2.31.0)\n",
      "Requirement already satisfied: pydantic!=1.8,!=1.8.1,<3.0.0,>=1.7.4 in /Users/kabirkhan/Documents/recon/.venv/lib/python3.11/site-packages (from spacy<3.7.0,>=3.6.0->en-core-web-md==3.6.0) (2.3.0)\n",
      "Requirement already satisfied: jinja2 in /Users/kabirkhan/Documents/recon/.venv/lib/python3.11/site-packages (from spacy<3.7.0,>=3.6.0->en-core-web-md==3.6.0) (3.1.2)\n",
      "Requirement already satisfied: setuptools in /Users/kabirkhan/Documents/recon/.venv/lib/python3.11/site-packages (from spacy<3.7.0,>=3.6.0->en-core-web-md==3.6.0) (68.1.2)\n",
      "Requirement already satisfied: packaging>=20.0 in /Users/kabirkhan/Documents/recon/.venv/lib/python3.11/site-packages (from spacy<3.7.0,>=3.6.0->en-core-web-md==3.6.0) (23.1)\n",
      "Requirement already satisfied: langcodes<4.0.0,>=3.2.0 in /Users/kabirkhan/Documents/recon/.venv/lib/python3.11/site-packages (from spacy<3.7.0,>=3.6.0->en-core-web-md==3.6.0) (3.3.0)\n",
      "Requirement already satisfied: annotated-types>=0.4.0 in /Users/kabirkhan/Documents/recon/.venv/lib/python3.11/site-packages (from pydantic!=1.8,!=1.8.1,<3.0.0,>=1.7.4->spacy<3.7.0,>=3.6.0->en-core-web-md==3.6.0) (0.5.0)\n",
      "Requirement already satisfied: pydantic-core==2.6.3 in /Users/kabirkhan/Documents/recon/.venv/lib/python3.11/site-packages (from pydantic!=1.8,!=1.8.1,<3.0.0,>=1.7.4->spacy<3.7.0,>=3.6.0->en-core-web-md==3.6.0) (2.6.3)\n",
      "Requirement already satisfied: typing-extensions>=4.6.1 in /Users/kabirkhan/Documents/recon/.venv/lib/python3.11/site-packages (from pydantic!=1.8,!=1.8.1,<3.0.0,>=1.7.4->spacy<3.7.0,>=3.6.0->en-core-web-md==3.6.0) (4.7.1)\n",
      "Requirement already satisfied: charset-normalizer<4,>=2 in /Users/kabirkhan/Documents/recon/.venv/lib/python3.11/site-packages (from requests<3.0.0,>=2.13.0->spacy<3.7.0,>=3.6.0->en-core-web-md==3.6.0) (3.2.0)\n",
      "Requirement already satisfied: idna<4,>=2.5 in /Users/kabirkhan/Documents/recon/.venv/lib/python3.11/site-packages (from requests<3.0.0,>=2.13.0->spacy<3.7.0,>=3.6.0->en-core-web-md==3.6.0) (3.4)\n",
      "Requirement already satisfied: urllib3<3,>=1.21.1 in /Users/kabirkhan/Documents/recon/.venv/lib/python3.11/site-packages (from requests<3.0.0,>=2.13.0->spacy<3.7.0,>=3.6.0->en-core-web-md==3.6.0) (2.0.4)\n",
      "Requirement already satisfied: certifi>=2017.4.17 in /Users/kabirkhan/Documents/recon/.venv/lib/python3.11/site-packages (from requests<3.0.0,>=2.13.0->spacy<3.7.0,>=3.6.0->en-core-web-md==3.6.0) (2023.7.22)\n",
      "Requirement already satisfied: blis<0.8.0,>=0.7.8 in /Users/kabirkhan/Documents/recon/.venv/lib/python3.11/site-packages (from thinc<8.2.0,>=8.1.8->spacy<3.7.0,>=3.6.0->en-core-web-md==3.6.0) (0.7.10)\n",
      "Requirement already satisfied: confection<1.0.0,>=0.0.1 in /Users/kabirkhan/Documents/recon/.venv/lib/python3.11/site-packages (from thinc<8.2.0,>=8.1.8->spacy<3.7.0,>=3.6.0->en-core-web-md==3.6.0) (0.1.1)\n",
      "Requirement already satisfied: click<9.0.0,>=7.1.1 in /Users/kabirkhan/Documents/recon/.venv/lib/python3.11/site-packages (from typer<0.10.0,>=0.3.0->spacy<3.7.0,>=3.6.0->en-core-web-md==3.6.0) (8.1.7)\n",
      "Requirement already satisfied: MarkupSafe>=2.0 in /Users/kabirkhan/Documents/recon/.venv/lib/python3.11/site-packages (from jinja2->spacy<3.7.0,>=3.6.0->en-core-web-md==3.6.0) (2.1.3)\n",
      "\n",
      "\u001b[1m[\u001b[0m\u001b[34;49mnotice\u001b[0m\u001b[1;39;49m]\u001b[0m\u001b[39;49m A new release of pip is available: \u001b[0m\u001b[31;49m23.1.2\u001b[0m\u001b[39;49m -> \u001b[0m\u001b[32;49m23.3.1\u001b[0m\n",
      "\u001b[1m[\u001b[0m\u001b[34;49mnotice\u001b[0m\u001b[1;39;49m]\u001b[0m\u001b[39;49m To update, run: \u001b[0m\u001b[32;49mpip install --upgrade pip\u001b[0m\n",
      "\u001b[38;5;2m✔ Download and installation successful\u001b[0m\n",
      "You can now load the package via spacy.load('en_core_web_md')\n",
      "\u001b[38;5;4mℹ Saving to output directory: models/en_conll_md\u001b[0m\n",
      "\u001b[38;5;4mℹ Using CPU\u001b[0m\n",
      "\u001b[1m\n",
      "=========================== Initializing pipeline ===========================\u001b[0m\n",
      "\u001b[38;5;2m✔ Initialized pipeline\u001b[0m\n",
      "\u001b[1m\n",
      "============================= Training pipeline =============================\u001b[0m\n",
      "\u001b[38;5;4mℹ Pipeline: ['tok2vec', 'ner']\u001b[0m\n",
      "\u001b[38;5;4mℹ Initial learn rate: 0.001\u001b[0m\n",
      "E    #       LOSS TOK2VEC  LOSS NER  ENTS_F  ENTS_P  ENTS_R  SCORE \n",
      "---  ------  ------------  --------  ------  ------  ------  ------\n",
      "  0       0          0.00     44.28    0.00    0.00    0.00    0.00\n",
      "  0     200         82.58   2838.65   52.41   60.56   46.20    0.52\n",
      "  0     400       1039.30   2465.74   63.43   64.10   62.77    0.63\n",
      "  0     600        256.40   2220.14   71.76   74.24   69.44    0.72\n",
      "  0     800        331.60   2215.43   76.00   76.09   75.90    0.76\n",
      "  0    1000        424.40   2506.67   77.33   77.49   77.16    0.77\n",
      "  1    1200        747.23   2470.54   81.29   82.58   80.04    0.81\n",
      "  1    1400        557.30   2108.81   81.58   81.55   81.61    0.82\n",
      "  1    1600        731.19   2369.50   83.59   84.28   82.92    0.84\n",
      "  2    1800        805.75   2527.25   84.53   85.11   83.96    0.85\n",
      "  2    2000        930.29   2263.20   84.68   84.35   85.01    0.85\n",
      "  3    2200       1026.41   2208.37   86.23   86.62   85.85    0.86\n",
      "  4    2400       1033.96   1906.29   86.28   87.67   84.94    0.86\n",
      "  5    2600       1214.51   1830.59   85.98   86.73   85.24    0.86\n",
      "  6    2800        916.89   1385.59   86.13   86.54   85.73    0.86\n",
      "  7    3000        990.98   1218.15   86.06   86.63   85.49    0.86\n",
      "  8    3200        937.03   1127.00   86.02   87.19   84.89    0.86\n",
      "  9    3400        922.85    972.14   86.42   87.56   85.31    0.86\n",
      "  9    3600        874.39    860.02   86.04   86.38   85.71    0.86\n",
      " 10    3800        972.10    791.65   85.80   86.33   85.27    0.86\n",
      " 11    4000       1506.55    928.18   85.51   85.83   85.19    0.86\n",
      " 12    4200        734.26    644.70   85.99   86.29   85.70    0.86\n",
      " 13    4400       1011.98    700.55   86.49   86.72   86.27    0.86\n",
      " 14    4600        898.05    669.54   86.10   86.76   85.46    0.86\n",
      "^C\n"
     ]
    }
   ],
   "source": [
    "!spacy download en_core_web_md\n",
    "!spacy train config/config.cfg \\\n",
    "    --paths.train ./data/conll2003/train.spacy \\\n",
    "    --paths.dev ./data/conll2003/dev.spacy \\\n",
    "    --paths.vectors \"en_core_web_md\" \\\n",
    "    --output ./models/en_conll_md"
   ]
  },
  {
   "cell_type": "code",
   "execution_count": 45,
   "id": "c4f2cb01",
   "metadata": {},
   "outputs": [],
   "source": [
    "import spacy\n",
    "from recon.insights import top_prediction_errors, get_hardest_examples\n",
    "from recon.recognizer import SpacyEntityRecognizer"
   ]
  },
  {
   "cell_type": "code",
   "execution_count": 46,
   "id": "e9edcb4c",
   "metadata": {},
   "outputs": [],
   "source": [
    "nlp = spacy.load(\"models/en_conll_md/model-best/\")\n",
    "rec = SpacyEntityRecognizer(nlp)"
   ]
  },
  {
   "cell_type": "code",
   "execution_count": 50,
   "id": "fa6ae642",
   "metadata": {},
   "outputs": [
    {
     "data": {
      "text/plain": [
       "[PredictionError(text='Pirelli', true_label='ORG', pred_label='PER', count=9),\n",
       " PredictionError(text='Suu Kyi', true_label='PER', pred_label='ORG', count=9),\n",
       " PredictionError(text=\"Boatmen 's\", true_label='ORG', pred_label='NOT_LABELED', count=7),\n",
       " PredictionError(text='Washington', true_label='PER', pred_label='LOC', count=6),\n",
       " PredictionError(text='Bernardin', true_label='PER', pred_label='NOT_LABELED', count=6),\n",
       " PredictionError(text='Jansher', true_label='PER', pred_label='LOC', count=6),\n",
       " PredictionError(text='King', true_label='PER', pred_label='NOT_LABELED', count=6),\n",
       " PredictionError(text='Boatmen', true_label='NOT_LABELED', pred_label='PER', count=6),\n",
       " PredictionError(text='Magna', true_label='ORG', pred_label='NOT_LABELED', count=5),\n",
       " PredictionError(text='Lukashenko', true_label='PER', pred_label='ORG', count=5)]"
      ]
     },
     "execution_count": 50,
     "metadata": {},
     "output_type": "execute_result"
    }
   ],
   "source": [
    "pe = top_prediction_errors(rec, corpus.dev)\n",
    "pe[:10]"
   ]
  },
  {
   "cell_type": "code",
   "execution_count": 85,
   "id": "6576040b-d2ea-4d82-ae9a-6ac2e996291c",
   "metadata": {},
   "outputs": [],
   "source": [
    "train_hes = get_hardest_examples(rec, corpus.train)"
   ]
  },
  {
   "cell_type": "code",
   "execution_count": 90,
   "id": "2fe81868",
   "metadata": {},
   "outputs": [],
   "source": [
    "dev_hes = get_hardest_examples(rec, corpus.dev)"
   ]
  },
  {
   "cell_type": "code",
   "execution_count": 86,
   "id": "9c0ec835-e29f-4586-bb23-c51a9fc9e93b",
   "metadata": {},
   "outputs": [],
   "source": [
    "test_hes = get_hardest_examples(rec, corpus.test)"
   ]
  },
  {
   "cell_type": "code",
   "execution_count": 97,
   "id": "a46af639-be40-489c-aae5-55a05b04e78a",
   "metadata": {},
   "outputs": [
    {
     "data": {
      "text/html": [
       "<span class=\"tex2jax_ignore\"><div class=\"entities\" style=\"line-height: 2.5; direction: ltr\">\n",
       "<mark class=\"entity\" style=\"background: #ddd; padding: 0.45em 0.6em; margin: 0 0.25em; line-height: 1; border-radius: 0.35em;\">\n",
       "    English\n",
       "    <span style=\"font-size: 0.8em; font-weight: bold; line-height: 1; border-radius: 0.35em; vertical-align: middle; margin-left: 0.5rem\">MISC</span>\n",
       "</mark>\n",
       " \n",
       "<mark class=\"entity\" style=\"background: #ddd; padding: 0.45em 0.6em; margin: 0 0.25em; line-height: 1; border-radius: 0.35em;\">\n",
       "    County Championship\n",
       "    <span style=\"font-size: 0.8em; font-weight: bold; line-height: 1; border-radius: 0.35em; vertical-align: middle; margin-left: 0.5rem\">MISC</span>\n",
       "</mark>\n",
       " cricket matches on Thursday : </div></span>"
      ],
      "text/plain": [
       "<IPython.core.display.HTML object>"
      ]
     },
     "metadata": {},
     "output_type": "display_data"
    },
    {
     "data": {
      "text/html": [
       "<span class=\"tex2jax_ignore\"><div class=\"entities\" style=\"line-height: 2.5; direction: ltr\">\n",
       "<mark class=\"entity\" style=\"background: #ddd; padding: 0.45em 0.6em; margin: 0 0.25em; line-height: 1; border-radius: 0.35em;\">\n",
       "    English County Championship\n",
       "    <span style=\"font-size: 0.8em; font-weight: bold; line-height: 1; border-radius: 0.35em; vertical-align: middle; margin-left: 0.5rem\">MISC</span>\n",
       "</mark>\n",
       " cricket matches on Thursday : </div></span>"
      ],
      "text/plain": [
       "<IPython.core.display.HTML object>"
      ]
     },
     "metadata": {},
     "output_type": "display_data"
    }
   ],
   "source": [
    "idx = 0\n",
    "train_hes[idx].reference.show()\n",
    "train_hes[idx].prediction.show()"
   ]
  },
  {
   "cell_type": "code",
   "execution_count": 91,
   "id": "43b3ac6c-051d-4965-a7a9-58aa6d7fdf37",
   "metadata": {},
   "outputs": [
    {
     "data": {
      "text/html": [
       "<span class=\"tex2jax_ignore\"><div class=\"entities\" style=\"line-height: 2.5; direction: ltr\">The titles of his other novels translate as &quot; \n",
       "<mark class=\"entity\" style=\"background: #ddd; padding: 0.45em 0.6em; margin: 0 0.25em; line-height: 1; border-radius: 0.35em;\">\n",
       "    In the Year of January\n",
       "    <span style=\"font-size: 0.8em; font-weight: bold; line-height: 1; border-radius: 0.35em; vertical-align: middle; margin-left: 0.5rem\">MISC</span>\n",
       "</mark>\n",
       " &quot; ( 1963 ) , &quot; \n",
       "<mark class=\"entity\" style=\"background: #ddd; padding: 0.45em 0.6em; margin: 0 0.25em; line-height: 1; border-radius: 0.35em;\">\n",
       "    The Collapse\n",
       "    <span style=\"font-size: 0.8em; font-weight: bold; line-height: 1; border-radius: 0.35em; vertical-align: middle; margin-left: 0.5rem\">MISC</span>\n",
       "</mark>\n",
       " &quot; ( 1964 ) , &quot; \n",
       "<mark class=\"entity\" style=\"background: #ddd; padding: 0.45em 0.6em; margin: 0 0.25em; line-height: 1; border-radius: 0.35em;\">\n",
       "    Sleeping Bread\n",
       "    <span style=\"font-size: 0.8em; font-weight: bold; line-height: 1; border-radius: 0.35em; vertical-align: middle; margin-left: 0.5rem\">MISC</span>\n",
       "</mark>\n",
       " &quot; ( 1975 ) , &quot; \n",
       "<mark class=\"entity\" style=\"background: #ddd; padding: 0.45em 0.6em; margin: 0 0.25em; line-height: 1; border-radius: 0.35em;\">\n",
       "    The Decaying Mansion\n",
       "    <span style=\"font-size: 0.8em; font-weight: bold; line-height: 1; border-radius: 0.35em; vertical-align: middle; margin-left: 0.5rem\">MISC</span>\n",
       "</mark>\n",
       " &quot; ( 1977 ) and &quot; \n",
       "<mark class=\"entity\" style=\"background: #ddd; padding: 0.45em 0.6em; margin: 0 0.25em; line-height: 1; border-radius: 0.35em;\">\n",
       "    A World of Things\n",
       "    <span style=\"font-size: 0.8em; font-weight: bold; line-height: 1; border-radius: 0.35em; vertical-align: middle; margin-left: 0.5rem\">MISC</span>\n",
       "</mark>\n",
       " &quot; ( 1982 ) , followed by &quot; \n",
       "<mark class=\"entity\" style=\"background: #ddd; padding: 0.45em 0.6em; margin: 0 0.25em; line-height: 1; border-radius: 0.35em;\">\n",
       "    The Knot\n",
       "    <span style=\"font-size: 0.8em; font-weight: bold; line-height: 1; border-radius: 0.35em; vertical-align: middle; margin-left: 0.5rem\">MISC</span>\n",
       "</mark>\n",
       " , &quot; &quot; \n",
       "<mark class=\"entity\" style=\"background: #ddd; padding: 0.45em 0.6em; margin: 0 0.25em; line-height: 1; border-radius: 0.35em;\">\n",
       "    Soul Alone\n",
       "    <span style=\"font-size: 0.8em; font-weight: bold; line-height: 1; border-radius: 0.35em; vertical-align: middle; margin-left: 0.5rem\">MISC</span>\n",
       "</mark>\n",
       " &quot; and , most recently , &quot; \n",
       "<mark class=\"entity\" style=\"background: #ddd; padding: 0.45em 0.6em; margin: 0 0.25em; line-height: 1; border-radius: 0.35em;\">\n",
       "    A Woman\n",
       "    <span style=\"font-size: 0.8em; font-weight: bold; line-height: 1; border-radius: 0.35em; vertical-align: middle; margin-left: 0.5rem\">MISC</span>\n",
       "</mark>\n",
       " . &quot; </div></span>"
      ],
      "text/plain": [
       "<IPython.core.display.HTML object>"
      ]
     },
     "metadata": {},
     "output_type": "display_data"
    },
    {
     "data": {
      "text/html": [
       "<span class=\"tex2jax_ignore\"><div class=\"entities\" style=\"line-height: 2.5; direction: ltr\">The titles of his other novels translate as &quot; In the Year of January &quot; ( 1963 ) , &quot; The \n",
       "<mark class=\"entity\" style=\"background: #7aecec; padding: 0.45em 0.6em; margin: 0 0.25em; line-height: 1; border-radius: 0.35em;\">\n",
       "    Collapse\n",
       "    <span style=\"font-size: 0.8em; font-weight: bold; line-height: 1; border-radius: 0.35em; vertical-align: middle; margin-left: 0.5rem\">ORG</span>\n",
       "</mark>\n",
       " &quot; ( 1964 ) , &quot; \n",
       "<mark class=\"entity\" style=\"background: #ddd; padding: 0.45em 0.6em; margin: 0 0.25em; line-height: 1; border-radius: 0.35em;\">\n",
       "    Sleeping Bread\n",
       "    <span style=\"font-size: 0.8em; font-weight: bold; line-height: 1; border-radius: 0.35em; vertical-align: middle; margin-left: 0.5rem\">PER</span>\n",
       "</mark>\n",
       " &quot; ( 1975 ) , &quot; The \n",
       "<mark class=\"entity\" style=\"background: #ff9561; padding: 0.45em 0.6em; margin: 0 0.25em; line-height: 1; border-radius: 0.35em;\">\n",
       "    Decaying Mansion\n",
       "    <span style=\"font-size: 0.8em; font-weight: bold; line-height: 1; border-radius: 0.35em; vertical-align: middle; margin-left: 0.5rem\">LOC</span>\n",
       "</mark>\n",
       " &quot; ( 1977 ) and &quot; A \n",
       "<mark class=\"entity\" style=\"background: #ddd; padding: 0.45em 0.6em; margin: 0 0.25em; line-height: 1; border-radius: 0.35em;\">\n",
       "    World of Things\n",
       "    <span style=\"font-size: 0.8em; font-weight: bold; line-height: 1; border-radius: 0.35em; vertical-align: middle; margin-left: 0.5rem\">MISC</span>\n",
       "</mark>\n",
       " &quot; ( 1982 ) , followed by &quot; The \n",
       "<mark class=\"entity\" style=\"background: #ddd; padding: 0.45em 0.6em; margin: 0 0.25em; line-height: 1; border-radius: 0.35em;\">\n",
       "    Knot\n",
       "    <span style=\"font-size: 0.8em; font-weight: bold; line-height: 1; border-radius: 0.35em; vertical-align: middle; margin-left: 0.5rem\">PER</span>\n",
       "</mark>\n",
       " , &quot; &quot; Soul Alone &quot; and , most recently , &quot; A \n",
       "<mark class=\"entity\" style=\"background: #7aecec; padding: 0.45em 0.6em; margin: 0 0.25em; line-height: 1; border-radius: 0.35em;\">\n",
       "    Woman\n",
       "    <span style=\"font-size: 0.8em; font-weight: bold; line-height: 1; border-radius: 0.35em; vertical-align: middle; margin-left: 0.5rem\">ORG</span>\n",
       "</mark>\n",
       " . &quot; </div></span>"
      ],
      "text/plain": [
       "<IPython.core.display.HTML object>"
      ]
     },
     "metadata": {},
     "output_type": "display_data"
    }
   ],
   "source": [
    "idx = 0\n",
    "dev_hes[idx].reference.show()\n",
    "dev_hes[idx].prediction.show()"
   ]
  },
  {
   "cell_type": "code",
   "execution_count": 92,
   "id": "b1ccf373-d1cb-4f12-b76e-ff0ba7bc9cb5",
   "metadata": {},
   "outputs": [
    {
     "data": {
      "text/html": [
       "<span class=\"tex2jax_ignore\"><div class=\"entities\" style=\"line-height: 2.5; direction: ltr\">\n",
       "<mark class=\"entity\" style=\"background: #7aecec; padding: 0.45em 0.6em; margin: 0 0.25em; line-height: 1; border-radius: 0.35em;\">\n",
       "    NCAA\n",
       "    <span style=\"font-size: 0.8em; font-weight: bold; line-height: 1; border-radius: 0.35em; vertical-align: middle; margin-left: 0.5rem\">ORG</span>\n",
       "</mark>\n",
       " AMERICAN \n",
       "<mark class=\"entity\" style=\"background: #ddd; padding: 0.45em 0.6em; margin: 0 0.25em; line-height: 1; border-radius: 0.35em;\">\n",
       "    FOOTBALL-OHIO STATE\n",
       "    <span style=\"font-size: 0.8em; font-weight: bold; line-height: 1; border-radius: 0.35em; vertical-align: middle; margin-left: 0.5rem\">MISC</span>\n",
       "</mark>\n",
       " 'S \n",
       "<mark class=\"entity\" style=\"background: #ddd; padding: 0.45em 0.6em; margin: 0 0.25em; line-height: 1; border-radius: 0.35em;\">\n",
       "    PACE\n",
       "    <span style=\"font-size: 0.8em; font-weight: bold; line-height: 1; border-radius: 0.35em; vertical-align: middle; margin-left: 0.5rem\">PER</span>\n",
       "</mark>\n",
       " FIRST REPEAT \n",
       "<mark class=\"entity\" style=\"background: #ddd; padding: 0.45em 0.6em; margin: 0 0.25em; line-height: 1; border-radius: 0.35em;\">\n",
       "    LOMBARDI AWARD\n",
       "    <span style=\"font-size: 0.8em; font-weight: bold; line-height: 1; border-radius: 0.35em; vertical-align: middle; margin-left: 0.5rem\">MISC</span>\n",
       "</mark>\n",
       " WINNER . </div></span>"
      ],
      "text/plain": [
       "<IPython.core.display.HTML object>"
      ]
     },
     "metadata": {},
     "output_type": "display_data"
    },
    {
     "data": {
      "text/html": [
       "<span class=\"tex2jax_ignore\"><div class=\"entities\" style=\"line-height: 2.5; direction: ltr\">\n",
       "<mark class=\"entity\" style=\"background: #ddd; padding: 0.45em 0.6em; margin: 0 0.25em; line-height: 1; border-radius: 0.35em;\">\n",
       "    NCAA AMERICAN\n",
       "    <span style=\"font-size: 0.8em; font-weight: bold; line-height: 1; border-radius: 0.35em; vertical-align: middle; margin-left: 0.5rem\">MISC</span>\n",
       "</mark>\n",
       " FOOTBALL-\n",
       "<mark class=\"entity\" style=\"background: #7aecec; padding: 0.45em 0.6em; margin: 0 0.25em; line-height: 1; border-radius: 0.35em;\">\n",
       "    OHIO STATE 'S\n",
       "    <span style=\"font-size: 0.8em; font-weight: bold; line-height: 1; border-radius: 0.35em; vertical-align: middle; margin-left: 0.5rem\">ORG</span>\n",
       "</mark>\n",
       " PACE FIRST REPEAT \n",
       "<mark class=\"entity\" style=\"background: #ddd; padding: 0.45em 0.6em; margin: 0 0.25em; line-height: 1; border-radius: 0.35em;\">\n",
       "    LOMBARDI\n",
       "    <span style=\"font-size: 0.8em; font-weight: bold; line-height: 1; border-radius: 0.35em; vertical-align: middle; margin-left: 0.5rem\">PER</span>\n",
       "</mark>\n",
       " \n",
       "<mark class=\"entity\" style=\"background: #ddd; padding: 0.45em 0.6em; margin: 0 0.25em; line-height: 1; border-radius: 0.35em;\">\n",
       "    AWARD\n",
       "    <span style=\"font-size: 0.8em; font-weight: bold; line-height: 1; border-radius: 0.35em; vertical-align: middle; margin-left: 0.5rem\">PER</span>\n",
       "</mark>\n",
       " WINNER . </div></span>"
      ],
      "text/plain": [
       "<IPython.core.display.HTML object>"
      ]
     },
     "metadata": {},
     "output_type": "display_data"
    }
   ],
   "source": [
    "idx=0\n",
    "test_hes[idx].reference.show()\n",
    "test_hes[idx].prediction.show()"
   ]
  },
  {
   "cell_type": "code",
   "execution_count": 95,
   "id": "7d80de55-f516-4553-8f5e-86868be28edf",
   "metadata": {},
   "outputs": [
    {
     "data": {
      "text/html": [
       "<span class=\"tex2jax_ignore\"><div class=\"entities\" style=\"line-height: 2.5; direction: ltr\">SOCCER - \n",
       "<mark class=\"entity\" style=\"background: #ff9561; padding: 0.45em 0.6em; margin: 0 0.25em; line-height: 1; border-radius: 0.35em;\">\n",
       "    JAPAN\n",
       "    <span style=\"font-size: 0.8em; font-weight: bold; line-height: 1; border-radius: 0.35em; vertical-align: middle; margin-left: 0.5rem\">LOC</span>\n",
       "</mark>\n",
       " GET LUCKY WIN , \n",
       "<mark class=\"entity\" style=\"background: #ddd; padding: 0.45em 0.6em; margin: 0 0.25em; line-height: 1; border-radius: 0.35em;\">\n",
       "    CHINA\n",
       "    <span style=\"font-size: 0.8em; font-weight: bold; line-height: 1; border-radius: 0.35em; vertical-align: middle; margin-left: 0.5rem\">PER</span>\n",
       "</mark>\n",
       " IN SURPRISE DEFEAT . </div></span>"
      ],
      "text/plain": [
       "<IPython.core.display.HTML object>"
      ]
     },
     "metadata": {},
     "output_type": "display_data"
    },
    {
     "data": {
      "text/html": [
       "<span class=\"tex2jax_ignore\"><div class=\"entities\" style=\"line-height: 2.5; direction: ltr\">SOCCER - \n",
       "<mark class=\"entity\" style=\"background: #7aecec; padding: 0.45em 0.6em; margin: 0 0.25em; line-height: 1; border-radius: 0.35em;\">\n",
       "    JAPAN\n",
       "    <span style=\"font-size: 0.8em; font-weight: bold; line-height: 1; border-radius: 0.35em; vertical-align: middle; margin-left: 0.5rem\">ORG</span>\n",
       "</mark>\n",
       " \n",
       "<mark class=\"entity\" style=\"background: #7aecec; padding: 0.45em 0.6em; margin: 0 0.25em; line-height: 1; border-radius: 0.35em;\">\n",
       "    GET LUCKY\n",
       "    <span style=\"font-size: 0.8em; font-weight: bold; line-height: 1; border-radius: 0.35em; vertical-align: middle; margin-left: 0.5rem\">ORG</span>\n",
       "</mark>\n",
       " WIN , \n",
       "<mark class=\"entity\" style=\"background: #7aecec; padding: 0.45em 0.6em; margin: 0 0.25em; line-height: 1; border-radius: 0.35em;\">\n",
       "    CHINA\n",
       "    <span style=\"font-size: 0.8em; font-weight: bold; line-height: 1; border-radius: 0.35em; vertical-align: middle; margin-left: 0.5rem\">ORG</span>\n",
       "</mark>\n",
       " IN \n",
       "<mark class=\"entity\" style=\"background: #ddd; padding: 0.45em 0.6em; margin: 0 0.25em; line-height: 1; border-radius: 0.35em;\">\n",
       "    SURPRISE\n",
       "    <span style=\"font-size: 0.8em; font-weight: bold; line-height: 1; border-radius: 0.35em; vertical-align: middle; margin-left: 0.5rem\">MISC</span>\n",
       "</mark>\n",
       " DEFEAT . </div></span>"
      ],
      "text/plain": [
       "<IPython.core.display.HTML object>"
      ]
     },
     "metadata": {},
     "output_type": "display_data"
    }
   ],
   "source": [
    "china_he = [he for he in test_hes if \"CHINA\" in he.reference.text][0]\n",
    "china_he.reference.show()\n",
    "china_he.prediction.show()"
   ]
  },
  {
   "cell_type": "code",
   "execution_count": 22,
   "id": "4b088567",
   "metadata": {},
   "outputs": [
    {
     "data": {
      "text/html": [
       "<span class=\"tex2jax_ignore\"><div class=\"spans\" style=\"line-height: 2.5; direction: ltr\">The titles of his other novels translate as &quot; \n",
       "<span style=\"font-weight: bold; display: inline-block; position: relative;\">\n",
       "    In\n",
       "    \n",
       "<span style=\"background: #ddd; top: 40px; height: 4px; left: -1px; width: calc(100% + 2px); position: absolute;\">\n",
       "</span>\n",
       "\n",
       "    \n",
       "<span style=\"background: #ddd; top: 40px; height: 4px; border-top-left-radius: 3px; border-bottom-left-radius: 3px; left: -1px; width: calc(100% + 2px); position: absolute;\">\n",
       "    <span style=\"background: #ddd; z-index: 10; color: #000; top: -0.5em; padding: 2px 3px; position: absolute; font-size: 0.6em; font-weight: bold; line-height: 1; border-radius: 3px\">\n",
       "        MISC\n",
       "    </span>\n",
       "</span>\n",
       "\n",
       "\n",
       "</span>\n",
       "\n",
       "<span style=\"font-weight: bold; display: inline-block; position: relative;\">\n",
       "    the\n",
       "    \n",
       "<span style=\"background: #ddd; top: 40px; height: 4px; left: -1px; width: calc(100% + 2px); position: absolute;\">\n",
       "</span>\n",
       "\n",
       "    \n",
       "</span>\n",
       "\n",
       "<span style=\"font-weight: bold; display: inline-block; position: relative;\">\n",
       "    Year\n",
       "    \n",
       "<span style=\"background: #ddd; top: 40px; height: 4px; left: -1px; width: calc(100% + 2px); position: absolute;\">\n",
       "</span>\n",
       "\n",
       "    \n",
       "</span>\n",
       "\n",
       "<span style=\"font-weight: bold; display: inline-block; position: relative;\">\n",
       "    of\n",
       "    \n",
       "<span style=\"background: #ddd; top: 40px; height: 4px; left: -1px; width: calc(100% + 2px); position: absolute;\">\n",
       "</span>\n",
       "\n",
       "    \n",
       "</span>\n",
       "\n",
       "<span style=\"font-weight: bold; display: inline-block; position: relative;\">\n",
       "    January\n",
       "    \n",
       "<span style=\"background: #ddd; top: 40px; height: 4px; left: -1px; width: calc(100% + 2px); position: absolute;\">\n",
       "</span>\n",
       "\n",
       "    \n",
       "</span>\n",
       "&quot; ( 1963 ) , &quot; \n",
       "<span style=\"font-weight: bold; display: inline-block; position: relative;\">\n",
       "    The\n",
       "    \n",
       "<span style=\"background: #ddd; top: 40px; height: 4px; left: -1px; width: calc(100% + 2px); position: absolute;\">\n",
       "</span>\n",
       "\n",
       "    \n",
       "<span style=\"background: #ddd; top: 40px; height: 4px; border-top-left-radius: 3px; border-bottom-left-radius: 3px; left: -1px; width: calc(100% + 2px); position: absolute;\">\n",
       "    <span style=\"background: #ddd; z-index: 10; color: #000; top: -0.5em; padding: 2px 3px; position: absolute; font-size: 0.6em; font-weight: bold; line-height: 1; border-radius: 3px\">\n",
       "        MISC\n",
       "    </span>\n",
       "</span>\n",
       "\n",
       "\n",
       "</span>\n",
       "\n",
       "<span style=\"font-weight: bold; display: inline-block; position: relative;\">\n",
       "    Collapse\n",
       "    \n",
       "<span style=\"background: #ddd; top: 40px; height: 4px; left: -1px; width: calc(100% + 2px); position: absolute;\">\n",
       "</span>\n",
       "\n",
       "<span style=\"background: #ddd; top: 57px; height: 4px; left: -1px; width: calc(100% + 2px); position: absolute;\">\n",
       "</span>\n",
       "\n",
       "    \n",
       "<span style=\"background: #ddd; top: 57px; height: 4px; border-top-left-radius: 3px; border-bottom-left-radius: 3px; left: -1px; width: calc(100% + 2px); position: absolute;\">\n",
       "    <span style=\"background: #ddd; z-index: 10; color: #000; top: -0.5em; padding: 2px 3px; position: absolute; font-size: 0.6em; font-weight: bold; line-height: 1; border-radius: 3px\">\n",
       "        ORG:PRED\n",
       "    </span>\n",
       "</span>\n",
       "\n",
       "\n",
       "</span>\n",
       "&quot; ( 1964 ) , &quot; \n",
       "<span style=\"font-weight: bold; display: inline-block; position: relative;\">\n",
       "    Sleeping\n",
       "    \n",
       "<span style=\"background: #ddd; top: 40px; height: 4px; left: -1px; width: calc(100% + 2px); position: absolute;\">\n",
       "</span>\n",
       "\n",
       "<span style=\"background: #ddd; top: 57px; height: 4px; left: -1px; width: calc(100% + 2px); position: absolute;\">\n",
       "</span>\n",
       "\n",
       "    \n",
       "<span style=\"background: #ddd; top: 40px; height: 4px; border-top-left-radius: 3px; border-bottom-left-radius: 3px; left: -1px; width: calc(100% + 2px); position: absolute;\">\n",
       "    <span style=\"background: #ddd; z-index: 10; color: #000; top: -0.5em; padding: 2px 3px; position: absolute; font-size: 0.6em; font-weight: bold; line-height: 1; border-radius: 3px\">\n",
       "        MISC\n",
       "    </span>\n",
       "</span>\n",
       "\n",
       "\n",
       "<span style=\"background: #ddd; top: 57px; height: 4px; border-top-left-radius: 3px; border-bottom-left-radius: 3px; left: -1px; width: calc(100% + 2px); position: absolute;\">\n",
       "    <span style=\"background: #ddd; z-index: 10; color: #000; top: -0.5em; padding: 2px 3px; position: absolute; font-size: 0.6em; font-weight: bold; line-height: 1; border-radius: 3px\">\n",
       "        PER:PRED\n",
       "    </span>\n",
       "</span>\n",
       "\n",
       "\n",
       "</span>\n",
       "\n",
       "<span style=\"font-weight: bold; display: inline-block; position: relative;\">\n",
       "    Bread\n",
       "    \n",
       "<span style=\"background: #ddd; top: 40px; height: 4px; left: -1px; width: calc(100% + 2px); position: absolute;\">\n",
       "</span>\n",
       "\n",
       "<span style=\"background: #ddd; top: 57px; height: 4px; left: -1px; width: calc(100% + 2px); position: absolute;\">\n",
       "</span>\n",
       "\n",
       "    \n",
       "</span>\n",
       "&quot; ( 1975 ) , &quot; \n",
       "<span style=\"font-weight: bold; display: inline-block; position: relative;\">\n",
       "    The\n",
       "    \n",
       "<span style=\"background: #ddd; top: 40px; height: 4px; left: -1px; width: calc(100% + 2px); position: absolute;\">\n",
       "</span>\n",
       "\n",
       "    \n",
       "<span style=\"background: #ddd; top: 40px; height: 4px; border-top-left-radius: 3px; border-bottom-left-radius: 3px; left: -1px; width: calc(100% + 2px); position: absolute;\">\n",
       "    <span style=\"background: #ddd; z-index: 10; color: #000; top: -0.5em; padding: 2px 3px; position: absolute; font-size: 0.6em; font-weight: bold; line-height: 1; border-radius: 3px\">\n",
       "        MISC\n",
       "    </span>\n",
       "</span>\n",
       "\n",
       "\n",
       "</span>\n",
       "\n",
       "<span style=\"font-weight: bold; display: inline-block; position: relative;\">\n",
       "    Decaying\n",
       "    \n",
       "<span style=\"background: #ddd; top: 40px; height: 4px; left: -1px; width: calc(100% + 2px); position: absolute;\">\n",
       "</span>\n",
       "\n",
       "<span style=\"background: #ddd; top: 57px; height: 4px; left: -1px; width: calc(100% + 2px); position: absolute;\">\n",
       "</span>\n",
       "\n",
       "    \n",
       "<span style=\"background: #ddd; top: 57px; height: 4px; border-top-left-radius: 3px; border-bottom-left-radius: 3px; left: -1px; width: calc(100% + 2px); position: absolute;\">\n",
       "    <span style=\"background: #ddd; z-index: 10; color: #000; top: -0.5em; padding: 2px 3px; position: absolute; font-size: 0.6em; font-weight: bold; line-height: 1; border-radius: 3px\">\n",
       "        ORG:PRED\n",
       "    </span>\n",
       "</span>\n",
       "\n",
       "\n",
       "</span>\n",
       "\n",
       "<span style=\"font-weight: bold; display: inline-block; position: relative;\">\n",
       "    Mansion\n",
       "    \n",
       "<span style=\"background: #ddd; top: 40px; height: 4px; left: -1px; width: calc(100% + 2px); position: absolute;\">\n",
       "</span>\n",
       "\n",
       "<span style=\"background: #ddd; top: 57px; height: 4px; left: -1px; width: calc(100% + 2px); position: absolute;\">\n",
       "</span>\n",
       "\n",
       "    \n",
       "</span>\n",
       "&quot; ( 1977 ) and &quot; \n",
       "<span style=\"font-weight: bold; display: inline-block; position: relative;\">\n",
       "    A\n",
       "    \n",
       "<span style=\"background: #ddd; top: 40px; height: 4px; left: -1px; width: calc(100% + 2px); position: absolute;\">\n",
       "</span>\n",
       "\n",
       "    \n",
       "<span style=\"background: #ddd; top: 40px; height: 4px; border-top-left-radius: 3px; border-bottom-left-radius: 3px; left: -1px; width: calc(100% + 2px); position: absolute;\">\n",
       "    <span style=\"background: #ddd; z-index: 10; color: #000; top: -0.5em; padding: 2px 3px; position: absolute; font-size: 0.6em; font-weight: bold; line-height: 1; border-radius: 3px\">\n",
       "        MISC\n",
       "    </span>\n",
       "</span>\n",
       "\n",
       "\n",
       "</span>\n",
       "\n",
       "<span style=\"font-weight: bold; display: inline-block; position: relative;\">\n",
       "    World\n",
       "    \n",
       "<span style=\"background: #ddd; top: 40px; height: 4px; left: -1px; width: calc(100% + 2px); position: absolute;\">\n",
       "</span>\n",
       "\n",
       "<span style=\"background: #ddd; top: 57px; height: 4px; left: -1px; width: calc(100% + 2px); position: absolute;\">\n",
       "</span>\n",
       "\n",
       "    \n",
       "<span style=\"background: #ddd; top: 57px; height: 4px; border-top-left-radius: 3px; border-bottom-left-radius: 3px; left: -1px; width: calc(100% + 2px); position: absolute;\">\n",
       "    <span style=\"background: #ddd; z-index: 10; color: #000; top: -0.5em; padding: 2px 3px; position: absolute; font-size: 0.6em; font-weight: bold; line-height: 1; border-radius: 3px\">\n",
       "        MISC:PRED\n",
       "    </span>\n",
       "</span>\n",
       "\n",
       "\n",
       "</span>\n",
       "\n",
       "<span style=\"font-weight: bold; display: inline-block; position: relative;\">\n",
       "    of\n",
       "    \n",
       "<span style=\"background: #ddd; top: 40px; height: 4px; left: -1px; width: calc(100% + 2px); position: absolute;\">\n",
       "</span>\n",
       "\n",
       "<span style=\"background: #ddd; top: 57px; height: 4px; left: -1px; width: calc(100% + 2px); position: absolute;\">\n",
       "</span>\n",
       "\n",
       "    \n",
       "</span>\n",
       "\n",
       "<span style=\"font-weight: bold; display: inline-block; position: relative;\">\n",
       "    Things\n",
       "    \n",
       "<span style=\"background: #ddd; top: 40px; height: 4px; left: -1px; width: calc(100% + 2px); position: absolute;\">\n",
       "</span>\n",
       "\n",
       "<span style=\"background: #ddd; top: 57px; height: 4px; left: -1px; width: calc(100% + 2px); position: absolute;\">\n",
       "</span>\n",
       "\n",
       "    \n",
       "</span>\n",
       "&quot; ( 1982 ) , followed by &quot; \n",
       "<span style=\"font-weight: bold; display: inline-block; position: relative;\">\n",
       "    The\n",
       "    \n",
       "<span style=\"background: #ddd; top: 40px; height: 4px; left: -1px; width: calc(100% + 2px); position: absolute;\">\n",
       "</span>\n",
       "\n",
       "    \n",
       "<span style=\"background: #ddd; top: 40px; height: 4px; border-top-left-radius: 3px; border-bottom-left-radius: 3px; left: -1px; width: calc(100% + 2px); position: absolute;\">\n",
       "    <span style=\"background: #ddd; z-index: 10; color: #000; top: -0.5em; padding: 2px 3px; position: absolute; font-size: 0.6em; font-weight: bold; line-height: 1; border-radius: 3px\">\n",
       "        MISC\n",
       "    </span>\n",
       "</span>\n",
       "\n",
       "\n",
       "</span>\n",
       "\n",
       "<span style=\"font-weight: bold; display: inline-block; position: relative;\">\n",
       "    Knot\n",
       "    \n",
       "<span style=\"background: #ddd; top: 40px; height: 4px; left: -1px; width: calc(100% + 2px); position: absolute;\">\n",
       "</span>\n",
       "\n",
       "<span style=\"background: #ddd; top: 57px; height: 4px; left: -1px; width: calc(100% + 2px); position: absolute;\">\n",
       "</span>\n",
       "\n",
       "    \n",
       "<span style=\"background: #ddd; top: 57px; height: 4px; border-top-left-radius: 3px; border-bottom-left-radius: 3px; left: -1px; width: calc(100% + 2px); position: absolute;\">\n",
       "    <span style=\"background: #ddd; z-index: 10; color: #000; top: -0.5em; padding: 2px 3px; position: absolute; font-size: 0.6em; font-weight: bold; line-height: 1; border-radius: 3px\">\n",
       "        PER:PRED\n",
       "    </span>\n",
       "</span>\n",
       "\n",
       "\n",
       "</span>\n",
       ", &quot; &quot; \n",
       "<span style=\"font-weight: bold; display: inline-block; position: relative;\">\n",
       "    Soul\n",
       "    \n",
       "<span style=\"background: #ddd; top: 40px; height: 4px; left: -1px; width: calc(100% + 2px); position: absolute;\">\n",
       "</span>\n",
       "\n",
       "<span style=\"background: #ddd; top: 57px; height: 4px; left: -1px; width: calc(100% + 2px); position: absolute;\">\n",
       "</span>\n",
       "\n",
       "    \n",
       "<span style=\"background: #ddd; top: 40px; height: 4px; border-top-left-radius: 3px; border-bottom-left-radius: 3px; left: -1px; width: calc(100% + 2px); position: absolute;\">\n",
       "    <span style=\"background: #ddd; z-index: 10; color: #000; top: -0.5em; padding: 2px 3px; position: absolute; font-size: 0.6em; font-weight: bold; line-height: 1; border-radius: 3px\">\n",
       "        MISC\n",
       "    </span>\n",
       "</span>\n",
       "\n",
       "\n",
       "<span style=\"background: #ddd; top: 57px; height: 4px; border-top-left-radius: 3px; border-bottom-left-radius: 3px; left: -1px; width: calc(100% + 2px); position: absolute;\">\n",
       "    <span style=\"background: #ddd; z-index: 10; color: #000; top: -0.5em; padding: 2px 3px; position: absolute; font-size: 0.6em; font-weight: bold; line-height: 1; border-radius: 3px\">\n",
       "        MISC:PRED\n",
       "    </span>\n",
       "</span>\n",
       "\n",
       "\n",
       "</span>\n",
       "\n",
       "<span style=\"font-weight: bold; display: inline-block; position: relative;\">\n",
       "    Alone\n",
       "    \n",
       "<span style=\"background: #ddd; top: 40px; height: 4px; left: -1px; width: calc(100% + 2px); position: absolute;\">\n",
       "</span>\n",
       "\n",
       "<span style=\"background: #ddd; top: 57px; height: 4px; left: -1px; width: calc(100% + 2px); position: absolute;\">\n",
       "</span>\n",
       "\n",
       "    \n",
       "</span>\n",
       "&quot; and , most recently , &quot; \n",
       "<span style=\"font-weight: bold; display: inline-block; position: relative;\">\n",
       "    A\n",
       "    \n",
       "<span style=\"background: #ddd; top: 40px; height: 4px; left: -1px; width: calc(100% + 2px); position: absolute;\">\n",
       "</span>\n",
       "\n",
       "    \n",
       "<span style=\"background: #ddd; top: 40px; height: 4px; border-top-left-radius: 3px; border-bottom-left-radius: 3px; left: -1px; width: calc(100% + 2px); position: absolute;\">\n",
       "    <span style=\"background: #ddd; z-index: 10; color: #000; top: -0.5em; padding: 2px 3px; position: absolute; font-size: 0.6em; font-weight: bold; line-height: 1; border-radius: 3px\">\n",
       "        MISC\n",
       "    </span>\n",
       "</span>\n",
       "\n",
       "\n",
       "</span>\n",
       "\n",
       "<span style=\"font-weight: bold; display: inline-block; position: relative;\">\n",
       "    Woman\n",
       "    \n",
       "<span style=\"background: #ddd; top: 40px; height: 4px; left: -1px; width: calc(100% + 2px); position: absolute;\">\n",
       "</span>\n",
       "\n",
       "<span style=\"background: #ddd; top: 57px; height: 4px; left: -1px; width: calc(100% + 2px); position: absolute;\">\n",
       "</span>\n",
       "\n",
       "    \n",
       "<span style=\"background: #ddd; top: 57px; height: 4px; border-top-left-radius: 3px; border-bottom-left-radius: 3px; left: -1px; width: calc(100% + 2px); position: absolute;\">\n",
       "    <span style=\"background: #ddd; z-index: 10; color: #000; top: -0.5em; padding: 2px 3px; position: absolute; font-size: 0.6em; font-weight: bold; line-height: 1; border-radius: 3px\">\n",
       "        ORG:PRED\n",
       "    </span>\n",
       "</span>\n",
       "\n",
       "\n",
       "</span>\n",
       ". &quot; </div></span>"
      ],
      "text/plain": [
       "<IPython.core.display.HTML object>"
      ]
     },
     "metadata": {},
     "output_type": "display_data"
    }
   ],
   "source": [
    "from spacy.tokens import Doc\n",
    "from spacy.util import get_words_and_spaces\n",
    "from spacy.vocab import Vocab\n",
    "from recon.types import HardestExample\n",
    "from spacy import displacy\n",
    "\n",
    "def he_show(he: HardestExample, label_suffix: str = \"PRED\"):\n",
    "    \n",
    "    combined = he.reference.copy(deep=True)\n",
    "    pred_spans = []\n",
    "    for s in he.prediction.spans:\n",
    "        span = s.copy(deep=True)\n",
    "        span.label = f\"{s.label}:{label_suffix}\"\n",
    "        pred_spans.append(span)\n",
    "\n",
    "    combined.spans = sorted(combined.spans + pred_spans, key=lambda s: s.start)\n",
    "    \n",
    "    tokens = [token.text for token in combined.tokens]\n",
    "    words, spaces = get_words_and_spaces(tokens, combined.text)\n",
    "    doc = Doc(Vocab(), words=words, spaces=spaces)\n",
    "    doc.spans[\"ref\"] = [doc.char_span(s.start, s.end, label=s.label) for s in combined.spans]\n",
    "    displacy.render(doc, style=\"span\", jupyter=True, options={\"spans_key\": \"ref\"})\n",
    "\n",
    "\n",
    "he_show(he[0])"
   ]
  },
  {
   "cell_type": "code",
   "execution_count": 23,
   "id": "4005653b",
   "metadata": {},
   "outputs": [
    {
     "name": "stdout",
     "output_type": "stream",
     "text": [
      "Saving dataset to prodigy dataset: dev_671418edc919b3e9\n"
     ]
    },
    {
     "data": {
      "text/plain": [
       "'dev_671418edc919b3e9'"
      ]
     },
     "execution_count": 23,
     "metadata": {},
     "output_type": "execute_result"
    }
   ],
   "source": [
    "corpus.dev_ds.to_prodigy()"
   ]
  },
  {
   "cell_type": "code",
   "execution_count": 26,
   "id": "0a99bad0",
   "metadata": {},
   "outputs": [
    {
     "name": "stdout",
     "output_type": "stream",
     "text": [
      "/Users/kabirkhan/Library/Caches/pypoetry/virtualenvs/reconner-cI2LIzZM-py3.10/lib/python3.10/site-packages/spacy/util.py:837: UserWarning: [W095] Model 'en_pipeline' (0.0.0) was trained with spaCy v3.2 and may not be 100% compatible with the current version (3.3.0). If you see errors or degraded performance, download a newer compatible model or retrain your custom model with the current spaCy version. For more details and available updates, run: python -m spacy validate\n",
      "  warnings.warn(warn_msg)\n",
      "Using 4 labels from model: LOC, MISC, ORG, PER\n",
      "\n",
      "✨  Starting the web server at http://localhost:8080 ...\n",
      "Open the app in your browser and start annotating!\n",
      "\n",
      "^C\n"
     ]
    }
   ],
   "source": [
    "!prodigy recon.ner_correct conll_he ./models/en_conll_sm/model-best dataset:dev_671418edc919b3e9"
   ]
  },
  {
   "cell_type": "code",
   "execution_count": null,
   "id": "360f42e3",
   "metadata": {},
   "outputs": [],
   "source": []
  }
 ],
 "metadata": {
  "kernelspec": {
   "display_name": "Python 3 (ipykernel)",
   "language": "python",
   "name": "python3"
  },
  "language_info": {
   "codemirror_mode": {
    "name": "ipython",
    "version": 3
   },
   "file_extension": ".py",
   "mimetype": "text/x-python",
   "name": "python",
   "nbconvert_exporter": "python",
   "pygments_lexer": "ipython3",
   "version": "3.11.4"
  },
  "vscode": {
   "interpreter": {
    "hash": "8b3ae71f03514a19ab794870705b50e4422d52f261458df48e0c827ff20c44d6"
   }
  }
 },
 "nbformat": 4,
 "nbformat_minor": 5
}
