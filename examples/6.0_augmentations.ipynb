{
 "cells": [
  {
   "cell_type": "code",
   "execution_count": 2,
   "metadata": {},
   "outputs": [],
   "source": [
    "%reload_ext autoreload\n",
    "%autoreload 2"
   ]
  },
  {
   "cell_type": "markdown",
   "metadata": {},
   "source": [
    "## Augmentation Operations\n",
    "\n",
    "Currently there's only 1 (somewhat) stable augmentation in Recon, replacing an Entity label with a random choice from a list of options"
   ]
  },
  {
   "cell_type": "code",
   "execution_count": 3,
   "metadata": {},
   "outputs": [
    {
     "ename": "ModuleNotFoundError",
     "evalue": "No module named 'recon'",
     "output_type": "error",
     "traceback": [
      "\u001b[0;31m---------------------------------------------------------------------------\u001b[0m",
      "\u001b[0;31mModuleNotFoundError\u001b[0m                       Traceback (most recent call last)",
      "Input \u001b[0;32mIn [3]\u001b[0m, in \u001b[0;36m<cell line: 1>\u001b[0;34m()\u001b[0m\n\u001b[0;32m----> 1\u001b[0m \u001b[38;5;28;01mfrom\u001b[39;00m \u001b[38;5;21;01mrecon\u001b[39;00m\u001b[38;5;21;01m.\u001b[39;00m\u001b[38;5;21;01maugmentation\u001b[39;00m \u001b[38;5;28;01mimport\u001b[39;00m ent_label_sub\n\u001b[1;32m      2\u001b[0m \u001b[38;5;28;01mfrom\u001b[39;00m \u001b[38;5;21;01mrecon\u001b[39;00m\u001b[38;5;21;01m.\u001b[39;00m\u001b[38;5;21;01mdataset\u001b[39;00m \u001b[38;5;28;01mimport\u001b[39;00m Dataset\n\u001b[1;32m      3\u001b[0m \u001b[38;5;28;01mfrom\u001b[39;00m \u001b[38;5;21;01mrecon\u001b[39;00m\u001b[38;5;21;01m.\u001b[39;00m\u001b[38;5;21;01mtypes\u001b[39;00m \u001b[38;5;28;01mimport\u001b[39;00m Example, Span\n",
      "\u001b[0;31mModuleNotFoundError\u001b[0m: No module named 'recon'"
     ]
    }
   ],
   "source": [
    "from recon.augmentation import ent_label_sub\n",
    "from recon.dataset import Dataset\n",
    "from recon.types import Example, Span"
   ]
  },
  {
   "cell_type": "code",
   "execution_count": 18,
   "metadata": {},
   "outputs": [
    {
     "name": "stderr",
     "output_type": "stream",
     "text": [
      "100%|██████████| 1/1 [00:00<00:00, 547.20it/s]"
     ]
    },
    {
     "name": "stdout",
     "output_type": "stream",
     "text": [
      "=> Applying operation 'recon.v1.augment.ent_label_sub' to dataset 'test_dataset'\n",
      "OPERATION RESULT RETURNED LIST [Example(text='This is a first sentence with entity. This is an entity in the 2nd sentence.', spans=[Span(text='entity', start=30, end=36, label='ENTITY', token_start=None, token_end=None, kb_id=None), Span(text='entity', start=49, end=55, label='ENTITY', token_start=None, token_end=None, kb_id=None)], tokens=None, meta={}, formatted=True), Example(text='This is a first sentence with new entity. This is an new entity in the 2nd sentence.', spans=[Span(text='new entity', start=30, end=40, label='ENTITY', token_start=None, token_end=None, kb_id=None), Span(text='new entity', start=53, end=63, label='ENTITY', token_start=None, token_end=None, kb_id=None)], tokens=None, meta={}, formatted=True)]\n",
      "\u001b[38;5;2m✔ Completed operation 'recon.v1.augment.ent_label_sub'\u001b[0m\n"
     ]
    },
    {
     "name": "stderr",
     "output_type": "stream",
     "text": [
      "\n"
     ]
    }
   ],
   "source": [
    "example = Example(\n",
    "    text=\"This is a first sentence with entity. This is an entity in the 2nd sentence.\",\n",
    "    spans=[\n",
    "        Span(text=\"entity\", start=30, end=36, label=\"ENTITY\"),\n",
    "        Span(text=\"entity\", start=49, end=55, label=\"ENTITY\"),\n",
    "    ],\n",
    ")\n",
    "\n",
    "ds = Dataset(\"test_dataset\", data=[example])\n",
    "ds.apply_(\"recon.v1.augment.ent_label_sub\", label=\"ENTITY\", subs=[\"new entity\"], sub_prob=1.0)\n",
    "\n",
    "assert len(ds) == 2\n",
    "\n",
    "assert ds.data[0] == example\n",
    "assert ds.data[1] == Example(\n",
    "    text=\"This is a first sentence with new entity. This is an new entity in the 2nd sentence.\",\n",
    "    spans=[\n",
    "        Span(text=\"new entity\", start=30, end=40, label=\"ENTITY\"),\n",
    "        Span(text=\"new entity\", start=53, end=63, label=\"ENTITY\"),\n",
    "    ],\n",
    ")"
   ]
  },
  {
   "cell_type": "code",
   "execution_count": 7,
   "metadata": {},
   "outputs": [
    {
     "data": {
      "text/plain": [
       "[Example(text='This is a first sentence with entity. This is an entity in the 2nd sentence.', spans=[Span(text='new entity', start=30, end=40, label='ENTITY', token_start=None, token_end=None, kb_id=None), Span(text='new entity', start=53, end=63, label='ENTITY', token_start=None, token_end=None, kb_id=None)], tokens=None, meta={}, formatted=True),\n",
       " Example(text='This is a first sentence with new entity. This is an new entity in the 2nd sentence.', spans=[Span(text='new entity', start=30, end=40, label='ENTITY', token_start=None, token_end=None, kb_id=None), Span(text='new entity', start=53, end=63, label='ENTITY', token_start=None, token_end=None, kb_id=None)], tokens=None, meta={}, formatted=True)]"
      ]
     },
     "execution_count": 7,
     "metadata": {},
     "output_type": "execute_result"
    }
   ],
   "source": [
    "ent_label_sub(example, \"ENTITY\", [\"new entity\"], sub_prob=1.0)"
   ]
  },
  {
   "cell_type": "code",
   "execution_count": 10,
   "metadata": {},
   "outputs": [
    {
     "name": "stderr",
     "output_type": "stream",
     "text": [
      "100%|██████████| 1/1 [00:00<00:00, 184.54it/s]"
     ]
    },
    {
     "name": "stdout",
     "output_type": "stream",
     "text": [
      "=> Applying operation 'recon.v1.augment.ent_label_sub' to dataset 'test_dataset'\n",
      "\u001b[38;5;2m✔ Completed operation 'recon.v1.augment.ent_label_sub'\u001b[0m\n"
     ]
    },
    {
     "name": "stderr",
     "output_type": "stream",
     "text": [
      "\n"
     ]
    }
   ],
   "source": [
    "ds = Dataset(\"test_dataset\", data=[example])\n",
    "ds.apply_(\"recon.v1.augment.ent_label_sub\", label=\"ENTITY\", subs=[\"new entity\"], sub_prob=1.0)"
   ]
  },
  {
   "cell_type": "code",
   "execution_count": 17,
   "metadata": {},
   "outputs": [
    {
     "data": {
      "text/plain": [
       "[Example(text='This is a first sentence with entity. This is an entity in the 2nd sentence.', spans=[Span(text='entity', start=30, end=36, label='ENTITY', token_start=None, token_end=None, kb_id=None), Span(text='entity', start=49, end=55, label='ENTITY', token_start=None, token_end=None, kb_id=None)], tokens=None, meta={}, formatted=True),\n",
       " Example(text='This is a first sentence with new entity. This is an new entity in the 2nd sentence.', spans=[Span(text='new entity', start=30, end=40, label='ENTITY', token_start=None, token_end=None, kb_id=None), Span(text='new entity', start=53, end=63, label='ENTITY', token_start=None, token_end=None, kb_id=None)], tokens=None, meta={}, formatted=True)]"
      ]
     },
     "execution_count": 17,
     "metadata": {},
     "output_type": "execute_result"
    }
   ],
   "source": [
    "ds.data"
   ]
  },
  {
   "cell_type": "code",
   "execution_count": null,
   "metadata": {},
   "outputs": [],
   "source": []
  }
 ],
 "metadata": {
  "kernelspec": {
   "display_name": "Python 3 (ipykernel)",
   "language": "python",
   "name": "python3"
  },
  "language_info": {
   "codemirror_mode": {
    "name": "ipython",
    "version": 3
   },
   "file_extension": ".py",
   "mimetype": "text/x-python",
   "name": "python",
   "nbconvert_exporter": "python",
   "pygments_lexer": "ipython3",
   "version": "3.9.9"
  }
 },
 "nbformat": 4,
 "nbformat_minor": 4
}
