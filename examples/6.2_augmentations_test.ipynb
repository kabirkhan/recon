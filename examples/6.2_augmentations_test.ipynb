{
 "cells": [
  {
   "cell_type": "code",
   "execution_count": 12,
   "metadata": {},
   "outputs": [],
   "source": [
    "%reload_ext autoreload\n",
    "%autoreload 2"
   ]
  },
  {
   "cell_type": "code",
   "execution_count": 13,
   "metadata": {},
   "outputs": [],
   "source": [
    "from recon.augmentation import ent_label_sub\n",
    "from recon.dataset import Dataset\n",
    "from recon.types import Example, Span"
   ]
  },
  {
   "cell_type": "code",
   "execution_count": 18,
   "metadata": {},
   "outputs": [
    {
     "name": "stderr",
     "output_type": "stream",
     "text": [
      "100%|██████████| 1/1 [00:00<00:00, 547.20it/s]"
     ]
    },
    {
     "name": "stdout",
     "output_type": "stream",
     "text": [
      "=> Applying operation 'recon.v1.augment.ent_label_sub' to dataset 'test_dataset'\n",
      "OPERATION RESULT RETURNED LIST [Example(text='This is a first sentence with entity. This is an entity in the 2nd sentence.', spans=[Span(text='entity', start=30, end=36, label='ENTITY', token_start=None, token_end=None, kb_id=None), Span(text='entity', start=49, end=55, label='ENTITY', token_start=None, token_end=None, kb_id=None)], tokens=None, meta={}, formatted=True), Example(text='This is a first sentence with new entity. This is an new entity in the 2nd sentence.', spans=[Span(text='new entity', start=30, end=40, label='ENTITY', token_start=None, token_end=None, kb_id=None), Span(text='new entity', start=53, end=63, label='ENTITY', token_start=None, token_end=None, kb_id=None)], tokens=None, meta={}, formatted=True)]\n",
      "\u001b[38;5;2m✔ Completed operation 'recon.v1.augment.ent_label_sub'\u001b[0m\n"
     ]
    },
    {
     "name": "stderr",
     "output_type": "stream",
     "text": [
      "\n"
     ]
    }
   ],
   "source": [
    "example = Example(\n",
    "    text=\"This is a first sentence with entity. This is an entity in the 2nd sentence.\",\n",
    "    spans=[\n",
    "        Span(text=\"entity\", start=30, end=36, label=\"ENTITY\"),\n",
    "        Span(text=\"entity\", start=49, end=55, label=\"ENTITY\"),\n",
    "    ],\n",
    ")\n",
    "\n",
    "ds = Dataset(\"test_dataset\", data=[example])\n",
    "ds.apply_(\"recon.v1.augment.ent_label_sub\", label=\"ENTITY\", subs=[\"new entity\"], sub_prob=1.0)\n",
    "\n",
    "assert len(ds) == 2\n",
    "\n",
    "assert ds.data[0] == example\n",
    "assert ds.data[1] == Example(\n",
    "    text=\"This is a first sentence with new entity. This is an new entity in the 2nd sentence.\",\n",
    "    spans=[\n",
    "        Span(text=\"new entity\", start=30, end=40, label=\"ENTITY\"),\n",
    "        Span(text=\"new entity\", start=53, end=63, label=\"ENTITY\"),\n",
    "    ],\n",
    ")"
   ]
  },
  {
   "cell_type": "code",
   "execution_count": 7,
   "metadata": {},
   "outputs": [
    {
     "data": {
      "text/plain": [
       "[Example(text='This is a first sentence with entity. This is an entity in the 2nd sentence.', spans=[Span(text='new entity', start=30, end=40, label='ENTITY', token_start=None, token_end=None, kb_id=None), Span(text='new entity', start=53, end=63, label='ENTITY', token_start=None, token_end=None, kb_id=None)], tokens=None, meta={}, formatted=True),\n",
       " Example(text='This is a first sentence with new entity. This is an new entity in the 2nd sentence.', spans=[Span(text='new entity', start=30, end=40, label='ENTITY', token_start=None, token_end=None, kb_id=None), Span(text='new entity', start=53, end=63, label='ENTITY', token_start=None, token_end=None, kb_id=None)], tokens=None, meta={}, formatted=True)]"
      ]
     },
     "execution_count": 7,
     "metadata": {},
     "output_type": "execute_result"
    }
   ],
   "source": [
    "ent_label_sub(example, \"ENTITY\", [\"new entity\"], sub_prob=1.0)"
   ]
  },
  {
   "cell_type": "code",
   "execution_count": 10,
   "metadata": {},
   "outputs": [
    {
     "name": "stderr",
     "output_type": "stream",
     "text": [
      "100%|██████████| 1/1 [00:00<00:00, 184.54it/s]"
     ]
    },
    {
     "name": "stdout",
     "output_type": "stream",
     "text": [
      "=> Applying operation 'recon.v1.augment.ent_label_sub' to dataset 'test_dataset'\n",
      "\u001b[38;5;2m✔ Completed operation 'recon.v1.augment.ent_label_sub'\u001b[0m\n"
     ]
    },
    {
     "name": "stderr",
     "output_type": "stream",
     "text": [
      "\n"
     ]
    }
   ],
   "source": [
    "ds = Dataset(\"test_dataset\", data=[example])\n",
    "ds.apply_(\"recon.v1.augment.ent_label_sub\", label=\"ENTITY\", subs=[\"new entity\"], sub_prob=1.0)"
   ]
  },
  {
   "cell_type": "code",
   "execution_count": 17,
   "metadata": {},
   "outputs": [
    {
     "data": {
      "text/plain": [
       "[Example(text='This is a first sentence with entity. This is an entity in the 2nd sentence.', spans=[Span(text='entity', start=30, end=36, label='ENTITY', token_start=None, token_end=None, kb_id=None), Span(text='entity', start=49, end=55, label='ENTITY', token_start=None, token_end=None, kb_id=None)], tokens=None, meta={}, formatted=True),\n",
       " Example(text='This is a first sentence with new entity. This is an new entity in the 2nd sentence.', spans=[Span(text='new entity', start=30, end=40, label='ENTITY', token_start=None, token_end=None, kb_id=None), Span(text='new entity', start=53, end=63, label='ENTITY', token_start=None, token_end=None, kb_id=None)], tokens=None, meta={}, formatted=True)]"
      ]
     },
     "execution_count": 17,
     "metadata": {},
     "output_type": "execute_result"
    }
   ],
   "source": [
    "ds.data"
   ]
  },
  {
   "cell_type": "code",
   "execution_count": null,
   "metadata": {},
   "outputs": [],
   "source": []
  }
 ],
 "metadata": {
  "kernelspec": {
   "display_name": "Python 3",
   "language": "python",
   "name": "python3"
  },
  "language_info": {
   "codemirror_mode": {
    "name": "ipython",
    "version": 3
   },
   "file_extension": ".py",
   "mimetype": "text/x-python",
   "name": "python",
   "nbconvert_exporter": "python",
   "pygments_lexer": "ipython3",
   "version": "3.7.5"
  }
 },
 "nbformat": 4,
 "nbformat_minor": 4
}
